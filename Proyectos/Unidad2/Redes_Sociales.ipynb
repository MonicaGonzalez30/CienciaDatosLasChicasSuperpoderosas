{
 "cells": [
  {
   "cell_type": "markdown",
   "metadata": {},
   "source": [
    "# Proyecto 4: Expresiones regulares"
   ]
  },
  {
   "cell_type": "code",
   "execution_count": 2,
   "metadata": {
    "tags": []
   },
   "outputs": [],
   "source": [
    "import pandas as pd\n",
    "import numpy as np\n",
    "import matplotlib.pyplot as plt\n",
    "import re\n",
    "import os\n",
    "import shutil\n",
    "import string"
   ]
  },
  {
   "cell_type": "markdown",
   "metadata": {},
   "source": [
    "## Leer y guardar todos los archivos"
   ]
  },
  {
   "cell_type": "markdown",
   "metadata": {},
   "source": [
    "Primero descomprimiremos el archivo zip que tiene los archivos csv\n",
    "\n",
    "Utilizando la libreia shutil"
   ]
  },
  {
   "cell_type": "markdown",
   "metadata": {},
   "source": [
    "shutil.unpack_archive('socialnetworks.zip', 'socialnetworks')"
   ]
  },
  {
   "cell_type": "markdown",
   "metadata": {},
   "source": [
    "Lo que hicimos fue descomprimir el archivo con el nombre de socialnetworks y posteriormente analizar que archivos cumplen con el patron para identificar aquellos que tengan en el nombre un mes, y aquellos que no"
   ]
  },
  {
   "cell_type": "code",
   "execution_count": 3,
   "metadata": {
    "tags": []
   },
   "outputs": [],
   "source": [
    "ruta_zip = 'socialnetworks.zip'\n",
    "ruta_destino = '/home/melinkova/PCD/Parcial_2/CienciaDatosLasChicasSuperpoderosas/Proyectos/Unidad2'\n",
    "shutil.unpack_archive(ruta_zip,ruta_destino)\n",
    "patron = r'2022'\n",
    "archivos_econtrados_mes = []\n",
    "archivos_econtrados_sin_mes = []"
   ]
  },
  {
   "cell_type": "markdown",
   "metadata": {},
   "source": [
    "Ahora lo que haremos, sera recorrer los archivos que descomprimimos y buscamos los que tengan el año 2022"
   ]
  },
  {
   "cell_type": "code",
   "execution_count": 4,
   "metadata": {
    "tags": []
   },
   "outputs": [],
   "source": [
    "# Recoreremos cada carpeta\n",
    "\n",
    "for carpeta, subcarpetas, archivos in os.walk(ruta_destino):\n",
    "    for archivo in archivos:\n",
    "        ruta_completa = os.path.join(carpeta, archivo)\n",
    "        \n",
    "        if archivo.endswith('.csv'):\n",
    "            # Verificar si el archivo tiene una fecha en su nombre\n",
    "            fecha_encontrada = re.search(patron, archivo)\n",
    "            \n",
    "            if fecha_encontrada:\n",
    "                archivos_econtrados_mes.append(ruta_completa)\n",
    "            else:\n",
    "                archivos_econtrados_sin_mes.append(ruta_completa)"
   ]
  },
  {
   "cell_type": "code",
   "execution_count": 5,
   "metadata": {
    "tags": []
   },
   "outputs": [
    {
     "data": {
      "text/plain": [
       "12"
      ]
     },
     "execution_count": 5,
     "metadata": {},
     "output_type": "execute_result"
    }
   ],
   "source": [
    "len(archivos_econtrados_mes)"
   ]
  },
  {
   "cell_type": "code",
   "execution_count": 6,
   "metadata": {
    "tags": []
   },
   "outputs": [
    {
     "data": {
      "text/plain": [
       "['/home/melinkova/PCD/Parcial_2/CienciaDatosLasChicasSuperpoderosas/Proyectos/Unidad2/socialnetworks/social media influencers - youtube.csv',\n",
       " '/home/melinkova/PCD/Parcial_2/CienciaDatosLasChicasSuperpoderosas/Proyectos/Unidad2/socialnetworks/social media influencers - instagram.csv',\n",
       " '/home/melinkova/PCD/Parcial_2/CienciaDatosLasChicasSuperpoderosas/Proyectos/Unidad2/socialnetworks/social media influencers - tiktok.csv']"
      ]
     },
     "execution_count": 6,
     "metadata": {},
     "output_type": "execute_result"
    }
   ],
   "source": [
    "len(archivos_econtrados_sin_mes)\n",
    "archivos_econtrados_sin_mes"
   ]
  },
  {
   "cell_type": "markdown",
   "metadata": {},
   "source": [
    "Ya que tenemos los archivos separados en un arreglo, los podemos abrir en los dataframes que nos piden"
   ]
  },
  {
   "cell_type": "code",
   "execution_count": 7,
   "metadata": {
    "tags": []
   },
   "outputs": [],
   "source": [
    "Instagram = []\n",
    "Patron_Insta = r'INSTAGRAM|instagram|Instagram'\n",
    "\n",
    "Tik_tok = []\n",
    "Patron_Tik_tok = r'TIKTOK|tiktok|Tiktok'\n",
    "\n",
    "Youtube = []\n",
    "Patron_Youtube = r'Youtube|youtube|YOUTUBE'"
   ]
  },
  {
   "cell_type": "code",
   "execution_count": 8,
   "metadata": {
    "tags": []
   },
   "outputs": [],
   "source": [
    "# Haremos una funcion que encuentre los patrones que le pasemos en unn arreglo\n",
    "# Y los guarde en cierto arreglo, para que sea mas facil hacer los dataframes\n",
    "\n",
    "def patrones(arreglo, patron, arreglo_para_guardar):\n",
    "    for i in arreglo:\n",
    "        r = re.search(patron, i)\n",
    "        if r:\n",
    "            arreglo_para_guardar.append(i)"
   ]
  },
  {
   "cell_type": "code",
   "execution_count": 9,
   "metadata": {
    "tags": []
   },
   "outputs": [],
   "source": [
    "patrones(archivos_econtrados_mes, Patron_Insta, Instagram)\n",
    "patrones(archivos_econtrados_mes, Patron_Tik_tok, Tik_tok)\n",
    "patrones(archivos_econtrados_mes, Patron_Youtube, Youtube)"
   ]
  },
  {
   "cell_type": "markdown",
   "metadata": {},
   "source": [
    "## Archivos sin mes (Resumen de cada red social)"
   ]
  },
  {
   "cell_type": "markdown",
   "metadata": {},
   "source": [
    "Ya que tenemos todos los archivos de las redes sociales por separado, abriremos los dataframes que no tienen fecha"
   ]
  },
  {
   "cell_type": "code",
   "execution_count": 13,
   "metadata": {
    "tags": []
   },
   "outputs": [],
   "source": [
    "df_Insta_s_f = pd.read_csv(archivos_econtrados_sin_mes[0])\n",
    "df_Tik_tok_s_f = pd.read_csv(archivos_econtrados_sin_mes[2])\n",
    "df_Youtube_s_f = pd.read_csv(archivos_econtrados_sin_mes[1])"
   ]
  },
  {
   "cell_type": "code",
   "execution_count": 10,
   "metadata": {
    "tags": []
   },
   "outputs": [
    {
     "data": {
      "text/html": [
       "<div>\n",
       "<style scoped>\n",
       "    .dataframe tbody tr th:only-of-type {\n",
       "        vertical-align: middle;\n",
       "    }\n",
       "\n",
       "    .dataframe tbody tr th {\n",
       "        vertical-align: top;\n",
       "    }\n",
       "\n",
       "    .dataframe thead th {\n",
       "        text-align: right;\n",
       "    }\n",
       "</style>\n",
       "<table border=\"1\" class=\"dataframe\">\n",
       "  <thead>\n",
       "    <tr style=\"text-align: right;\">\n",
       "      <th></th>\n",
       "      <th>Influencer insta name</th>\n",
       "      <th>instagram name</th>\n",
       "      <th>category_1</th>\n",
       "      <th>category_2</th>\n",
       "      <th>Followers</th>\n",
       "      <th>Audience country(mostly)</th>\n",
       "      <th>Authentic engagement\\r\\n</th>\n",
       "      <th>Engagement avg\\r\\n</th>\n",
       "    </tr>\n",
       "  </thead>\n",
       "  <tbody>\n",
       "    <tr>\n",
       "      <th>0</th>\n",
       "      <td>433</td>\n",
       "      <td>433</td>\n",
       "      <td>Sports with a ball</td>\n",
       "      <td>NaN</td>\n",
       "      <td>48.5M</td>\n",
       "      <td>Spain</td>\n",
       "      <td>383.1K</td>\n",
       "      <td>637K</td>\n",
       "    </tr>\n",
       "    <tr>\n",
       "      <th>1</th>\n",
       "      <td>__youngbae__</td>\n",
       "      <td>TAEYANG</td>\n",
       "      <td>Music</td>\n",
       "      <td>NaN</td>\n",
       "      <td>12.7M</td>\n",
       "      <td>Indonesia</td>\n",
       "      <td>478K</td>\n",
       "      <td>542.3K</td>\n",
       "    </tr>\n",
       "    <tr>\n",
       "      <th>2</th>\n",
       "      <td>_agentgirl_</td>\n",
       "      <td>НАСТЯ ИВЛЕЕВА</td>\n",
       "      <td>Shows</td>\n",
       "      <td>NaN</td>\n",
       "      <td>18.8M</td>\n",
       "      <td>Russia</td>\n",
       "      <td>310.8K</td>\n",
       "      <td>377.9K</td>\n",
       "    </tr>\n",
       "    <tr>\n",
       "      <th>3</th>\n",
       "      <td>_imyour_joy</td>\n",
       "      <td>Joy</td>\n",
       "      <td>Lifestyle</td>\n",
       "      <td>NaN</td>\n",
       "      <td>13.5M</td>\n",
       "      <td>Indonesia</td>\n",
       "      <td>1.1M</td>\n",
       "      <td>1.4M</td>\n",
       "    </tr>\n",
       "    <tr>\n",
       "      <th>4</th>\n",
       "      <td>_jeongjaehyun</td>\n",
       "      <td>Jaehyun</td>\n",
       "      <td>NaN</td>\n",
       "      <td>NaN</td>\n",
       "      <td>11.1M</td>\n",
       "      <td>Indonesia</td>\n",
       "      <td>2.5M</td>\n",
       "      <td>3.1M</td>\n",
       "    </tr>\n",
       "  </tbody>\n",
       "</table>\n",
       "</div>"
      ],
      "text/plain": [
       "  Influencer insta name instagram name          category_1 category_2  \\\n",
       "0                   433            433  Sports with a ball        NaN   \n",
       "1          __youngbae__        TAEYANG               Music        NaN   \n",
       "2           _agentgirl_  НАСТЯ ИВЛЕЕВА               Shows        NaN   \n",
       "3           _imyour_joy            Joy           Lifestyle        NaN   \n",
       "4         _jeongjaehyun        Jaehyun                 NaN        NaN   \n",
       "\n",
       "  Followers Audience country(mostly) Authentic engagement\\r\\n  \\\n",
       "0     48.5M                    Spain                   383.1K   \n",
       "1     12.7M                Indonesia                     478K   \n",
       "2     18.8M                   Russia                   310.8K   \n",
       "3     13.5M                Indonesia                     1.1M   \n",
       "4     11.1M                Indonesia                     2.5M   \n",
       "\n",
       "  Engagement avg\\r\\n  \n",
       "0               637K  \n",
       "1             542.3K  \n",
       "2             377.9K  \n",
       "3               1.4M  \n",
       "4               3.1M  "
      ]
     },
     "execution_count": 10,
     "metadata": {},
     "output_type": "execute_result"
    }
   ],
   "source": [
    "df_Insta_s_f.head()"
   ]
  },
  {
   "cell_type": "code",
   "execution_count": 11,
   "metadata": {
    "tags": []
   },
   "outputs": [
    {
     "data": {
      "text/html": [
       "<div>\n",
       "<style scoped>\n",
       "    .dataframe tbody tr th:only-of-type {\n",
       "        vertical-align: middle;\n",
       "    }\n",
       "\n",
       "    .dataframe tbody tr th {\n",
       "        vertical-align: top;\n",
       "    }\n",
       "\n",
       "    .dataframe thead th {\n",
       "        text-align: right;\n",
       "    }\n",
       "</style>\n",
       "<table border=\"1\" class=\"dataframe\">\n",
       "  <thead>\n",
       "    <tr style=\"text-align: right;\">\n",
       "      <th></th>\n",
       "      <th>Tiktoker name</th>\n",
       "      <th>Tiktok name</th>\n",
       "      <th>Subscribers count</th>\n",
       "      <th>Views avg.</th>\n",
       "      <th>Likes avg</th>\n",
       "      <th>Comments avg.</th>\n",
       "      <th>Shares avg</th>\n",
       "    </tr>\n",
       "  </thead>\n",
       "  <tbody>\n",
       "    <tr>\n",
       "      <th>0</th>\n",
       "      <td>ekin.721</td>\n",
       "      <td>MOMO’s</td>\n",
       "      <td>221.7K</td>\n",
       "      <td>26M</td>\n",
       "      <td>2.8M</td>\n",
       "      <td>29.4K</td>\n",
       "      <td>116.4K</td>\n",
       "    </tr>\n",
       "    <tr>\n",
       "      <th>1</th>\n",
       "      <td>dojacat</td>\n",
       "      <td>Doja Cat</td>\n",
       "      <td>22.2M</td>\n",
       "      <td>25.4M</td>\n",
       "      <td>5M</td>\n",
       "      <td>36.7K</td>\n",
       "      <td>46.8K</td>\n",
       "    </tr>\n",
       "    <tr>\n",
       "      <th>2</th>\n",
       "      <td>kiet.ac.quy</td>\n",
       "      <td>Kiệt Ắk Wỷ</td>\n",
       "      <td>2.1M</td>\n",
       "      <td>20.7M</td>\n",
       "      <td>3.5M</td>\n",
       "      <td>38.8K</td>\n",
       "      <td>33.9K</td>\n",
       "    </tr>\n",
       "    <tr>\n",
       "      <th>3</th>\n",
       "      <td>charlidamelio</td>\n",
       "      <td>charli d’amelio</td>\n",
       "      <td>135.4M</td>\n",
       "      <td>18.7M</td>\n",
       "      <td>2.6M</td>\n",
       "      <td>54.7K</td>\n",
       "      <td>35.2K</td>\n",
       "    </tr>\n",
       "    <tr>\n",
       "      <th>4</th>\n",
       "      <td>luvadepedreiro</td>\n",
       "      <td>Iran Ferreira (Lai)</td>\n",
       "      <td>11.4M</td>\n",
       "      <td>24.8M</td>\n",
       "      <td>2.6M</td>\n",
       "      <td>32.7K</td>\n",
       "      <td>26.8K</td>\n",
       "    </tr>\n",
       "  </tbody>\n",
       "</table>\n",
       "</div>"
      ],
      "text/plain": [
       "    Tiktoker name          Tiktok name Subscribers count Views avg. Likes avg  \\\n",
       "0        ekin.721               MOMO’s            221.7K        26M      2.8M   \n",
       "1         dojacat             Doja Cat             22.2M      25.4M        5M   \n",
       "2     kiet.ac.quy           Kiệt Ắk Wỷ              2.1M      20.7M      3.5M   \n",
       "3   charlidamelio      charli d’amelio            135.4M      18.7M      2.6M   \n",
       "4  luvadepedreiro  Iran Ferreira (Lai)             11.4M      24.8M      2.6M   \n",
       "\n",
       "  Comments avg. Shares avg  \n",
       "0         29.4K     116.4K  \n",
       "1         36.7K      46.8K  \n",
       "2         38.8K      33.9K  \n",
       "3         54.7K      35.2K  \n",
       "4         32.7K      26.8K  "
      ]
     },
     "execution_count": 11,
     "metadata": {},
     "output_type": "execute_result"
    }
   ],
   "source": [
    "df_Tik_tok_s_f.head()"
   ]
  },
  {
   "cell_type": "code",
   "execution_count": 12,
   "metadata": {
    "tags": []
   },
   "outputs": [
    {
     "data": {
      "text/html": [
       "<div>\n",
       "<style scoped>\n",
       "    .dataframe tbody tr th:only-of-type {\n",
       "        vertical-align: middle;\n",
       "    }\n",
       "\n",
       "    .dataframe tbody tr th {\n",
       "        vertical-align: top;\n",
       "    }\n",
       "\n",
       "    .dataframe thead th {\n",
       "        text-align: right;\n",
       "    }\n",
       "</style>\n",
       "<table border=\"1\" class=\"dataframe\">\n",
       "  <thead>\n",
       "    <tr style=\"text-align: right;\">\n",
       "      <th></th>\n",
       "      <th>youtuber name</th>\n",
       "      <th>channel name</th>\n",
       "      <th>Category</th>\n",
       "      <th>Subscribers</th>\n",
       "      <th>Audience Country</th>\n",
       "      <th>avg views</th>\n",
       "      <th>avg likes</th>\n",
       "      <th>avg comments</th>\n",
       "    </tr>\n",
       "  </thead>\n",
       "  <tbody>\n",
       "    <tr>\n",
       "      <th>0</th>\n",
       "      <td>tseries</td>\n",
       "      <td>T-Series</td>\n",
       "      <td>Music &amp; Dance</td>\n",
       "      <td>212.1M</td>\n",
       "      <td>India</td>\n",
       "      <td>323.7K</td>\n",
       "      <td>9.8K</td>\n",
       "      <td>290</td>\n",
       "    </tr>\n",
       "    <tr>\n",
       "      <th>1</th>\n",
       "      <td>checkgate</td>\n",
       "      <td>Cocomelon - Nursery Rhymes</td>\n",
       "      <td>Education</td>\n",
       "      <td>132.1M</td>\n",
       "      <td>NaN</td>\n",
       "      <td>13.8M</td>\n",
       "      <td>80.9K</td>\n",
       "      <td>NaN</td>\n",
       "    </tr>\n",
       "    <tr>\n",
       "      <th>2</th>\n",
       "      <td>setindia</td>\n",
       "      <td>SET India</td>\n",
       "      <td>NaN</td>\n",
       "      <td>130.4M</td>\n",
       "      <td>India</td>\n",
       "      <td>23.6K</td>\n",
       "      <td>314</td>\n",
       "      <td>21</td>\n",
       "    </tr>\n",
       "    <tr>\n",
       "      <th>3</th>\n",
       "      <td>PewDiePie</td>\n",
       "      <td>PewDiePie</td>\n",
       "      <td>Animation</td>\n",
       "      <td>111.4M</td>\n",
       "      <td>United States</td>\n",
       "      <td>1.4M</td>\n",
       "      <td>80.8K</td>\n",
       "      <td>4.6K</td>\n",
       "    </tr>\n",
       "    <tr>\n",
       "      <th>4</th>\n",
       "      <td>MrBeast6000</td>\n",
       "      <td>MrBeast</td>\n",
       "      <td>Video games</td>\n",
       "      <td>92.5M</td>\n",
       "      <td>United States</td>\n",
       "      <td>30.6M</td>\n",
       "      <td>1.7M</td>\n",
       "      <td>67.7K</td>\n",
       "    </tr>\n",
       "  </tbody>\n",
       "</table>\n",
       "</div>"
      ],
      "text/plain": [
       "  youtuber name                channel name       Category Subscribers  \\\n",
       "0       tseries                    T-Series  Music & Dance      212.1M   \n",
       "1     checkgate  Cocomelon - Nursery Rhymes      Education      132.1M   \n",
       "2      setindia                   SET India            NaN      130.4M   \n",
       "3     PewDiePie                   PewDiePie      Animation      111.4M   \n",
       "4   MrBeast6000                     MrBeast    Video games       92.5M   \n",
       "\n",
       "  Audience Country avg views avg likes avg comments  \n",
       "0            India    323.7K      9.8K          290  \n",
       "1              NaN     13.8M     80.9K          NaN  \n",
       "2            India     23.6K       314           21  \n",
       "3    United States      1.4M     80.8K         4.6K  \n",
       "4    United States     30.6M      1.7M        67.7K  "
      ]
     },
     "execution_count": 12,
     "metadata": {},
     "output_type": "execute_result"
    }
   ],
   "source": [
    "df_Youtube_s_f.head()"
   ]
  },
  {
   "cell_type": "markdown",
   "metadata": {},
   "source": [
    "## Archivos con mes"
   ]
  },
  {
   "cell_type": "markdown",
   "metadata": {},
   "source": [
    "Ahora, como se solicita que los archivos cuyo nombre tenga un mes, tambien tengan una columna que lo indique, se le agregará a cada uno"
   ]
  },
  {
   "cell_type": "markdown",
   "metadata": {},
   "source": [
    "### Instagram"
   ]
  },
  {
   "cell_type": "code",
   "execution_count": 13,
   "metadata": {
    "tags": []
   },
   "outputs": [
    {
     "data": {
      "text/plain": [
       "['/home/moni/Ciencia de datos/Proyectos/CienciaDatosLasChicasSuperpoderosas/Proyectos/Unidad2/socialnetworks/social media influencers-instagram - -nov 2022.csv',\n",
       " '/home/moni/Ciencia de datos/Proyectos/CienciaDatosLasChicasSuperpoderosas/Proyectos/Unidad2/socialnetworks/social media influencers-instagram june 2022 - june 2022.csv',\n",
       " '/home/moni/Ciencia de datos/Proyectos/CienciaDatosLasChicasSuperpoderosas/Proyectos/Unidad2/socialnetworks/social media influencers-INSTAGRAM - -DEC 2022.csv',\n",
       " '/home/moni/Ciencia de datos/Proyectos/CienciaDatosLasChicasSuperpoderosas/Proyectos/Unidad2/socialnetworks/social media influencers - instagram sep-2022.csv']"
      ]
     },
     "execution_count": 13,
     "metadata": {},
     "output_type": "execute_result"
    }
   ],
   "source": [
    "Instagram"
   ]
  },
  {
   "cell_type": "code",
   "execution_count": 14,
   "metadata": {
    "tags": []
   },
   "outputs": [
    {
     "data": {
      "text/html": [
       "<div>\n",
       "<style scoped>\n",
       "    .dataframe tbody tr th:only-of-type {\n",
       "        vertical-align: middle;\n",
       "    }\n",
       "\n",
       "    .dataframe tbody tr th {\n",
       "        vertical-align: top;\n",
       "    }\n",
       "\n",
       "    .dataframe thead th {\n",
       "        text-align: right;\n",
       "    }\n",
       "</style>\n",
       "<table border=\"1\" class=\"dataframe\">\n",
       "  <thead>\n",
       "    <tr style=\"text-align: right;\">\n",
       "      <th></th>\n",
       "      <th>s.no</th>\n",
       "      <th>Name</th>\n",
       "      <th>Instagram Name</th>\n",
       "      <th>Category-1</th>\n",
       "      <th>Followers</th>\n",
       "      <th>\\nCountry</th>\n",
       "      <th>Eng. (Auth.)</th>\n",
       "      <th>Eng. (Avg.)</th>\n",
       "      <th>Category-2</th>\n",
       "      <th>Month</th>\n",
       "    </tr>\n",
       "  </thead>\n",
       "  <tbody>\n",
       "    <tr>\n",
       "      <th>0</th>\n",
       "      <td>1</td>\n",
       "      <td>cristiano</td>\n",
       "      <td>Cristiano Ronaldo</td>\n",
       "      <td>Sports with a ball</td>\n",
       "      <td>483.1M</td>\n",
       "      <td>India</td>\n",
       "      <td>4.5M</td>\n",
       "      <td>5.6M</td>\n",
       "      <td>NaN</td>\n",
       "      <td>November</td>\n",
       "    </tr>\n",
       "    <tr>\n",
       "      <th>1</th>\n",
       "      <td>2</td>\n",
       "      <td>kyliejenner</td>\n",
       "      <td>Kylie 🤍</td>\n",
       "      <td>Fashion</td>\n",
       "      <td>370M</td>\n",
       "      <td>United States</td>\n",
       "      <td>2.8M</td>\n",
       "      <td>4.4M</td>\n",
       "      <td>Modeling</td>\n",
       "      <td>November</td>\n",
       "    </tr>\n",
       "  </tbody>\n",
       "</table>\n",
       "</div>"
      ],
      "text/plain": [
       "   s.no         Name     Instagram Name          Category-1 Followers  \\\n",
       "0     1    cristiano  Cristiano Ronaldo  Sports with a ball    483.1M   \n",
       "1     2  kyliejenner            Kylie 🤍             Fashion      370M   \n",
       "\n",
       "       \\nCountry Eng. (Auth.) Eng. (Avg.) Category-2     Month  \n",
       "0          India         4.5M        5.6M        NaN  November  \n",
       "1  United States         2.8M        4.4M   Modeling  November  "
      ]
     },
     "execution_count": 14,
     "metadata": {},
     "output_type": "execute_result"
    }
   ],
   "source": [
    "# Archivo de Instagram - noviembre\n",
    "df_I_Nov = pd.read_csv(Instagram[0])\n",
    "df_I_Nov['Month'] = 'November'\n",
    "df_I_Nov.head(2)"
   ]
  },
  {
   "cell_type": "code",
   "execution_count": 15,
   "metadata": {
    "tags": []
   },
   "outputs": [
    {
     "data": {
      "text/html": [
       "<div>\n",
       "<style scoped>\n",
       "    .dataframe tbody tr th:only-of-type {\n",
       "        vertical-align: middle;\n",
       "    }\n",
       "\n",
       "    .dataframe tbody tr th {\n",
       "        vertical-align: top;\n",
       "    }\n",
       "\n",
       "    .dataframe thead th {\n",
       "        text-align: right;\n",
       "    }\n",
       "</style>\n",
       "<table border=\"1\" class=\"dataframe\">\n",
       "  <thead>\n",
       "    <tr style=\"text-align: right;\">\n",
       "      <th></th>\n",
       "      <th>instagram name</th>\n",
       "      <th>influencer name</th>\n",
       "      <th>Category_1</th>\n",
       "      <th>Category_2</th>\n",
       "      <th>Subscribers count</th>\n",
       "      <th>Views avg.</th>\n",
       "      <th>Likes avg</th>\n",
       "      <th>Comments avg.</th>\n",
       "      <th>Month</th>\n",
       "    </tr>\n",
       "  </thead>\n",
       "  <tbody>\n",
       "    <tr>\n",
       "      <th>0</th>\n",
       "      <td>433</td>\n",
       "      <td>433</td>\n",
       "      <td>Sports with a ball</td>\n",
       "      <td>NaN</td>\n",
       "      <td>50.7M</td>\n",
       "      <td>Spain</td>\n",
       "      <td>274.9K</td>\n",
       "      <td>456.7K</td>\n",
       "      <td>June</td>\n",
       "    </tr>\n",
       "    <tr>\n",
       "      <th>1</th>\n",
       "      <td>____kimwoobin</td>\n",
       "      <td>김우빈</td>\n",
       "      <td>Lifestyle</td>\n",
       "      <td>NaN</td>\n",
       "      <td>3.6M</td>\n",
       "      <td>Indonesia</td>\n",
       "      <td>449.4K</td>\n",
       "      <td>592.7K</td>\n",
       "      <td>June</td>\n",
       "    </tr>\n",
       "  </tbody>\n",
       "</table>\n",
       "</div>"
      ],
      "text/plain": [
       "  instagram name influencer name           Category_1 Category_2  \\\n",
       "0            433              433  Sports with a ball        NaN   \n",
       "1  ____kimwoobin         김우빈           Lifestyle        NaN   \n",
       "\n",
       "  Subscribers count Views avg. Likes avg Comments avg. Month  \n",
       "0             50.7M      Spain    274.9K        456.7K  June  \n",
       "1              3.6M  Indonesia    449.4K        592.7K  June  "
      ]
     },
     "execution_count": 15,
     "metadata": {},
     "output_type": "execute_result"
    }
   ],
   "source": [
    "# Archivo de Instagram - junio\n",
    "df_I_June = pd.read_csv(Instagram[1])\n",
    "df_I_June['Month'] = 'June'\n",
    "df_I_June.head(2)"
   ]
  },
  {
   "cell_type": "code",
   "execution_count": 16,
   "metadata": {
    "tags": []
   },
   "outputs": [
    {
     "data": {
      "text/html": [
       "<div>\n",
       "<style scoped>\n",
       "    .dataframe tbody tr th:only-of-type {\n",
       "        vertical-align: middle;\n",
       "    }\n",
       "\n",
       "    .dataframe tbody tr th {\n",
       "        vertical-align: top;\n",
       "    }\n",
       "\n",
       "    .dataframe thead th {\n",
       "        text-align: right;\n",
       "    }\n",
       "</style>\n",
       "<table border=\"1\" class=\"dataframe\">\n",
       "  <thead>\n",
       "    <tr style=\"text-align: right;\">\n",
       "      <th></th>\n",
       "      <th>Rank</th>\n",
       "      <th>name</th>\n",
       "      <th>instagram name</th>\n",
       "      <th>Category_1</th>\n",
       "      <th>Category_2</th>\n",
       "      <th>followers</th>\n",
       "      <th>country</th>\n",
       "      <th>Eng. (Auth.)</th>\n",
       "      <th>Eng. (Avg.)</th>\n",
       "      <th>Month</th>\n",
       "    </tr>\n",
       "  </thead>\n",
       "  <tbody>\n",
       "    <tr>\n",
       "      <th>0</th>\n",
       "      <td>1</td>\n",
       "      <td>leomessi</td>\n",
       "      <td>Leo Messi</td>\n",
       "      <td>Sports with a ball</td>\n",
       "      <td>Family</td>\n",
       "      <td>409.8M</td>\n",
       "      <td>Argentina</td>\n",
       "      <td>17.8M</td>\n",
       "      <td>23.4M</td>\n",
       "      <td>December</td>\n",
       "    </tr>\n",
       "    <tr>\n",
       "      <th>1</th>\n",
       "      <td>2</td>\n",
       "      <td>cristiano</td>\n",
       "      <td>Cristiano Ronaldo</td>\n",
       "      <td>Sports with a ball</td>\n",
       "      <td>NaN</td>\n",
       "      <td>523M</td>\n",
       "      <td>India</td>\n",
       "      <td>11.7M</td>\n",
       "      <td>14.7M</td>\n",
       "      <td>December</td>\n",
       "    </tr>\n",
       "  </tbody>\n",
       "</table>\n",
       "</div>"
      ],
      "text/plain": [
       "   Rank       name     instagram name          Category_1 Category_2  \\\n",
       "0     1   leomessi          Leo Messi  Sports with a ball     Family   \n",
       "1     2  cristiano  Cristiano Ronaldo  Sports with a ball        NaN   \n",
       "\n",
       "  followers    country Eng. (Auth.) Eng. (Avg.)     Month  \n",
       "0    409.8M  Argentina        17.8M       23.4M  December  \n",
       "1      523M      India        11.7M       14.7M  December  "
      ]
     },
     "execution_count": 16,
     "metadata": {},
     "output_type": "execute_result"
    }
   ],
   "source": [
    "# Archivo de Instagram - diciembre\n",
    "df_I_Dec = pd.read_csv(Instagram[2])\n",
    "df_I_Dec['Month'] = 'December'\n",
    "df_I_Dec.head(2)"
   ]
  },
  {
   "cell_type": "code",
   "execution_count": 17,
   "metadata": {
    "tags": []
   },
   "outputs": [
    {
     "data": {
      "text/html": [
       "<div>\n",
       "<style scoped>\n",
       "    .dataframe tbody tr th:only-of-type {\n",
       "        vertical-align: middle;\n",
       "    }\n",
       "\n",
       "    .dataframe tbody tr th {\n",
       "        vertical-align: top;\n",
       "    }\n",
       "\n",
       "    .dataframe thead th {\n",
       "        text-align: right;\n",
       "    }\n",
       "</style>\n",
       "<table border=\"1\" class=\"dataframe\">\n",
       "  <thead>\n",
       "    <tr style=\"text-align: right;\">\n",
       "      <th></th>\n",
       "      <th>S.no</th>\n",
       "      <th>Instagram name</th>\n",
       "      <th>Name</th>\n",
       "      <th>Subscribers</th>\n",
       "      <th>Audience country</th>\n",
       "      <th>Authentic engagement\\n</th>\n",
       "      <th>Engagement average\\r\\n</th>\n",
       "      <th>Category_1</th>\n",
       "      <th>Category_2</th>\n",
       "      <th>Month</th>\n",
       "    </tr>\n",
       "  </thead>\n",
       "  <tbody>\n",
       "    <tr>\n",
       "      <th>0</th>\n",
       "      <td>1</td>\n",
       "      <td>cristiano</td>\n",
       "      <td>Cristiano Ronaldo</td>\n",
       "      <td>477.9M</td>\n",
       "      <td>India</td>\n",
       "      <td>5M</td>\n",
       "      <td>6.2M</td>\n",
       "      <td>Sports with a ball</td>\n",
       "      <td>NaN</td>\n",
       "      <td>September</td>\n",
       "    </tr>\n",
       "    <tr>\n",
       "      <th>1</th>\n",
       "      <td>2</td>\n",
       "      <td>kyliejenner</td>\n",
       "      <td>Kylie 🤍</td>\n",
       "      <td>368.1M</td>\n",
       "      <td>United States</td>\n",
       "      <td>3.5M</td>\n",
       "      <td>5.5M</td>\n",
       "      <td>Fashion</td>\n",
       "      <td>Modeling</td>\n",
       "      <td>September</td>\n",
       "    </tr>\n",
       "  </tbody>\n",
       "</table>\n",
       "</div>"
      ],
      "text/plain": [
       "   S.no Instagram name               Name Subscribers Audience country  \\\n",
       "0     1      cristiano  Cristiano Ronaldo      477.9M            India   \n",
       "1     2    kyliejenner            Kylie 🤍      368.1M    United States   \n",
       "\n",
       "  Authentic engagement\\n Engagement average\\r\\n          Category_1  \\\n",
       "0                     5M                   6.2M  Sports with a ball   \n",
       "1                   3.5M                   5.5M             Fashion   \n",
       "\n",
       "  Category_2      Month  \n",
       "0        NaN  September  \n",
       "1   Modeling  September  "
      ]
     },
     "execution_count": 17,
     "metadata": {},
     "output_type": "execute_result"
    }
   ],
   "source": [
    "# Archivo de Instagram - septiembre\n",
    "df_I_Sep = pd.read_csv(Instagram[3])\n",
    "df_I_Sep['Month'] = 'September'\n",
    "df_I_Sep.head(2)"
   ]
  },
  {
   "cell_type": "markdown",
   "metadata": {},
   "source": [
    "Una vez que cada DataFrame contiene los meses, se concatenan en uno solo y se limpia"
   ]
  },
  {
   "cell_type": "code",
   "execution_count": 18,
   "metadata": {
    "tags": []
   },
   "outputs": [
    {
     "data": {
      "text/html": [
       "<div>\n",
       "<style scoped>\n",
       "    .dataframe tbody tr th:only-of-type {\n",
       "        vertical-align: middle;\n",
       "    }\n",
       "\n",
       "    .dataframe tbody tr th {\n",
       "        vertical-align: top;\n",
       "    }\n",
       "\n",
       "    .dataframe thead th {\n",
       "        text-align: right;\n",
       "    }\n",
       "</style>\n",
       "<table border=\"1\" class=\"dataframe\">\n",
       "  <thead>\n",
       "    <tr style=\"text-align: right;\">\n",
       "      <th></th>\n",
       "      <th>instagram name</th>\n",
       "      <th>influencer name</th>\n",
       "      <th>Category_1</th>\n",
       "      <th>Category_2</th>\n",
       "      <th>Subscribers count</th>\n",
       "      <th>Views avg.</th>\n",
       "      <th>Likes avg</th>\n",
       "      <th>Comments avg.</th>\n",
       "      <th>Month</th>\n",
       "      <th>S.no</th>\n",
       "      <th>...</th>\n",
       "      <th>Category-1</th>\n",
       "      <th>Followers</th>\n",
       "      <th>\\nCountry</th>\n",
       "      <th>Eng. (Auth.)</th>\n",
       "      <th>Eng. (Avg.)</th>\n",
       "      <th>Category-2</th>\n",
       "      <th>Rank</th>\n",
       "      <th>name</th>\n",
       "      <th>followers</th>\n",
       "      <th>country</th>\n",
       "    </tr>\n",
       "  </thead>\n",
       "  <tbody>\n",
       "    <tr>\n",
       "      <th>0</th>\n",
       "      <td>433</td>\n",
       "      <td>433</td>\n",
       "      <td>Sports with a ball</td>\n",
       "      <td>NaN</td>\n",
       "      <td>50.7M</td>\n",
       "      <td>Spain</td>\n",
       "      <td>274.9K</td>\n",
       "      <td>456.7K</td>\n",
       "      <td>June</td>\n",
       "      <td>NaN</td>\n",
       "      <td>...</td>\n",
       "      <td>NaN</td>\n",
       "      <td>NaN</td>\n",
       "      <td>NaN</td>\n",
       "      <td>NaN</td>\n",
       "      <td>NaN</td>\n",
       "      <td>NaN</td>\n",
       "      <td>NaN</td>\n",
       "      <td>NaN</td>\n",
       "      <td>NaN</td>\n",
       "      <td>NaN</td>\n",
       "    </tr>\n",
       "    <tr>\n",
       "      <th>1</th>\n",
       "      <td>____kimwoobin</td>\n",
       "      <td>김우빈</td>\n",
       "      <td>Lifestyle</td>\n",
       "      <td>NaN</td>\n",
       "      <td>3.6M</td>\n",
       "      <td>Indonesia</td>\n",
       "      <td>449.4K</td>\n",
       "      <td>592.7K</td>\n",
       "      <td>June</td>\n",
       "      <td>NaN</td>\n",
       "      <td>...</td>\n",
       "      <td>NaN</td>\n",
       "      <td>NaN</td>\n",
       "      <td>NaN</td>\n",
       "      <td>NaN</td>\n",
       "      <td>NaN</td>\n",
       "      <td>NaN</td>\n",
       "      <td>NaN</td>\n",
       "      <td>NaN</td>\n",
       "      <td>NaN</td>\n",
       "      <td>NaN</td>\n",
       "    </tr>\n",
       "    <tr>\n",
       "      <th>2</th>\n",
       "      <td>__youngbae__</td>\n",
       "      <td>TAEYANG</td>\n",
       "      <td>Music</td>\n",
       "      <td>NaN</td>\n",
       "      <td>13.4M</td>\n",
       "      <td>Indonesia</td>\n",
       "      <td>269.6K</td>\n",
       "      <td>304.1K</td>\n",
       "      <td>June</td>\n",
       "      <td>NaN</td>\n",
       "      <td>...</td>\n",
       "      <td>NaN</td>\n",
       "      <td>NaN</td>\n",
       "      <td>NaN</td>\n",
       "      <td>NaN</td>\n",
       "      <td>NaN</td>\n",
       "      <td>NaN</td>\n",
       "      <td>NaN</td>\n",
       "      <td>NaN</td>\n",
       "      <td>NaN</td>\n",
       "      <td>NaN</td>\n",
       "    </tr>\n",
       "    <tr>\n",
       "      <th>3</th>\n",
       "      <td>_agentgirl_</td>\n",
       "      <td>НАСТЯ ИВЛЕЕВА</td>\n",
       "      <td>Shows</td>\n",
       "      <td>NaN</td>\n",
       "      <td>18.6M</td>\n",
       "      <td>Russia</td>\n",
       "      <td>164.4K</td>\n",
       "      <td>189.4K</td>\n",
       "      <td>June</td>\n",
       "      <td>NaN</td>\n",
       "      <td>...</td>\n",
       "      <td>NaN</td>\n",
       "      <td>NaN</td>\n",
       "      <td>NaN</td>\n",
       "      <td>NaN</td>\n",
       "      <td>NaN</td>\n",
       "      <td>NaN</td>\n",
       "      <td>NaN</td>\n",
       "      <td>NaN</td>\n",
       "      <td>NaN</td>\n",
       "      <td>NaN</td>\n",
       "    </tr>\n",
       "    <tr>\n",
       "      <th>4</th>\n",
       "      <td>_hakkencoser_</td>\n",
       "      <td>Hakken 八犬</td>\n",
       "      <td>Lifestyle</td>\n",
       "      <td>Photography</td>\n",
       "      <td>3.5M</td>\n",
       "      <td>United States</td>\n",
       "      <td>525.1K</td>\n",
       "      <td>643K</td>\n",
       "      <td>June</td>\n",
       "      <td>NaN</td>\n",
       "      <td>...</td>\n",
       "      <td>NaN</td>\n",
       "      <td>NaN</td>\n",
       "      <td>NaN</td>\n",
       "      <td>NaN</td>\n",
       "      <td>NaN</td>\n",
       "      <td>NaN</td>\n",
       "      <td>NaN</td>\n",
       "      <td>NaN</td>\n",
       "      <td>NaN</td>\n",
       "      <td>NaN</td>\n",
       "    </tr>\n",
       "  </tbody>\n",
       "</table>\n",
       "<p>5 rows × 29 columns</p>\n",
       "</div>"
      ],
      "text/plain": [
       "  instagram name influencer name           Category_1   Category_2  \\\n",
       "0            433              433  Sports with a ball          NaN   \n",
       "1  ____kimwoobin         김우빈           Lifestyle          NaN   \n",
       "2   __youngbae__          TAEYANG               Music          NaN   \n",
       "3    _agentgirl_    НАСТЯ ИВЛЕЕВА               Shows          NaN   \n",
       "4  _hakkencoser_        Hakken 八犬           Lifestyle  Photography   \n",
       "\n",
       "  Subscribers count     Views avg. Likes avg Comments avg. Month  S.no  ...  \\\n",
       "0             50.7M          Spain    274.9K        456.7K  June   NaN  ...   \n",
       "1              3.6M      Indonesia    449.4K        592.7K  June   NaN  ...   \n",
       "2             13.4M      Indonesia    269.6K        304.1K  June   NaN  ...   \n",
       "3             18.6M         Russia    164.4K        189.4K  June   NaN  ...   \n",
       "4              3.5M  United States    525.1K          643K  June   NaN  ...   \n",
       "\n",
       "  Category-1 Followers \\nCountry Eng. (Auth.) Eng. (Avg.) Category-2  Rank  \\\n",
       "0        NaN       NaN       NaN          NaN         NaN        NaN   NaN   \n",
       "1        NaN       NaN       NaN          NaN         NaN        NaN   NaN   \n",
       "2        NaN       NaN       NaN          NaN         NaN        NaN   NaN   \n",
       "3        NaN       NaN       NaN          NaN         NaN        NaN   NaN   \n",
       "4        NaN       NaN       NaN          NaN         NaN        NaN   NaN   \n",
       "\n",
       "  name followers country  \n",
       "0  NaN       NaN     NaN  \n",
       "1  NaN       NaN     NaN  \n",
       "2  NaN       NaN     NaN  \n",
       "3  NaN       NaN     NaN  \n",
       "4  NaN       NaN     NaN  \n",
       "\n",
       "[5 rows x 29 columns]"
      ]
     },
     "execution_count": 18,
     "metadata": {},
     "output_type": "execute_result"
    }
   ],
   "source": [
    "# Concatenar los DataFrames de Instagram en un solo DataFrame\n",
    "df_Insta = pd.concat([df_I_June, df_I_Sep, df_I_Nov, df_I_Dec], axis=0, ignore_index=True)\n",
    "\n",
    "# Verificar el DataFrame resultante\n",
    "df_Insta.head()"
   ]
  },
  {
   "cell_type": "code",
   "execution_count": 19,
   "metadata": {
    "tags": []
   },
   "outputs": [],
   "source": [
    "# Limpieza del DataFrame de Instagram\n",
    "    # Combinar las columnas que se refieren a la misma información y eliminar las que ya no se necesitan\n",
    "#Username\n",
    "df_Insta['Username'] = df_Insta['Instagram Name'].combine_first(df_Insta['instagram name']).combine_first(df_Insta['Instagram name'])\n",
    "df_Insta = df_Insta.drop(['Instagram Name','instagram name','Instagram name'], axis=1)\n",
    "#Name\n",
    "df_Insta['Name'] = df_Insta['Name'].combine_first(df_Insta['influencer name ']).combine_first(df_Insta['name']).combine_first(df_Insta[' Name'])\n",
    "df_Insta = df_Insta.drop(['influencer name ','name',' Name'], axis=1)\n",
    "#Subscribers o Followers\n",
    "df_Insta['Subscribers o Followers'] = df_Insta['Subscribers'].combine_first(df_Insta['Subscribers count']).combine_first(df_Insta['followers']).combine_first(df_Insta['Followers'])\n",
    "df_Insta = df_Insta.drop(['Subscribers','Subscribers count','followers','Followers'], axis=1)\n",
    "#Country\n",
    "df_Insta['Country'] = df_Insta['Audience country'].combine_first(df_Insta['Views avg.']).combine_first(df_Insta['country']).combine_first(df_Insta['\\nCountry'])\n",
    "df_Insta = df_Insta.drop(['Audience country','Views avg.','country','\\nCountry'], axis=1)\n",
    "#Authentic\n",
    "df_Insta['Authentic'] = df_Insta['Authentic engagement\\n'].combine_first(df_Insta['Eng. (Auth.)']).combine_first(df_Insta['Likes avg'])\n",
    "df_Insta = df_Insta.drop(['Authentic engagement\\n','Eng. (Auth.)','Likes avg'], axis=1)\n",
    "#Engagement\n",
    "df_Insta['Engagement'] = df_Insta['Engagement average\\r\\n'].combine_first(df_Insta['Eng. (Avg.)']).combine_first(df_Insta['Comments avg.'])\n",
    "df_Insta = df_Insta.drop(['Engagement average\\r\\n','Eng. (Avg.)','Comments avg.'], axis=1)\n",
    "#Category1\n",
    "df_Insta['Category1'] = df_Insta['Category-1'].combine_first(df_Insta['Category_1'])\n",
    "df_Insta = df_Insta.drop(['Category-1','Category_1'], axis=1)\n",
    "#Category2\n",
    "df_Insta['Category2'] = df_Insta['Category-2'].combine_first(df_Insta['Category_2'])\n",
    "df_Insta = df_Insta.drop(['Category-2','Category_2'], axis=1)\n",
    "#Borrar datos inecesarios\n",
    "df_Insta = df_Insta.drop(['s.no','S.no','Rank'], axis=1)"
   ]
  },
  {
   "cell_type": "code",
   "execution_count": 20,
   "metadata": {
    "tags": []
   },
   "outputs": [
    {
     "data": {
      "text/html": [
       "<div>\n",
       "<style scoped>\n",
       "    .dataframe tbody tr th:only-of-type {\n",
       "        vertical-align: middle;\n",
       "    }\n",
       "\n",
       "    .dataframe tbody tr th {\n",
       "        vertical-align: top;\n",
       "    }\n",
       "\n",
       "    .dataframe thead th {\n",
       "        text-align: right;\n",
       "    }\n",
       "</style>\n",
       "<table border=\"1\" class=\"dataframe\">\n",
       "  <thead>\n",
       "    <tr style=\"text-align: right;\">\n",
       "      <th></th>\n",
       "      <th>Month</th>\n",
       "      <th>Name</th>\n",
       "      <th>Username</th>\n",
       "      <th>Subscribers o Followers</th>\n",
       "      <th>Country</th>\n",
       "      <th>Authentic</th>\n",
       "      <th>Engagement</th>\n",
       "      <th>Category1</th>\n",
       "      <th>Category2</th>\n",
       "    </tr>\n",
       "  </thead>\n",
       "  <tbody>\n",
       "    <tr>\n",
       "      <th>0</th>\n",
       "      <td>June</td>\n",
       "      <td>433</td>\n",
       "      <td>433</td>\n",
       "      <td>50.7M</td>\n",
       "      <td>Spain</td>\n",
       "      <td>274.9K</td>\n",
       "      <td>456.7K</td>\n",
       "      <td>Sports with a ball</td>\n",
       "      <td>NaN</td>\n",
       "    </tr>\n",
       "    <tr>\n",
       "      <th>1</th>\n",
       "      <td>June</td>\n",
       "      <td>김우빈</td>\n",
       "      <td>____kimwoobin</td>\n",
       "      <td>3.6M</td>\n",
       "      <td>Indonesia</td>\n",
       "      <td>449.4K</td>\n",
       "      <td>592.7K</td>\n",
       "      <td>Lifestyle</td>\n",
       "      <td>NaN</td>\n",
       "    </tr>\n",
       "    <tr>\n",
       "      <th>2</th>\n",
       "      <td>June</td>\n",
       "      <td>TAEYANG</td>\n",
       "      <td>__youngbae__</td>\n",
       "      <td>13.4M</td>\n",
       "      <td>Indonesia</td>\n",
       "      <td>269.6K</td>\n",
       "      <td>304.1K</td>\n",
       "      <td>Music</td>\n",
       "      <td>NaN</td>\n",
       "    </tr>\n",
       "    <tr>\n",
       "      <th>3</th>\n",
       "      <td>June</td>\n",
       "      <td>НАСТЯ ИВЛЕЕВА</td>\n",
       "      <td>_agentgirl_</td>\n",
       "      <td>18.6M</td>\n",
       "      <td>Russia</td>\n",
       "      <td>164.4K</td>\n",
       "      <td>189.4K</td>\n",
       "      <td>Shows</td>\n",
       "      <td>NaN</td>\n",
       "    </tr>\n",
       "    <tr>\n",
       "      <th>4</th>\n",
       "      <td>June</td>\n",
       "      <td>Hakken 八犬</td>\n",
       "      <td>_hakkencoser_</td>\n",
       "      <td>3.5M</td>\n",
       "      <td>United States</td>\n",
       "      <td>525.1K</td>\n",
       "      <td>643K</td>\n",
       "      <td>Lifestyle</td>\n",
       "      <td>Photography</td>\n",
       "    </tr>\n",
       "    <tr>\n",
       "      <th>...</th>\n",
       "      <td>...</td>\n",
       "      <td>...</td>\n",
       "      <td>...</td>\n",
       "      <td>...</td>\n",
       "      <td>...</td>\n",
       "      <td>...</td>\n",
       "      <td>...</td>\n",
       "      <td>...</td>\n",
       "      <td>...</td>\n",
       "    </tr>\n",
       "    <tr>\n",
       "      <th>4067</th>\n",
       "      <td>December</td>\n",
       "      <td>thiago6</td>\n",
       "      <td>Thiago Alcantara</td>\n",
       "      <td>10.4M</td>\n",
       "      <td>United Kingdom</td>\n",
       "      <td>129.9K</td>\n",
       "      <td>222.7K</td>\n",
       "      <td>Sports with a ball</td>\n",
       "      <td>NaN</td>\n",
       "    </tr>\n",
       "    <tr>\n",
       "      <th>4068</th>\n",
       "      <td>December</td>\n",
       "      <td>soycintiacossio</td>\n",
       "      <td>Cintia Cossio</td>\n",
       "      <td>6M</td>\n",
       "      <td>Colombia</td>\n",
       "      <td>313.4K</td>\n",
       "      <td>390.6K</td>\n",
       "      <td>Modeling</td>\n",
       "      <td>Adult content</td>\n",
       "    </tr>\n",
       "    <tr>\n",
       "      <th>4069</th>\n",
       "      <td>December</td>\n",
       "      <td>feat.dino</td>\n",
       "      <td>이찬</td>\n",
       "      <td>2.7M</td>\n",
       "      <td>South Korea</td>\n",
       "      <td>716.6K</td>\n",
       "      <td>876.4K</td>\n",
       "      <td>Lifestyle</td>\n",
       "      <td>NaN</td>\n",
       "    </tr>\n",
       "    <tr>\n",
       "      <th>4070</th>\n",
       "      <td>December</td>\n",
       "      <td>djokernole</td>\n",
       "      <td>Novak Djokovic</td>\n",
       "      <td>11.8M</td>\n",
       "      <td>United States</td>\n",
       "      <td>158.6K</td>\n",
       "      <td>197.5K</td>\n",
       "      <td>Sports with a ball</td>\n",
       "      <td>NaN</td>\n",
       "    </tr>\n",
       "    <tr>\n",
       "      <th>4071</th>\n",
       "      <td>December</td>\n",
       "      <td>ravindra.jadeja</td>\n",
       "      <td>Ravindrasinh jadeja</td>\n",
       "      <td>4.8M</td>\n",
       "      <td>India</td>\n",
       "      <td>388.9K</td>\n",
       "      <td>485.1K</td>\n",
       "      <td>Lifestyle</td>\n",
       "      <td>Sports with a ball</td>\n",
       "    </tr>\n",
       "  </tbody>\n",
       "</table>\n",
       "<p>4072 rows × 9 columns</p>\n",
       "</div>"
      ],
      "text/plain": [
       "         Month             Name             Username Subscribers o Followers  \\\n",
       "0         June              433                  433                   50.7M   \n",
       "1         June         김우빈        ____kimwoobin                    3.6M   \n",
       "2         June          TAEYANG         __youngbae__                   13.4M   \n",
       "3         June    НАСТЯ ИВЛЕЕВА          _agentgirl_                   18.6M   \n",
       "4         June        Hakken 八犬        _hakkencoser_                    3.5M   \n",
       "...        ...              ...                  ...                     ...   \n",
       "4067  December          thiago6     Thiago Alcantara                   10.4M   \n",
       "4068  December  soycintiacossio        Cintia Cossio                      6M   \n",
       "4069  December        feat.dino                   이찬                    2.7M   \n",
       "4070  December       djokernole       Novak Djokovic                   11.8M   \n",
       "4071  December  ravindra.jadeja  Ravindrasinh jadeja                    4.8M   \n",
       "\n",
       "             Country Authentic Engagement           Category1  \\\n",
       "0              Spain    274.9K     456.7K  Sports with a ball   \n",
       "1          Indonesia    449.4K     592.7K           Lifestyle   \n",
       "2          Indonesia    269.6K     304.1K               Music   \n",
       "3             Russia    164.4K     189.4K               Shows   \n",
       "4      United States    525.1K       643K           Lifestyle   \n",
       "...              ...       ...        ...                 ...   \n",
       "4067  United Kingdom    129.9K     222.7K  Sports with a ball   \n",
       "4068        Colombia    313.4K     390.6K            Modeling   \n",
       "4069     South Korea    716.6K     876.4K           Lifestyle   \n",
       "4070   United States    158.6K     197.5K  Sports with a ball   \n",
       "4071           India    388.9K     485.1K           Lifestyle   \n",
       "\n",
       "               Category2  \n",
       "0                    NaN  \n",
       "1                    NaN  \n",
       "2                    NaN  \n",
       "3                    NaN  \n",
       "4            Photography  \n",
       "...                  ...  \n",
       "4067                 NaN  \n",
       "4068       Adult content  \n",
       "4069                 NaN  \n",
       "4070                 NaN  \n",
       "4071  Sports with a ball  \n",
       "\n",
       "[4072 rows x 9 columns]"
      ]
     },
     "execution_count": 20,
     "metadata": {},
     "output_type": "execute_result"
    }
   ],
   "source": [
    "# Verificar el DataFrame de Instagram resultante\n",
    "df_Insta"
   ]
  },
  {
   "cell_type": "code",
   "execution_count": 21,
   "metadata": {
    "tags": []
   },
   "outputs": [
    {
     "data": {
      "text/plain": [
       "Month                         0\n",
       "Name                         47\n",
       "Username                     41\n",
       "Subscribers o Followers       0\n",
       "Country                       9\n",
       "Authentic                     0\n",
       "Engagement                   16\n",
       "Category1                   441\n",
       "Category2                  2852\n",
       "dtype: int64"
      ]
     },
     "execution_count": 21,
     "metadata": {},
     "output_type": "execute_result"
    }
   ],
   "source": [
    "df_Insta.isna().sum()"
   ]
  },
  {
   "cell_type": "code",
   "execution_count": 22,
   "metadata": {
    "tags": []
   },
   "outputs": [],
   "source": [
    "df_Insta = df_Insta.drop_duplicates()"
   ]
  },
  {
   "cell_type": "code",
   "execution_count": 23,
   "metadata": {
    "tags": []
   },
   "outputs": [],
   "source": [
    "df_Insta=df_Insta.dropna()"
   ]
  },
  {
   "cell_type": "code",
   "execution_count": 24,
   "metadata": {
    "tags": []
   },
   "outputs": [
    {
     "data": {
      "text/plain": [
       "(1168, 9)"
      ]
     },
     "execution_count": 24,
     "metadata": {},
     "output_type": "execute_result"
    }
   ],
   "source": [
    "df_Insta.shape"
   ]
  },
  {
   "cell_type": "markdown",
   "metadata": {
    "tags": []
   },
   "source": [
    "Se realizan los mismos pasos anteriores para los otros dos DataFrames de TikTok y Youtube"
   ]
  },
  {
   "cell_type": "markdown",
   "metadata": {},
   "source": [
    "### TikTok"
   ]
  },
  {
   "cell_type": "code",
   "execution_count": 25,
   "metadata": {
    "tags": []
   },
   "outputs": [
    {
     "data": {
      "text/plain": [
       "['/home/moni/Ciencia de datos/Proyectos/CienciaDatosLasChicasSuperpoderosas/Proyectos/Unidad2/socialnetworks/social media influencers-tiktok - ---nov 2022.csv',\n",
       " '/home/moni/Ciencia de datos/Proyectos/CienciaDatosLasChicasSuperpoderosas/Proyectos/Unidad2/socialnetworks/social media influencers - Tiktok sep 2022.csv',\n",
       " '/home/moni/Ciencia de datos/Proyectos/CienciaDatosLasChicasSuperpoderosas/Proyectos/Unidad2/socialnetworks/social media influencers-tiktok june 2022 - june 2022.csv',\n",
       " '/home/moni/Ciencia de datos/Proyectos/CienciaDatosLasChicasSuperpoderosas/Proyectos/Unidad2/socialnetworks/social media influencers-TIKTOK - ---DEC 2022.csv']"
      ]
     },
     "execution_count": 25,
     "metadata": {},
     "output_type": "execute_result"
    }
   ],
   "source": [
    "Tik_tok"
   ]
  },
  {
   "cell_type": "code",
   "execution_count": 26,
   "metadata": {
    "tags": []
   },
   "outputs": [
    {
     "data": {
      "text/html": [
       "<div>\n",
       "<style scoped>\n",
       "    .dataframe tbody tr th:only-of-type {\n",
       "        vertical-align: middle;\n",
       "    }\n",
       "\n",
       "    .dataframe tbody tr th {\n",
       "        vertical-align: top;\n",
       "    }\n",
       "\n",
       "    .dataframe thead th {\n",
       "        text-align: right;\n",
       "    }\n",
       "</style>\n",
       "<table border=\"1\" class=\"dataframe\">\n",
       "  <thead>\n",
       "    <tr style=\"text-align: right;\">\n",
       "      <th></th>\n",
       "      <th>Tiktoker name</th>\n",
       "      <th>Tiktok name</th>\n",
       "      <th>\\nFollowers</th>\n",
       "      <th>Views (Avg.)</th>\n",
       "      <th>Likes (Avg.)</th>\n",
       "      <th>Comments (Avg.)</th>\n",
       "      <th>Shares (Avg.)</th>\n",
       "      <th>Month</th>\n",
       "    </tr>\n",
       "  </thead>\n",
       "  <tbody>\n",
       "    <tr>\n",
       "      <th>0</th>\n",
       "      <td>NaN</td>\n",
       "      <td>NaN</td>\n",
       "      <td>NaN</td>\n",
       "      <td>NaN</td>\n",
       "      <td>NaN</td>\n",
       "      <td>NaN</td>\n",
       "      <td>NaN</td>\n",
       "      <td>November</td>\n",
       "    </tr>\n",
       "    <tr>\n",
       "      <th>1</th>\n",
       "      <td>yossikramer</td>\n",
       "      <td>Yossi</td>\n",
       "      <td>145.6K</td>\n",
       "      <td>26.8M</td>\n",
       "      <td>2.2M</td>\n",
       "      <td>30.1K</td>\n",
       "      <td>71.2K</td>\n",
       "      <td>November</td>\n",
       "    </tr>\n",
       "  </tbody>\n",
       "</table>\n",
       "</div>"
      ],
      "text/plain": [
       "  Tiktoker name Tiktok name \\nFollowers Views (Avg.) Likes (Avg.)  \\\n",
       "0           NaN         NaN         NaN          NaN          NaN   \n",
       "1   yossikramer       Yossi      145.6K        26.8M         2.2M   \n",
       "\n",
       "  Comments (Avg.) Shares (Avg.)     Month  \n",
       "0             NaN           NaN  November  \n",
       "1           30.1K         71.2K  November  "
      ]
     },
     "execution_count": 26,
     "metadata": {},
     "output_type": "execute_result"
    }
   ],
   "source": [
    "#ARCHIVO DE NOVIEMBRE\n",
    "df_T_Nov = pd.read_csv(Tik_tok[0])\n",
    "df_T_Nov['Month'] = 'November'\n",
    "df_T_Nov.drop(['row-cell'], axis=1, inplace=True)\n",
    "df_T_Nov.head(2)"
   ]
  },
  {
   "cell_type": "code",
   "execution_count": 27,
   "metadata": {
    "tags": []
   },
   "outputs": [
    {
     "data": {
      "text/html": [
       "<div>\n",
       "<style scoped>\n",
       "    .dataframe tbody tr th:only-of-type {\n",
       "        vertical-align: middle;\n",
       "    }\n",
       "\n",
       "    .dataframe tbody tr th {\n",
       "        vertical-align: top;\n",
       "    }\n",
       "\n",
       "    .dataframe thead th {\n",
       "        text-align: right;\n",
       "    }\n",
       "</style>\n",
       "<table border=\"1\" class=\"dataframe\">\n",
       "  <thead>\n",
       "    <tr style=\"text-align: right;\">\n",
       "      <th></th>\n",
       "      <th>Tiktoker name</th>\n",
       "      <th>Tiktok name</th>\n",
       "      <th>Subscribers</th>\n",
       "      <th>Views avg.</th>\n",
       "      <th>Likes avg.</th>\n",
       "      <th>Comments avg.</th>\n",
       "      <th>Shares avg.</th>\n",
       "      <th>Month</th>\n",
       "    </tr>\n",
       "  </thead>\n",
       "  <tbody>\n",
       "    <tr>\n",
       "      <th>0</th>\n",
       "      <td>jypestraykids</td>\n",
       "      <td>Stray Kids</td>\n",
       "      <td>13.8M</td>\n",
       "      <td>6.4M</td>\n",
       "      <td>2.3M</td>\n",
       "      <td>50.2K</td>\n",
       "      <td>34.2K</td>\n",
       "      <td>September</td>\n",
       "    </tr>\n",
       "    <tr>\n",
       "      <th>1</th>\n",
       "      <td>khaby.lame</td>\n",
       "      <td>Khabane lame</td>\n",
       "      <td>149.2M</td>\n",
       "      <td>17.3M</td>\n",
       "      <td>2.3M</td>\n",
       "      <td>15.2K</td>\n",
       "      <td>8.7K</td>\n",
       "      <td>September</td>\n",
       "    </tr>\n",
       "  </tbody>\n",
       "</table>\n",
       "</div>"
      ],
      "text/plain": [
       "   Tiktoker name   Tiktok name Subscribers Views avg. Likes avg.  \\\n",
       "0  jypestraykids    Stray Kids       13.8M       6.4M       2.3M   \n",
       "1     khaby.lame  Khabane lame      149.2M      17.3M       2.3M   \n",
       "\n",
       "  Comments avg. Shares avg.      Month  \n",
       "0         50.2K       34.2K  September  \n",
       "1         15.2K        8.7K  September  "
      ]
     },
     "execution_count": 27,
     "metadata": {},
     "output_type": "execute_result"
    }
   ],
   "source": [
    "# ARCHIVO DE SEPTIEMBRE\n",
    "df_T_Sep = pd.read_csv(Tik_tok[1])\n",
    "df_T_Sep['Month'] = 'September'\n",
    "df_T_Sep.drop(['S.no'], axis=1, inplace=True)\n",
    "df_T_Sep.head(2)"
   ]
  },
  {
   "cell_type": "code",
   "execution_count": 28,
   "metadata": {
    "tags": []
   },
   "outputs": [
    {
     "data": {
      "text/html": [
       "<div>\n",
       "<style scoped>\n",
       "    .dataframe tbody tr th:only-of-type {\n",
       "        vertical-align: middle;\n",
       "    }\n",
       "\n",
       "    .dataframe tbody tr th {\n",
       "        vertical-align: top;\n",
       "    }\n",
       "\n",
       "    .dataframe thead th {\n",
       "        text-align: right;\n",
       "    }\n",
       "</style>\n",
       "<table border=\"1\" class=\"dataframe\">\n",
       "  <thead>\n",
       "    <tr style=\"text-align: right;\">\n",
       "      <th></th>\n",
       "      <th>Tiktoker</th>\n",
       "      <th>influencer name</th>\n",
       "      <th>Subscribers count</th>\n",
       "      <th>Views avg.</th>\n",
       "      <th>Likes avg</th>\n",
       "      <th>Comments avg.</th>\n",
       "      <th>Shares avg</th>\n",
       "      <th>Month</th>\n",
       "    </tr>\n",
       "  </thead>\n",
       "  <tbody>\n",
       "    <tr>\n",
       "      <th>0</th>\n",
       "      <td>___nicoichi___</td>\n",
       "      <td>NICO【平成フラミンゴ】</td>\n",
       "      <td>1.3M</td>\n",
       "      <td>1.9M</td>\n",
       "      <td>225.3K</td>\n",
       "      <td>1.7K</td>\n",
       "      <td>1.1K</td>\n",
       "      <td>June</td>\n",
       "    </tr>\n",
       "    <tr>\n",
       "      <th>1</th>\n",
       "      <td>_.anime.edits_0</td>\n",
       "      <td>video</td>\n",
       "      <td>97K</td>\n",
       "      <td>1.7M</td>\n",
       "      <td>75.6K</td>\n",
       "      <td>1.5K</td>\n",
       "      <td>8.7K</td>\n",
       "      <td>June</td>\n",
       "    </tr>\n",
       "  </tbody>\n",
       "</table>\n",
       "</div>"
      ],
      "text/plain": [
       "          Tiktoker influencer name Subscribers count Views avg. Likes avg  \\\n",
       "0   ___nicoichi___   NICO【平成フラミンゴ】              1.3M       1.9M    225.3K   \n",
       "1  _.anime.edits_0           video               97K       1.7M     75.6K   \n",
       "\n",
       "  Comments avg. Shares avg Month  \n",
       "0          1.7K       1.1K  June  \n",
       "1          1.5K       8.7K  June  "
      ]
     },
     "execution_count": 28,
     "metadata": {},
     "output_type": "execute_result"
    }
   ],
   "source": [
    "# ARCHIVO DE JUNIO\n",
    "df_T_June = pd.read_csv(Tik_tok[2])\n",
    "df_T_June['Month'] = 'June'\n",
    "df_T_June.head(2)"
   ]
  },
  {
   "cell_type": "code",
   "execution_count": 29,
   "metadata": {
    "tags": []
   },
   "outputs": [
    {
     "data": {
      "text/html": [
       "<div>\n",
       "<style scoped>\n",
       "    .dataframe tbody tr th:only-of-type {\n",
       "        vertical-align: middle;\n",
       "    }\n",
       "\n",
       "    .dataframe tbody tr th {\n",
       "        vertical-align: top;\n",
       "    }\n",
       "\n",
       "    .dataframe thead th {\n",
       "        text-align: right;\n",
       "    }\n",
       "</style>\n",
       "<table border=\"1\" class=\"dataframe\">\n",
       "  <thead>\n",
       "    <tr style=\"text-align: right;\">\n",
       "      <th></th>\n",
       "      <th>Tiktoker name</th>\n",
       "      <th>Tiktok name</th>\n",
       "      <th>followers</th>\n",
       "      <th>views(avg)</th>\n",
       "      <th>likes(avg.)</th>\n",
       "      <th>comments(avg.)</th>\n",
       "      <th>shares(avg.)</th>\n",
       "      <th>Month</th>\n",
       "    </tr>\n",
       "  </thead>\n",
       "  <tbody>\n",
       "    <tr>\n",
       "      <th>0</th>\n",
       "      <td>mrbeast</td>\n",
       "      <td>MrBeast</td>\n",
       "      <td>60.3M</td>\n",
       "      <td>29.2M</td>\n",
       "      <td>3.5M</td>\n",
       "      <td>30.8K</td>\n",
       "      <td>7.2K</td>\n",
       "      <td>December</td>\n",
       "    </tr>\n",
       "    <tr>\n",
       "      <th>1</th>\n",
       "      <td>karolg</td>\n",
       "      <td>Karol G</td>\n",
       "      <td>42.4M</td>\n",
       "      <td>23.7M</td>\n",
       "      <td>3.4M</td>\n",
       "      <td>21.7K</td>\n",
       "      <td>25.7K</td>\n",
       "      <td>December</td>\n",
       "    </tr>\n",
       "  </tbody>\n",
       "</table>\n",
       "</div>"
      ],
      "text/plain": [
       "  Tiktoker name Tiktok name followers views(avg) likes(avg.) comments(avg.)  \\\n",
       "0       mrbeast     MrBeast     60.3M      29.2M        3.5M          30.8K   \n",
       "1        karolg     Karol G     42.4M      23.7M        3.4M          21.7K   \n",
       "\n",
       "  shares(avg.)     Month  \n",
       "0         7.2K  December  \n",
       "1        25.7K  December  "
      ]
     },
     "execution_count": 29,
     "metadata": {},
     "output_type": "execute_result"
    }
   ],
   "source": [
    "# ARCHIVO DE DICIEMBRE \n",
    "df_T_Dic = pd.read_csv(Tik_tok[3])\n",
    "df_T_Dic['Month'] = 'December'\n",
    "df_T_Dic.drop(['Rank'], axis=1, inplace=True)\n",
    "df_T_Dic.head(2)"
   ]
  },
  {
   "cell_type": "code",
   "execution_count": 30,
   "metadata": {
    "tags": []
   },
   "outputs": [
    {
     "data": {
      "text/html": [
       "<div>\n",
       "<style scoped>\n",
       "    .dataframe tbody tr th:only-of-type {\n",
       "        vertical-align: middle;\n",
       "    }\n",
       "\n",
       "    .dataframe tbody tr th {\n",
       "        vertical-align: top;\n",
       "    }\n",
       "\n",
       "    .dataframe thead th {\n",
       "        text-align: right;\n",
       "    }\n",
       "</style>\n",
       "<table border=\"1\" class=\"dataframe\">\n",
       "  <thead>\n",
       "    <tr style=\"text-align: right;\">\n",
       "      <th></th>\n",
       "      <th>Tiktoker name</th>\n",
       "      <th>Tiktok name</th>\n",
       "      <th>Subscribers</th>\n",
       "      <th>Views avg.</th>\n",
       "      <th>Likes avg.</th>\n",
       "      <th>Comments avg.</th>\n",
       "      <th>Shares avg.</th>\n",
       "      <th>Month</th>\n",
       "      <th>followers</th>\n",
       "      <th>views(avg)</th>\n",
       "      <th>...</th>\n",
       "      <th>\\nFollowers</th>\n",
       "      <th>Views (Avg.)</th>\n",
       "      <th>Likes (Avg.)</th>\n",
       "      <th>Comments (Avg.)</th>\n",
       "      <th>Shares (Avg.)</th>\n",
       "      <th>Tiktoker</th>\n",
       "      <th>influencer name</th>\n",
       "      <th>Subscribers count</th>\n",
       "      <th>Likes avg</th>\n",
       "      <th>Shares avg</th>\n",
       "    </tr>\n",
       "  </thead>\n",
       "  <tbody>\n",
       "    <tr>\n",
       "      <th>0</th>\n",
       "      <td>jypestraykids</td>\n",
       "      <td>Stray Kids</td>\n",
       "      <td>13.8M</td>\n",
       "      <td>6.4M</td>\n",
       "      <td>2.3M</td>\n",
       "      <td>50.2K</td>\n",
       "      <td>34.2K</td>\n",
       "      <td>September</td>\n",
       "      <td>NaN</td>\n",
       "      <td>NaN</td>\n",
       "      <td>...</td>\n",
       "      <td>NaN</td>\n",
       "      <td>NaN</td>\n",
       "      <td>NaN</td>\n",
       "      <td>NaN</td>\n",
       "      <td>NaN</td>\n",
       "      <td>NaN</td>\n",
       "      <td>NaN</td>\n",
       "      <td>NaN</td>\n",
       "      <td>NaN</td>\n",
       "      <td>NaN</td>\n",
       "    </tr>\n",
       "    <tr>\n",
       "      <th>1</th>\n",
       "      <td>khaby.lame</td>\n",
       "      <td>Khabane lame</td>\n",
       "      <td>149.2M</td>\n",
       "      <td>17.3M</td>\n",
       "      <td>2.3M</td>\n",
       "      <td>15.2K</td>\n",
       "      <td>8.7K</td>\n",
       "      <td>September</td>\n",
       "      <td>NaN</td>\n",
       "      <td>NaN</td>\n",
       "      <td>...</td>\n",
       "      <td>NaN</td>\n",
       "      <td>NaN</td>\n",
       "      <td>NaN</td>\n",
       "      <td>NaN</td>\n",
       "      <td>NaN</td>\n",
       "      <td>NaN</td>\n",
       "      <td>NaN</td>\n",
       "      <td>NaN</td>\n",
       "      <td>NaN</td>\n",
       "      <td>NaN</td>\n",
       "    </tr>\n",
       "    <tr>\n",
       "      <th>2</th>\n",
       "      <td>scarlettsspam2</td>\n",
       "      <td>scarlett</td>\n",
       "      <td>2.1M</td>\n",
       "      <td>17.9M</td>\n",
       "      <td>845.8K</td>\n",
       "      <td>53.9K</td>\n",
       "      <td>6.3K</td>\n",
       "      <td>September</td>\n",
       "      <td>NaN</td>\n",
       "      <td>NaN</td>\n",
       "      <td>...</td>\n",
       "      <td>NaN</td>\n",
       "      <td>NaN</td>\n",
       "      <td>NaN</td>\n",
       "      <td>NaN</td>\n",
       "      <td>NaN</td>\n",
       "      <td>NaN</td>\n",
       "      <td>NaN</td>\n",
       "      <td>NaN</td>\n",
       "      <td>NaN</td>\n",
       "      <td>NaN</td>\n",
       "    </tr>\n",
       "    <tr>\n",
       "      <th>3</th>\n",
       "      <td>addisonre</td>\n",
       "      <td>Addison Rae</td>\n",
       "      <td>88.7M</td>\n",
       "      <td>22M</td>\n",
       "      <td>906.6K</td>\n",
       "      <td>7.6K</td>\n",
       "      <td>26.2K</td>\n",
       "      <td>September</td>\n",
       "      <td>NaN</td>\n",
       "      <td>NaN</td>\n",
       "      <td>...</td>\n",
       "      <td>NaN</td>\n",
       "      <td>NaN</td>\n",
       "      <td>NaN</td>\n",
       "      <td>NaN</td>\n",
       "      <td>NaN</td>\n",
       "      <td>NaN</td>\n",
       "      <td>NaN</td>\n",
       "      <td>NaN</td>\n",
       "      <td>NaN</td>\n",
       "      <td>NaN</td>\n",
       "    </tr>\n",
       "    <tr>\n",
       "      <th>4</th>\n",
       "      <td>belindatok</td>\n",
       "      <td>Belinda</td>\n",
       "      <td>4.8M</td>\n",
       "      <td>14.2M</td>\n",
       "      <td>1.5M</td>\n",
       "      <td>14.5K</td>\n",
       "      <td>15.3K</td>\n",
       "      <td>September</td>\n",
       "      <td>NaN</td>\n",
       "      <td>NaN</td>\n",
       "      <td>...</td>\n",
       "      <td>NaN</td>\n",
       "      <td>NaN</td>\n",
       "      <td>NaN</td>\n",
       "      <td>NaN</td>\n",
       "      <td>NaN</td>\n",
       "      <td>NaN</td>\n",
       "      <td>NaN</td>\n",
       "      <td>NaN</td>\n",
       "      <td>NaN</td>\n",
       "      <td>NaN</td>\n",
       "    </tr>\n",
       "  </tbody>\n",
       "</table>\n",
       "<p>5 rows × 23 columns</p>\n",
       "</div>"
      ],
      "text/plain": [
       "    Tiktoker name   Tiktok name Subscribers Views avg. Likes avg.  \\\n",
       "0   jypestraykids    Stray Kids       13.8M       6.4M       2.3M   \n",
       "1      khaby.lame  Khabane lame      149.2M      17.3M       2.3M   \n",
       "2  scarlettsspam2      scarlett        2.1M      17.9M     845.8K   \n",
       "3       addisonre   Addison Rae       88.7M        22M     906.6K   \n",
       "4      belindatok       Belinda        4.8M      14.2M       1.5M   \n",
       "\n",
       "  Comments avg. Shares avg.      Month followers views(avg)  ... \\nFollowers  \\\n",
       "0         50.2K       34.2K  September       NaN        NaN  ...         NaN   \n",
       "1         15.2K        8.7K  September       NaN        NaN  ...         NaN   \n",
       "2         53.9K        6.3K  September       NaN        NaN  ...         NaN   \n",
       "3          7.6K       26.2K  September       NaN        NaN  ...         NaN   \n",
       "4         14.5K       15.3K  September       NaN        NaN  ...         NaN   \n",
       "\n",
       "  Views (Avg.) Likes (Avg.) Comments (Avg.) Shares (Avg.) Tiktoker  \\\n",
       "0          NaN          NaN             NaN           NaN      NaN   \n",
       "1          NaN          NaN             NaN           NaN      NaN   \n",
       "2          NaN          NaN             NaN           NaN      NaN   \n",
       "3          NaN          NaN             NaN           NaN      NaN   \n",
       "4          NaN          NaN             NaN           NaN      NaN   \n",
       "\n",
       "  influencer name Subscribers count Likes avg Shares avg  \n",
       "0             NaN               NaN       NaN        NaN  \n",
       "1             NaN               NaN       NaN        NaN  \n",
       "2             NaN               NaN       NaN        NaN  \n",
       "3             NaN               NaN       NaN        NaN  \n",
       "4             NaN               NaN       NaN        NaN  \n",
       "\n",
       "[5 rows x 23 columns]"
      ]
     },
     "execution_count": 30,
     "metadata": {},
     "output_type": "execute_result"
    }
   ],
   "source": [
    "# Concatenar los DataFrames de TikTok en un solo DataFrame\n",
    "df_Tik_tok = pd.concat([df_T_Sep, df_T_Dic, df_T_Nov, df_T_June], axis=0, ignore_index=True)\n",
    "\n",
    "# Verificar el DataFrame resultante\n",
    "df_Tik_tok.head()"
   ]
  },
  {
   "cell_type": "code",
   "execution_count": 31,
   "metadata": {
    "tags": []
   },
   "outputs": [],
   "source": [
    "# Limpieza del DataFrame de Tiktok\n",
    "\n",
    "#Username\n",
    "df_Tik_tok['Username']=df_Tik_tok['Tiktoker name'].combine_first(df_Tik_tok['Tiktoker'])\n",
    "df_Tik_tok.drop(['Tiktoker name', 'Tiktoker'], axis=1, inplace=True)"
   ]
  },
  {
   "cell_type": "code",
   "execution_count": 32,
   "metadata": {
    "tags": []
   },
   "outputs": [],
   "source": [
    "#Name\n",
    "df_Tik_tok['Name']=df_Tik_tok['Tiktok name']\n",
    "df_Tik_tok.drop(['Tiktok name'], axis=1, inplace=True)"
   ]
  },
  {
   "cell_type": "code",
   "execution_count": 33,
   "metadata": {
    "tags": []
   },
   "outputs": [],
   "source": [
    "df_Tik_tok['Name'] = df_Tik_tok['Name'].combine_first(df_Tik_tok['influencer name'])\n",
    "df_Tik_tok.drop(['influencer name'], axis=1, inplace=True)"
   ]
  },
  {
   "cell_type": "code",
   "execution_count": 34,
   "metadata": {
    "tags": []
   },
   "outputs": [],
   "source": [
    "#Folowers o Suscribers\n",
    "df_Tik_tok['Folowers o Suscribers'] = df_Tik_tok['Subscribers'].combine_first(df_Tik_tok['followers']).combine_first(df_Tik_tok['\\nFollowers']).combine_first(df_Tik_tok['Subscribers count'])\n",
    "df_Tik_tok.drop(['Subscribers', 'followers', '\\nFollowers', 'Subscribers count'],axis=1, inplace=True)"
   ]
  },
  {
   "cell_type": "code",
   "execution_count": 35,
   "metadata": {
    "tags": []
   },
   "outputs": [],
   "source": [
    "#Likes\n",
    "df_Tik_tok['Likes'] = df_Tik_tok['Likes (Avg.)'].combine_first(df_Tik_tok['Likes avg']).combine_first(df_Tik_tok['Likes avg.']).combine_first(df_Tik_tok['likes(avg.)'])\n",
    "df_Tik_tok.drop(['Likes (Avg.)', 'Likes avg', 'Likes avg.', 'likes(avg.)'],axis=1,inplace=True)"
   ]
  },
  {
   "cell_type": "code",
   "execution_count": 36,
   "metadata": {
    "tags": []
   },
   "outputs": [],
   "source": [
    "#Views\n",
    "df_Tik_tok['Views'] = df_Tik_tok['Views (Avg.)'].combine_first(df_Tik_tok['Views avg.']).combine_first(df_Tik_tok['views(avg)'])\n",
    "df_Tik_tok.drop(['Views (Avg.)', 'Views avg.', 'views(avg)'], axis=1, inplace=True)"
   ]
  },
  {
   "cell_type": "code",
   "execution_count": 37,
   "metadata": {
    "tags": []
   },
   "outputs": [],
   "source": [
    "#Shares\n",
    "df_Tik_tok['Shares'] = df_Tik_tok['Shares (Avg.)'].combine_first(df_Tik_tok['Shares avg']).combine_first(df_Tik_tok['Shares avg.']).combine_first(df_Tik_tok['shares(avg.)'])\n",
    "df_Tik_tok.drop(['Shares (Avg.)', 'Shares avg', 'Shares avg.', 'shares(avg.)'], axis=1, inplace=True)"
   ]
  },
  {
   "cell_type": "code",
   "execution_count": 38,
   "metadata": {
    "tags": []
   },
   "outputs": [],
   "source": [
    "#Comments\n",
    "df_Tik_tok['Comments'] = df_Tik_tok['Comments (Avg.)'].combine_first(df_Tik_tok['Comments avg.']).combine_first(df_Tik_tok['comments(avg.)'])\n",
    "df_Tik_tok.drop(['Comments (Avg.)', 'Comments avg.', 'comments(avg.)'], axis=1, inplace=True)"
   ]
  },
  {
   "cell_type": "code",
   "execution_count": 39,
   "metadata": {
    "tags": []
   },
   "outputs": [
    {
     "data": {
      "text/html": [
       "<div>\n",
       "<style scoped>\n",
       "    .dataframe tbody tr th:only-of-type {\n",
       "        vertical-align: middle;\n",
       "    }\n",
       "\n",
       "    .dataframe tbody tr th {\n",
       "        vertical-align: top;\n",
       "    }\n",
       "\n",
       "    .dataframe thead th {\n",
       "        text-align: right;\n",
       "    }\n",
       "</style>\n",
       "<table border=\"1\" class=\"dataframe\">\n",
       "  <thead>\n",
       "    <tr style=\"text-align: right;\">\n",
       "      <th></th>\n",
       "      <th>Month</th>\n",
       "      <th>Username</th>\n",
       "      <th>Name</th>\n",
       "      <th>Folowers o Suscribers</th>\n",
       "      <th>Likes</th>\n",
       "      <th>Views</th>\n",
       "      <th>Shares</th>\n",
       "      <th>Comments</th>\n",
       "    </tr>\n",
       "  </thead>\n",
       "  <tbody>\n",
       "    <tr>\n",
       "      <th>0</th>\n",
       "      <td>September</td>\n",
       "      <td>jypestraykids</td>\n",
       "      <td>Stray Kids</td>\n",
       "      <td>13.8M</td>\n",
       "      <td>2.3M</td>\n",
       "      <td>6.4M</td>\n",
       "      <td>34.2K</td>\n",
       "      <td>50.2K</td>\n",
       "    </tr>\n",
       "    <tr>\n",
       "      <th>1</th>\n",
       "      <td>September</td>\n",
       "      <td>khaby.lame</td>\n",
       "      <td>Khabane lame</td>\n",
       "      <td>149.2M</td>\n",
       "      <td>2.3M</td>\n",
       "      <td>17.3M</td>\n",
       "      <td>8.7K</td>\n",
       "      <td>15.2K</td>\n",
       "    </tr>\n",
       "    <tr>\n",
       "      <th>2</th>\n",
       "      <td>September</td>\n",
       "      <td>scarlettsspam2</td>\n",
       "      <td>scarlett</td>\n",
       "      <td>2.1M</td>\n",
       "      <td>845.8K</td>\n",
       "      <td>17.9M</td>\n",
       "      <td>6.3K</td>\n",
       "      <td>53.9K</td>\n",
       "    </tr>\n",
       "    <tr>\n",
       "      <th>3</th>\n",
       "      <td>September</td>\n",
       "      <td>addisonre</td>\n",
       "      <td>Addison Rae</td>\n",
       "      <td>88.7M</td>\n",
       "      <td>906.6K</td>\n",
       "      <td>22M</td>\n",
       "      <td>26.2K</td>\n",
       "      <td>7.6K</td>\n",
       "    </tr>\n",
       "    <tr>\n",
       "      <th>4</th>\n",
       "      <td>September</td>\n",
       "      <td>belindatok</td>\n",
       "      <td>Belinda</td>\n",
       "      <td>4.8M</td>\n",
       "      <td>1.5M</td>\n",
       "      <td>14.2M</td>\n",
       "      <td>15.3K</td>\n",
       "      <td>14.5K</td>\n",
       "    </tr>\n",
       "  </tbody>\n",
       "</table>\n",
       "</div>"
      ],
      "text/plain": [
       "       Month        Username          Name Folowers o Suscribers   Likes  \\\n",
       "0  September   jypestraykids    Stray Kids                 13.8M    2.3M   \n",
       "1  September      khaby.lame  Khabane lame                149.2M    2.3M   \n",
       "2  September  scarlettsspam2      scarlett                  2.1M  845.8K   \n",
       "3  September       addisonre   Addison Rae                 88.7M  906.6K   \n",
       "4  September      belindatok       Belinda                  4.8M    1.5M   \n",
       "\n",
       "   Views Shares Comments  \n",
       "0   6.4M  34.2K    50.2K  \n",
       "1  17.3M   8.7K    15.2K  \n",
       "2  17.9M   6.3K    53.9K  \n",
       "3    22M  26.2K     7.6K  \n",
       "4  14.2M  15.3K    14.5K  "
      ]
     },
     "execution_count": 39,
     "metadata": {},
     "output_type": "execute_result"
    }
   ],
   "source": [
    "# # Verificar el DataFrame de TikTok resultante\n",
    "df_Tik_tok.head()"
   ]
  },
  {
   "cell_type": "code",
   "execution_count": 40,
   "metadata": {
    "tags": []
   },
   "outputs": [
    {
     "data": {
      "text/plain": [
       "Month                    0\n",
       "Username                 1\n",
       "Name                     4\n",
       "Folowers o Suscribers    1\n",
       "Likes                    1\n",
       "Views                    1\n",
       "Shares                   1\n",
       "Comments                 1\n",
       "dtype: int64"
      ]
     },
     "execution_count": 40,
     "metadata": {},
     "output_type": "execute_result"
    }
   ],
   "source": [
    "df_Tik_tok.isna().sum()"
   ]
  },
  {
   "cell_type": "code",
   "execution_count": 41,
   "metadata": {
    "tags": []
   },
   "outputs": [
    {
     "data": {
      "text/html": [
       "<div>\n",
       "<style scoped>\n",
       "    .dataframe tbody tr th:only-of-type {\n",
       "        vertical-align: middle;\n",
       "    }\n",
       "\n",
       "    .dataframe tbody tr th {\n",
       "        vertical-align: top;\n",
       "    }\n",
       "\n",
       "    .dataframe thead th {\n",
       "        text-align: right;\n",
       "    }\n",
       "</style>\n",
       "<table border=\"1\" class=\"dataframe\">\n",
       "  <thead>\n",
       "    <tr style=\"text-align: right;\">\n",
       "      <th></th>\n",
       "      <th>Month</th>\n",
       "      <th>Username</th>\n",
       "      <th>Name</th>\n",
       "      <th>Folowers o Suscribers</th>\n",
       "      <th>Likes</th>\n",
       "      <th>Views</th>\n",
       "      <th>Shares</th>\n",
       "      <th>Comments</th>\n",
       "    </tr>\n",
       "  </thead>\n",
       "  <tbody>\n",
       "    <tr>\n",
       "      <th>0</th>\n",
       "      <td>September</td>\n",
       "      <td>jypestraykids</td>\n",
       "      <td>Stray Kids</td>\n",
       "      <td>13.8M</td>\n",
       "      <td>2.3M</td>\n",
       "      <td>6.4M</td>\n",
       "      <td>34.2K</td>\n",
       "      <td>50.2K</td>\n",
       "    </tr>\n",
       "    <tr>\n",
       "      <th>1</th>\n",
       "      <td>September</td>\n",
       "      <td>khaby.lame</td>\n",
       "      <td>Khabane lame</td>\n",
       "      <td>149.2M</td>\n",
       "      <td>2.3M</td>\n",
       "      <td>17.3M</td>\n",
       "      <td>8.7K</td>\n",
       "      <td>15.2K</td>\n",
       "    </tr>\n",
       "    <tr>\n",
       "      <th>2</th>\n",
       "      <td>September</td>\n",
       "      <td>scarlettsspam2</td>\n",
       "      <td>scarlett</td>\n",
       "      <td>2.1M</td>\n",
       "      <td>845.8K</td>\n",
       "      <td>17.9M</td>\n",
       "      <td>6.3K</td>\n",
       "      <td>53.9K</td>\n",
       "    </tr>\n",
       "    <tr>\n",
       "      <th>3</th>\n",
       "      <td>September</td>\n",
       "      <td>addisonre</td>\n",
       "      <td>Addison Rae</td>\n",
       "      <td>88.7M</td>\n",
       "      <td>906.6K</td>\n",
       "      <td>22M</td>\n",
       "      <td>26.2K</td>\n",
       "      <td>7.6K</td>\n",
       "    </tr>\n",
       "    <tr>\n",
       "      <th>4</th>\n",
       "      <td>September</td>\n",
       "      <td>belindatok</td>\n",
       "      <td>Belinda</td>\n",
       "      <td>4.8M</td>\n",
       "      <td>1.5M</td>\n",
       "      <td>14.2M</td>\n",
       "      <td>15.3K</td>\n",
       "      <td>14.5K</td>\n",
       "    </tr>\n",
       "    <tr>\n",
       "      <th>...</th>\n",
       "      <td>...</td>\n",
       "      <td>...</td>\n",
       "      <td>...</td>\n",
       "      <td>...</td>\n",
       "      <td>...</td>\n",
       "      <td>...</td>\n",
       "      <td>...</td>\n",
       "      <td>...</td>\n",
       "    </tr>\n",
       "    <tr>\n",
       "      <th>4003</th>\n",
       "      <td>June</td>\n",
       "      <td>zeth</td>\n",
       "      <td>Zeth</td>\n",
       "      <td>12.5M</td>\n",
       "      <td>1.3M</td>\n",
       "      <td>6.7M</td>\n",
       "      <td>7.7K</td>\n",
       "      <td>3K</td>\n",
       "    </tr>\n",
       "    <tr>\n",
       "      <th>4004</th>\n",
       "      <td>June</td>\n",
       "      <td>zodiac.boyfriend</td>\n",
       "      <td>Zodiac Boyfriend🪐🔮</td>\n",
       "      <td>1.8M</td>\n",
       "      <td>272.7K</td>\n",
       "      <td>1.9M</td>\n",
       "      <td>3.6K</td>\n",
       "      <td>6.8K</td>\n",
       "    </tr>\n",
       "    <tr>\n",
       "      <th>4005</th>\n",
       "      <td>June</td>\n",
       "      <td>zowloficial</td>\n",
       "      <td>Lord Zowl</td>\n",
       "      <td>1.1M</td>\n",
       "      <td>178.1K</td>\n",
       "      <td>1.4M</td>\n",
       "      <td>2.1K</td>\n",
       "      <td>1.4K</td>\n",
       "    </tr>\n",
       "    <tr>\n",
       "      <th>4006</th>\n",
       "      <td>June</td>\n",
       "      <td>zrt.foot</td>\n",
       "      <td>ZR7</td>\n",
       "      <td>100.8K</td>\n",
       "      <td>218K</td>\n",
       "      <td>2.3M</td>\n",
       "      <td>6.4K</td>\n",
       "      <td>1.7K</td>\n",
       "    </tr>\n",
       "    <tr>\n",
       "      <th>4007</th>\n",
       "      <td>June</td>\n",
       "      <td>zubarefff</td>\n",
       "      <td>Зубарев Александр</td>\n",
       "      <td>4M</td>\n",
       "      <td>249K</td>\n",
       "      <td>1.9M</td>\n",
       "      <td>1.6K</td>\n",
       "      <td>1.3K</td>\n",
       "    </tr>\n",
       "  </tbody>\n",
       "</table>\n",
       "<p>3976 rows × 8 columns</p>\n",
       "</div>"
      ],
      "text/plain": [
       "          Month          Username                Name Folowers o Suscribers  \\\n",
       "0     September     jypestraykids          Stray Kids                 13.8M   \n",
       "1     September        khaby.lame        Khabane lame                149.2M   \n",
       "2     September    scarlettsspam2            scarlett                  2.1M   \n",
       "3     September         addisonre         Addison Rae                 88.7M   \n",
       "4     September        belindatok             Belinda                  4.8M   \n",
       "...         ...               ...                 ...                   ...   \n",
       "4003       June              zeth                Zeth                 12.5M   \n",
       "4004       June  zodiac.boyfriend  Zodiac Boyfriend🪐🔮                  1.8M   \n",
       "4005       June       zowloficial           Lord Zowl                  1.1M   \n",
       "4006       June          zrt.foot                 ZR7                100.8K   \n",
       "4007       June         zubarefff   Зубарев Александр                    4M   \n",
       "\n",
       "       Likes  Views Shares Comments  \n",
       "0       2.3M   6.4M  34.2K    50.2K  \n",
       "1       2.3M  17.3M   8.7K    15.2K  \n",
       "2     845.8K  17.9M   6.3K    53.9K  \n",
       "3     906.6K    22M  26.2K     7.6K  \n",
       "4       1.5M  14.2M  15.3K    14.5K  \n",
       "...      ...    ...    ...      ...  \n",
       "4003    1.3M   6.7M   7.7K       3K  \n",
       "4004  272.7K   1.9M   3.6K     6.8K  \n",
       "4005  178.1K   1.4M   2.1K     1.4K  \n",
       "4006    218K   2.3M   6.4K     1.7K  \n",
       "4007    249K   1.9M   1.6K     1.3K  \n",
       "\n",
       "[3976 rows x 8 columns]"
      ]
     },
     "execution_count": 41,
     "metadata": {},
     "output_type": "execute_result"
    }
   ],
   "source": [
    "df_Tik_tok.drop_duplicates()"
   ]
  },
  {
   "cell_type": "code",
   "execution_count": 42,
   "metadata": {
    "tags": []
   },
   "outputs": [],
   "source": [
    "df_Tik_tok=df_Tik_tok.dropna()"
   ]
  },
  {
   "cell_type": "code",
   "execution_count": 43,
   "metadata": {
    "tags": []
   },
   "outputs": [],
   "source": [
    "df_Tik_tok = df_Tik_tok.drop_duplicates()"
   ]
  },
  {
   "cell_type": "code",
   "execution_count": 44,
   "metadata": {
    "tags": []
   },
   "outputs": [
    {
     "data": {
      "text/plain": [
       "(3972, 8)"
      ]
     },
     "execution_count": 44,
     "metadata": {},
     "output_type": "execute_result"
    }
   ],
   "source": [
    "df_Tik_tok.shape"
   ]
  },
  {
   "cell_type": "markdown",
   "metadata": {},
   "source": [
    "### Youtube"
   ]
  },
  {
   "cell_type": "code",
   "execution_count": 10,
   "metadata": {
    "tags": []
   },
   "outputs": [
    {
     "data": {
      "text/plain": [
       "['/home/melinkova/PCD/Parcial_2/CienciaDatosLasChicasSuperpoderosas/Proyectos/Unidad2/socialnetworks/social media influencers-youtube june 2022 - june 2022.csv',\n",
       " '/home/melinkova/PCD/Parcial_2/CienciaDatosLasChicasSuperpoderosas/Proyectos/Unidad2/socialnetworks/social media influencers-youtube - --nov 2022.csv',\n",
       " '/home/melinkova/PCD/Parcial_2/CienciaDatosLasChicasSuperpoderosas/Proyectos/Unidad2/socialnetworks/social media influencers-YOUTUBE - --DEC 2022.csv',\n",
       " '/home/melinkova/PCD/Parcial_2/CienciaDatosLasChicasSuperpoderosas/Proyectos/Unidad2/socialnetworks/social media influencers - Youtube sep-2022.csv']"
      ]
     },
     "execution_count": 10,
     "metadata": {},
     "output_type": "execute_result"
    }
   ],
   "source": [
    "Youtube"
   ]
  },
  {
   "cell_type": "code",
   "execution_count": 11,
   "metadata": {
    "tags": []
   },
   "outputs": [
    {
     "data": {
      "text/html": [
       "<div>\n",
       "<style scoped>\n",
       "    .dataframe tbody tr th:only-of-type {\n",
       "        vertical-align: middle;\n",
       "    }\n",
       "\n",
       "    .dataframe tbody tr th {\n",
       "        vertical-align: top;\n",
       "    }\n",
       "\n",
       "    .dataframe thead th {\n",
       "        text-align: right;\n",
       "    }\n",
       "</style>\n",
       "<table border=\"1\" class=\"dataframe\">\n",
       "  <thead>\n",
       "    <tr style=\"text-align: right;\">\n",
       "      <th></th>\n",
       "      <th>channel name</th>\n",
       "      <th>youTuber</th>\n",
       "      <th>Category</th>\n",
       "      <th>Category_2</th>\n",
       "      <th>Subscribers count</th>\n",
       "      <th>Country</th>\n",
       "      <th>Views avg.</th>\n",
       "      <th>Likes avg</th>\n",
       "      <th>Comments avg.</th>\n",
       "      <th>Month</th>\n",
       "    </tr>\n",
       "  </thead>\n",
       "  <tbody>\n",
       "    <tr>\n",
       "      <th>0</th>\n",
       "      <td>juptube</td>\n",
       "      <td>Galinha Pintadinha</td>\n",
       "      <td>Music &amp; Dance</td>\n",
       "      <td>NaN</td>\n",
       "      <td>30.5M</td>\n",
       "      <td>-</td>\n",
       "      <td>0</td>\n",
       "      <td>N/A'</td>\n",
       "      <td>N/A'</td>\n",
       "      <td>December</td>\n",
       "    </tr>\n",
       "    <tr>\n",
       "      <th>1</th>\n",
       "      <td>Baby Big Mouth Kids - Sing, Dance, Explore</td>\n",
       "      <td>Baby Big Mouth Kids - Sing, Dance, Explore</td>\n",
       "      <td>Animation</td>\n",
       "      <td>Toys</td>\n",
       "      <td>10.6M</td>\n",
       "      <td>-</td>\n",
       "      <td>348.5</td>\n",
       "      <td>3</td>\n",
       "      <td>N/A'</td>\n",
       "      <td>December</td>\n",
       "    </tr>\n",
       "  </tbody>\n",
       "</table>\n",
       "</div>"
      ],
      "text/plain": [
       "                                 channel name   \n",
       "0                                     juptube  \\\n",
       "1  Baby Big Mouth Kids - Sing, Dance, Explore   \n",
       "\n",
       "                                     youTuber       Category Category_2   \n",
       "0                          Galinha Pintadinha  Music & Dance        NaN  \\\n",
       "1  Baby Big Mouth Kids - Sing, Dance, Explore      Animation       Toys   \n",
       "\n",
       "  Subscribers count Country Views avg. Likes avg Comments avg.     Month  \n",
       "0             30.5M       -          0      N/A'          N/A'  December  \n",
       "1             10.6M       -      348.5         3          N/A'  December  "
      ]
     },
     "execution_count": 11,
     "metadata": {},
     "output_type": "execute_result"
    }
   ],
   "source": [
    "# Archivo de Youtube - diciembre\n",
    "df_Y_Dec = pd.read_csv(Youtube[0])\n",
    "df_Y_Dec['Month'] = 'December'\n",
    "df_Y_Dec.head(2)"
   ]
  },
  {
   "cell_type": "code",
   "execution_count": 12,
   "metadata": {
    "tags": []
   },
   "outputs": [
    {
     "data": {
      "text/html": [
       "<div>\n",
       "<style scoped>\n",
       "    .dataframe tbody tr th:only-of-type {\n",
       "        vertical-align: middle;\n",
       "    }\n",
       "\n",
       "    .dataframe tbody tr th {\n",
       "        vertical-align: top;\n",
       "    }\n",
       "\n",
       "    .dataframe thead th {\n",
       "        text-align: right;\n",
       "    }\n",
       "</style>\n",
       "<table border=\"1\" class=\"dataframe\">\n",
       "  <thead>\n",
       "    <tr style=\"text-align: right;\">\n",
       "      <th></th>\n",
       "      <th>s.no</th>\n",
       "      <th>Youtube channel</th>\n",
       "      <th>youtuber name</th>\n",
       "      <th>Category</th>\n",
       "      <th>Followers</th>\n",
       "      <th>Country</th>\n",
       "      <th>\\nViews (Avg.)</th>\n",
       "      <th>Likes (Avg.)</th>\n",
       "      <th>Comments (Avg.)</th>\n",
       "      <th>Category-2</th>\n",
       "      <th>Month</th>\n",
       "    </tr>\n",
       "  </thead>\n",
       "  <tbody>\n",
       "    <tr>\n",
       "      <th>0</th>\n",
       "      <td>1</td>\n",
       "      <td>tseries</td>\n",
       "      <td>T-Series</td>\n",
       "      <td>Music &amp; Dance</td>\n",
       "      <td>229.5M</td>\n",
       "      <td>India</td>\n",
       "      <td>103.8K</td>\n",
       "      <td>2.8K</td>\n",
       "      <td>158</td>\n",
       "      <td>NaN</td>\n",
       "      <td>November</td>\n",
       "    </tr>\n",
       "    <tr>\n",
       "      <th>1</th>\n",
       "      <td>2</td>\n",
       "      <td>checkgate</td>\n",
       "      <td>Cocomelon - Nursery Rhymes</td>\n",
       "      <td>Education</td>\n",
       "      <td>146.6M</td>\n",
       "      <td>NaN</td>\n",
       "      <td>9.5M</td>\n",
       "      <td>48.3K</td>\n",
       "      <td>0</td>\n",
       "      <td>NaN</td>\n",
       "      <td>November</td>\n",
       "    </tr>\n",
       "  </tbody>\n",
       "</table>\n",
       "</div>"
      ],
      "text/plain": [
       "   s.no Youtube channel               youtuber name       Category Followers   \n",
       "0     1         tseries                    T-Series  Music & Dance    229.5M  \\\n",
       "1     2       checkgate  Cocomelon - Nursery Rhymes      Education    146.6M   \n",
       "\n",
       "  Country \\nViews (Avg.) Likes (Avg.) Comments (Avg.) Category-2     Month  \n",
       "0   India         103.8K         2.8K             158        NaN  November  \n",
       "1     NaN           9.5M        48.3K               0        NaN  November  "
      ]
     },
     "execution_count": 12,
     "metadata": {},
     "output_type": "execute_result"
    }
   ],
   "source": [
    "# Archivo de Youtube - noviembre\n",
    "df_Y_Nov = pd.read_csv(Youtube[1])\n",
    "df_Y_Nov['Month'] = 'November'\n",
    "df_Y_Nov.head(2)"
   ]
  },
  {
   "cell_type": "code",
   "execution_count": 13,
   "metadata": {
    "tags": []
   },
   "outputs": [
    {
     "data": {
      "text/html": [
       "<div>\n",
       "<style scoped>\n",
       "    .dataframe tbody tr th:only-of-type {\n",
       "        vertical-align: middle;\n",
       "    }\n",
       "\n",
       "    .dataframe tbody tr th {\n",
       "        vertical-align: top;\n",
       "    }\n",
       "\n",
       "    .dataframe thead th {\n",
       "        text-align: right;\n",
       "    }\n",
       "</style>\n",
       "<table border=\"1\" class=\"dataframe\">\n",
       "  <thead>\n",
       "    <tr style=\"text-align: right;\">\n",
       "      <th></th>\n",
       "      <th>s.no</th>\n",
       "      <th>Youtube channel</th>\n",
       "      <th>youtuber name</th>\n",
       "      <th>Category</th>\n",
       "      <th>Followers</th>\n",
       "      <th>Country</th>\n",
       "      <th>\\nViews (Avg.)</th>\n",
       "      <th>Likes (Avg.)</th>\n",
       "      <th>Comments (Avg.)</th>\n",
       "      <th>Category-2</th>\n",
       "      <th>Month</th>\n",
       "    </tr>\n",
       "  </thead>\n",
       "  <tbody>\n",
       "    <tr>\n",
       "      <th>0</th>\n",
       "      <td>1</td>\n",
       "      <td>tseries</td>\n",
       "      <td>T-Series</td>\n",
       "      <td>Music &amp; Dance</td>\n",
       "      <td>229.5M</td>\n",
       "      <td>India</td>\n",
       "      <td>103.8K</td>\n",
       "      <td>2.8K</td>\n",
       "      <td>158</td>\n",
       "      <td>NaN</td>\n",
       "      <td>September</td>\n",
       "    </tr>\n",
       "    <tr>\n",
       "      <th>1</th>\n",
       "      <td>2</td>\n",
       "      <td>setindia</td>\n",
       "      <td>SET India</td>\n",
       "      <td>NaN</td>\n",
       "      <td>147.2M</td>\n",
       "      <td>India</td>\n",
       "      <td>0</td>\n",
       "      <td>0</td>\n",
       "      <td>0</td>\n",
       "      <td>NaN</td>\n",
       "      <td>September</td>\n",
       "    </tr>\n",
       "  </tbody>\n",
       "</table>\n",
       "</div>"
      ],
      "text/plain": [
       "   s.no Youtube channel youtuber name       Category Followers Country   \n",
       "0     1         tseries      T-Series  Music & Dance    229.5M   India  \\\n",
       "1     2        setindia     SET India            NaN    147.2M   India   \n",
       "\n",
       "  \\nViews (Avg.) Likes (Avg.) Comments (Avg.) Category-2      Month  \n",
       "0         103.8K         2.8K             158        NaN  September  \n",
       "1              0            0               0        NaN  September  "
      ]
     },
     "execution_count": 13,
     "metadata": {},
     "output_type": "execute_result"
    }
   ],
   "source": [
    "# Archivo de Youtube - septiembre\n",
    "df_Y_Sep = pd.read_csv(Youtube[2])\n",
    "df_Y_Sep['Month'] = 'September'\n",
    "df_Y_Sep.head(2)"
   ]
  },
  {
   "cell_type": "code",
   "execution_count": 14,
   "metadata": {
    "tags": []
   },
   "outputs": [
    {
     "data": {
      "text/html": [
       "<div>\n",
       "<style scoped>\n",
       "    .dataframe tbody tr th:only-of-type {\n",
       "        vertical-align: middle;\n",
       "    }\n",
       "\n",
       "    .dataframe tbody tr th {\n",
       "        vertical-align: top;\n",
       "    }\n",
       "\n",
       "    .dataframe thead th {\n",
       "        text-align: right;\n",
       "    }\n",
       "</style>\n",
       "<table border=\"1\" class=\"dataframe\">\n",
       "  <thead>\n",
       "    <tr style=\"text-align: right;\">\n",
       "      <th></th>\n",
       "      <th>S.no</th>\n",
       "      <th>Name</th>\n",
       "      <th>Youtuber</th>\n",
       "      <th>Country</th>\n",
       "      <th>Subscribers</th>\n",
       "      <th>Category_2</th>\n",
       "      <th>Avg. views\\r\\n</th>\n",
       "      <th>Avg. likes</th>\n",
       "      <th>Avg Comments</th>\n",
       "      <th>Category_3</th>\n",
       "      <th>Month</th>\n",
       "    </tr>\n",
       "  </thead>\n",
       "  <tbody>\n",
       "    <tr>\n",
       "      <th>0</th>\n",
       "      <td>1</td>\n",
       "      <td>T-Series</td>\n",
       "      <td>tseries</td>\n",
       "      <td>India</td>\n",
       "      <td>224.4M</td>\n",
       "      <td>Music &amp; Dance</td>\n",
       "      <td>141.5K</td>\n",
       "      <td>4.6K</td>\n",
       "      <td>125</td>\n",
       "      <td>NaN</td>\n",
       "      <td>June</td>\n",
       "    </tr>\n",
       "    <tr>\n",
       "      <th>1</th>\n",
       "      <td>2</td>\n",
       "      <td>Cocomelon - Nursery Rhymes</td>\n",
       "      <td>checkgate</td>\n",
       "      <td>NaN</td>\n",
       "      <td>142.5M</td>\n",
       "      <td>Education</td>\n",
       "      <td>12.5M</td>\n",
       "      <td>64.8K</td>\n",
       "      <td>0</td>\n",
       "      <td>NaN</td>\n",
       "      <td>June</td>\n",
       "    </tr>\n",
       "  </tbody>\n",
       "</table>\n",
       "</div>"
      ],
      "text/plain": [
       "   S.no                        Name   Youtuber Country  Subscribers   \n",
       "0     1                    T-Series    tseries   India       224.4M  \\\n",
       "1     2  Cocomelon - Nursery Rhymes  checkgate     NaN       142.5M   \n",
       "\n",
       "      Category_2 Avg. views\\r\\n Avg. likes Avg Comments Category_3 Month  \n",
       "0  Music & Dance         141.5K       4.6K          125        NaN  June  \n",
       "1      Education          12.5M      64.8K            0        NaN  June  "
      ]
     },
     "execution_count": 14,
     "metadata": {},
     "output_type": "execute_result"
    }
   ],
   "source": [
    "# Archivo de Youtube - junio\n",
    "df_Y_June = pd.read_csv(Youtube[3])\n",
    "df_Y_June['Month'] = 'June'\n",
    "df_Y_June.head(2)"
   ]
  },
  {
   "cell_type": "code",
   "execution_count": 15,
   "metadata": {
    "tags": []
   },
   "outputs": [
    {
     "data": {
      "text/html": [
       "<div>\n",
       "<style scoped>\n",
       "    .dataframe tbody tr th:only-of-type {\n",
       "        vertical-align: middle;\n",
       "    }\n",
       "\n",
       "    .dataframe tbody tr th {\n",
       "        vertical-align: top;\n",
       "    }\n",
       "\n",
       "    .dataframe thead th {\n",
       "        text-align: right;\n",
       "    }\n",
       "</style>\n",
       "<table border=\"1\" class=\"dataframe\">\n",
       "  <thead>\n",
       "    <tr style=\"text-align: right;\">\n",
       "      <th></th>\n",
       "      <th>S.no</th>\n",
       "      <th>Name</th>\n",
       "      <th>Youtuber</th>\n",
       "      <th>Country</th>\n",
       "      <th>Subscribers</th>\n",
       "      <th>Category_2</th>\n",
       "      <th>Avg. views\\r\\n</th>\n",
       "      <th>Avg. likes</th>\n",
       "      <th>Avg Comments</th>\n",
       "      <th>Category_3</th>\n",
       "      <th>...</th>\n",
       "      <th>\\nViews (Avg.)</th>\n",
       "      <th>Likes (Avg.)</th>\n",
       "      <th>Comments (Avg.)</th>\n",
       "      <th>Category-2</th>\n",
       "      <th>channel name</th>\n",
       "      <th>youTuber</th>\n",
       "      <th>Subscribers count</th>\n",
       "      <th>Views avg.</th>\n",
       "      <th>Likes avg</th>\n",
       "      <th>Comments avg.</th>\n",
       "    </tr>\n",
       "  </thead>\n",
       "  <tbody>\n",
       "    <tr>\n",
       "      <th>0</th>\n",
       "      <td>1.0</td>\n",
       "      <td>T-Series</td>\n",
       "      <td>tseries</td>\n",
       "      <td>India</td>\n",
       "      <td>224.4M</td>\n",
       "      <td>Music &amp; Dance</td>\n",
       "      <td>141.5K</td>\n",
       "      <td>4.6K</td>\n",
       "      <td>125</td>\n",
       "      <td>NaN</td>\n",
       "      <td>...</td>\n",
       "      <td>NaN</td>\n",
       "      <td>NaN</td>\n",
       "      <td>NaN</td>\n",
       "      <td>NaN</td>\n",
       "      <td>NaN</td>\n",
       "      <td>NaN</td>\n",
       "      <td>NaN</td>\n",
       "      <td>NaN</td>\n",
       "      <td>NaN</td>\n",
       "      <td>NaN</td>\n",
       "    </tr>\n",
       "    <tr>\n",
       "      <th>1</th>\n",
       "      <td>2.0</td>\n",
       "      <td>Cocomelon - Nursery Rhymes</td>\n",
       "      <td>checkgate</td>\n",
       "      <td>NaN</td>\n",
       "      <td>142.5M</td>\n",
       "      <td>Education</td>\n",
       "      <td>12.5M</td>\n",
       "      <td>64.8K</td>\n",
       "      <td>0</td>\n",
       "      <td>NaN</td>\n",
       "      <td>...</td>\n",
       "      <td>NaN</td>\n",
       "      <td>NaN</td>\n",
       "      <td>NaN</td>\n",
       "      <td>NaN</td>\n",
       "      <td>NaN</td>\n",
       "      <td>NaN</td>\n",
       "      <td>NaN</td>\n",
       "      <td>NaN</td>\n",
       "      <td>NaN</td>\n",
       "      <td>NaN</td>\n",
       "    </tr>\n",
       "    <tr>\n",
       "      <th>2</th>\n",
       "      <td>3.0</td>\n",
       "      <td>PewDiePie</td>\n",
       "      <td>PewDiePie</td>\n",
       "      <td>United States</td>\n",
       "      <td>111.6M</td>\n",
       "      <td>Animation</td>\n",
       "      <td>1.9M</td>\n",
       "      <td>130.5K</td>\n",
       "      <td>7.4K</td>\n",
       "      <td>NaN</td>\n",
       "      <td>...</td>\n",
       "      <td>NaN</td>\n",
       "      <td>NaN</td>\n",
       "      <td>NaN</td>\n",
       "      <td>NaN</td>\n",
       "      <td>NaN</td>\n",
       "      <td>NaN</td>\n",
       "      <td>NaN</td>\n",
       "      <td>NaN</td>\n",
       "      <td>NaN</td>\n",
       "      <td>NaN</td>\n",
       "    </tr>\n",
       "    <tr>\n",
       "      <th>3</th>\n",
       "      <td>4.0</td>\n",
       "      <td>MrBeast</td>\n",
       "      <td>MrBeast6000</td>\n",
       "      <td>United States</td>\n",
       "      <td>104.1M</td>\n",
       "      <td>Video games</td>\n",
       "      <td>44.8M</td>\n",
       "      <td>2.2M</td>\n",
       "      <td>70.9K</td>\n",
       "      <td>Humor</td>\n",
       "      <td>...</td>\n",
       "      <td>NaN</td>\n",
       "      <td>NaN</td>\n",
       "      <td>NaN</td>\n",
       "      <td>NaN</td>\n",
       "      <td>NaN</td>\n",
       "      <td>NaN</td>\n",
       "      <td>NaN</td>\n",
       "      <td>NaN</td>\n",
       "      <td>NaN</td>\n",
       "      <td>NaN</td>\n",
       "    </tr>\n",
       "    <tr>\n",
       "      <th>4</th>\n",
       "      <td>5.0</td>\n",
       "      <td>✿ Kids Diana Show</td>\n",
       "      <td>✿ Kids Diana Show</td>\n",
       "      <td>NaN</td>\n",
       "      <td>100.5M</td>\n",
       "      <td>Animation</td>\n",
       "      <td>6.9M</td>\n",
       "      <td>34.8K</td>\n",
       "      <td>0</td>\n",
       "      <td>Toys</td>\n",
       "      <td>...</td>\n",
       "      <td>NaN</td>\n",
       "      <td>NaN</td>\n",
       "      <td>NaN</td>\n",
       "      <td>NaN</td>\n",
       "      <td>NaN</td>\n",
       "      <td>NaN</td>\n",
       "      <td>NaN</td>\n",
       "      <td>NaN</td>\n",
       "      <td>NaN</td>\n",
       "      <td>NaN</td>\n",
       "    </tr>\n",
       "  </tbody>\n",
       "</table>\n",
       "<p>5 rows × 26 columns</p>\n",
       "</div>"
      ],
      "text/plain": [
       "   S.no                        Name           Youtuber        Country   \n",
       "0   1.0                    T-Series            tseries          India  \\\n",
       "1   2.0  Cocomelon - Nursery Rhymes          checkgate            NaN   \n",
       "2   3.0                   PewDiePie          PewDiePie  United States   \n",
       "3   4.0                     MrBeast        MrBeast6000  United States   \n",
       "4   5.0           ✿ Kids Diana Show  ✿ Kids Diana Show            NaN   \n",
       "\n",
       "   Subscribers     Category_2 Avg. views\\r\\n Avg. likes Avg Comments   \n",
       "0       224.4M  Music & Dance         141.5K       4.6K          125  \\\n",
       "1       142.5M      Education          12.5M      64.8K            0   \n",
       "2       111.6M      Animation           1.9M     130.5K         7.4K   \n",
       "3       104.1M    Video games          44.8M       2.2M        70.9K   \n",
       "4       100.5M      Animation           6.9M      34.8K            0   \n",
       "\n",
       "  Category_3  ... \\nViews (Avg.)  Likes (Avg.) Comments (Avg.) Category-2   \n",
       "0        NaN  ...            NaN           NaN             NaN        NaN  \\\n",
       "1        NaN  ...            NaN           NaN             NaN        NaN   \n",
       "2        NaN  ...            NaN           NaN             NaN        NaN   \n",
       "3      Humor  ...            NaN           NaN             NaN        NaN   \n",
       "4       Toys  ...            NaN           NaN             NaN        NaN   \n",
       "\n",
       "  channel name youTuber Subscribers count Views avg. Likes avg Comments avg.  \n",
       "0          NaN      NaN               NaN        NaN       NaN           NaN  \n",
       "1          NaN      NaN               NaN        NaN       NaN           NaN  \n",
       "2          NaN      NaN               NaN        NaN       NaN           NaN  \n",
       "3          NaN      NaN               NaN        NaN       NaN           NaN  \n",
       "4          NaN      NaN               NaN        NaN       NaN           NaN  \n",
       "\n",
       "[5 rows x 26 columns]"
      ]
     },
     "execution_count": 15,
     "metadata": {},
     "output_type": "execute_result"
    }
   ],
   "source": [
    "# Concatenar los DataFrames de Youtube en un solo DataFrame\n",
    "df_Youtube = pd.concat([df_Y_June, df_Y_Sep, df_Y_Nov, df_Y_Dec], axis=0, ignore_index=True)\n",
    "\n",
    "# Verificar el DataFrame resultante\n",
    "df_Youtube.head()"
   ]
  },
  {
   "cell_type": "code",
   "execution_count": 16,
   "metadata": {
    "tags": []
   },
   "outputs": [],
   "source": [
    "# Limpieza de YouTube\n",
    "\n",
    "# Username\n",
    "df_Youtube['Username'] = df_Youtube['Youtuber'].combine_first(df_Youtube['channel name']).combine_first(df_Youtube['Youtube channel'])"
   ]
  },
  {
   "cell_type": "code",
   "execution_count": 17,
   "metadata": {
    "tags": []
   },
   "outputs": [],
   "source": [
    "df_Youtube.drop(['Youtuber', 'channel name','Youtube channel'],axis=1,inplace=True)"
   ]
  },
  {
   "cell_type": "code",
   "execution_count": 18,
   "metadata": {
    "tags": []
   },
   "outputs": [],
   "source": [
    "# Name\n",
    "df_Youtube['Name'] = df_Youtube['Name'].combine_first(df_Youtube['youTuber']).combine_first(df_Youtube['youtuber name'])"
   ]
  },
  {
   "cell_type": "code",
   "execution_count": 19,
   "metadata": {
    "tags": []
   },
   "outputs": [],
   "source": [
    "df_Youtube.drop(['youTuber','youtuber name'],axis=1,inplace=True)"
   ]
  },
  {
   "cell_type": "code",
   "execution_count": 20,
   "metadata": {
    "tags": []
   },
   "outputs": [],
   "source": [
    "# Subscribers\n",
    "df_Youtube['Subscribers'] = df_Youtube[' Subscribers'].combine_first(df_Youtube['Followers']).combine_first(df_Youtube['Subscribers count'])"
   ]
  },
  {
   "cell_type": "code",
   "execution_count": 21,
   "metadata": {
    "tags": []
   },
   "outputs": [],
   "source": [
    "df_Youtube.drop([' Subscribers', 'Followers', 'Subscribers count'],axis=1,inplace=True)"
   ]
  },
  {
   "cell_type": "code",
   "execution_count": 22,
   "metadata": {
    "tags": []
   },
   "outputs": [],
   "source": [
    "# Views\n",
    "df_Youtube['Views'] = df_Youtube['Avg. views\\r\\n'].combine_first(df_Youtube['\\nViews (Avg.)']).combine_first(df_Youtube['Views avg.'])"
   ]
  },
  {
   "cell_type": "code",
   "execution_count": 23,
   "metadata": {
    "tags": []
   },
   "outputs": [],
   "source": [
    "df_Youtube.drop(['Avg. views\\r\\n', '\\nViews (Avg.)', 'Views avg.'],axis=1,inplace=True)"
   ]
  },
  {
   "cell_type": "code",
   "execution_count": 24,
   "metadata": {
    "tags": []
   },
   "outputs": [],
   "source": [
    "# Likes\n",
    "df_Youtube['Likes'] = df_Youtube['Avg. likes'].combine_first(df_Youtube['Likes (Avg.)']).combine_first(df_Youtube['Likes avg'])"
   ]
  },
  {
   "cell_type": "code",
   "execution_count": 25,
   "metadata": {
    "tags": []
   },
   "outputs": [],
   "source": [
    "df_Youtube.drop(['Avg. likes', 'Likes (Avg.)', 'Likes avg'],axis=1,inplace=True)"
   ]
  },
  {
   "cell_type": "code",
   "execution_count": 26,
   "metadata": {
    "tags": []
   },
   "outputs": [],
   "source": [
    "# Comments\n",
    "df_Youtube['Comments'] = df_Youtube['Avg Comments'].combine_first(df_Youtube['Comments (Avg.)']).combine_first(df_Youtube['Comments avg.'])"
   ]
  },
  {
   "cell_type": "code",
   "execution_count": 27,
   "metadata": {
    "tags": []
   },
   "outputs": [],
   "source": [
    "df_Youtube.drop(['Avg Comments', 'Comments (Avg.)', 'Comments avg.'],axis=1,inplace=True)"
   ]
  },
  {
   "cell_type": "code",
   "execution_count": 28,
   "metadata": {
    "tags": []
   },
   "outputs": [],
   "source": [
    "# Category1\n",
    "df_Youtube['Category1'] = df_Youtube['Category'].combine_first(df_Youtube['Category_3'])"
   ]
  },
  {
   "cell_type": "code",
   "execution_count": 29,
   "metadata": {
    "tags": []
   },
   "outputs": [],
   "source": [
    "df_Youtube.drop(['Category', 'Category_3'],axis=1,inplace=True)"
   ]
  },
  {
   "cell_type": "code",
   "execution_count": 30,
   "metadata": {
    "tags": []
   },
   "outputs": [],
   "source": [
    "# Category2\n",
    "df_Youtube['Category2'] = df_Youtube['Category_2'].combine_first(df_Youtube['Category-2'])"
   ]
  },
  {
   "cell_type": "code",
   "execution_count": 31,
   "metadata": {
    "tags": []
   },
   "outputs": [],
   "source": [
    "df_Youtube.drop(['Category_2', 'Category-2'],axis=1,inplace=True)"
   ]
  },
  {
   "cell_type": "code",
   "execution_count": 32,
   "metadata": {
    "tags": []
   },
   "outputs": [],
   "source": [
    "# Eliminacion de columnas que no queremos\n",
    "df_Youtube.drop(['s.no', 'S.no'],axis=1,inplace=True)"
   ]
  },
  {
   "cell_type": "code",
   "execution_count": 33,
   "metadata": {
    "tags": []
   },
   "outputs": [
    {
     "data": {
      "text/html": [
       "<div>\n",
       "<style scoped>\n",
       "    .dataframe tbody tr th:only-of-type {\n",
       "        vertical-align: middle;\n",
       "    }\n",
       "\n",
       "    .dataframe tbody tr th {\n",
       "        vertical-align: top;\n",
       "    }\n",
       "\n",
       "    .dataframe thead th {\n",
       "        text-align: right;\n",
       "    }\n",
       "</style>\n",
       "<table border=\"1\" class=\"dataframe\">\n",
       "  <thead>\n",
       "    <tr style=\"text-align: right;\">\n",
       "      <th></th>\n",
       "      <th>Name</th>\n",
       "      <th>Country</th>\n",
       "      <th>Month</th>\n",
       "      <th>Username</th>\n",
       "      <th>Subscribers</th>\n",
       "      <th>Views</th>\n",
       "      <th>Likes</th>\n",
       "      <th>Comments</th>\n",
       "      <th>Category1</th>\n",
       "      <th>Category2</th>\n",
       "    </tr>\n",
       "  </thead>\n",
       "  <tbody>\n",
       "    <tr>\n",
       "      <th>0</th>\n",
       "      <td>T-Series</td>\n",
       "      <td>India</td>\n",
       "      <td>June</td>\n",
       "      <td>tseries</td>\n",
       "      <td>224.4M</td>\n",
       "      <td>141.5K</td>\n",
       "      <td>4.6K</td>\n",
       "      <td>125</td>\n",
       "      <td>NaN</td>\n",
       "      <td>Music &amp; Dance</td>\n",
       "    </tr>\n",
       "    <tr>\n",
       "      <th>1</th>\n",
       "      <td>Cocomelon - Nursery Rhymes</td>\n",
       "      <td>NaN</td>\n",
       "      <td>June</td>\n",
       "      <td>checkgate</td>\n",
       "      <td>142.5M</td>\n",
       "      <td>12.5M</td>\n",
       "      <td>64.8K</td>\n",
       "      <td>0</td>\n",
       "      <td>NaN</td>\n",
       "      <td>Education</td>\n",
       "    </tr>\n",
       "    <tr>\n",
       "      <th>2</th>\n",
       "      <td>PewDiePie</td>\n",
       "      <td>United States</td>\n",
       "      <td>June</td>\n",
       "      <td>PewDiePie</td>\n",
       "      <td>111.6M</td>\n",
       "      <td>1.9M</td>\n",
       "      <td>130.5K</td>\n",
       "      <td>7.4K</td>\n",
       "      <td>NaN</td>\n",
       "      <td>Animation</td>\n",
       "    </tr>\n",
       "    <tr>\n",
       "      <th>3</th>\n",
       "      <td>MrBeast</td>\n",
       "      <td>United States</td>\n",
       "      <td>June</td>\n",
       "      <td>MrBeast6000</td>\n",
       "      <td>104.1M</td>\n",
       "      <td>44.8M</td>\n",
       "      <td>2.2M</td>\n",
       "      <td>70.9K</td>\n",
       "      <td>Humor</td>\n",
       "      <td>Video games</td>\n",
       "    </tr>\n",
       "    <tr>\n",
       "      <th>4</th>\n",
       "      <td>✿ Kids Diana Show</td>\n",
       "      <td>NaN</td>\n",
       "      <td>June</td>\n",
       "      <td>✿ Kids Diana Show</td>\n",
       "      <td>100.5M</td>\n",
       "      <td>6.9M</td>\n",
       "      <td>34.8K</td>\n",
       "      <td>0</td>\n",
       "      <td>Toys</td>\n",
       "      <td>Animation</td>\n",
       "    </tr>\n",
       "    <tr>\n",
       "      <th>...</th>\n",
       "      <td>...</td>\n",
       "      <td>...</td>\n",
       "      <td>...</td>\n",
       "      <td>...</td>\n",
       "      <td>...</td>\n",
       "      <td>...</td>\n",
       "      <td>...</td>\n",
       "      <td>...</td>\n",
       "      <td>...</td>\n",
       "      <td>...</td>\n",
       "    </tr>\n",
       "    <tr>\n",
       "      <th>4066</th>\n",
       "      <td>Power Vision</td>\n",
       "      <td>United States</td>\n",
       "      <td>December</td>\n",
       "      <td>Power Vision</td>\n",
       "      <td>9.5M</td>\n",
       "      <td>137.3K</td>\n",
       "      <td>1.3K</td>\n",
       "      <td>39</td>\n",
       "      <td>NaN</td>\n",
       "      <td>NaN</td>\n",
       "    </tr>\n",
       "    <tr>\n",
       "      <th>4067</th>\n",
       "      <td>POPS MUSIC</td>\n",
       "      <td>United States</td>\n",
       "      <td>December</td>\n",
       "      <td>POPSVIETNAM</td>\n",
       "      <td>9.5M</td>\n",
       "      <td>4.6K</td>\n",
       "      <td>144</td>\n",
       "      <td>5</td>\n",
       "      <td>Music &amp; Dance</td>\n",
       "      <td>NaN</td>\n",
       "    </tr>\n",
       "    <tr>\n",
       "      <th>4068</th>\n",
       "      <td>Niki and Gabi</td>\n",
       "      <td>United States</td>\n",
       "      <td>December</td>\n",
       "      <td>Niki and Gabi</td>\n",
       "      <td>9.5M</td>\n",
       "      <td>387.6K</td>\n",
       "      <td>17.8K</td>\n",
       "      <td>516</td>\n",
       "      <td>Fashion</td>\n",
       "      <td>Humor</td>\n",
       "    </tr>\n",
       "    <tr>\n",
       "      <th>4069</th>\n",
       "      <td>Corridor</td>\n",
       "      <td>United States</td>\n",
       "      <td>December</td>\n",
       "      <td>Corridor</td>\n",
       "      <td>9.5M</td>\n",
       "      <td>1.9M</td>\n",
       "      <td>141.6K</td>\n",
       "      <td>4.7K</td>\n",
       "      <td>Animation</td>\n",
       "      <td>NaN</td>\n",
       "    </tr>\n",
       "    <tr>\n",
       "      <th>4070</th>\n",
       "      <td>JoshDub</td>\n",
       "      <td>United States</td>\n",
       "      <td>December</td>\n",
       "      <td>JoshDub</td>\n",
       "      <td>9.5M</td>\n",
       "      <td>713.6K</td>\n",
       "      <td>35.4K</td>\n",
       "      <td>1.2K</td>\n",
       "      <td>Animation</td>\n",
       "      <td>Humor</td>\n",
       "    </tr>\n",
       "  </tbody>\n",
       "</table>\n",
       "<p>4071 rows × 10 columns</p>\n",
       "</div>"
      ],
      "text/plain": [
       "                            Name        Country     Month           Username   \n",
       "0                       T-Series          India      June            tseries  \\\n",
       "1     Cocomelon - Nursery Rhymes            NaN      June          checkgate   \n",
       "2                      PewDiePie  United States      June          PewDiePie   \n",
       "3                        MrBeast  United States      June        MrBeast6000   \n",
       "4              ✿ Kids Diana Show            NaN      June  ✿ Kids Diana Show   \n",
       "...                          ...            ...       ...                ...   \n",
       "4066                Power Vision  United States  December       Power Vision   \n",
       "4067                  POPS MUSIC  United States  December        POPSVIETNAM   \n",
       "4068               Niki and Gabi  United States  December      Niki and Gabi   \n",
       "4069                    Corridor  United States  December           Corridor   \n",
       "4070                     JoshDub  United States  December            JoshDub   \n",
       "\n",
       "     Subscribers   Views   Likes Comments      Category1      Category2  \n",
       "0         224.4M  141.5K    4.6K      125            NaN  Music & Dance  \n",
       "1         142.5M   12.5M   64.8K        0            NaN      Education  \n",
       "2         111.6M    1.9M  130.5K     7.4K            NaN      Animation  \n",
       "3         104.1M   44.8M    2.2M    70.9K          Humor    Video games  \n",
       "4         100.5M    6.9M   34.8K        0           Toys      Animation  \n",
       "...          ...     ...     ...      ...            ...            ...  \n",
       "4066        9.5M  137.3K    1.3K       39            NaN            NaN  \n",
       "4067        9.5M    4.6K     144        5  Music & Dance            NaN  \n",
       "4068        9.5M  387.6K   17.8K      516        Fashion          Humor  \n",
       "4069        9.5M    1.9M  141.6K     4.7K      Animation            NaN  \n",
       "4070        9.5M  713.6K   35.4K     1.2K      Animation          Humor  \n",
       "\n",
       "[4071 rows x 10 columns]"
      ]
     },
     "execution_count": 33,
     "metadata": {},
     "output_type": "execute_result"
    }
   ],
   "source": [
    "df_Youtube"
   ]
  },
  {
   "cell_type": "code",
   "execution_count": 33,
   "metadata": {
    "tags": []
   },
   "outputs": [
    {
     "data": {
      "text/plain": [
       "Name              0\n",
       "Country         527\n",
       "Month             0\n",
       "Username          0\n",
       "Subscribers       0\n",
       "Views             0\n",
       "Likes             0\n",
       "Comments          0\n",
       "Category1      1656\n",
       "Category2      2555\n",
       "dtype: int64"
      ]
     },
     "execution_count": 33,
     "metadata": {},
     "output_type": "execute_result"
    }
   ],
   "source": [
    "df_Youtube.isna().sum()"
   ]
  },
  {
   "cell_type": "code",
   "execution_count": 34,
   "metadata": {
    "tags": []
   },
   "outputs": [],
   "source": [
    "# Seguimos con la limpieza...\n",
    "df_Youtube=df_Youtube.dropna()"
   ]
  },
  {
   "cell_type": "code",
   "execution_count": 35,
   "metadata": {
    "tags": []
   },
   "outputs": [],
   "source": [
    "df_Youtube = df_Youtube.drop_duplicates()"
   ]
  },
  {
   "cell_type": "code",
   "execution_count": 36,
   "metadata": {
    "tags": []
   },
   "outputs": [
    {
     "data": {
      "text/plain": [
       "(858, 10)"
      ]
     },
     "execution_count": 36,
     "metadata": {},
     "output_type": "execute_result"
    }
   ],
   "source": [
    "df_Youtube.shape"
   ]
  },
  {
   "cell_type": "markdown",
   "metadata": {},
   "source": [
    "## Obtención de datos de Instagram"
   ]
  },
  {
   "cell_type": "markdown",
   "metadata": {},
   "source": [
    "Lo primero es obtener el número total de cuentas (Username) distintas, se sabe que el DataFrame tiene 1168 registros"
   ]
  },
  {
   "cell_type": "code",
   "execution_count": 74,
   "metadata": {
    "tags": []
   },
   "outputs": [
    {
     "data": {
      "text/html": [
       "<div>\n",
       "<style scoped>\n",
       "    .dataframe tbody tr th:only-of-type {\n",
       "        vertical-align: middle;\n",
       "    }\n",
       "\n",
       "    .dataframe tbody tr th {\n",
       "        vertical-align: top;\n",
       "    }\n",
       "\n",
       "    .dataframe thead th {\n",
       "        text-align: right;\n",
       "    }\n",
       "</style>\n",
       "<table border=\"1\" class=\"dataframe\">\n",
       "  <thead>\n",
       "    <tr style=\"text-align: right;\">\n",
       "      <th></th>\n",
       "      <th>Month</th>\n",
       "      <th>Name</th>\n",
       "      <th>Username</th>\n",
       "      <th>Subscribers o Followers</th>\n",
       "      <th>Country</th>\n",
       "      <th>Authentic</th>\n",
       "      <th>Engagement</th>\n",
       "      <th>Category1</th>\n",
       "      <th>Category2</th>\n",
       "    </tr>\n",
       "  </thead>\n",
       "  <tbody>\n",
       "    <tr>\n",
       "      <th>4</th>\n",
       "      <td>June</td>\n",
       "      <td>Hakken 八犬</td>\n",
       "      <td>_hakkencoser_</td>\n",
       "      <td>3.5M</td>\n",
       "      <td>United States</td>\n",
       "      <td>525.1K</td>\n",
       "      <td>643K</td>\n",
       "      <td>Lifestyle</td>\n",
       "      <td>Photography</td>\n",
       "    </tr>\n",
       "    <tr>\n",
       "      <th>10</th>\n",
       "      <td>June</td>\n",
       "      <td>설인아 sᴇᴏʀɪɴᴀ</td>\n",
       "      <td>_seorina</td>\n",
       "      <td>5.7M</td>\n",
       "      <td>South Korea</td>\n",
       "      <td>728K</td>\n",
       "      <td>903.5K</td>\n",
       "      <td>Lifestyle</td>\n",
       "      <td>Cinema &amp; Actors/actresses</td>\n",
       "    </tr>\n",
       "    <tr>\n",
       "      <th>20</th>\n",
       "      <td>June</td>\n",
       "      <td>AB de Villiers</td>\n",
       "      <td>abdevilliers17</td>\n",
       "      <td>18.3M</td>\n",
       "      <td>India</td>\n",
       "      <td>274.1K</td>\n",
       "      <td>315.8K</td>\n",
       "      <td>Sports with a ball</td>\n",
       "      <td>Lifestyle</td>\n",
       "    </tr>\n",
       "    <tr>\n",
       "      <th>33</th>\n",
       "      <td>June</td>\n",
       "      <td>Ahmed Abouhashima</td>\n",
       "      <td>ahmedabohashima</td>\n",
       "      <td>14.8M</td>\n",
       "      <td>Egypt</td>\n",
       "      <td>121.9K</td>\n",
       "      <td>164.4K</td>\n",
       "      <td>Business &amp; Careers</td>\n",
       "      <td>Finance &amp; Economics</td>\n",
       "    </tr>\n",
       "    <tr>\n",
       "      <th>49</th>\n",
       "      <td>June</td>\n",
       "      <td>Álvaro Morata</td>\n",
       "      <td>alvaromorata</td>\n",
       "      <td>17.2M</td>\n",
       "      <td>Italy</td>\n",
       "      <td>104.7K</td>\n",
       "      <td>162.1K</td>\n",
       "      <td>Sports with a ball</td>\n",
       "      <td>Literature &amp; Journalism</td>\n",
       "    </tr>\n",
       "    <tr>\n",
       "      <th>...</th>\n",
       "      <td>...</td>\n",
       "      <td>...</td>\n",
       "      <td>...</td>\n",
       "      <td>...</td>\n",
       "      <td>...</td>\n",
       "      <td>...</td>\n",
       "      <td>...</td>\n",
       "      <td>...</td>\n",
       "      <td>...</td>\n",
       "    </tr>\n",
       "    <tr>\n",
       "      <th>4044</th>\n",
       "      <td>December</td>\n",
       "      <td>neeraj____chopra</td>\n",
       "      <td>Neeraj Chopra</td>\n",
       "      <td>6.3M</td>\n",
       "      <td>India</td>\n",
       "      <td>294.7K</td>\n",
       "      <td>386.3K</td>\n",
       "      <td>Shows</td>\n",
       "      <td>Winter sports</td>\n",
       "    </tr>\n",
       "    <tr>\n",
       "      <th>4049</th>\n",
       "      <td>December</td>\n",
       "      <td>officialslystallone</td>\n",
       "      <td>Sly Stallone</td>\n",
       "      <td>15.6M</td>\n",
       "      <td>United States</td>\n",
       "      <td>121.4K</td>\n",
       "      <td>153.4K</td>\n",
       "      <td>Art/Artists</td>\n",
       "      <td>Cinema &amp; Actors/actresses</td>\n",
       "    </tr>\n",
       "    <tr>\n",
       "      <th>4060</th>\n",
       "      <td>December</td>\n",
       "      <td>nickjonas</td>\n",
       "      <td>Nick Jonas</td>\n",
       "      <td>33.5M</td>\n",
       "      <td>United States</td>\n",
       "      <td>49.3K</td>\n",
       "      <td>70.1K</td>\n",
       "      <td>Music</td>\n",
       "      <td>Art/Artists</td>\n",
       "    </tr>\n",
       "    <tr>\n",
       "      <th>4066</th>\n",
       "      <td>December</td>\n",
       "      <td>earthpix</td>\n",
       "      <td>🌎  EarthPix  🌎</td>\n",
       "      <td>23.3M</td>\n",
       "      <td>United States</td>\n",
       "      <td>77.3K</td>\n",
       "      <td>100.2K</td>\n",
       "      <td>Nature &amp; landscapes</td>\n",
       "      <td>Photography</td>\n",
       "    </tr>\n",
       "    <tr>\n",
       "      <th>4068</th>\n",
       "      <td>December</td>\n",
       "      <td>soycintiacossio</td>\n",
       "      <td>Cintia Cossio</td>\n",
       "      <td>6M</td>\n",
       "      <td>Colombia</td>\n",
       "      <td>313.4K</td>\n",
       "      <td>390.6K</td>\n",
       "      <td>Modeling</td>\n",
       "      <td>Adult content</td>\n",
       "    </tr>\n",
       "  </tbody>\n",
       "</table>\n",
       "<p>782 rows × 9 columns</p>\n",
       "</div>"
      ],
      "text/plain": [
       "         Month                 Name         Username Subscribers o Followers  \\\n",
       "4         June            Hakken 八犬    _hakkencoser_                    3.5M   \n",
       "10        June     설인아 sᴇᴏʀɪɴᴀ         _seorina                    5.7M   \n",
       "20        June       AB de Villiers   abdevilliers17                   18.3M   \n",
       "33        June    Ahmed Abouhashima  ahmedabohashima                   14.8M   \n",
       "49        June       Álvaro Morata     alvaromorata                   17.2M   \n",
       "...        ...                  ...              ...                     ...   \n",
       "4044  December     neeraj____chopra    Neeraj Chopra                    6.3M   \n",
       "4049  December  officialslystallone     Sly Stallone                   15.6M   \n",
       "4060  December            nickjonas       Nick Jonas                   33.5M   \n",
       "4066  December             earthpix   🌎  EarthPix  🌎                   23.3M   \n",
       "4068  December      soycintiacossio    Cintia Cossio                      6M   \n",
       "\n",
       "            Country Authentic Engagement            Category1  \\\n",
       "4     United States    525.1K       643K            Lifestyle   \n",
       "10      South Korea      728K     903.5K            Lifestyle   \n",
       "20            India    274.1K     315.8K   Sports with a ball   \n",
       "33            Egypt    121.9K     164.4K   Business & Careers   \n",
       "49            Italy    104.7K     162.1K   Sports with a ball   \n",
       "...             ...       ...        ...                  ...   \n",
       "4044          India    294.7K     386.3K                Shows   \n",
       "4049  United States    121.4K     153.4K          Art/Artists   \n",
       "4060  United States     49.3K      70.1K                Music   \n",
       "4066  United States     77.3K     100.2K  Nature & landscapes   \n",
       "4068       Colombia    313.4K     390.6K             Modeling   \n",
       "\n",
       "                      Category2  \n",
       "4                   Photography  \n",
       "10    Cinema & Actors/actresses  \n",
       "20                    Lifestyle  \n",
       "33          Finance & Economics  \n",
       "49      Literature & Journalism  \n",
       "...                         ...  \n",
       "4044              Winter sports  \n",
       "4049  Cinema & Actors/actresses  \n",
       "4060                Art/Artists  \n",
       "4066                Photography  \n",
       "4068              Adult content  \n",
       "\n",
       "[782 rows x 9 columns]"
      ]
     },
     "execution_count": 74,
     "metadata": {},
     "output_type": "execute_result"
    }
   ],
   "source": [
    "#Muestra las cuentas duplicadas\n",
    "df_Insta[df_Insta.Username.duplicated(keep=False)]"
   ]
  },
  {
   "cell_type": "code",
   "execution_count": 75,
   "metadata": {
    "tags": []
   },
   "outputs": [
    {
     "data": {
      "text/plain": [
       "775"
      ]
     },
     "execution_count": 75,
     "metadata": {},
     "output_type": "execute_result"
    }
   ],
   "source": [
    "#Muestra el número total de cuentas distintas\n",
    "df_Insta.Username.nunique()"
   ]
  },
  {
   "cell_type": "markdown",
   "metadata": {},
   "source": [
    "Tambien se pide calcular el promedio de seguidores, authentic, engagement, de cada cuenta"
   ]
  },
  {
   "cell_type": "code",
   "execution_count": 76,
   "metadata": {
    "tags": []
   },
   "outputs": [],
   "source": [
    "# Se transforman los registros de las columnas solicitadas a valores numericos\n",
    "df_Insta['Subscribers o Followers'] = df_Insta['Subscribers o Followers'].replace({'K': '*1e3', 'M': '*1e6', 'G':'*1e9'}, regex=True).map(pd.eval).astype(int)\n",
    "df_Insta['Authentic'] = df_Insta['Authentic'].replace({'K': '*1e3', 'M': '*1e6', 'G':'*1e9'}, regex=True).map(pd.eval).astype(int)\n",
    "df_Insta['Engagement'] = df_Insta['Engagement'].replace({'K': '*1e3', 'M': '*1e6', 'G':'*1e9'}, regex=True).map(pd.eval).astype(int)"
   ]
  },
  {
   "cell_type": "code",
   "execution_count": 77,
   "metadata": {
    "tags": []
   },
   "outputs": [
    {
     "data": {
      "text/html": [
       "<div>\n",
       "<style scoped>\n",
       "    .dataframe tbody tr th:only-of-type {\n",
       "        vertical-align: middle;\n",
       "    }\n",
       "\n",
       "    .dataframe tbody tr th {\n",
       "        vertical-align: top;\n",
       "    }\n",
       "\n",
       "    .dataframe thead th {\n",
       "        text-align: right;\n",
       "    }\n",
       "</style>\n",
       "<table border=\"1\" class=\"dataframe\">\n",
       "  <thead>\n",
       "    <tr style=\"text-align: right;\">\n",
       "      <th></th>\n",
       "      <th>Month</th>\n",
       "      <th>Name</th>\n",
       "      <th>Username</th>\n",
       "      <th>Subscribers o Followers</th>\n",
       "      <th>Country</th>\n",
       "      <th>Authentic</th>\n",
       "      <th>Engagement</th>\n",
       "      <th>Category1</th>\n",
       "      <th>Category2</th>\n",
       "    </tr>\n",
       "  </thead>\n",
       "  <tbody>\n",
       "    <tr>\n",
       "      <th>4</th>\n",
       "      <td>June</td>\n",
       "      <td>Hakken 八犬</td>\n",
       "      <td>_hakkencoser_</td>\n",
       "      <td>3500000</td>\n",
       "      <td>United States</td>\n",
       "      <td>525100</td>\n",
       "      <td>643000</td>\n",
       "      <td>Lifestyle</td>\n",
       "      <td>Photography</td>\n",
       "    </tr>\n",
       "    <tr>\n",
       "      <th>10</th>\n",
       "      <td>June</td>\n",
       "      <td>설인아 sᴇᴏʀɪɴᴀ</td>\n",
       "      <td>_seorina</td>\n",
       "      <td>5700000</td>\n",
       "      <td>South Korea</td>\n",
       "      <td>728000</td>\n",
       "      <td>903500</td>\n",
       "      <td>Lifestyle</td>\n",
       "      <td>Cinema &amp; Actors/actresses</td>\n",
       "    </tr>\n",
       "    <tr>\n",
       "      <th>11</th>\n",
       "      <td>June</td>\n",
       "      <td>SHOTARO ショウタロウ</td>\n",
       "      <td>_shotaroo_</td>\n",
       "      <td>5300000</td>\n",
       "      <td>Indonesia</td>\n",
       "      <td>866900</td>\n",
       "      <td>1100000</td>\n",
       "      <td>Lifestyle</td>\n",
       "      <td>Music</td>\n",
       "    </tr>\n",
       "    <tr>\n",
       "      <th>20</th>\n",
       "      <td>June</td>\n",
       "      <td>AB de Villiers</td>\n",
       "      <td>abdevilliers17</td>\n",
       "      <td>18300000</td>\n",
       "      <td>India</td>\n",
       "      <td>274100</td>\n",
       "      <td>315800</td>\n",
       "      <td>Sports with a ball</td>\n",
       "      <td>Lifestyle</td>\n",
       "    </tr>\n",
       "    <tr>\n",
       "      <th>33</th>\n",
       "      <td>June</td>\n",
       "      <td>Ahmed Abouhashima</td>\n",
       "      <td>ahmedabohashima</td>\n",
       "      <td>14800000</td>\n",
       "      <td>Egypt</td>\n",
       "      <td>121900</td>\n",
       "      <td>164400</td>\n",
       "      <td>Business &amp; Careers</td>\n",
       "      <td>Finance &amp; Economics</td>\n",
       "    </tr>\n",
       "    <tr>\n",
       "      <th>...</th>\n",
       "      <td>...</td>\n",
       "      <td>...</td>\n",
       "      <td>...</td>\n",
       "      <td>...</td>\n",
       "      <td>...</td>\n",
       "      <td>...</td>\n",
       "      <td>...</td>\n",
       "      <td>...</td>\n",
       "      <td>...</td>\n",
       "    </tr>\n",
       "    <tr>\n",
       "      <th>4064</th>\n",
       "      <td>December</td>\n",
       "      <td>labels.hybe</td>\n",
       "      <td>HYBE LABELS Updates</td>\n",
       "      <td>2300000</td>\n",
       "      <td>India</td>\n",
       "      <td>891100</td>\n",
       "      <td>1000000</td>\n",
       "      <td>Shows</td>\n",
       "      <td>Music</td>\n",
       "    </tr>\n",
       "    <tr>\n",
       "      <th>4065</th>\n",
       "      <td>December</td>\n",
       "      <td>torylanez</td>\n",
       "      <td>FARGO’S CRAZY LIFE</td>\n",
       "      <td>11900000</td>\n",
       "      <td>United States</td>\n",
       "      <td>85100</td>\n",
       "      <td>196000</td>\n",
       "      <td>Shows</td>\n",
       "      <td>Music</td>\n",
       "    </tr>\n",
       "    <tr>\n",
       "      <th>4066</th>\n",
       "      <td>December</td>\n",
       "      <td>earthpix</td>\n",
       "      <td>🌎  EarthPix  🌎</td>\n",
       "      <td>23300000</td>\n",
       "      <td>United States</td>\n",
       "      <td>77300</td>\n",
       "      <td>100200</td>\n",
       "      <td>Nature &amp; landscapes</td>\n",
       "      <td>Photography</td>\n",
       "    </tr>\n",
       "    <tr>\n",
       "      <th>4068</th>\n",
       "      <td>December</td>\n",
       "      <td>soycintiacossio</td>\n",
       "      <td>Cintia Cossio</td>\n",
       "      <td>6000000</td>\n",
       "      <td>Colombia</td>\n",
       "      <td>313400</td>\n",
       "      <td>390600</td>\n",
       "      <td>Modeling</td>\n",
       "      <td>Adult content</td>\n",
       "    </tr>\n",
       "    <tr>\n",
       "      <th>4071</th>\n",
       "      <td>December</td>\n",
       "      <td>ravindra.jadeja</td>\n",
       "      <td>Ravindrasinh jadeja</td>\n",
       "      <td>4800000</td>\n",
       "      <td>India</td>\n",
       "      <td>388900</td>\n",
       "      <td>485100</td>\n",
       "      <td>Lifestyle</td>\n",
       "      <td>Sports with a ball</td>\n",
       "    </tr>\n",
       "  </tbody>\n",
       "</table>\n",
       "<p>1168 rows × 9 columns</p>\n",
       "</div>"
      ],
      "text/plain": [
       "         Month               Name             Username  \\\n",
       "4         June          Hakken 八犬        _hakkencoser_   \n",
       "10        June   설인아 sᴇᴏʀɪɴᴀ             _seorina   \n",
       "11        June     SHOTARO ショウタロウ           _shotaroo_   \n",
       "20        June     AB de Villiers       abdevilliers17   \n",
       "33        June  Ahmed Abouhashima      ahmedabohashima   \n",
       "...        ...                ...                  ...   \n",
       "4064  December        labels.hybe  HYBE LABELS Updates   \n",
       "4065  December          torylanez   FARGO’S CRAZY LIFE   \n",
       "4066  December           earthpix       🌎  EarthPix  🌎   \n",
       "4068  December    soycintiacossio        Cintia Cossio   \n",
       "4071  December    ravindra.jadeja  Ravindrasinh jadeja   \n",
       "\n",
       "      Subscribers o Followers        Country  Authentic  Engagement  \\\n",
       "4                     3500000  United States     525100      643000   \n",
       "10                    5700000    South Korea     728000      903500   \n",
       "11                    5300000      Indonesia     866900     1100000   \n",
       "20                   18300000          India     274100      315800   \n",
       "33                   14800000          Egypt     121900      164400   \n",
       "...                       ...            ...        ...         ...   \n",
       "4064                  2300000          India     891100     1000000   \n",
       "4065                 11900000  United States      85100      196000   \n",
       "4066                 23300000  United States      77300      100200   \n",
       "4068                  6000000       Colombia     313400      390600   \n",
       "4071                  4800000          India     388900      485100   \n",
       "\n",
       "                Category1                  Category2  \n",
       "4               Lifestyle                Photography  \n",
       "10              Lifestyle  Cinema & Actors/actresses  \n",
       "11              Lifestyle                      Music  \n",
       "20     Sports with a ball                  Lifestyle  \n",
       "33     Business & Careers        Finance & Economics  \n",
       "...                   ...                        ...  \n",
       "4064                Shows                      Music  \n",
       "4065                Shows                      Music  \n",
       "4066  Nature & landscapes                Photography  \n",
       "4068             Modeling              Adult content  \n",
       "4071            Lifestyle         Sports with a ball  \n",
       "\n",
       "[1168 rows x 9 columns]"
      ]
     },
     "execution_count": 77,
     "metadata": {},
     "output_type": "execute_result"
    }
   ],
   "source": [
    "df_Insta"
   ]
  },
  {
   "cell_type": "code",
   "execution_count": 83,
   "metadata": {
    "tags": []
   },
   "outputs": [
    {
     "data": {
      "text/html": [
       "<div>\n",
       "<style scoped>\n",
       "    .dataframe tbody tr th:only-of-type {\n",
       "        vertical-align: middle;\n",
       "    }\n",
       "\n",
       "    .dataframe tbody tr th {\n",
       "        vertical-align: top;\n",
       "    }\n",
       "\n",
       "    .dataframe thead th {\n",
       "        text-align: right;\n",
       "    }\n",
       "</style>\n",
       "<table border=\"1\" class=\"dataframe\">\n",
       "  <thead>\n",
       "    <tr style=\"text-align: right;\">\n",
       "      <th></th>\n",
       "      <th>Subscribers o Followers</th>\n",
       "      <th>Authentic</th>\n",
       "      <th>Engagement</th>\n",
       "    </tr>\n",
       "    <tr>\n",
       "      <th>Username</th>\n",
       "      <th></th>\n",
       "      <th></th>\n",
       "      <th></th>\n",
       "    </tr>\n",
       "  </thead>\n",
       "  <tbody>\n",
       "    <tr>\n",
       "      <th>! Julian</th>\n",
       "      <td>6450000.0</td>\n",
       "      <td>404600.0</td>\n",
       "      <td>504450.0</td>\n",
       "    </tr>\n",
       "    <tr>\n",
       "      <th>12 🥷🏽🖤</th>\n",
       "      <td>8000000.0</td>\n",
       "      <td>249150.0</td>\n",
       "      <td>402550.0</td>\n",
       "    </tr>\n",
       "    <tr>\n",
       "      <th>2000</th>\n",
       "      <td>6550000.0</td>\n",
       "      <td>420400.0</td>\n",
       "      <td>536550.0</td>\n",
       "    </tr>\n",
       "    <tr>\n",
       "      <th>39saku_chan</th>\n",
       "      <td>4300000.0</td>\n",
       "      <td>708000.0</td>\n",
       "      <td>873100.0</td>\n",
       "    </tr>\n",
       "    <tr>\n",
       "      <th>AB de Villiers</th>\n",
       "      <td>19450000.0</td>\n",
       "      <td>375150.0</td>\n",
       "      <td>432750.0</td>\n",
       "    </tr>\n",
       "    <tr>\n",
       "      <th>...</th>\n",
       "      <td>...</td>\n",
       "      <td>...</td>\n",
       "      <td>...</td>\n",
       "    </tr>\n",
       "    <tr>\n",
       "      <th>𝐑𝐨𝐡𝐢𝐭 𝐙𝐢𝐧𝐣𝐮𝐫𝐤𝐞 ~ 𝐫𝐞𝐚𝐜𝐭𝐢𝐨𝐧𝐛𝐨𝐢 💫</th>\n",
       "      <td>24450000.0</td>\n",
       "      <td>809400.0</td>\n",
       "      <td>1100000.0</td>\n",
       "    </tr>\n",
       "    <tr>\n",
       "      <th>𝐓𝐎𝐇𝐈</th>\n",
       "      <td>12200000.0</td>\n",
       "      <td>172400.0</td>\n",
       "      <td>252750.0</td>\n",
       "    </tr>\n",
       "    <tr>\n",
       "      <th>𝑨𝒋𝒆𝒚 𝑵𝒂𝒈𝒂𝒓</th>\n",
       "      <td>16300000.0</td>\n",
       "      <td>965150.0</td>\n",
       "      <td>1138400.0</td>\n",
       "    </tr>\n",
       "    <tr>\n",
       "      <th>🌎  EarthPix  🌎</th>\n",
       "      <td>23300000.0</td>\n",
       "      <td>130450.0</td>\n",
       "      <td>169200.0</td>\n",
       "    </tr>\n",
       "    <tr>\n",
       "      <th>📲</th>\n",
       "      <td>5100000.0</td>\n",
       "      <td>481450.0</td>\n",
       "      <td>1150000.0</td>\n",
       "    </tr>\n",
       "  </tbody>\n",
       "</table>\n",
       "<p>775 rows × 3 columns</p>\n",
       "</div>"
      ],
      "text/plain": [
       "                                Subscribers o Followers  Authentic  Engagement\n",
       "Username                                                                      \n",
       "! Julian                                      6450000.0   404600.0    504450.0\n",
       "12 🥷🏽🖤                                        8000000.0   249150.0    402550.0\n",
       "2000                                          6550000.0   420400.0    536550.0\n",
       "39saku_chan                                   4300000.0   708000.0    873100.0\n",
       "AB de Villiers                               19450000.0   375150.0    432750.0\n",
       "...                                                 ...        ...         ...\n",
       "𝐑𝐨𝐡𝐢𝐭 𝐙𝐢𝐧𝐣𝐮𝐫𝐤𝐞 ~ 𝐫𝐞𝐚𝐜𝐭𝐢𝐨𝐧𝐛𝐨𝐢 💫               24450000.0   809400.0   1100000.0\n",
       "𝐓𝐎𝐇𝐈                                         12200000.0   172400.0    252750.0\n",
       "𝑨𝒋𝒆𝒚 𝑵𝒂𝒈𝒂𝒓                                   16300000.0   965150.0   1138400.0\n",
       "🌎  EarthPix  🌎                               23300000.0   130450.0    169200.0\n",
       "📲                                             5100000.0   481450.0   1150000.0\n",
       "\n",
       "[775 rows x 3 columns]"
      ]
     },
     "execution_count": 83,
     "metadata": {},
     "output_type": "execute_result"
    }
   ],
   "source": [
    "#Obtiene el promedio de las columnas solicitadas por cada cuenta\n",
    "columnas = ['Subscribers o Followers','Authentic','Engagement']\n",
    "Promedios = df_Insta.groupby('Username')[columnas].mean()\n",
    "Promedios"
   ]
  },
  {
   "cell_type": "markdown",
   "metadata": {},
   "source": [
    "## Obtención de datos de TikTok"
   ]
  },
  {
   "cell_type": "code",
   "execution_count": null,
   "metadata": {},
   "outputs": [],
   "source": []
  },
  {
   "cell_type": "markdown",
   "metadata": {},
   "source": [
    "## Obtención de datos de Youtube"
   ]
  },
  {
   "cell_type": "markdown",
   "metadata": {},
   "source": [
    "#### - Numero total de cuentas distintas"
   ]
  },
  {
   "cell_type": "code",
   "execution_count": 40,
   "metadata": {
    "tags": []
   },
   "outputs": [
    {
     "data": {
      "text/html": [
       "<div>\n",
       "<style scoped>\n",
       "    .dataframe tbody tr th:only-of-type {\n",
       "        vertical-align: middle;\n",
       "    }\n",
       "\n",
       "    .dataframe tbody tr th {\n",
       "        vertical-align: top;\n",
       "    }\n",
       "\n",
       "    .dataframe thead th {\n",
       "        text-align: right;\n",
       "    }\n",
       "</style>\n",
       "<table border=\"1\" class=\"dataframe\">\n",
       "  <thead>\n",
       "    <tr style=\"text-align: right;\">\n",
       "      <th></th>\n",
       "      <th>Name</th>\n",
       "      <th>Country</th>\n",
       "      <th>Month</th>\n",
       "      <th>Username</th>\n",
       "      <th>Subscribers</th>\n",
       "      <th>Views</th>\n",
       "      <th>Likes</th>\n",
       "      <th>Comments</th>\n",
       "      <th>Category1</th>\n",
       "      <th>Category2</th>\n",
       "    </tr>\n",
       "  </thead>\n",
       "  <tbody>\n",
       "    <tr>\n",
       "      <th>3</th>\n",
       "      <td>MrBeast</td>\n",
       "      <td>United States</td>\n",
       "      <td>June</td>\n",
       "      <td>MrBeast6000</td>\n",
       "      <td>104.1M</td>\n",
       "      <td>44.8M</td>\n",
       "      <td>2.2M</td>\n",
       "      <td>70.9K</td>\n",
       "      <td>Humor</td>\n",
       "      <td>Video games</td>\n",
       "    </tr>\n",
       "    <tr>\n",
       "      <th>12</th>\n",
       "      <td>Sony SAB</td>\n",
       "      <td>India</td>\n",
       "      <td>June</td>\n",
       "      <td>sabtv</td>\n",
       "      <td>71.7M</td>\n",
       "      <td>61.7K</td>\n",
       "      <td>924</td>\n",
       "      <td>18</td>\n",
       "      <td>Animation</td>\n",
       "      <td>Movies</td>\n",
       "    </tr>\n",
       "    <tr>\n",
       "      <th>21</th>\n",
       "      <td>Movieclips</td>\n",
       "      <td>United States</td>\n",
       "      <td>June</td>\n",
       "      <td>movieclips</td>\n",
       "      <td>57.8M</td>\n",
       "      <td>18.8K</td>\n",
       "      <td>181</td>\n",
       "      <td>11</td>\n",
       "      <td>Animation</td>\n",
       "      <td>Movies</td>\n",
       "    </tr>\n",
       "    <tr>\n",
       "      <th>33</th>\n",
       "      <td>YRF</td>\n",
       "      <td>India</td>\n",
       "      <td>June</td>\n",
       "      <td>yrf</td>\n",
       "      <td>48.2M</td>\n",
       "      <td>67.2K</td>\n",
       "      <td>3.4K</td>\n",
       "      <td>19</td>\n",
       "      <td>Movies</td>\n",
       "      <td>Music &amp; Dance</td>\n",
       "    </tr>\n",
       "    <tr>\n",
       "      <th>36</th>\n",
       "      <td>JuegaGerman</td>\n",
       "      <td>Mexico</td>\n",
       "      <td>June</td>\n",
       "      <td>JuegaGerman</td>\n",
       "      <td>46.4M</td>\n",
       "      <td>1.7M</td>\n",
       "      <td>114.4K</td>\n",
       "      <td>3.9K</td>\n",
       "      <td>Animation</td>\n",
       "      <td>Movies</td>\n",
       "    </tr>\n",
       "    <tr>\n",
       "      <th>...</th>\n",
       "      <td>...</td>\n",
       "      <td>...</td>\n",
       "      <td>...</td>\n",
       "      <td>...</td>\n",
       "      <td>...</td>\n",
       "      <td>...</td>\n",
       "      <td>...</td>\n",
       "      <td>...</td>\n",
       "      <td>...</td>\n",
       "      <td>...</td>\n",
       "    </tr>\n",
       "    <tr>\n",
       "      <th>4022</th>\n",
       "      <td>Patty Mayo</td>\n",
       "      <td>United States</td>\n",
       "      <td>December</td>\n",
       "      <td>Patty Mayo</td>\n",
       "      <td>10.1M</td>\n",
       "      <td>159K</td>\n",
       "      <td>8K</td>\n",
       "      <td>450</td>\n",
       "      <td>Movies</td>\n",
       "      <td>Humor</td>\n",
       "    </tr>\n",
       "    <tr>\n",
       "      <th>4024</th>\n",
       "      <td>NASA</td>\n",
       "      <td>United States</td>\n",
       "      <td>December</td>\n",
       "      <td>NASAtelevision</td>\n",
       "      <td>10.1M</td>\n",
       "      <td>92K</td>\n",
       "      <td>3.7K</td>\n",
       "      <td>N/A'</td>\n",
       "      <td>News &amp; Politics</td>\n",
       "      <td>Science &amp; Technology</td>\n",
       "    </tr>\n",
       "    <tr>\n",
       "      <th>4029</th>\n",
       "      <td>QPark</td>\n",
       "      <td>United States</td>\n",
       "      <td>December</td>\n",
       "      <td>joycetanner</td>\n",
       "      <td>9.9M</td>\n",
       "      <td>0</td>\n",
       "      <td>N/A'</td>\n",
       "      <td>N/A'</td>\n",
       "      <td>Music &amp; Dance</td>\n",
       "      <td>Humor</td>\n",
       "    </tr>\n",
       "    <tr>\n",
       "      <th>4030</th>\n",
       "      <td>Talent Recap</td>\n",
       "      <td>United States</td>\n",
       "      <td>December</td>\n",
       "      <td>Talent Recap</td>\n",
       "      <td>9.9M</td>\n",
       "      <td>76.6K</td>\n",
       "      <td>944</td>\n",
       "      <td>74</td>\n",
       "      <td>Music &amp; Dance</td>\n",
       "      <td>Movies</td>\n",
       "    </tr>\n",
       "    <tr>\n",
       "      <th>4036</th>\n",
       "      <td>설기양SULGI</td>\n",
       "      <td>United States</td>\n",
       "      <td>December</td>\n",
       "      <td>설기양SULGI</td>\n",
       "      <td>9.8M</td>\n",
       "      <td>822.6K</td>\n",
       "      <td>21.9K</td>\n",
       "      <td>586</td>\n",
       "      <td>ASMR</td>\n",
       "      <td>Food &amp; Drinks</td>\n",
       "    </tr>\n",
       "  </tbody>\n",
       "</table>\n",
       "<p>764 rows × 10 columns</p>\n",
       "</div>"
      ],
      "text/plain": [
       "              Name        Country     Month        Username Subscribers   \n",
       "3          MrBeast  United States      June     MrBeast6000      104.1M  \\\n",
       "12        Sony SAB          India      June           sabtv       71.7M   \n",
       "21      Movieclips  United States      June      movieclips       57.8M   \n",
       "33             YRF          India      June             yrf       48.2M   \n",
       "36     JuegaGerman         Mexico      June     JuegaGerman       46.4M   \n",
       "...            ...            ...       ...             ...         ...   \n",
       "4022    Patty Mayo  United States  December      Patty Mayo       10.1M   \n",
       "4024          NASA  United States  December  NASAtelevision       10.1M   \n",
       "4029         QPark  United States  December     joycetanner        9.9M   \n",
       "4030  Talent Recap  United States  December    Talent Recap        9.9M   \n",
       "4036      설기양SULGI  United States  December        설기양SULGI        9.8M   \n",
       "\n",
       "       Views   Likes Comments        Category1             Category2  \n",
       "3      44.8M    2.2M    70.9K            Humor           Video games  \n",
       "12     61.7K     924       18        Animation                Movies  \n",
       "21     18.8K     181       11        Animation                Movies  \n",
       "33     67.2K    3.4K       19           Movies         Music & Dance  \n",
       "36      1.7M  114.4K     3.9K        Animation                Movies  \n",
       "...      ...     ...      ...              ...                   ...  \n",
       "4022    159K      8K      450           Movies                 Humor  \n",
       "4024     92K    3.7K     N/A'  News & Politics  Science & Technology  \n",
       "4029       0    N/A'     N/A'    Music & Dance                 Humor  \n",
       "4030   76.6K     944       74    Music & Dance                Movies  \n",
       "4036  822.6K   21.9K      586             ASMR         Food & Drinks  \n",
       "\n",
       "[764 rows x 10 columns]"
      ]
     },
     "execution_count": 40,
     "metadata": {},
     "output_type": "execute_result"
    }
   ],
   "source": [
    "# Muestra las cuentas duplicadas\n",
    "df_Youtube[df_Youtube.Username.duplicated(keep=False)]"
   ]
  },
  {
   "cell_type": "code",
   "execution_count": 46,
   "metadata": {
    "tags": []
   },
   "outputs": [
    {
     "data": {
      "text/plain": [
       "321"
      ]
     },
     "execution_count": 46,
     "metadata": {},
     "output_type": "execute_result"
    }
   ],
   "source": [
    "# Número de cuentas distintas\n",
    "df_Youtube.Username.nunique()"
   ]
  },
  {
   "cell_type": "markdown",
   "metadata": {
    "tags": []
   },
   "source": [
    "#### - Promedio de seguidores, views, likes, comments de cada cuenta"
   ]
  },
  {
   "cell_type": "code",
   "execution_count": 34,
   "metadata": {
    "tags": []
   },
   "outputs": [],
   "source": [
    "# Transformación de los datos a números\n",
    "df_Youtube['Subscribers'] = df_Youtube['Subscribers'].replace({'K': '*1e3', 'M': '*1e6', 'G':'*1e9'}, regex=True).map(pd.eval).astype(int)\n",
    "df_Youtube['Views'] = df_Youtube['Views'].replace({'K': '*1e3', 'M': '*1e6', 'G':'*1e9'}, regex=True).map(pd.eval).astype(int)\n",
    "df_Youtube['Likes'] = df_Youtube['Likes'].replace({'K': '*1e3', 'M': '*1e6', 'G':'*1e9', \"N/A'\": '0'}, regex=True).map(pd.eval).astype(int)\n",
    "df_Youtube['Comments'] = df_Youtube['Comments'].replace({'K': '*1e3', 'M': '*1e6', 'G':'*1e9', \"N/A'\": '0'}, regex=True).map(pd.eval).astype(int)"
   ]
  },
  {
   "cell_type": "code",
   "execution_count": 53,
   "metadata": {
    "tags": []
   },
   "outputs": [
    {
     "data": {
      "text/html": [
       "<div>\n",
       "<style scoped>\n",
       "    .dataframe tbody tr th:only-of-type {\n",
       "        vertical-align: middle;\n",
       "    }\n",
       "\n",
       "    .dataframe tbody tr th {\n",
       "        vertical-align: top;\n",
       "    }\n",
       "\n",
       "    .dataframe thead th {\n",
       "        text-align: right;\n",
       "    }\n",
       "</style>\n",
       "<table border=\"1\" class=\"dataframe\">\n",
       "  <thead>\n",
       "    <tr style=\"text-align: right;\">\n",
       "      <th></th>\n",
       "      <th>Name</th>\n",
       "      <th>Country</th>\n",
       "      <th>Month</th>\n",
       "      <th>Username</th>\n",
       "      <th>Subscribers</th>\n",
       "      <th>Views</th>\n",
       "      <th>Likes</th>\n",
       "      <th>Comments</th>\n",
       "      <th>Category1</th>\n",
       "      <th>Category2</th>\n",
       "    </tr>\n",
       "  </thead>\n",
       "  <tbody>\n",
       "    <tr>\n",
       "      <th>3</th>\n",
       "      <td>MrBeast</td>\n",
       "      <td>United States</td>\n",
       "      <td>June</td>\n",
       "      <td>MrBeast6000</td>\n",
       "      <td>104100000</td>\n",
       "      <td>44800000</td>\n",
       "      <td>2200000</td>\n",
       "      <td>70900</td>\n",
       "      <td>Humor</td>\n",
       "      <td>Video games</td>\n",
       "    </tr>\n",
       "    <tr>\n",
       "      <th>12</th>\n",
       "      <td>Sony SAB</td>\n",
       "      <td>India</td>\n",
       "      <td>June</td>\n",
       "      <td>sabtv</td>\n",
       "      <td>71700000</td>\n",
       "      <td>61700</td>\n",
       "      <td>924</td>\n",
       "      <td>18</td>\n",
       "      <td>Animation</td>\n",
       "      <td>Movies</td>\n",
       "    </tr>\n",
       "    <tr>\n",
       "      <th>21</th>\n",
       "      <td>Movieclips</td>\n",
       "      <td>United States</td>\n",
       "      <td>June</td>\n",
       "      <td>movieclips</td>\n",
       "      <td>57800000</td>\n",
       "      <td>18800</td>\n",
       "      <td>181</td>\n",
       "      <td>11</td>\n",
       "      <td>Animation</td>\n",
       "      <td>Movies</td>\n",
       "    </tr>\n",
       "    <tr>\n",
       "      <th>27</th>\n",
       "      <td>EminemMusic</td>\n",
       "      <td>United States</td>\n",
       "      <td>June</td>\n",
       "      <td>EminemMusic</td>\n",
       "      <td>53300000</td>\n",
       "      <td>1600000</td>\n",
       "      <td>90600</td>\n",
       "      <td>5300</td>\n",
       "      <td>Animation</td>\n",
       "      <td>Movies</td>\n",
       "    </tr>\n",
       "    <tr>\n",
       "      <th>33</th>\n",
       "      <td>YRF</td>\n",
       "      <td>India</td>\n",
       "      <td>June</td>\n",
       "      <td>yrf</td>\n",
       "      <td>48200000</td>\n",
       "      <td>67200</td>\n",
       "      <td>3400</td>\n",
       "      <td>19</td>\n",
       "      <td>Movies</td>\n",
       "      <td>Music &amp; Dance</td>\n",
       "    </tr>\n",
       "    <tr>\n",
       "      <th>...</th>\n",
       "      <td>...</td>\n",
       "      <td>...</td>\n",
       "      <td>...</td>\n",
       "      <td>...</td>\n",
       "      <td>...</td>\n",
       "      <td>...</td>\n",
       "      <td>...</td>\n",
       "      <td>...</td>\n",
       "      <td>...</td>\n",
       "      <td>...</td>\n",
       "    </tr>\n",
       "    <tr>\n",
       "      <th>4054</th>\n",
       "      <td>JoshDub</td>\n",
       "      <td>United States</td>\n",
       "      <td>December</td>\n",
       "      <td>JoshDub</td>\n",
       "      <td>9500000</td>\n",
       "      <td>713600</td>\n",
       "      <td>35400</td>\n",
       "      <td>1200</td>\n",
       "      <td>Animation</td>\n",
       "      <td>Humor</td>\n",
       "    </tr>\n",
       "    <tr>\n",
       "      <th>4055</th>\n",
       "      <td>Haschak Sisters</td>\n",
       "      <td>United States</td>\n",
       "      <td>December</td>\n",
       "      <td>jhaschak</td>\n",
       "      <td>9400000</td>\n",
       "      <td>2300000</td>\n",
       "      <td>14800</td>\n",
       "      <td>655</td>\n",
       "      <td>Music &amp; Dance</td>\n",
       "      <td>Humor</td>\n",
       "    </tr>\n",
       "    <tr>\n",
       "      <th>4056</th>\n",
       "      <td>Joey Graceffa</td>\n",
       "      <td>United States</td>\n",
       "      <td>December</td>\n",
       "      <td>JoeyGraceffa</td>\n",
       "      <td>9400000</td>\n",
       "      <td>311100</td>\n",
       "      <td>23800</td>\n",
       "      <td>1500</td>\n",
       "      <td>Animals &amp; Pets</td>\n",
       "      <td>Humor</td>\n",
       "    </tr>\n",
       "    <tr>\n",
       "      <th>4062</th>\n",
       "      <td>Thơ Nguyễn</td>\n",
       "      <td>United States</td>\n",
       "      <td>December</td>\n",
       "      <td>Thơ Nguyễn</td>\n",
       "      <td>9300000</td>\n",
       "      <td>185500</td>\n",
       "      <td>2400</td>\n",
       "      <td>106</td>\n",
       "      <td>Music &amp; Dance</td>\n",
       "      <td>Animation</td>\n",
       "    </tr>\n",
       "    <tr>\n",
       "      <th>4063</th>\n",
       "      <td>Troom Troom SELECT</td>\n",
       "      <td>United States</td>\n",
       "      <td>December</td>\n",
       "      <td>Troom Troom SELECT</td>\n",
       "      <td>9300000</td>\n",
       "      <td>254800</td>\n",
       "      <td>2900</td>\n",
       "      <td>52</td>\n",
       "      <td>Movies</td>\n",
       "      <td>Animation</td>\n",
       "    </tr>\n",
       "  </tbody>\n",
       "</table>\n",
       "<p>858 rows × 10 columns</p>\n",
       "</div>"
      ],
      "text/plain": [
       "                    Name        Country     Month            Username   \n",
       "3                MrBeast  United States      June         MrBeast6000  \\\n",
       "12              Sony SAB          India      June               sabtv   \n",
       "21            Movieclips  United States      June          movieclips   \n",
       "27           EminemMusic  United States      June         EminemMusic   \n",
       "33                   YRF          India      June                 yrf   \n",
       "...                  ...            ...       ...                 ...   \n",
       "4054             JoshDub  United States  December             JoshDub   \n",
       "4055     Haschak Sisters  United States  December            jhaschak   \n",
       "4056       Joey Graceffa  United States  December        JoeyGraceffa   \n",
       "4062          Thơ Nguyễn  United States  December          Thơ Nguyễn   \n",
       "4063  Troom Troom SELECT  United States  December  Troom Troom SELECT   \n",
       "\n",
       "      Subscribers     Views    Likes  Comments       Category1      Category2  \n",
       "3       104100000  44800000  2200000     70900           Humor    Video games  \n",
       "12       71700000     61700      924        18       Animation         Movies  \n",
       "21       57800000     18800      181        11       Animation         Movies  \n",
       "27       53300000   1600000    90600      5300       Animation         Movies  \n",
       "33       48200000     67200     3400        19          Movies  Music & Dance  \n",
       "...           ...       ...      ...       ...             ...            ...  \n",
       "4054      9500000    713600    35400      1200       Animation          Humor  \n",
       "4055      9400000   2300000    14800       655   Music & Dance          Humor  \n",
       "4056      9400000    311100    23800      1500  Animals & Pets          Humor  \n",
       "4062      9300000    185500     2400       106   Music & Dance      Animation  \n",
       "4063      9300000    254800     2900        52          Movies      Animation  \n",
       "\n",
       "[858 rows x 10 columns]"
      ]
     },
     "execution_count": 53,
     "metadata": {},
     "output_type": "execute_result"
    }
   ],
   "source": [
    "df_Youtube"
   ]
  },
  {
   "cell_type": "code",
   "execution_count": 35,
   "metadata": {
    "tags": []
   },
   "outputs": [],
   "source": [
    "# Calcular el promedio de seguidores, views, likes, comments  de cada cuenta\n",
    "mean_subscribers = df_Youtube['Subscribers'].mean()\n",
    "mean_views = df_Youtube['Views'].mean()\n",
    "mean_comments = df_Youtube['Comments'].mean()\n",
    "mean_likes = df_Youtube['Likes'].mean()"
   ]
  },
  {
   "cell_type": "code",
   "execution_count": 36,
   "metadata": {
    "tags": []
   },
   "outputs": [
    {
     "name": "stdout",
     "output_type": "stream",
     "text": [
      "18528936.371407516\n",
      "1077204.2284450994\n",
      "2217.8295259150086\n",
      "49545.66887742569\n"
     ]
    }
   ],
   "source": [
    "print(mean_subscribers)\n",
    "print(mean_views)\n",
    "print(mean_comments)\n",
    "print(mean_likes)"
   ]
  },
  {
   "cell_type": "markdown",
   "metadata": {},
   "source": [
    "#### - Métricas de Valor de cada cuenta"
   ]
  },
  {
   "cell_type": "code",
   "execution_count": 37,
   "metadata": {
    "tags": []
   },
   "outputs": [
    {
     "name": "stdout",
     "output_type": "stream",
     "text": [
      "0.058136322930406374\n",
      "0.0026739618445601066\n",
      "0.00011969545803705166\n"
     ]
    }
   ],
   "source": [
    "# Promedio views/Promedio Followers\n",
    "mvf = (mean_views) / (mean_subscribers)\n",
    "print(mvf)\n",
    "# Promedio likes/Promedio Followers\n",
    "mlf = (mean_likes) / (mean_subscribers)\n",
    "print(mlf)\n",
    "# Promedio comments/Promedio Followers\n",
    "mcf = (mean_comments) / (mean_subscribers)\n",
    "print(mcf)"
   ]
  },
  {
   "cell_type": "markdown",
   "metadata": {},
   "source": [
    "#### - Histograma con el número de cuentas que inician por cada letra del alfabeto y por símbolos"
   ]
  },
  {
   "cell_type": "code",
   "execution_count": 38,
   "metadata": {
    "tags": []
   },
   "outputs": [],
   "source": [
    "# Primero buscaremos el patron que tenga que inice con las letras del alfabeto \n",
    "\n",
    "patron_Alfabeto = r'^[a-zA-Z]'\n",
    "\n",
    "Alfabeto = []\n",
    "S_Alfabeto = []\n",
    "\n",
    "for username in df_Youtube['Username']:\n",
    "    if re.search(patron_Alfabeto, username):\n",
    "        Alfabeto.append(username)\n",
    "    else:\n",
    "        S_Alfabeto.append(username)"
   ]
  },
  {
   "cell_type": "code",
   "execution_count": 39,
   "metadata": {
    "tags": []
   },
   "outputs": [
    {
     "data": {
      "image/png": "[encoded data removed]",
      "text/plain": [
       "<Figure size 640x480 with 1 Axes>"
      ]
     },
     "metadata": {},
     "output_type": "display_data"
    }
   ],
   "source": [
    "countA = len(Alfabeto)\n",
    "countSA = len(S_Alfabeto)\n",
    "\n",
    "etiquetas = ['Alfabeto', 'Sin Alfabeto']\n",
    "\n",
    "# Crear los valores para el histograma\n",
    "vals = [countA, countSA]\n",
    "\n",
    "# En esta parte se crea el histograma\n",
    "plt.bar(etiquetas, vals, color='rebeccapurple')\n",
    "plt.xlabel('Tipo')\n",
    "plt.ylabel('Número de cuentas')\n",
    "plt.title('Distribución de cuentas por tipo')\n",
    "\n",
    "# Mostramos el número exacto de cuentas en el histograma\n",
    "for i, count in enumerate(vals):\n",
    "    plt.text(i, count + 1, str(count), ha='center')\n",
    "\n",
    "plt.show()\n"
   ]
  },
  {
   "cell_type": "markdown",
   "metadata": {},
   "source": [
    "#### - ¿Cuantas cuentas de YouTube tienen ya sea en su username o name las letras de las iniciales del primer nombre de cada uno de los integrantes de tu equipo?\n",
    "Las iniciales de mi equipo son L, E y M (Luis, Esmeralda y Mónica)"
   ]
  },
  {
   "cell_type": "code",
   "execution_count": 106,
   "metadata": {
    "tags": []
   },
   "outputs": [
    {
     "data": {
      "text/plain": [
       "180"
      ]
     },
     "execution_count": 106,
     "metadata": {},
     "output_type": "execute_result"
    }
   ],
   "source": [
    "# Obtenemos las cuentas que inicien por E, e, M, m\n",
    "em = df_Youtube[df_Youtube['Username'].str.startswith(('L','l','E','e','m', 'M'), na=False) | df_Youtube['Name'].str.startswith(('E','e','m', 'M'), na=False)]\n",
    "em.shape[0]"
   ]
  },
  {
   "cell_type": "markdown",
   "metadata": {},
   "source": [
    "Por lo tanto, son 144 cuentas que tienen como inicial E,e,M,m en username o name."
   ]
  },
  {
   "cell_type": "markdown",
   "metadata": {},
   "source": [
    "#### - Métrica que identifique las 10 cuentas mas importantes de YouTube"
   ]
  },
  {
   "cell_type": "code",
   "execution_count": 41,
   "metadata": {
    "tags": []
   },
   "outputs": [
    {
     "name": "stdout",
     "output_type": "stream",
     "text": [
      "               Username  Subscribers\n",
      "3353            tseries    217000000\n",
      "3063          checkgate    136600000\n",
      "3354           setindia    130500000\n",
      "3785          PewDiePie    111500000\n",
      "3786        MrBeast6000     97300000\n",
      "3069  ✿ Kids Diana Show     96600000\n",
      "3062        Like Nastya     96500000\n",
      "3787       WWEFanNation     88500000\n",
      "3355    zeemusiccompany     84300000\n",
      "3223      Vlad and Niki     83000000\n"
     ]
    }
   ],
   "source": [
    "# Obtenemos los registros de diciembre para la métrica y los ordenamos ascentemente para obtener las cuentas\n",
    "# más importantes, al menos por la métrica planteada que fue el conteo de subscribers.\n",
    "cuentas_import = df_Youtube[df_Youtube['Month'] == 'December'].sort_values(by='Subscribers', ascending=False)\n",
    "# Obtenemos el top 10 de cuentas con mayor número de seguidores en diciembre, se eligió filtrar por diciembre\n",
    "# ya que es el mes de cierre y los usuarios que hayan tenido más subscriptores se consideran los más importantes\n",
    "# para Youtube\n",
    "top10 = cuentas_import.head(10)\n",
    "# Se muestra el username3 y cuantos subscribers tiene esa cuenta.\n",
    "print(top10[['Username', 'Subscribers']])"
   ]
  },
  {
   "cell_type": "markdown",
   "metadata": {},
   "source": [
    "#### - Histograma del número de seguidores promedio por país."
   ]
  },
  {
   "cell_type": "code",
   "execution_count": 42,
   "metadata": {
    "tags": []
   },
   "outputs": [
    {
     "data": {
      "image/png": "[encoded data removed]",
      "text/plain": [
       "<Figure size 1000x600 with 1 Axes>"
      ]
     },
     "metadata": {},
     "output_type": "display_data"
    }
   ],
   "source": [
    "import matplotlib.pyplot as plt\n",
    "\n",
    "# Obtener los países únicos\n",
    "paises = df_Youtube['Country'].unique()\n",
    "\n",
    "# Calcular el número de seguidores promedio por país\n",
    "promedio_seguidores = df_Youtube.groupby('Country')['Subscribers'].mean()\n",
    "\n",
    "plt.figure(figsize=(10, 6))\n",
    "plt.bar(promedio_seguidores.index, promedio_seguidores.values, color='teal')\n",
    "plt.xticks(rotation=90)\n",
    "plt.xlabel('País')\n",
    "plt.ylabel('Número de subscriptores promedio')\n",
    "plt.title('Número de subscriptores promedio por país')\n",
    "plt.show()\n"
   ]
  },
  {
   "cell_type": "markdown",
   "metadata": {},
   "source": [
    "#### - Cree una serie con todas las categorias existentes en todos los archivos de YouTube"
   ]
  },
  {
   "cell_type": "code",
   "execution_count": null,
   "metadata": {},
   "outputs": [],
   "source": []
  },
  {
   "cell_type": "markdown",
   "metadata": {},
   "source": [
    "#### - Histograma el número de seguidores por categoría"
   ]
  },
  {
   "cell_type": "code",
   "execution_count": 98,
   "metadata": {
    "tags": []
   },
   "outputs": [
    {
     "data": {
      "image/png": "[encoded data removed]",
      "text/plain": [
       "<Figure size 1200x600 with 1 Axes>"
      ]
     },
     "metadata": {},
     "output_type": "display_data"
    }
   ],
   "source": [
    "# Primero combinamos las columnas de categoría en una sola columna\n",
    "df_Youtube['Category'] = df_Youtube['Category1'].fillna('') + df_Youtube['Category2'].fillna('')\n",
    "\n",
    "# Agrupamos los datos por categoría y luego se obtiene el promedio de suscriptores\n",
    "seguidores_por_categoria = df_Youtube.groupby('Category')['Subscribers'].mean()\n",
    "\n",
    "plt.figure(figsize=(12, 6))\n",
    "plt.bar(seguidores_por_categoria.index, seguidores_por_categoria.values, color='hotpink')\n",
    "plt.xlabel('Categoría')\n",
    "plt.ylabel('Número de seguidores promedio')\n",
    "plt.title('Número de seguidores promedio por categoría')\n",
    "plt.xticks(rotation=90)  \n",
    "plt.show()"
   ]
  },
  {
   "cell_type": "markdown",
   "metadata": {},
   "source": [
    "## ¿Cuales son las 5 cuentas mas importantes de las 3 redes sociales?"
   ]
  },
  {
   "cell_type": "code",
   "execution_count": null,
   "metadata": {},
   "outputs": [],
   "source": []
  }
 ],
 "metadata": {
  "kernelspec": {
   "display_name": "Python 3 (ipykernel)",
   "language": "python",
   "name": "python3"
  },
  "language_info": {
   "codemirror_mode": {
    "name": "ipython",
    "version": 3
   },
   "file_extension": ".py",
   "mimetype": "text/x-python",
   "name": "python",
   "nbconvert_exporter": "python",
   "pygments_lexer": "ipython3",
   "version": "3.10.6"
  }
 },
 "nbformat": 4,
 "nbformat_minor": 4
}
