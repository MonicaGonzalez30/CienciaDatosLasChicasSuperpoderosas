{
 "cells": [
  {
   "cell_type": "markdown",
   "metadata": {},
   "source": [
    "# Proyecto 4: Expresiones regulares"
   ]
  },
  {
   "cell_type": "code",
   "execution_count": 1,
   "metadata": {
    "tags": []
   },
   "outputs": [],
   "source": [
    "import pandas as pd\n",
    "import numpy as np\n",
    "import matplotlib.pyplot as plt\n",
    "import re\n",
    "import os\n",
    "import shutil"
   ]
  },
  {
   "cell_type": "markdown",
   "metadata": {},
   "source": [
    "## Leer y guardar todos los archivos"
   ]
  },
  {
   "cell_type": "markdown",
   "metadata": {},
   "source": [
    "Primero descomprimiremos el archivo zip que tiene los archivos csv\n",
    "\n",
    "Utilizando la libreia shutil"
   ]
  },
  {
   "cell_type": "markdown",
   "metadata": {},
   "source": [
    "shutil.unpack_archive('socialnetworks.zip', 'socialnetworks')"
   ]
  },
  {
   "cell_type": "markdown",
   "metadata": {},
   "source": [
    "Lo que hicimos fue descomprimir el archivo con el nombre de socialnetworks y posteriormente analizar que archivos cumplen con el patron para identificar aquellos que tengan en el nombre un mes, y aquellos que no"
   ]
  },
  {
   "cell_type": "code",
   "execution_count": 2,
   "metadata": {
    "tags": []
   },
   "outputs": [],
   "source": [
    "ruta_zip = 'socialnetworks.zip'\n",
    "ruta_destino = '/home/moni/Ciencia de datos/Proyectos/CienciaDatosLasChicasSuperpoderosas/Proyectos/Unidad2/socialnetworks'\n",
    "shutil.unpack_archive(ruta_zip,ruta_destino)\n",
    "patron = r'2022'\n",
    "archivos_econtrados_mes = []\n",
    "archivos_econtrados_sin_mes = []"
   ]
  },
  {
   "cell_type": "markdown",
   "metadata": {},
   "source": [
    "Ahora lo que haremos, sera recorrer los archivos que descomprimimos y buscamos los que tengan el año 2022"
   ]
  },
  {
   "cell_type": "code",
   "execution_count": 3,
   "metadata": {
    "tags": []
   },
   "outputs": [],
   "source": [
    "# Recorreremos cada carpeta\n",
    "\n",
    "for carpeta, subcarpetas, archivos in os.walk(ruta_destino):\n",
    "    for archivo in archivos:\n",
    "        ruta_completa = os.path.join(carpeta, archivo)\n",
    "        \n",
    "        if archivo.endswith('.csv'):\n",
    "            # Verificar si el archivo tiene una fecha en su nombre\n",
    "            fecha_encontrada = re.search(patron, archivo)\n",
    "            \n",
    "            if fecha_encontrada:\n",
    "                archivos_econtrados_mes.append(ruta_completa)\n",
    "            else:\n",
    "                archivos_econtrados_sin_mes.append(ruta_completa)"
   ]
  },
  {
   "cell_type": "code",
   "execution_count": 4,
   "metadata": {
    "tags": []
   },
   "outputs": [
    {
     "data": {
      "text/plain": [
       "24"
      ]
     },
     "execution_count": 4,
     "metadata": {},
     "output_type": "execute_result"
    }
   ],
   "source": [
    "len(archivos_econtrados_mes)"
   ]
  },
  {
   "cell_type": "code",
   "execution_count": 5,
   "metadata": {
    "tags": []
   },
   "outputs": [
    {
     "data": {
      "text/plain": [
       "['/home/moni/Ciencia de datos/Proyectos/CienciaDatosLasChicasSuperpoderosas/Proyectos/Unidad2/socialnetworks/social media influencers - instagram.csv',\n",
       " '/home/moni/Ciencia de datos/Proyectos/CienciaDatosLasChicasSuperpoderosas/Proyectos/Unidad2/socialnetworks/social media influencers - youtube.csv',\n",
       " '/home/moni/Ciencia de datos/Proyectos/CienciaDatosLasChicasSuperpoderosas/Proyectos/Unidad2/socialnetworks/social media influencers - tiktok.csv',\n",
       " '/home/moni/Ciencia de datos/Proyectos/CienciaDatosLasChicasSuperpoderosas/Proyectos/Unidad2/socialnetworks/socialnetworks/social media influencers - instagram.csv',\n",
       " '/home/moni/Ciencia de datos/Proyectos/CienciaDatosLasChicasSuperpoderosas/Proyectos/Unidad2/socialnetworks/socialnetworks/social media influencers - youtube.csv',\n",
       " '/home/moni/Ciencia de datos/Proyectos/CienciaDatosLasChicasSuperpoderosas/Proyectos/Unidad2/socialnetworks/socialnetworks/social media influencers - tiktok.csv']"
      ]
     },
     "execution_count": 5,
     "metadata": {},
     "output_type": "execute_result"
    }
   ],
   "source": [
    "len(archivos_econtrados_sin_mes)\n",
    "archivos_econtrados_sin_mes"
   ]
  },
  {
   "cell_type": "markdown",
   "metadata": {},
   "source": [
    "Ya que tenemos los archivos separados en un arreglo, los podemos abrir en los dataframes que nos piden"
   ]
  },
  {
   "cell_type": "code",
   "execution_count": 6,
   "metadata": {
    "tags": []
   },
   "outputs": [],
   "source": [
    "Instagram = []\n",
    "Patron_Insta = r'INSTAGRAM|instagram|Instagram'\n",
    "\n",
    "Tik_tok = []\n",
    "Patron_Tik_tok = r'TIKTOK|tiktok|Tiktok'\n",
    "\n",
    "Youtube = []\n",
    "Patron_Youtube = r'Youtube|youtube|YOUTUBE'"
   ]
  },
  {
   "cell_type": "code",
   "execution_count": 7,
   "metadata": {
    "tags": []
   },
   "outputs": [],
   "source": [
    "# Haremos una función que encuentre los patrones que le pasemos en un arreglo\n",
    "# Y los guarde en cierto arreglo, para que sea más fácil hacer los dataframes\n",
    "\n",
    "def patrones(arreglo, patron, arreglo_para_guardar):\n",
    "    for i in arreglo:\n",
    "        r = re.search(patron, i)\n",
    "        if r:\n",
    "            arreglo_para_guardar.append(i)"
   ]
  },
  {
   "cell_type": "code",
   "execution_count": 8,
   "metadata": {
    "tags": []
   },
   "outputs": [],
   "source": [
    "patrones(archivos_econtrados_mes, Patron_Insta, Instagram)\n",
    "patrones(archivos_econtrados_mes, Patron_Tik_tok, Tik_tok)\n",
    "patrones(archivos_econtrados_mes, Patron_Youtube, Youtube)"
   ]
  },
  {
   "cell_type": "markdown",
   "metadata": {},
   "source": [
    "## Archivos sin mes (Resumen de cada red social)"
   ]
  },
  {
   "cell_type": "markdown",
   "metadata": {},
   "source": [
    "Ya que tenemos todos los archivos de las redes sociales por separado, abriremos los dataframes que no tienen fecha"
   ]
  },
  {
   "cell_type": "code",
   "execution_count": 9,
   "metadata": {
    "tags": []
   },
   "outputs": [],
   "source": [
    "df_Insta_s_f = pd.read_csv(archivos_econtrados_sin_mes[0])\n",
    "df_Tik_tok_s_f = pd.read_csv(archivos_econtrados_sin_mes[2])\n",
    "df_Youtube_s_f = pd.read_csv(archivos_econtrados_sin_mes[1])"
   ]
  },
  {
   "cell_type": "code",
   "execution_count": 10,
   "metadata": {
    "tags": []
   },
   "outputs": [
    {
     "data": {
      "text/html": [
       "<div>\n",
       "<style scoped>\n",
       "    .dataframe tbody tr th:only-of-type {\n",
       "        vertical-align: middle;\n",
       "    }\n",
       "\n",
       "    .dataframe tbody tr th {\n",
       "        vertical-align: top;\n",
       "    }\n",
       "\n",
       "    .dataframe thead th {\n",
       "        text-align: right;\n",
       "    }\n",
       "</style>\n",
       "<table border=\"1\" class=\"dataframe\">\n",
       "  <thead>\n",
       "    <tr style=\"text-align: right;\">\n",
       "      <th></th>\n",
       "      <th>Influencer insta name</th>\n",
       "      <th>instagram name</th>\n",
       "      <th>category_1</th>\n",
       "      <th>category_2</th>\n",
       "      <th>Followers</th>\n",
       "      <th>Audience country(mostly)</th>\n",
       "      <th>Authentic engagement\\r\\n</th>\n",
       "      <th>Engagement avg\\r\\n</th>\n",
       "    </tr>\n",
       "  </thead>\n",
       "  <tbody>\n",
       "    <tr>\n",
       "      <th>0</th>\n",
       "      <td>433</td>\n",
       "      <td>433</td>\n",
       "      <td>Sports with a ball</td>\n",
       "      <td>NaN</td>\n",
       "      <td>48.5M</td>\n",
       "      <td>Spain</td>\n",
       "      <td>383.1K</td>\n",
       "      <td>637K</td>\n",
       "    </tr>\n",
       "    <tr>\n",
       "      <th>1</th>\n",
       "      <td>__youngbae__</td>\n",
       "      <td>TAEYANG</td>\n",
       "      <td>Music</td>\n",
       "      <td>NaN</td>\n",
       "      <td>12.7M</td>\n",
       "      <td>Indonesia</td>\n",
       "      <td>478K</td>\n",
       "      <td>542.3K</td>\n",
       "    </tr>\n",
       "    <tr>\n",
       "      <th>2</th>\n",
       "      <td>_agentgirl_</td>\n",
       "      <td>НАСТЯ ИВЛЕЕВА</td>\n",
       "      <td>Shows</td>\n",
       "      <td>NaN</td>\n",
       "      <td>18.8M</td>\n",
       "      <td>Russia</td>\n",
       "      <td>310.8K</td>\n",
       "      <td>377.9K</td>\n",
       "    </tr>\n",
       "    <tr>\n",
       "      <th>3</th>\n",
       "      <td>_imyour_joy</td>\n",
       "      <td>Joy</td>\n",
       "      <td>Lifestyle</td>\n",
       "      <td>NaN</td>\n",
       "      <td>13.5M</td>\n",
       "      <td>Indonesia</td>\n",
       "      <td>1.1M</td>\n",
       "      <td>1.4M</td>\n",
       "    </tr>\n",
       "    <tr>\n",
       "      <th>4</th>\n",
       "      <td>_jeongjaehyun</td>\n",
       "      <td>Jaehyun</td>\n",
       "      <td>NaN</td>\n",
       "      <td>NaN</td>\n",
       "      <td>11.1M</td>\n",
       "      <td>Indonesia</td>\n",
       "      <td>2.5M</td>\n",
       "      <td>3.1M</td>\n",
       "    </tr>\n",
       "  </tbody>\n",
       "</table>\n",
       "</div>"
      ],
      "text/plain": [
       "  Influencer insta name instagram name          category_1 category_2  \\\n",
       "0                   433            433  Sports with a ball        NaN   \n",
       "1          __youngbae__        TAEYANG               Music        NaN   \n",
       "2           _agentgirl_  НАСТЯ ИВЛЕЕВА               Shows        NaN   \n",
       "3           _imyour_joy            Joy           Lifestyle        NaN   \n",
       "4         _jeongjaehyun        Jaehyun                 NaN        NaN   \n",
       "\n",
       "  Followers Audience country(mostly) Authentic engagement\\r\\n  \\\n",
       "0     48.5M                    Spain                   383.1K   \n",
       "1     12.7M                Indonesia                     478K   \n",
       "2     18.8M                   Russia                   310.8K   \n",
       "3     13.5M                Indonesia                     1.1M   \n",
       "4     11.1M                Indonesia                     2.5M   \n",
       "\n",
       "  Engagement avg\\r\\n  \n",
       "0               637K  \n",
       "1             542.3K  \n",
       "2             377.9K  \n",
       "3               1.4M  \n",
       "4               3.1M  "
      ]
     },
     "execution_count": 10,
     "metadata": {},
     "output_type": "execute_result"
    }
   ],
   "source": [
    "df_Insta_s_f.head()"
   ]
  },
  {
   "cell_type": "code",
   "execution_count": 11,
   "metadata": {
    "tags": []
   },
   "outputs": [
    {
     "data": {
      "text/html": [
       "<div>\n",
       "<style scoped>\n",
       "    .dataframe tbody tr th:only-of-type {\n",
       "        vertical-align: middle;\n",
       "    }\n",
       "\n",
       "    .dataframe tbody tr th {\n",
       "        vertical-align: top;\n",
       "    }\n",
       "\n",
       "    .dataframe thead th {\n",
       "        text-align: right;\n",
       "    }\n",
       "</style>\n",
       "<table border=\"1\" class=\"dataframe\">\n",
       "  <thead>\n",
       "    <tr style=\"text-align: right;\">\n",
       "      <th></th>\n",
       "      <th>Tiktoker name</th>\n",
       "      <th>Tiktok name</th>\n",
       "      <th>Subscribers count</th>\n",
       "      <th>Views avg.</th>\n",
       "      <th>Likes avg</th>\n",
       "      <th>Comments avg.</th>\n",
       "      <th>Shares avg</th>\n",
       "    </tr>\n",
       "  </thead>\n",
       "  <tbody>\n",
       "    <tr>\n",
       "      <th>0</th>\n",
       "      <td>ekin.721</td>\n",
       "      <td>MOMO’s</td>\n",
       "      <td>221.7K</td>\n",
       "      <td>26M</td>\n",
       "      <td>2.8M</td>\n",
       "      <td>29.4K</td>\n",
       "      <td>116.4K</td>\n",
       "    </tr>\n",
       "    <tr>\n",
       "      <th>1</th>\n",
       "      <td>dojacat</td>\n",
       "      <td>Doja Cat</td>\n",
       "      <td>22.2M</td>\n",
       "      <td>25.4M</td>\n",
       "      <td>5M</td>\n",
       "      <td>36.7K</td>\n",
       "      <td>46.8K</td>\n",
       "    </tr>\n",
       "    <tr>\n",
       "      <th>2</th>\n",
       "      <td>kiet.ac.quy</td>\n",
       "      <td>Kiệt Ắk Wỷ</td>\n",
       "      <td>2.1M</td>\n",
       "      <td>20.7M</td>\n",
       "      <td>3.5M</td>\n",
       "      <td>38.8K</td>\n",
       "      <td>33.9K</td>\n",
       "    </tr>\n",
       "    <tr>\n",
       "      <th>3</th>\n",
       "      <td>charlidamelio</td>\n",
       "      <td>charli d’amelio</td>\n",
       "      <td>135.4M</td>\n",
       "      <td>18.7M</td>\n",
       "      <td>2.6M</td>\n",
       "      <td>54.7K</td>\n",
       "      <td>35.2K</td>\n",
       "    </tr>\n",
       "    <tr>\n",
       "      <th>4</th>\n",
       "      <td>luvadepedreiro</td>\n",
       "      <td>Iran Ferreira (Lai)</td>\n",
       "      <td>11.4M</td>\n",
       "      <td>24.8M</td>\n",
       "      <td>2.6M</td>\n",
       "      <td>32.7K</td>\n",
       "      <td>26.8K</td>\n",
       "    </tr>\n",
       "  </tbody>\n",
       "</table>\n",
       "</div>"
      ],
      "text/plain": [
       "    Tiktoker name          Tiktok name Subscribers count Views avg. Likes avg  \\\n",
       "0        ekin.721               MOMO’s            221.7K        26M      2.8M   \n",
       "1         dojacat             Doja Cat             22.2M      25.4M        5M   \n",
       "2     kiet.ac.quy           Kiệt Ắk Wỷ              2.1M      20.7M      3.5M   \n",
       "3   charlidamelio      charli d’amelio            135.4M      18.7M      2.6M   \n",
       "4  luvadepedreiro  Iran Ferreira (Lai)             11.4M      24.8M      2.6M   \n",
       "\n",
       "  Comments avg. Shares avg  \n",
       "0         29.4K     116.4K  \n",
       "1         36.7K      46.8K  \n",
       "2         38.8K      33.9K  \n",
       "3         54.7K      35.2K  \n",
       "4         32.7K      26.8K  "
      ]
     },
     "execution_count": 11,
     "metadata": {},
     "output_type": "execute_result"
    }
   ],
   "source": [
    "df_Tik_tok_s_f.head()"
   ]
  },
  {
   "cell_type": "code",
   "execution_count": 12,
   "metadata": {
    "tags": []
   },
   "outputs": [
    {
     "data": {
      "text/html": [
       "<div>\n",
       "<style scoped>\n",
       "    .dataframe tbody tr th:only-of-type {\n",
       "        vertical-align: middle;\n",
       "    }\n",
       "\n",
       "    .dataframe tbody tr th {\n",
       "        vertical-align: top;\n",
       "    }\n",
       "\n",
       "    .dataframe thead th {\n",
       "        text-align: right;\n",
       "    }\n",
       "</style>\n",
       "<table border=\"1\" class=\"dataframe\">\n",
       "  <thead>\n",
       "    <tr style=\"text-align: right;\">\n",
       "      <th></th>\n",
       "      <th>youtuber name</th>\n",
       "      <th>channel name</th>\n",
       "      <th>Category</th>\n",
       "      <th>Subscribers</th>\n",
       "      <th>Audience Country</th>\n",
       "      <th>avg views</th>\n",
       "      <th>avg likes</th>\n",
       "      <th>avg comments</th>\n",
       "    </tr>\n",
       "  </thead>\n",
       "  <tbody>\n",
       "    <tr>\n",
       "      <th>0</th>\n",
       "      <td>tseries</td>\n",
       "      <td>T-Series</td>\n",
       "      <td>Music &amp; Dance</td>\n",
       "      <td>212.1M</td>\n",
       "      <td>India</td>\n",
       "      <td>323.7K</td>\n",
       "      <td>9.8K</td>\n",
       "      <td>290</td>\n",
       "    </tr>\n",
       "    <tr>\n",
       "      <th>1</th>\n",
       "      <td>checkgate</td>\n",
       "      <td>Cocomelon - Nursery Rhymes</td>\n",
       "      <td>Education</td>\n",
       "      <td>132.1M</td>\n",
       "      <td>NaN</td>\n",
       "      <td>13.8M</td>\n",
       "      <td>80.9K</td>\n",
       "      <td>NaN</td>\n",
       "    </tr>\n",
       "    <tr>\n",
       "      <th>2</th>\n",
       "      <td>setindia</td>\n",
       "      <td>SET India</td>\n",
       "      <td>NaN</td>\n",
       "      <td>130.4M</td>\n",
       "      <td>India</td>\n",
       "      <td>23.6K</td>\n",
       "      <td>314</td>\n",
       "      <td>21</td>\n",
       "    </tr>\n",
       "    <tr>\n",
       "      <th>3</th>\n",
       "      <td>PewDiePie</td>\n",
       "      <td>PewDiePie</td>\n",
       "      <td>Animation</td>\n",
       "      <td>111.4M</td>\n",
       "      <td>United States</td>\n",
       "      <td>1.4M</td>\n",
       "      <td>80.8K</td>\n",
       "      <td>4.6K</td>\n",
       "    </tr>\n",
       "    <tr>\n",
       "      <th>4</th>\n",
       "      <td>MrBeast6000</td>\n",
       "      <td>MrBeast</td>\n",
       "      <td>Video games</td>\n",
       "      <td>92.5M</td>\n",
       "      <td>United States</td>\n",
       "      <td>30.6M</td>\n",
       "      <td>1.7M</td>\n",
       "      <td>67.7K</td>\n",
       "    </tr>\n",
       "  </tbody>\n",
       "</table>\n",
       "</div>"
      ],
      "text/plain": [
       "  youtuber name                channel name       Category Subscribers  \\\n",
       "0       tseries                    T-Series  Music & Dance      212.1M   \n",
       "1     checkgate  Cocomelon - Nursery Rhymes      Education      132.1M   \n",
       "2      setindia                   SET India            NaN      130.4M   \n",
       "3     PewDiePie                   PewDiePie      Animation      111.4M   \n",
       "4   MrBeast6000                     MrBeast    Video games       92.5M   \n",
       "\n",
       "  Audience Country avg views avg likes avg comments  \n",
       "0            India    323.7K      9.8K          290  \n",
       "1              NaN     13.8M     80.9K          NaN  \n",
       "2            India     23.6K       314           21  \n",
       "3    United States      1.4M     80.8K         4.6K  \n",
       "4    United States     30.6M      1.7M        67.7K  "
      ]
     },
     "execution_count": 12,
     "metadata": {},
     "output_type": "execute_result"
    }
   ],
   "source": [
    "df_Youtube_s_f.head()"
   ]
  },
  {
   "cell_type": "markdown",
   "metadata": {},
   "source": [
    "## Archivos con mes"
   ]
  },
  {
   "cell_type": "markdown",
   "metadata": {},
   "source": [
    "Ahora, como se solicita que los archivos cuyo nombre tenga un mes, tambien tengan una columna que lo indique, se le agregará a cada uno"
   ]
  },
  {
   "cell_type": "markdown",
   "metadata": {},
   "source": [
    "### Instagram"
   ]
  },
  {
   "cell_type": "code",
   "execution_count": 13,
   "metadata": {
    "tags": []
   },
   "outputs": [
    {
     "data": {
      "text/plain": [
       "['/home/moni/Ciencia de datos/Proyectos/CienciaDatosLasChicasSuperpoderosas/Proyectos/Unidad2/socialnetworks/social media influencers-instagram - -nov 2022.csv',\n",
       " '/home/moni/Ciencia de datos/Proyectos/CienciaDatosLasChicasSuperpoderosas/Proyectos/Unidad2/socialnetworks/social media influencers-instagram june 2022 - june 2022.csv',\n",
       " '/home/moni/Ciencia de datos/Proyectos/CienciaDatosLasChicasSuperpoderosas/Proyectos/Unidad2/socialnetworks/social media influencers-INSTAGRAM - -DEC 2022.csv',\n",
       " '/home/moni/Ciencia de datos/Proyectos/CienciaDatosLasChicasSuperpoderosas/Proyectos/Unidad2/socialnetworks/social media influencers - instagram sep-2022.csv',\n",
       " '/home/moni/Ciencia de datos/Proyectos/CienciaDatosLasChicasSuperpoderosas/Proyectos/Unidad2/socialnetworks/socialnetworks/social media influencers-instagram - -nov 2022.csv',\n",
       " '/home/moni/Ciencia de datos/Proyectos/CienciaDatosLasChicasSuperpoderosas/Proyectos/Unidad2/socialnetworks/socialnetworks/social media influencers-instagram june 2022 - june 2022.csv',\n",
       " '/home/moni/Ciencia de datos/Proyectos/CienciaDatosLasChicasSuperpoderosas/Proyectos/Unidad2/socialnetworks/socialnetworks/social media influencers-INSTAGRAM - -DEC 2022.csv',\n",
       " '/home/moni/Ciencia de datos/Proyectos/CienciaDatosLasChicasSuperpoderosas/Proyectos/Unidad2/socialnetworks/socialnetworks/social media influencers - instagram sep-2022.csv']"
      ]
     },
     "execution_count": 13,
     "metadata": {},
     "output_type": "execute_result"
    }
   ],
   "source": [
    "Instagram"
   ]
  },
  {
   "cell_type": "code",
   "execution_count": 14,
   "metadata": {
    "tags": []
   },
   "outputs": [
    {
     "data": {
      "text/html": [
       "<div>\n",
       "<style scoped>\n",
       "    .dataframe tbody tr th:only-of-type {\n",
       "        vertical-align: middle;\n",
       "    }\n",
       "\n",
       "    .dataframe tbody tr th {\n",
       "        vertical-align: top;\n",
       "    }\n",
       "\n",
       "    .dataframe thead th {\n",
       "        text-align: right;\n",
       "    }\n",
       "</style>\n",
       "<table border=\"1\" class=\"dataframe\">\n",
       "  <thead>\n",
       "    <tr style=\"text-align: right;\">\n",
       "      <th></th>\n",
       "      <th>s.no</th>\n",
       "      <th>Name</th>\n",
       "      <th>Instagram Name</th>\n",
       "      <th>Category-1</th>\n",
       "      <th>Followers</th>\n",
       "      <th>\\nCountry</th>\n",
       "      <th>Eng. (Auth.)</th>\n",
       "      <th>Eng. (Avg.)</th>\n",
       "      <th>Category-2</th>\n",
       "      <th>Month</th>\n",
       "    </tr>\n",
       "  </thead>\n",
       "  <tbody>\n",
       "    <tr>\n",
       "      <th>0</th>\n",
       "      <td>1</td>\n",
       "      <td>cristiano</td>\n",
       "      <td>Cristiano Ronaldo</td>\n",
       "      <td>Sports with a ball</td>\n",
       "      <td>483.1M</td>\n",
       "      <td>India</td>\n",
       "      <td>4.5M</td>\n",
       "      <td>5.6M</td>\n",
       "      <td>NaN</td>\n",
       "      <td>November</td>\n",
       "    </tr>\n",
       "    <tr>\n",
       "      <th>1</th>\n",
       "      <td>2</td>\n",
       "      <td>kyliejenner</td>\n",
       "      <td>Kylie 🤍</td>\n",
       "      <td>Fashion</td>\n",
       "      <td>370M</td>\n",
       "      <td>United States</td>\n",
       "      <td>2.8M</td>\n",
       "      <td>4.4M</td>\n",
       "      <td>Modeling</td>\n",
       "      <td>November</td>\n",
       "    </tr>\n",
       "  </tbody>\n",
       "</table>\n",
       "</div>"
      ],
      "text/plain": [
       "   s.no         Name     Instagram Name          Category-1 Followers  \\\n",
       "0     1    cristiano  Cristiano Ronaldo  Sports with a ball    483.1M   \n",
       "1     2  kyliejenner            Kylie 🤍             Fashion      370M   \n",
       "\n",
       "       \\nCountry Eng. (Auth.) Eng. (Avg.) Category-2     Month  \n",
       "0          India         4.5M        5.6M        NaN  November  \n",
       "1  United States         2.8M        4.4M   Modeling  November  "
      ]
     },
     "execution_count": 14,
     "metadata": {},
     "output_type": "execute_result"
    }
   ],
   "source": [
    "# Archivo de Instagram - noviembre\n",
    "df_I_Nov = pd.read_csv(Instagram[0])\n",
    "df_I_Nov['Month'] = 'November'\n",
    "df_I_Nov.head(2)"
   ]
  },
  {
   "cell_type": "code",
   "execution_count": 15,
   "metadata": {
    "tags": []
   },
   "outputs": [
    {
     "data": {
      "text/html": [
       "<div>\n",
       "<style scoped>\n",
       "    .dataframe tbody tr th:only-of-type {\n",
       "        vertical-align: middle;\n",
       "    }\n",
       "\n",
       "    .dataframe tbody tr th {\n",
       "        vertical-align: top;\n",
       "    }\n",
       "\n",
       "    .dataframe thead th {\n",
       "        text-align: right;\n",
       "    }\n",
       "</style>\n",
       "<table border=\"1\" class=\"dataframe\">\n",
       "  <thead>\n",
       "    <tr style=\"text-align: right;\">\n",
       "      <th></th>\n",
       "      <th>instagram name</th>\n",
       "      <th>influencer name</th>\n",
       "      <th>Category_1</th>\n",
       "      <th>Category_2</th>\n",
       "      <th>Subscribers count</th>\n",
       "      <th>Views avg.</th>\n",
       "      <th>Likes avg</th>\n",
       "      <th>Comments avg.</th>\n",
       "      <th>Month</th>\n",
       "    </tr>\n",
       "  </thead>\n",
       "  <tbody>\n",
       "    <tr>\n",
       "      <th>0</th>\n",
       "      <td>433</td>\n",
       "      <td>433</td>\n",
       "      <td>Sports with a ball</td>\n",
       "      <td>NaN</td>\n",
       "      <td>50.7M</td>\n",
       "      <td>Spain</td>\n",
       "      <td>274.9K</td>\n",
       "      <td>456.7K</td>\n",
       "      <td>June</td>\n",
       "    </tr>\n",
       "    <tr>\n",
       "      <th>1</th>\n",
       "      <td>____kimwoobin</td>\n",
       "      <td>김우빈</td>\n",
       "      <td>Lifestyle</td>\n",
       "      <td>NaN</td>\n",
       "      <td>3.6M</td>\n",
       "      <td>Indonesia</td>\n",
       "      <td>449.4K</td>\n",
       "      <td>592.7K</td>\n",
       "      <td>June</td>\n",
       "    </tr>\n",
       "  </tbody>\n",
       "</table>\n",
       "</div>"
      ],
      "text/plain": [
       "  instagram name influencer name           Category_1 Category_2  \\\n",
       "0            433              433  Sports with a ball        NaN   \n",
       "1  ____kimwoobin         김우빈           Lifestyle        NaN   \n",
       "\n",
       "  Subscribers count Views avg. Likes avg Comments avg. Month  \n",
       "0             50.7M      Spain    274.9K        456.7K  June  \n",
       "1              3.6M  Indonesia    449.4K        592.7K  June  "
      ]
     },
     "execution_count": 15,
     "metadata": {},
     "output_type": "execute_result"
    }
   ],
   "source": [
    "# Archivo de Instagram - junio\n",
    "df_I_June = pd.read_csv(Instagram[1])\n",
    "df_I_June['Month'] = 'June'\n",
    "df_I_June.head(2)"
   ]
  },
  {
   "cell_type": "code",
   "execution_count": 16,
   "metadata": {
    "tags": []
   },
   "outputs": [
    {
     "data": {
      "text/html": [
       "<div>\n",
       "<style scoped>\n",
       "    .dataframe tbody tr th:only-of-type {\n",
       "        vertical-align: middle;\n",
       "    }\n",
       "\n",
       "    .dataframe tbody tr th {\n",
       "        vertical-align: top;\n",
       "    }\n",
       "\n",
       "    .dataframe thead th {\n",
       "        text-align: right;\n",
       "    }\n",
       "</style>\n",
       "<table border=\"1\" class=\"dataframe\">\n",
       "  <thead>\n",
       "    <tr style=\"text-align: right;\">\n",
       "      <th></th>\n",
       "      <th>Rank</th>\n",
       "      <th>name</th>\n",
       "      <th>instagram name</th>\n",
       "      <th>Category_1</th>\n",
       "      <th>Category_2</th>\n",
       "      <th>followers</th>\n",
       "      <th>country</th>\n",
       "      <th>Eng. (Auth.)</th>\n",
       "      <th>Eng. (Avg.)</th>\n",
       "      <th>Month</th>\n",
       "    </tr>\n",
       "  </thead>\n",
       "  <tbody>\n",
       "    <tr>\n",
       "      <th>0</th>\n",
       "      <td>1</td>\n",
       "      <td>leomessi</td>\n",
       "      <td>Leo Messi</td>\n",
       "      <td>Sports with a ball</td>\n",
       "      <td>Family</td>\n",
       "      <td>409.8M</td>\n",
       "      <td>Argentina</td>\n",
       "      <td>17.8M</td>\n",
       "      <td>23.4M</td>\n",
       "      <td>December</td>\n",
       "    </tr>\n",
       "    <tr>\n",
       "      <th>1</th>\n",
       "      <td>2</td>\n",
       "      <td>cristiano</td>\n",
       "      <td>Cristiano Ronaldo</td>\n",
       "      <td>Sports with a ball</td>\n",
       "      <td>NaN</td>\n",
       "      <td>523M</td>\n",
       "      <td>India</td>\n",
       "      <td>11.7M</td>\n",
       "      <td>14.7M</td>\n",
       "      <td>December</td>\n",
       "    </tr>\n",
       "  </tbody>\n",
       "</table>\n",
       "</div>"
      ],
      "text/plain": [
       "   Rank       name     instagram name          Category_1 Category_2  \\\n",
       "0     1   leomessi          Leo Messi  Sports with a ball     Family   \n",
       "1     2  cristiano  Cristiano Ronaldo  Sports with a ball        NaN   \n",
       "\n",
       "  followers    country Eng. (Auth.) Eng. (Avg.)     Month  \n",
       "0    409.8M  Argentina        17.8M       23.4M  December  \n",
       "1      523M      India        11.7M       14.7M  December  "
      ]
     },
     "execution_count": 16,
     "metadata": {},
     "output_type": "execute_result"
    }
   ],
   "source": [
    "# Archivo de Instagram - diciembre\n",
    "df_I_Dec = pd.read_csv(Instagram[2])\n",
    "df_I_Dec['Month'] = 'December'\n",
    "df_I_Dec.head(2)"
   ]
  },
  {
   "cell_type": "code",
   "execution_count": 17,
   "metadata": {
    "tags": []
   },
   "outputs": [
    {
     "data": {
      "text/html": [
       "<div>\n",
       "<style scoped>\n",
       "    .dataframe tbody tr th:only-of-type {\n",
       "        vertical-align: middle;\n",
       "    }\n",
       "\n",
       "    .dataframe tbody tr th {\n",
       "        vertical-align: top;\n",
       "    }\n",
       "\n",
       "    .dataframe thead th {\n",
       "        text-align: right;\n",
       "    }\n",
       "</style>\n",
       "<table border=\"1\" class=\"dataframe\">\n",
       "  <thead>\n",
       "    <tr style=\"text-align: right;\">\n",
       "      <th></th>\n",
       "      <th>S.no</th>\n",
       "      <th>Instagram name</th>\n",
       "      <th>Name</th>\n",
       "      <th>Subscribers</th>\n",
       "      <th>Audience country</th>\n",
       "      <th>Authentic engagement\\n</th>\n",
       "      <th>Engagement average\\r\\n</th>\n",
       "      <th>Category_1</th>\n",
       "      <th>Category_2</th>\n",
       "      <th>Month</th>\n",
       "    </tr>\n",
       "  </thead>\n",
       "  <tbody>\n",
       "    <tr>\n",
       "      <th>0</th>\n",
       "      <td>1</td>\n",
       "      <td>cristiano</td>\n",
       "      <td>Cristiano Ronaldo</td>\n",
       "      <td>477.9M</td>\n",
       "      <td>India</td>\n",
       "      <td>5M</td>\n",
       "      <td>6.2M</td>\n",
       "      <td>Sports with a ball</td>\n",
       "      <td>NaN</td>\n",
       "      <td>September</td>\n",
       "    </tr>\n",
       "    <tr>\n",
       "      <th>1</th>\n",
       "      <td>2</td>\n",
       "      <td>kyliejenner</td>\n",
       "      <td>Kylie 🤍</td>\n",
       "      <td>368.1M</td>\n",
       "      <td>United States</td>\n",
       "      <td>3.5M</td>\n",
       "      <td>5.5M</td>\n",
       "      <td>Fashion</td>\n",
       "      <td>Modeling</td>\n",
       "      <td>September</td>\n",
       "    </tr>\n",
       "  </tbody>\n",
       "</table>\n",
       "</div>"
      ],
      "text/plain": [
       "   S.no Instagram name               Name Subscribers Audience country  \\\n",
       "0     1      cristiano  Cristiano Ronaldo      477.9M            India   \n",
       "1     2    kyliejenner            Kylie 🤍      368.1M    United States   \n",
       "\n",
       "  Authentic engagement\\n Engagement average\\r\\n          Category_1  \\\n",
       "0                     5M                   6.2M  Sports with a ball   \n",
       "1                   3.5M                   5.5M             Fashion   \n",
       "\n",
       "  Category_2      Month  \n",
       "0        NaN  September  \n",
       "1   Modeling  September  "
      ]
     },
     "execution_count": 17,
     "metadata": {},
     "output_type": "execute_result"
    }
   ],
   "source": [
    "# Archivo de Instagram - septiembre\n",
    "df_I_Sep = pd.read_csv(Instagram[3])\n",
    "df_I_Sep['Month'] = 'September'\n",
    "df_I_Sep.head(2)"
   ]
  },
  {
   "cell_type": "markdown",
   "metadata": {},
   "source": [
    "Una vez que cada DataFrame contiene los meses, se concatenan en uno solo y se limpia"
   ]
  },
  {
   "cell_type": "code",
   "execution_count": 18,
   "metadata": {
    "tags": []
   },
   "outputs": [
    {
     "data": {
      "text/html": [
       "<div>\n",
       "<style scoped>\n",
       "    .dataframe tbody tr th:only-of-type {\n",
       "        vertical-align: middle;\n",
       "    }\n",
       "\n",
       "    .dataframe tbody tr th {\n",
       "        vertical-align: top;\n",
       "    }\n",
       "\n",
       "    .dataframe thead th {\n",
       "        text-align: right;\n",
       "    }\n",
       "</style>\n",
       "<table border=\"1\" class=\"dataframe\">\n",
       "  <thead>\n",
       "    <tr style=\"text-align: right;\">\n",
       "      <th></th>\n",
       "      <th>instagram name</th>\n",
       "      <th>influencer name</th>\n",
       "      <th>Category_1</th>\n",
       "      <th>Category_2</th>\n",
       "      <th>Subscribers count</th>\n",
       "      <th>Views avg.</th>\n",
       "      <th>Likes avg</th>\n",
       "      <th>Comments avg.</th>\n",
       "      <th>Month</th>\n",
       "      <th>S.no</th>\n",
       "      <th>...</th>\n",
       "      <th>Category-1</th>\n",
       "      <th>Followers</th>\n",
       "      <th>\\nCountry</th>\n",
       "      <th>Eng. (Auth.)</th>\n",
       "      <th>Eng. (Avg.)</th>\n",
       "      <th>Category-2</th>\n",
       "      <th>Rank</th>\n",
       "      <th>name</th>\n",
       "      <th>followers</th>\n",
       "      <th>country</th>\n",
       "    </tr>\n",
       "  </thead>\n",
       "  <tbody>\n",
       "    <tr>\n",
       "      <th>0</th>\n",
       "      <td>433</td>\n",
       "      <td>433</td>\n",
       "      <td>Sports with a ball</td>\n",
       "      <td>NaN</td>\n",
       "      <td>50.7M</td>\n",
       "      <td>Spain</td>\n",
       "      <td>274.9K</td>\n",
       "      <td>456.7K</td>\n",
       "      <td>June</td>\n",
       "      <td>NaN</td>\n",
       "      <td>...</td>\n",
       "      <td>NaN</td>\n",
       "      <td>NaN</td>\n",
       "      <td>NaN</td>\n",
       "      <td>NaN</td>\n",
       "      <td>NaN</td>\n",
       "      <td>NaN</td>\n",
       "      <td>NaN</td>\n",
       "      <td>NaN</td>\n",
       "      <td>NaN</td>\n",
       "      <td>NaN</td>\n",
       "    </tr>\n",
       "    <tr>\n",
       "      <th>1</th>\n",
       "      <td>____kimwoobin</td>\n",
       "      <td>김우빈</td>\n",
       "      <td>Lifestyle</td>\n",
       "      <td>NaN</td>\n",
       "      <td>3.6M</td>\n",
       "      <td>Indonesia</td>\n",
       "      <td>449.4K</td>\n",
       "      <td>592.7K</td>\n",
       "      <td>June</td>\n",
       "      <td>NaN</td>\n",
       "      <td>...</td>\n",
       "      <td>NaN</td>\n",
       "      <td>NaN</td>\n",
       "      <td>NaN</td>\n",
       "      <td>NaN</td>\n",
       "      <td>NaN</td>\n",
       "      <td>NaN</td>\n",
       "      <td>NaN</td>\n",
       "      <td>NaN</td>\n",
       "      <td>NaN</td>\n",
       "      <td>NaN</td>\n",
       "    </tr>\n",
       "    <tr>\n",
       "      <th>2</th>\n",
       "      <td>__youngbae__</td>\n",
       "      <td>TAEYANG</td>\n",
       "      <td>Music</td>\n",
       "      <td>NaN</td>\n",
       "      <td>13.4M</td>\n",
       "      <td>Indonesia</td>\n",
       "      <td>269.6K</td>\n",
       "      <td>304.1K</td>\n",
       "      <td>June</td>\n",
       "      <td>NaN</td>\n",
       "      <td>...</td>\n",
       "      <td>NaN</td>\n",
       "      <td>NaN</td>\n",
       "      <td>NaN</td>\n",
       "      <td>NaN</td>\n",
       "      <td>NaN</td>\n",
       "      <td>NaN</td>\n",
       "      <td>NaN</td>\n",
       "      <td>NaN</td>\n",
       "      <td>NaN</td>\n",
       "      <td>NaN</td>\n",
       "    </tr>\n",
       "    <tr>\n",
       "      <th>3</th>\n",
       "      <td>_agentgirl_</td>\n",
       "      <td>НАСТЯ ИВЛЕЕВА</td>\n",
       "      <td>Shows</td>\n",
       "      <td>NaN</td>\n",
       "      <td>18.6M</td>\n",
       "      <td>Russia</td>\n",
       "      <td>164.4K</td>\n",
       "      <td>189.4K</td>\n",
       "      <td>June</td>\n",
       "      <td>NaN</td>\n",
       "      <td>...</td>\n",
       "      <td>NaN</td>\n",
       "      <td>NaN</td>\n",
       "      <td>NaN</td>\n",
       "      <td>NaN</td>\n",
       "      <td>NaN</td>\n",
       "      <td>NaN</td>\n",
       "      <td>NaN</td>\n",
       "      <td>NaN</td>\n",
       "      <td>NaN</td>\n",
       "      <td>NaN</td>\n",
       "    </tr>\n",
       "    <tr>\n",
       "      <th>4</th>\n",
       "      <td>_hakkencoser_</td>\n",
       "      <td>Hakken 八犬</td>\n",
       "      <td>Lifestyle</td>\n",
       "      <td>Photography</td>\n",
       "      <td>3.5M</td>\n",
       "      <td>United States</td>\n",
       "      <td>525.1K</td>\n",
       "      <td>643K</td>\n",
       "      <td>June</td>\n",
       "      <td>NaN</td>\n",
       "      <td>...</td>\n",
       "      <td>NaN</td>\n",
       "      <td>NaN</td>\n",
       "      <td>NaN</td>\n",
       "      <td>NaN</td>\n",
       "      <td>NaN</td>\n",
       "      <td>NaN</td>\n",
       "      <td>NaN</td>\n",
       "      <td>NaN</td>\n",
       "      <td>NaN</td>\n",
       "      <td>NaN</td>\n",
       "    </tr>\n",
       "  </tbody>\n",
       "</table>\n",
       "<p>5 rows × 29 columns</p>\n",
       "</div>"
      ],
      "text/plain": [
       "  instagram name influencer name           Category_1   Category_2  \\\n",
       "0            433              433  Sports with a ball          NaN   \n",
       "1  ____kimwoobin         김우빈           Lifestyle          NaN   \n",
       "2   __youngbae__          TAEYANG               Music          NaN   \n",
       "3    _agentgirl_    НАСТЯ ИВЛЕЕВА               Shows          NaN   \n",
       "4  _hakkencoser_        Hakken 八犬           Lifestyle  Photography   \n",
       "\n",
       "  Subscribers count     Views avg. Likes avg Comments avg. Month  S.no  ...  \\\n",
       "0             50.7M          Spain    274.9K        456.7K  June   NaN  ...   \n",
       "1              3.6M      Indonesia    449.4K        592.7K  June   NaN  ...   \n",
       "2             13.4M      Indonesia    269.6K        304.1K  June   NaN  ...   \n",
       "3             18.6M         Russia    164.4K        189.4K  June   NaN  ...   \n",
       "4              3.5M  United States    525.1K          643K  June   NaN  ...   \n",
       "\n",
       "  Category-1 Followers \\nCountry Eng. (Auth.) Eng. (Avg.) Category-2  Rank  \\\n",
       "0        NaN       NaN       NaN          NaN         NaN        NaN   NaN   \n",
       "1        NaN       NaN       NaN          NaN         NaN        NaN   NaN   \n",
       "2        NaN       NaN       NaN          NaN         NaN        NaN   NaN   \n",
       "3        NaN       NaN       NaN          NaN         NaN        NaN   NaN   \n",
       "4        NaN       NaN       NaN          NaN         NaN        NaN   NaN   \n",
       "\n",
       "  name followers country  \n",
       "0  NaN       NaN     NaN  \n",
       "1  NaN       NaN     NaN  \n",
       "2  NaN       NaN     NaN  \n",
       "3  NaN       NaN     NaN  \n",
       "4  NaN       NaN     NaN  \n",
       "\n",
       "[5 rows x 29 columns]"
      ]
     },
     "execution_count": 18,
     "metadata": {},
     "output_type": "execute_result"
    }
   ],
   "source": [
    "# Concatenar los DataFrames de Instagram en un solo DataFrame\n",
    "df_Insta = pd.concat([df_I_June, df_I_Sep, df_I_Nov, df_I_Dec], axis=0, ignore_index=True)\n",
    "\n",
    "# Verificar el DataFrame resultante\n",
    "df_Insta.head()"
   ]
  },
  {
   "cell_type": "code",
   "execution_count": 19,
   "metadata": {
    "tags": []
   },
   "outputs": [],
   "source": [
    "# Limpieza del DataFrame de Instagram\n",
    "    # Combinar las columnas que se refieren a la misma información y eliminar las que ya no se necesitan\n",
    "#Username\n",
    "df_Insta['Username'] = df_Insta['Instagram Name'].combine_first(df_Insta['instagram name']).combine_first(df_Insta['Instagram name'])\n",
    "df_Insta = df_Insta.drop(['Instagram Name','instagram name','Instagram name'], axis=1)\n",
    "#Name\n",
    "df_Insta['Name'] = df_Insta['Name'].combine_first(df_Insta['influencer name ']).combine_first(df_Insta['name']).combine_first(df_Insta[' Name'])\n",
    "df_Insta = df_Insta.drop(['influencer name ','name',' Name'], axis=1)\n",
    "#Subscribers o Followers\n",
    "df_Insta['Subscribers o Followers'] = df_Insta['Subscribers'].combine_first(df_Insta['Subscribers count']).combine_first(df_Insta['followers']).combine_first(df_Insta['Followers'])\n",
    "df_Insta = df_Insta.drop(['Subscribers','Subscribers count','followers','Followers'], axis=1)\n",
    "#Country\n",
    "df_Insta['Country'] = df_Insta['Audience country'].combine_first(df_Insta['Views avg.']).combine_first(df_Insta['country']).combine_first(df_Insta['\\nCountry'])\n",
    "df_Insta = df_Insta.drop(['Audience country','Views avg.','country','\\nCountry'], axis=1)\n",
    "#Authentic\n",
    "df_Insta['Authentic'] = df_Insta['Authentic engagement\\n'].combine_first(df_Insta['Eng. (Auth.)']).combine_first(df_Insta['Likes avg'])\n",
    "df_Insta = df_Insta.drop(['Authentic engagement\\n','Eng. (Auth.)','Likes avg'], axis=1)\n",
    "#Engagement\n",
    "df_Insta['Engagement'] = df_Insta['Engagement average\\r\\n'].combine_first(df_Insta['Eng. (Avg.)']).combine_first(df_Insta['Comments avg.'])\n",
    "df_Insta = df_Insta.drop(['Engagement average\\r\\n','Eng. (Avg.)','Comments avg.'], axis=1)\n",
    "#Category1\n",
    "df_Insta['Category1'] = df_Insta['Category-1'].combine_first(df_Insta['Category_1'])\n",
    "df_Insta = df_Insta.drop(['Category-1','Category_1'], axis=1)\n",
    "#Category2\n",
    "df_Insta['Category2'] = df_Insta['Category-2'].combine_first(df_Insta['Category_2'])\n",
    "df_Insta = df_Insta.drop(['Category-2','Category_2'], axis=1)\n",
    "#Borrar datos inecesarios\n",
    "df_Insta = df_Insta.drop(['s.no','S.no','Rank'], axis=1)"
   ]
  },
  {
   "cell_type": "code",
   "execution_count": 20,
   "metadata": {
    "tags": []
   },
   "outputs": [
    {
     "data": {
      "text/html": [
       "<div>\n",
       "<style scoped>\n",
       "    .dataframe tbody tr th:only-of-type {\n",
       "        vertical-align: middle;\n",
       "    }\n",
       "\n",
       "    .dataframe tbody tr th {\n",
       "        vertical-align: top;\n",
       "    }\n",
       "\n",
       "    .dataframe thead th {\n",
       "        text-align: right;\n",
       "    }\n",
       "</style>\n",
       "<table border=\"1\" class=\"dataframe\">\n",
       "  <thead>\n",
       "    <tr style=\"text-align: right;\">\n",
       "      <th></th>\n",
       "      <th>Month</th>\n",
       "      <th>Name</th>\n",
       "      <th>Username</th>\n",
       "      <th>Subscribers o Followers</th>\n",
       "      <th>Country</th>\n",
       "      <th>Authentic</th>\n",
       "      <th>Engagement</th>\n",
       "      <th>Category1</th>\n",
       "      <th>Category2</th>\n",
       "    </tr>\n",
       "  </thead>\n",
       "  <tbody>\n",
       "    <tr>\n",
       "      <th>0</th>\n",
       "      <td>June</td>\n",
       "      <td>433</td>\n",
       "      <td>433</td>\n",
       "      <td>50.7M</td>\n",
       "      <td>Spain</td>\n",
       "      <td>274.9K</td>\n",
       "      <td>456.7K</td>\n",
       "      <td>Sports with a ball</td>\n",
       "      <td>NaN</td>\n",
       "    </tr>\n",
       "    <tr>\n",
       "      <th>1</th>\n",
       "      <td>June</td>\n",
       "      <td>김우빈</td>\n",
       "      <td>____kimwoobin</td>\n",
       "      <td>3.6M</td>\n",
       "      <td>Indonesia</td>\n",
       "      <td>449.4K</td>\n",
       "      <td>592.7K</td>\n",
       "      <td>Lifestyle</td>\n",
       "      <td>NaN</td>\n",
       "    </tr>\n",
       "    <tr>\n",
       "      <th>2</th>\n",
       "      <td>June</td>\n",
       "      <td>TAEYANG</td>\n",
       "      <td>__youngbae__</td>\n",
       "      <td>13.4M</td>\n",
       "      <td>Indonesia</td>\n",
       "      <td>269.6K</td>\n",
       "      <td>304.1K</td>\n",
       "      <td>Music</td>\n",
       "      <td>NaN</td>\n",
       "    </tr>\n",
       "    <tr>\n",
       "      <th>3</th>\n",
       "      <td>June</td>\n",
       "      <td>НАСТЯ ИВЛЕЕВА</td>\n",
       "      <td>_agentgirl_</td>\n",
       "      <td>18.6M</td>\n",
       "      <td>Russia</td>\n",
       "      <td>164.4K</td>\n",
       "      <td>189.4K</td>\n",
       "      <td>Shows</td>\n",
       "      <td>NaN</td>\n",
       "    </tr>\n",
       "    <tr>\n",
       "      <th>4</th>\n",
       "      <td>June</td>\n",
       "      <td>Hakken 八犬</td>\n",
       "      <td>_hakkencoser_</td>\n",
       "      <td>3.5M</td>\n",
       "      <td>United States</td>\n",
       "      <td>525.1K</td>\n",
       "      <td>643K</td>\n",
       "      <td>Lifestyle</td>\n",
       "      <td>Photography</td>\n",
       "    </tr>\n",
       "    <tr>\n",
       "      <th>...</th>\n",
       "      <td>...</td>\n",
       "      <td>...</td>\n",
       "      <td>...</td>\n",
       "      <td>...</td>\n",
       "      <td>...</td>\n",
       "      <td>...</td>\n",
       "      <td>...</td>\n",
       "      <td>...</td>\n",
       "      <td>...</td>\n",
       "    </tr>\n",
       "    <tr>\n",
       "      <th>4067</th>\n",
       "      <td>December</td>\n",
       "      <td>thiago6</td>\n",
       "      <td>Thiago Alcantara</td>\n",
       "      <td>10.4M</td>\n",
       "      <td>United Kingdom</td>\n",
       "      <td>129.9K</td>\n",
       "      <td>222.7K</td>\n",
       "      <td>Sports with a ball</td>\n",
       "      <td>NaN</td>\n",
       "    </tr>\n",
       "    <tr>\n",
       "      <th>4068</th>\n",
       "      <td>December</td>\n",
       "      <td>soycintiacossio</td>\n",
       "      <td>Cintia Cossio</td>\n",
       "      <td>6M</td>\n",
       "      <td>Colombia</td>\n",
       "      <td>313.4K</td>\n",
       "      <td>390.6K</td>\n",
       "      <td>Modeling</td>\n",
       "      <td>Adult content</td>\n",
       "    </tr>\n",
       "    <tr>\n",
       "      <th>4069</th>\n",
       "      <td>December</td>\n",
       "      <td>feat.dino</td>\n",
       "      <td>이찬</td>\n",
       "      <td>2.7M</td>\n",
       "      <td>South Korea</td>\n",
       "      <td>716.6K</td>\n",
       "      <td>876.4K</td>\n",
       "      <td>Lifestyle</td>\n",
       "      <td>NaN</td>\n",
       "    </tr>\n",
       "    <tr>\n",
       "      <th>4070</th>\n",
       "      <td>December</td>\n",
       "      <td>djokernole</td>\n",
       "      <td>Novak Djokovic</td>\n",
       "      <td>11.8M</td>\n",
       "      <td>United States</td>\n",
       "      <td>158.6K</td>\n",
       "      <td>197.5K</td>\n",
       "      <td>Sports with a ball</td>\n",
       "      <td>NaN</td>\n",
       "    </tr>\n",
       "    <tr>\n",
       "      <th>4071</th>\n",
       "      <td>December</td>\n",
       "      <td>ravindra.jadeja</td>\n",
       "      <td>Ravindrasinh jadeja</td>\n",
       "      <td>4.8M</td>\n",
       "      <td>India</td>\n",
       "      <td>388.9K</td>\n",
       "      <td>485.1K</td>\n",
       "      <td>Lifestyle</td>\n",
       "      <td>Sports with a ball</td>\n",
       "    </tr>\n",
       "  </tbody>\n",
       "</table>\n",
       "<p>4072 rows × 9 columns</p>\n",
       "</div>"
      ],
      "text/plain": [
       "         Month             Name             Username Subscribers o Followers  \\\n",
       "0         June              433                  433                   50.7M   \n",
       "1         June         김우빈        ____kimwoobin                    3.6M   \n",
       "2         June          TAEYANG         __youngbae__                   13.4M   \n",
       "3         June    НАСТЯ ИВЛЕЕВА          _agentgirl_                   18.6M   \n",
       "4         June        Hakken 八犬        _hakkencoser_                    3.5M   \n",
       "...        ...              ...                  ...                     ...   \n",
       "4067  December          thiago6     Thiago Alcantara                   10.4M   \n",
       "4068  December  soycintiacossio        Cintia Cossio                      6M   \n",
       "4069  December        feat.dino                   이찬                    2.7M   \n",
       "4070  December       djokernole       Novak Djokovic                   11.8M   \n",
       "4071  December  ravindra.jadeja  Ravindrasinh jadeja                    4.8M   \n",
       "\n",
       "             Country Authentic Engagement           Category1  \\\n",
       "0              Spain    274.9K     456.7K  Sports with a ball   \n",
       "1          Indonesia    449.4K     592.7K           Lifestyle   \n",
       "2          Indonesia    269.6K     304.1K               Music   \n",
       "3             Russia    164.4K     189.4K               Shows   \n",
       "4      United States    525.1K       643K           Lifestyle   \n",
       "...              ...       ...        ...                 ...   \n",
       "4067  United Kingdom    129.9K     222.7K  Sports with a ball   \n",
       "4068        Colombia    313.4K     390.6K            Modeling   \n",
       "4069     South Korea    716.6K     876.4K           Lifestyle   \n",
       "4070   United States    158.6K     197.5K  Sports with a ball   \n",
       "4071           India    388.9K     485.1K           Lifestyle   \n",
       "\n",
       "               Category2  \n",
       "0                    NaN  \n",
       "1                    NaN  \n",
       "2                    NaN  \n",
       "3                    NaN  \n",
       "4            Photography  \n",
       "...                  ...  \n",
       "4067                 NaN  \n",
       "4068       Adult content  \n",
       "4069                 NaN  \n",
       "4070                 NaN  \n",
       "4071  Sports with a ball  \n",
       "\n",
       "[4072 rows x 9 columns]"
      ]
     },
     "execution_count": 20,
     "metadata": {},
     "output_type": "execute_result"
    }
   ],
   "source": [
    "# Verificar el DataFrame de Instagram resultante\n",
    "df_Insta"
   ]
  },
  {
   "cell_type": "code",
   "execution_count": 21,
   "metadata": {
    "tags": []
   },
   "outputs": [
    {
     "data": {
      "text/plain": [
       "Month                         0\n",
       "Name                         47\n",
       "Username                     41\n",
       "Subscribers o Followers       0\n",
       "Country                       9\n",
       "Authentic                     0\n",
       "Engagement                   16\n",
       "Category1                   441\n",
       "Category2                  2852\n",
       "dtype: int64"
      ]
     },
     "execution_count": 21,
     "metadata": {},
     "output_type": "execute_result"
    }
   ],
   "source": [
    "df_Insta.isna().sum()"
   ]
  },
  {
   "cell_type": "code",
   "execution_count": 22,
   "metadata": {
    "tags": []
   },
   "outputs": [],
   "source": [
    "df_Insta = df_Insta.drop_duplicates()"
   ]
  },
  {
   "cell_type": "code",
   "execution_count": 23,
   "metadata": {
    "tags": []
   },
   "outputs": [],
   "source": [
    "df_Insta=df_Insta.dropna()"
   ]
  },
  {
   "cell_type": "code",
   "execution_count": 24,
   "metadata": {
    "tags": []
   },
   "outputs": [
    {
     "data": {
      "text/plain": [
       "(1168, 9)"
      ]
     },
     "execution_count": 24,
     "metadata": {},
     "output_type": "execute_result"
    }
   ],
   "source": [
    "df_Insta.shape"
   ]
  },
  {
   "cell_type": "markdown",
   "metadata": {
    "tags": []
   },
   "source": [
    "Se realizan los mismos pasos anteriores para los otros dos DataFrames de TikTok y Youtube"
   ]
  },
  {
   "cell_type": "markdown",
   "metadata": {},
   "source": [
    "### TikTok"
   ]
  },
  {
   "cell_type": "code",
   "execution_count": 25,
   "metadata": {
    "tags": []
   },
   "outputs": [
    {
     "data": {
      "text/plain": [
       "['/home/moni/Ciencia de datos/Proyectos/CienciaDatosLasChicasSuperpoderosas/Proyectos/Unidad2/socialnetworks/social media influencers-tiktok - ---nov 2022.csv',\n",
       " '/home/moni/Ciencia de datos/Proyectos/CienciaDatosLasChicasSuperpoderosas/Proyectos/Unidad2/socialnetworks/social media influencers - Tiktok sep 2022.csv',\n",
       " '/home/moni/Ciencia de datos/Proyectos/CienciaDatosLasChicasSuperpoderosas/Proyectos/Unidad2/socialnetworks/social media influencers-tiktok june 2022 - june 2022.csv',\n",
       " '/home/moni/Ciencia de datos/Proyectos/CienciaDatosLasChicasSuperpoderosas/Proyectos/Unidad2/socialnetworks/social media influencers-TIKTOK - ---DEC 2022.csv',\n",
       " '/home/moni/Ciencia de datos/Proyectos/CienciaDatosLasChicasSuperpoderosas/Proyectos/Unidad2/socialnetworks/socialnetworks/social media influencers-tiktok - ---nov 2022.csv',\n",
       " '/home/moni/Ciencia de datos/Proyectos/CienciaDatosLasChicasSuperpoderosas/Proyectos/Unidad2/socialnetworks/socialnetworks/social media influencers - Tiktok sep 2022.csv',\n",
       " '/home/moni/Ciencia de datos/Proyectos/CienciaDatosLasChicasSuperpoderosas/Proyectos/Unidad2/socialnetworks/socialnetworks/social media influencers-tiktok june 2022 - june 2022.csv',\n",
       " '/home/moni/Ciencia de datos/Proyectos/CienciaDatosLasChicasSuperpoderosas/Proyectos/Unidad2/socialnetworks/socialnetworks/social media influencers-TIKTOK - ---DEC 2022.csv']"
      ]
     },
     "execution_count": 25,
     "metadata": {},
     "output_type": "execute_result"
    }
   ],
   "source": [
    "Tik_tok"
   ]
  },
  {
   "cell_type": "code",
   "execution_count": 26,
   "metadata": {
    "tags": []
   },
   "outputs": [
    {
     "data": {
      "text/html": [
       "<div>\n",
       "<style scoped>\n",
       "    .dataframe tbody tr th:only-of-type {\n",
       "        vertical-align: middle;\n",
       "    }\n",
       "\n",
       "    .dataframe tbody tr th {\n",
       "        vertical-align: top;\n",
       "    }\n",
       "\n",
       "    .dataframe thead th {\n",
       "        text-align: right;\n",
       "    }\n",
       "</style>\n",
       "<table border=\"1\" class=\"dataframe\">\n",
       "  <thead>\n",
       "    <tr style=\"text-align: right;\">\n",
       "      <th></th>\n",
       "      <th>Tiktoker name</th>\n",
       "      <th>Tiktok name</th>\n",
       "      <th>\\nFollowers</th>\n",
       "      <th>Views (Avg.)</th>\n",
       "      <th>Likes (Avg.)</th>\n",
       "      <th>Comments (Avg.)</th>\n",
       "      <th>Shares (Avg.)</th>\n",
       "      <th>Month</th>\n",
       "    </tr>\n",
       "  </thead>\n",
       "  <tbody>\n",
       "    <tr>\n",
       "      <th>0</th>\n",
       "      <td>NaN</td>\n",
       "      <td>NaN</td>\n",
       "      <td>NaN</td>\n",
       "      <td>NaN</td>\n",
       "      <td>NaN</td>\n",
       "      <td>NaN</td>\n",
       "      <td>NaN</td>\n",
       "      <td>November</td>\n",
       "    </tr>\n",
       "    <tr>\n",
       "      <th>1</th>\n",
       "      <td>yossikramer</td>\n",
       "      <td>Yossi</td>\n",
       "      <td>145.6K</td>\n",
       "      <td>26.8M</td>\n",
       "      <td>2.2M</td>\n",
       "      <td>30.1K</td>\n",
       "      <td>71.2K</td>\n",
       "      <td>November</td>\n",
       "    </tr>\n",
       "  </tbody>\n",
       "</table>\n",
       "</div>"
      ],
      "text/plain": [
       "  Tiktoker name Tiktok name \\nFollowers Views (Avg.) Likes (Avg.)  \\\n",
       "0           NaN         NaN         NaN          NaN          NaN   \n",
       "1   yossikramer       Yossi      145.6K        26.8M         2.2M   \n",
       "\n",
       "  Comments (Avg.) Shares (Avg.)     Month  \n",
       "0             NaN           NaN  November  \n",
       "1           30.1K         71.2K  November  "
      ]
     },
     "execution_count": 26,
     "metadata": {},
     "output_type": "execute_result"
    }
   ],
   "source": [
    "#ARCHIVO DE NOVIEMBRE\n",
    "df_T_Nov = pd.read_csv(Tik_tok[0])\n",
    "df_T_Nov['Month'] = 'November'\n",
    "df_T_Nov.drop(['row-cell'], axis=1, inplace=True)\n",
    "df_T_Nov.head(2)"
   ]
  },
  {
   "cell_type": "code",
   "execution_count": 27,
   "metadata": {
    "tags": []
   },
   "outputs": [
    {
     "data": {
      "text/html": [
       "<div>\n",
       "<style scoped>\n",
       "    .dataframe tbody tr th:only-of-type {\n",
       "        vertical-align: middle;\n",
       "    }\n",
       "\n",
       "    .dataframe tbody tr th {\n",
       "        vertical-align: top;\n",
       "    }\n",
       "\n",
       "    .dataframe thead th {\n",
       "        text-align: right;\n",
       "    }\n",
       "</style>\n",
       "<table border=\"1\" class=\"dataframe\">\n",
       "  <thead>\n",
       "    <tr style=\"text-align: right;\">\n",
       "      <th></th>\n",
       "      <th>Tiktoker name</th>\n",
       "      <th>Tiktok name</th>\n",
       "      <th>Subscribers</th>\n",
       "      <th>Views avg.</th>\n",
       "      <th>Likes avg.</th>\n",
       "      <th>Comments avg.</th>\n",
       "      <th>Shares avg.</th>\n",
       "      <th>Month</th>\n",
       "    </tr>\n",
       "  </thead>\n",
       "  <tbody>\n",
       "    <tr>\n",
       "      <th>0</th>\n",
       "      <td>jypestraykids</td>\n",
       "      <td>Stray Kids</td>\n",
       "      <td>13.8M</td>\n",
       "      <td>6.4M</td>\n",
       "      <td>2.3M</td>\n",
       "      <td>50.2K</td>\n",
       "      <td>34.2K</td>\n",
       "      <td>September</td>\n",
       "    </tr>\n",
       "    <tr>\n",
       "      <th>1</th>\n",
       "      <td>khaby.lame</td>\n",
       "      <td>Khabane lame</td>\n",
       "      <td>149.2M</td>\n",
       "      <td>17.3M</td>\n",
       "      <td>2.3M</td>\n",
       "      <td>15.2K</td>\n",
       "      <td>8.7K</td>\n",
       "      <td>September</td>\n",
       "    </tr>\n",
       "  </tbody>\n",
       "</table>\n",
       "</div>"
      ],
      "text/plain": [
       "   Tiktoker name   Tiktok name Subscribers Views avg. Likes avg.  \\\n",
       "0  jypestraykids    Stray Kids       13.8M       6.4M       2.3M   \n",
       "1     khaby.lame  Khabane lame      149.2M      17.3M       2.3M   \n",
       "\n",
       "  Comments avg. Shares avg.      Month  \n",
       "0         50.2K       34.2K  September  \n",
       "1         15.2K        8.7K  September  "
      ]
     },
     "execution_count": 27,
     "metadata": {},
     "output_type": "execute_result"
    }
   ],
   "source": [
    "# ARCHIVO DE SEPTIEMBRE\n",
    "df_T_Sep = pd.read_csv(Tik_tok[1])\n",
    "df_T_Sep['Month'] = 'September'\n",
    "df_T_Sep.drop(['S.no'], axis=1, inplace=True)\n",
    "df_T_Sep.head(2)"
   ]
  },
  {
   "cell_type": "code",
   "execution_count": 28,
   "metadata": {
    "tags": []
   },
   "outputs": [
    {
     "data": {
      "text/html": [
       "<div>\n",
       "<style scoped>\n",
       "    .dataframe tbody tr th:only-of-type {\n",
       "        vertical-align: middle;\n",
       "    }\n",
       "\n",
       "    .dataframe tbody tr th {\n",
       "        vertical-align: top;\n",
       "    }\n",
       "\n",
       "    .dataframe thead th {\n",
       "        text-align: right;\n",
       "    }\n",
       "</style>\n",
       "<table border=\"1\" class=\"dataframe\">\n",
       "  <thead>\n",
       "    <tr style=\"text-align: right;\">\n",
       "      <th></th>\n",
       "      <th>Tiktoker</th>\n",
       "      <th>influencer name</th>\n",
       "      <th>Subscribers count</th>\n",
       "      <th>Views avg.</th>\n",
       "      <th>Likes avg</th>\n",
       "      <th>Comments avg.</th>\n",
       "      <th>Shares avg</th>\n",
       "      <th>Month</th>\n",
       "    </tr>\n",
       "  </thead>\n",
       "  <tbody>\n",
       "    <tr>\n",
       "      <th>0</th>\n",
       "      <td>___nicoichi___</td>\n",
       "      <td>NICO【平成フラミンゴ】</td>\n",
       "      <td>1.3M</td>\n",
       "      <td>1.9M</td>\n",
       "      <td>225.3K</td>\n",
       "      <td>1.7K</td>\n",
       "      <td>1.1K</td>\n",
       "      <td>June</td>\n",
       "    </tr>\n",
       "    <tr>\n",
       "      <th>1</th>\n",
       "      <td>_.anime.edits_0</td>\n",
       "      <td>video</td>\n",
       "      <td>97K</td>\n",
       "      <td>1.7M</td>\n",
       "      <td>75.6K</td>\n",
       "      <td>1.5K</td>\n",
       "      <td>8.7K</td>\n",
       "      <td>June</td>\n",
       "    </tr>\n",
       "  </tbody>\n",
       "</table>\n",
       "</div>"
      ],
      "text/plain": [
       "          Tiktoker influencer name Subscribers count Views avg. Likes avg  \\\n",
       "0   ___nicoichi___   NICO【平成フラミンゴ】              1.3M       1.9M    225.3K   \n",
       "1  _.anime.edits_0           video               97K       1.7M     75.6K   \n",
       "\n",
       "  Comments avg. Shares avg Month  \n",
       "0          1.7K       1.1K  June  \n",
       "1          1.5K       8.7K  June  "
      ]
     },
     "execution_count": 28,
     "metadata": {},
     "output_type": "execute_result"
    }
   ],
   "source": [
    "# ARCHIVO DE JUNIO\n",
    "df_T_June = pd.read_csv(Tik_tok[2])\n",
    "df_T_June['Month'] = 'June'\n",
    "df_T_June.head(2)"
   ]
  },
  {
   "cell_type": "code",
   "execution_count": 29,
   "metadata": {
    "tags": []
   },
   "outputs": [
    {
     "data": {
      "text/html": [
       "<div>\n",
       "<style scoped>\n",
       "    .dataframe tbody tr th:only-of-type {\n",
       "        vertical-align: middle;\n",
       "    }\n",
       "\n",
       "    .dataframe tbody tr th {\n",
       "        vertical-align: top;\n",
       "    }\n",
       "\n",
       "    .dataframe thead th {\n",
       "        text-align: right;\n",
       "    }\n",
       "</style>\n",
       "<table border=\"1\" class=\"dataframe\">\n",
       "  <thead>\n",
       "    <tr style=\"text-align: right;\">\n",
       "      <th></th>\n",
       "      <th>Tiktoker name</th>\n",
       "      <th>Tiktok name</th>\n",
       "      <th>followers</th>\n",
       "      <th>views(avg)</th>\n",
       "      <th>likes(avg.)</th>\n",
       "      <th>comments(avg.)</th>\n",
       "      <th>shares(avg.)</th>\n",
       "      <th>Month</th>\n",
       "    </tr>\n",
       "  </thead>\n",
       "  <tbody>\n",
       "    <tr>\n",
       "      <th>0</th>\n",
       "      <td>mrbeast</td>\n",
       "      <td>MrBeast</td>\n",
       "      <td>60.3M</td>\n",
       "      <td>29.2M</td>\n",
       "      <td>3.5M</td>\n",
       "      <td>30.8K</td>\n",
       "      <td>7.2K</td>\n",
       "      <td>December</td>\n",
       "    </tr>\n",
       "    <tr>\n",
       "      <th>1</th>\n",
       "      <td>karolg</td>\n",
       "      <td>Karol G</td>\n",
       "      <td>42.4M</td>\n",
       "      <td>23.7M</td>\n",
       "      <td>3.4M</td>\n",
       "      <td>21.7K</td>\n",
       "      <td>25.7K</td>\n",
       "      <td>December</td>\n",
       "    </tr>\n",
       "  </tbody>\n",
       "</table>\n",
       "</div>"
      ],
      "text/plain": [
       "  Tiktoker name Tiktok name followers views(avg) likes(avg.) comments(avg.)  \\\n",
       "0       mrbeast     MrBeast     60.3M      29.2M        3.5M          30.8K   \n",
       "1        karolg     Karol G     42.4M      23.7M        3.4M          21.7K   \n",
       "\n",
       "  shares(avg.)     Month  \n",
       "0         7.2K  December  \n",
       "1        25.7K  December  "
      ]
     },
     "execution_count": 29,
     "metadata": {},
     "output_type": "execute_result"
    }
   ],
   "source": [
    "# ARCHIVO DE DICIEMBRE \n",
    "df_T_Dic = pd.read_csv(Tik_tok[3])\n",
    "df_T_Dic['Month'] = 'December'\n",
    "df_T_Dic.drop(['Rank'], axis=1, inplace=True)\n",
    "df_T_Dic.head(2)"
   ]
  },
  {
   "cell_type": "code",
   "execution_count": 30,
   "metadata": {
    "tags": []
   },
   "outputs": [
    {
     "data": {
      "text/html": [
       "<div>\n",
       "<style scoped>\n",
       "    .dataframe tbody tr th:only-of-type {\n",
       "        vertical-align: middle;\n",
       "    }\n",
       "\n",
       "    .dataframe tbody tr th {\n",
       "        vertical-align: top;\n",
       "    }\n",
       "\n",
       "    .dataframe thead th {\n",
       "        text-align: right;\n",
       "    }\n",
       "</style>\n",
       "<table border=\"1\" class=\"dataframe\">\n",
       "  <thead>\n",
       "    <tr style=\"text-align: right;\">\n",
       "      <th></th>\n",
       "      <th>Tiktoker name</th>\n",
       "      <th>Tiktok name</th>\n",
       "      <th>Subscribers</th>\n",
       "      <th>Views avg.</th>\n",
       "      <th>Likes avg.</th>\n",
       "      <th>Comments avg.</th>\n",
       "      <th>Shares avg.</th>\n",
       "      <th>Month</th>\n",
       "      <th>followers</th>\n",
       "      <th>views(avg)</th>\n",
       "      <th>...</th>\n",
       "      <th>\\nFollowers</th>\n",
       "      <th>Views (Avg.)</th>\n",
       "      <th>Likes (Avg.)</th>\n",
       "      <th>Comments (Avg.)</th>\n",
       "      <th>Shares (Avg.)</th>\n",
       "      <th>Tiktoker</th>\n",
       "      <th>influencer name</th>\n",
       "      <th>Subscribers count</th>\n",
       "      <th>Likes avg</th>\n",
       "      <th>Shares avg</th>\n",
       "    </tr>\n",
       "  </thead>\n",
       "  <tbody>\n",
       "    <tr>\n",
       "      <th>0</th>\n",
       "      <td>jypestraykids</td>\n",
       "      <td>Stray Kids</td>\n",
       "      <td>13.8M</td>\n",
       "      <td>6.4M</td>\n",
       "      <td>2.3M</td>\n",
       "      <td>50.2K</td>\n",
       "      <td>34.2K</td>\n",
       "      <td>September</td>\n",
       "      <td>NaN</td>\n",
       "      <td>NaN</td>\n",
       "      <td>...</td>\n",
       "      <td>NaN</td>\n",
       "      <td>NaN</td>\n",
       "      <td>NaN</td>\n",
       "      <td>NaN</td>\n",
       "      <td>NaN</td>\n",
       "      <td>NaN</td>\n",
       "      <td>NaN</td>\n",
       "      <td>NaN</td>\n",
       "      <td>NaN</td>\n",
       "      <td>NaN</td>\n",
       "    </tr>\n",
       "    <tr>\n",
       "      <th>1</th>\n",
       "      <td>khaby.lame</td>\n",
       "      <td>Khabane lame</td>\n",
       "      <td>149.2M</td>\n",
       "      <td>17.3M</td>\n",
       "      <td>2.3M</td>\n",
       "      <td>15.2K</td>\n",
       "      <td>8.7K</td>\n",
       "      <td>September</td>\n",
       "      <td>NaN</td>\n",
       "      <td>NaN</td>\n",
       "      <td>...</td>\n",
       "      <td>NaN</td>\n",
       "      <td>NaN</td>\n",
       "      <td>NaN</td>\n",
       "      <td>NaN</td>\n",
       "      <td>NaN</td>\n",
       "      <td>NaN</td>\n",
       "      <td>NaN</td>\n",
       "      <td>NaN</td>\n",
       "      <td>NaN</td>\n",
       "      <td>NaN</td>\n",
       "    </tr>\n",
       "    <tr>\n",
       "      <th>2</th>\n",
       "      <td>scarlettsspam2</td>\n",
       "      <td>scarlett</td>\n",
       "      <td>2.1M</td>\n",
       "      <td>17.9M</td>\n",
       "      <td>845.8K</td>\n",
       "      <td>53.9K</td>\n",
       "      <td>6.3K</td>\n",
       "      <td>September</td>\n",
       "      <td>NaN</td>\n",
       "      <td>NaN</td>\n",
       "      <td>...</td>\n",
       "      <td>NaN</td>\n",
       "      <td>NaN</td>\n",
       "      <td>NaN</td>\n",
       "      <td>NaN</td>\n",
       "      <td>NaN</td>\n",
       "      <td>NaN</td>\n",
       "      <td>NaN</td>\n",
       "      <td>NaN</td>\n",
       "      <td>NaN</td>\n",
       "      <td>NaN</td>\n",
       "    </tr>\n",
       "    <tr>\n",
       "      <th>3</th>\n",
       "      <td>addisonre</td>\n",
       "      <td>Addison Rae</td>\n",
       "      <td>88.7M</td>\n",
       "      <td>22M</td>\n",
       "      <td>906.6K</td>\n",
       "      <td>7.6K</td>\n",
       "      <td>26.2K</td>\n",
       "      <td>September</td>\n",
       "      <td>NaN</td>\n",
       "      <td>NaN</td>\n",
       "      <td>...</td>\n",
       "      <td>NaN</td>\n",
       "      <td>NaN</td>\n",
       "      <td>NaN</td>\n",
       "      <td>NaN</td>\n",
       "      <td>NaN</td>\n",
       "      <td>NaN</td>\n",
       "      <td>NaN</td>\n",
       "      <td>NaN</td>\n",
       "      <td>NaN</td>\n",
       "      <td>NaN</td>\n",
       "    </tr>\n",
       "    <tr>\n",
       "      <th>4</th>\n",
       "      <td>belindatok</td>\n",
       "      <td>Belinda</td>\n",
       "      <td>4.8M</td>\n",
       "      <td>14.2M</td>\n",
       "      <td>1.5M</td>\n",
       "      <td>14.5K</td>\n",
       "      <td>15.3K</td>\n",
       "      <td>September</td>\n",
       "      <td>NaN</td>\n",
       "      <td>NaN</td>\n",
       "      <td>...</td>\n",
       "      <td>NaN</td>\n",
       "      <td>NaN</td>\n",
       "      <td>NaN</td>\n",
       "      <td>NaN</td>\n",
       "      <td>NaN</td>\n",
       "      <td>NaN</td>\n",
       "      <td>NaN</td>\n",
       "      <td>NaN</td>\n",
       "      <td>NaN</td>\n",
       "      <td>NaN</td>\n",
       "    </tr>\n",
       "  </tbody>\n",
       "</table>\n",
       "<p>5 rows × 23 columns</p>\n",
       "</div>"
      ],
      "text/plain": [
       "    Tiktoker name   Tiktok name Subscribers Views avg. Likes avg.  \\\n",
       "0   jypestraykids    Stray Kids       13.8M       6.4M       2.3M   \n",
       "1      khaby.lame  Khabane lame      149.2M      17.3M       2.3M   \n",
       "2  scarlettsspam2      scarlett        2.1M      17.9M     845.8K   \n",
       "3       addisonre   Addison Rae       88.7M        22M     906.6K   \n",
       "4      belindatok       Belinda        4.8M      14.2M       1.5M   \n",
       "\n",
       "  Comments avg. Shares avg.      Month followers views(avg)  ... \\nFollowers  \\\n",
       "0         50.2K       34.2K  September       NaN        NaN  ...         NaN   \n",
       "1         15.2K        8.7K  September       NaN        NaN  ...         NaN   \n",
       "2         53.9K        6.3K  September       NaN        NaN  ...         NaN   \n",
       "3          7.6K       26.2K  September       NaN        NaN  ...         NaN   \n",
       "4         14.5K       15.3K  September       NaN        NaN  ...         NaN   \n",
       "\n",
       "  Views (Avg.) Likes (Avg.) Comments (Avg.) Shares (Avg.) Tiktoker  \\\n",
       "0          NaN          NaN             NaN           NaN      NaN   \n",
       "1          NaN          NaN             NaN           NaN      NaN   \n",
       "2          NaN          NaN             NaN           NaN      NaN   \n",
       "3          NaN          NaN             NaN           NaN      NaN   \n",
       "4          NaN          NaN             NaN           NaN      NaN   \n",
       "\n",
       "  influencer name Subscribers count Likes avg Shares avg  \n",
       "0             NaN               NaN       NaN        NaN  \n",
       "1             NaN               NaN       NaN        NaN  \n",
       "2             NaN               NaN       NaN        NaN  \n",
       "3             NaN               NaN       NaN        NaN  \n",
       "4             NaN               NaN       NaN        NaN  \n",
       "\n",
       "[5 rows x 23 columns]"
      ]
     },
     "execution_count": 30,
     "metadata": {},
     "output_type": "execute_result"
    }
   ],
   "source": [
    "# Concatenar los DataFrames de TikTok en un solo DataFrame\n",
    "df_Tik_tok = pd.concat([df_T_Sep, df_T_Dic, df_T_Nov, df_T_June], axis=0, ignore_index=True)\n",
    "\n",
    "# Verificar el DataFrame resultante\n",
    "df_Tik_tok.head()"
   ]
  },
  {
   "cell_type": "code",
   "execution_count": 31,
   "metadata": {
    "tags": []
   },
   "outputs": [],
   "source": [
    "# Limpieza del DataFrame de Tiktok\n",
    "\n",
    "#Username\n",
    "df_Tik_tok['Username']=df_Tik_tok['Tiktoker name'].combine_first(df_Tik_tok['Tiktoker'])\n",
    "df_Tik_tok.drop(['Tiktoker name', 'Tiktoker'], axis=1, inplace=True)"
   ]
  },
  {
   "cell_type": "code",
   "execution_count": 32,
   "metadata": {
    "tags": []
   },
   "outputs": [],
   "source": [
    "#Name\n",
    "df_Tik_tok['Name']=df_Tik_tok['Tiktok name']\n",
    "df_Tik_tok.drop(['Tiktok name'], axis=1, inplace=True)"
   ]
  },
  {
   "cell_type": "code",
   "execution_count": 33,
   "metadata": {
    "tags": []
   },
   "outputs": [],
   "source": [
    "df_Tik_tok['Name'] = df_Tik_tok['Name'].combine_first(df_Tik_tok['influencer name'])\n",
    "df_Tik_tok.drop(['influencer name'], axis=1, inplace=True)"
   ]
  },
  {
   "cell_type": "code",
   "execution_count": 34,
   "metadata": {
    "tags": []
   },
   "outputs": [],
   "source": [
    "#Folowers o Suscribers\n",
    "df_Tik_tok['Followers o Suscribers'] = df_Tik_tok['Subscribers'].combine_first(df_Tik_tok['followers']).combine_first(df_Tik_tok['\\nFollowers']).combine_first(df_Tik_tok['Subscribers count'])\n",
    "df_Tik_tok.drop(['Subscribers', 'followers', '\\nFollowers', 'Subscribers count'],axis=1, inplace=True)"
   ]
  },
  {
   "cell_type": "code",
   "execution_count": 35,
   "metadata": {
    "tags": []
   },
   "outputs": [],
   "source": [
    "#Likes\n",
    "df_Tik_tok['Likes'] = df_Tik_tok['Likes (Avg.)'].combine_first(df_Tik_tok['Likes avg']).combine_first(df_Tik_tok['Likes avg.']).combine_first(df_Tik_tok['likes(avg.)'])\n",
    "df_Tik_tok.drop(['Likes (Avg.)', 'Likes avg', 'Likes avg.', 'likes(avg.)'],axis=1,inplace=True)"
   ]
  },
  {
   "cell_type": "code",
   "execution_count": 36,
   "metadata": {
    "tags": []
   },
   "outputs": [],
   "source": [
    "#Views\n",
    "df_Tik_tok['Views'] = df_Tik_tok['Views (Avg.)'].combine_first(df_Tik_tok['Views avg.']).combine_first(df_Tik_tok['views(avg)'])\n",
    "df_Tik_tok.drop(['Views (Avg.)', 'Views avg.', 'views(avg)'], axis=1, inplace=True)"
   ]
  },
  {
   "cell_type": "code",
   "execution_count": 37,
   "metadata": {
    "tags": []
   },
   "outputs": [],
   "source": [
    "#Shares\n",
    "df_Tik_tok['Shares'] = df_Tik_tok['Shares (Avg.)'].combine_first(df_Tik_tok['Shares avg']).combine_first(df_Tik_tok['Shares avg.']).combine_first(df_Tik_tok['shares(avg.)'])\n",
    "df_Tik_tok.drop(['Shares (Avg.)', 'Shares avg', 'Shares avg.', 'shares(avg.)'], axis=1, inplace=True)"
   ]
  },
  {
   "cell_type": "code",
   "execution_count": 38,
   "metadata": {
    "tags": []
   },
   "outputs": [],
   "source": [
    "#Comments\n",
    "df_Tik_tok['Comments'] = df_Tik_tok['Comments (Avg.)'].combine_first(df_Tik_tok['Comments avg.']).combine_first(df_Tik_tok['comments(avg.)'])\n",
    "df_Tik_tok.drop(['Comments (Avg.)', 'Comments avg.', 'comments(avg.)'], axis=1, inplace=True)"
   ]
  },
  {
   "cell_type": "code",
   "execution_count": 39,
   "metadata": {
    "tags": []
   },
   "outputs": [
    {
     "data": {
      "text/html": [
       "<div>\n",
       "<style scoped>\n",
       "    .dataframe tbody tr th:only-of-type {\n",
       "        vertical-align: middle;\n",
       "    }\n",
       "\n",
       "    .dataframe tbody tr th {\n",
       "        vertical-align: top;\n",
       "    }\n",
       "\n",
       "    .dataframe thead th {\n",
       "        text-align: right;\n",
       "    }\n",
       "</style>\n",
       "<table border=\"1\" class=\"dataframe\">\n",
       "  <thead>\n",
       "    <tr style=\"text-align: right;\">\n",
       "      <th></th>\n",
       "      <th>Month</th>\n",
       "      <th>Username</th>\n",
       "      <th>Name</th>\n",
       "      <th>Followers o Suscribers</th>\n",
       "      <th>Likes</th>\n",
       "      <th>Views</th>\n",
       "      <th>Shares</th>\n",
       "      <th>Comments</th>\n",
       "    </tr>\n",
       "  </thead>\n",
       "  <tbody>\n",
       "    <tr>\n",
       "      <th>0</th>\n",
       "      <td>September</td>\n",
       "      <td>jypestraykids</td>\n",
       "      <td>Stray Kids</td>\n",
       "      <td>13.8M</td>\n",
       "      <td>2.3M</td>\n",
       "      <td>6.4M</td>\n",
       "      <td>34.2K</td>\n",
       "      <td>50.2K</td>\n",
       "    </tr>\n",
       "    <tr>\n",
       "      <th>1</th>\n",
       "      <td>September</td>\n",
       "      <td>khaby.lame</td>\n",
       "      <td>Khabane lame</td>\n",
       "      <td>149.2M</td>\n",
       "      <td>2.3M</td>\n",
       "      <td>17.3M</td>\n",
       "      <td>8.7K</td>\n",
       "      <td>15.2K</td>\n",
       "    </tr>\n",
       "    <tr>\n",
       "      <th>2</th>\n",
       "      <td>September</td>\n",
       "      <td>scarlettsspam2</td>\n",
       "      <td>scarlett</td>\n",
       "      <td>2.1M</td>\n",
       "      <td>845.8K</td>\n",
       "      <td>17.9M</td>\n",
       "      <td>6.3K</td>\n",
       "      <td>53.9K</td>\n",
       "    </tr>\n",
       "    <tr>\n",
       "      <th>3</th>\n",
       "      <td>September</td>\n",
       "      <td>addisonre</td>\n",
       "      <td>Addison Rae</td>\n",
       "      <td>88.7M</td>\n",
       "      <td>906.6K</td>\n",
       "      <td>22M</td>\n",
       "      <td>26.2K</td>\n",
       "      <td>7.6K</td>\n",
       "    </tr>\n",
       "    <tr>\n",
       "      <th>4</th>\n",
       "      <td>September</td>\n",
       "      <td>belindatok</td>\n",
       "      <td>Belinda</td>\n",
       "      <td>4.8M</td>\n",
       "      <td>1.5M</td>\n",
       "      <td>14.2M</td>\n",
       "      <td>15.3K</td>\n",
       "      <td>14.5K</td>\n",
       "    </tr>\n",
       "  </tbody>\n",
       "</table>\n",
       "</div>"
      ],
      "text/plain": [
       "       Month        Username          Name Followers o Suscribers   Likes  \\\n",
       "0  September   jypestraykids    Stray Kids                  13.8M    2.3M   \n",
       "1  September      khaby.lame  Khabane lame                 149.2M    2.3M   \n",
       "2  September  scarlettsspam2      scarlett                   2.1M  845.8K   \n",
       "3  September       addisonre   Addison Rae                  88.7M  906.6K   \n",
       "4  September      belindatok       Belinda                   4.8M    1.5M   \n",
       "\n",
       "   Views Shares Comments  \n",
       "0   6.4M  34.2K    50.2K  \n",
       "1  17.3M   8.7K    15.2K  \n",
       "2  17.9M   6.3K    53.9K  \n",
       "3    22M  26.2K     7.6K  \n",
       "4  14.2M  15.3K    14.5K  "
      ]
     },
     "execution_count": 39,
     "metadata": {},
     "output_type": "execute_result"
    }
   ],
   "source": [
    "# # Verificar el DataFrame de TikTok resultante\n",
    "df_Tik_tok.head()"
   ]
  },
  {
   "cell_type": "code",
   "execution_count": 40,
   "metadata": {
    "tags": []
   },
   "outputs": [
    {
     "data": {
      "text/plain": [
       "Month                     0\n",
       "Username                  1\n",
       "Name                      4\n",
       "Followers o Suscribers    1\n",
       "Likes                     1\n",
       "Views                     1\n",
       "Shares                    1\n",
       "Comments                  1\n",
       "dtype: int64"
      ]
     },
     "execution_count": 40,
     "metadata": {},
     "output_type": "execute_result"
    }
   ],
   "source": [
    "df_Tik_tok.isna().sum()"
   ]
  },
  {
   "cell_type": "code",
   "execution_count": 41,
   "metadata": {
    "tags": []
   },
   "outputs": [
    {
     "data": {
      "text/html": [
       "<div>\n",
       "<style scoped>\n",
       "    .dataframe tbody tr th:only-of-type {\n",
       "        vertical-align: middle;\n",
       "    }\n",
       "\n",
       "    .dataframe tbody tr th {\n",
       "        vertical-align: top;\n",
       "    }\n",
       "\n",
       "    .dataframe thead th {\n",
       "        text-align: right;\n",
       "    }\n",
       "</style>\n",
       "<table border=\"1\" class=\"dataframe\">\n",
       "  <thead>\n",
       "    <tr style=\"text-align: right;\">\n",
       "      <th></th>\n",
       "      <th>Month</th>\n",
       "      <th>Username</th>\n",
       "      <th>Name</th>\n",
       "      <th>Followers o Suscribers</th>\n",
       "      <th>Likes</th>\n",
       "      <th>Views</th>\n",
       "      <th>Shares</th>\n",
       "      <th>Comments</th>\n",
       "    </tr>\n",
       "  </thead>\n",
       "  <tbody>\n",
       "    <tr>\n",
       "      <th>0</th>\n",
       "      <td>September</td>\n",
       "      <td>jypestraykids</td>\n",
       "      <td>Stray Kids</td>\n",
       "      <td>13.8M</td>\n",
       "      <td>2.3M</td>\n",
       "      <td>6.4M</td>\n",
       "      <td>34.2K</td>\n",
       "      <td>50.2K</td>\n",
       "    </tr>\n",
       "    <tr>\n",
       "      <th>1</th>\n",
       "      <td>September</td>\n",
       "      <td>khaby.lame</td>\n",
       "      <td>Khabane lame</td>\n",
       "      <td>149.2M</td>\n",
       "      <td>2.3M</td>\n",
       "      <td>17.3M</td>\n",
       "      <td>8.7K</td>\n",
       "      <td>15.2K</td>\n",
       "    </tr>\n",
       "    <tr>\n",
       "      <th>2</th>\n",
       "      <td>September</td>\n",
       "      <td>scarlettsspam2</td>\n",
       "      <td>scarlett</td>\n",
       "      <td>2.1M</td>\n",
       "      <td>845.8K</td>\n",
       "      <td>17.9M</td>\n",
       "      <td>6.3K</td>\n",
       "      <td>53.9K</td>\n",
       "    </tr>\n",
       "    <tr>\n",
       "      <th>3</th>\n",
       "      <td>September</td>\n",
       "      <td>addisonre</td>\n",
       "      <td>Addison Rae</td>\n",
       "      <td>88.7M</td>\n",
       "      <td>906.6K</td>\n",
       "      <td>22M</td>\n",
       "      <td>26.2K</td>\n",
       "      <td>7.6K</td>\n",
       "    </tr>\n",
       "    <tr>\n",
       "      <th>4</th>\n",
       "      <td>September</td>\n",
       "      <td>belindatok</td>\n",
       "      <td>Belinda</td>\n",
       "      <td>4.8M</td>\n",
       "      <td>1.5M</td>\n",
       "      <td>14.2M</td>\n",
       "      <td>15.3K</td>\n",
       "      <td>14.5K</td>\n",
       "    </tr>\n",
       "    <tr>\n",
       "      <th>...</th>\n",
       "      <td>...</td>\n",
       "      <td>...</td>\n",
       "      <td>...</td>\n",
       "      <td>...</td>\n",
       "      <td>...</td>\n",
       "      <td>...</td>\n",
       "      <td>...</td>\n",
       "      <td>...</td>\n",
       "    </tr>\n",
       "    <tr>\n",
       "      <th>4003</th>\n",
       "      <td>June</td>\n",
       "      <td>zeth</td>\n",
       "      <td>Zeth</td>\n",
       "      <td>12.5M</td>\n",
       "      <td>1.3M</td>\n",
       "      <td>6.7M</td>\n",
       "      <td>7.7K</td>\n",
       "      <td>3K</td>\n",
       "    </tr>\n",
       "    <tr>\n",
       "      <th>4004</th>\n",
       "      <td>June</td>\n",
       "      <td>zodiac.boyfriend</td>\n",
       "      <td>Zodiac Boyfriend🪐🔮</td>\n",
       "      <td>1.8M</td>\n",
       "      <td>272.7K</td>\n",
       "      <td>1.9M</td>\n",
       "      <td>3.6K</td>\n",
       "      <td>6.8K</td>\n",
       "    </tr>\n",
       "    <tr>\n",
       "      <th>4005</th>\n",
       "      <td>June</td>\n",
       "      <td>zowloficial</td>\n",
       "      <td>Lord Zowl</td>\n",
       "      <td>1.1M</td>\n",
       "      <td>178.1K</td>\n",
       "      <td>1.4M</td>\n",
       "      <td>2.1K</td>\n",
       "      <td>1.4K</td>\n",
       "    </tr>\n",
       "    <tr>\n",
       "      <th>4006</th>\n",
       "      <td>June</td>\n",
       "      <td>zrt.foot</td>\n",
       "      <td>ZR7</td>\n",
       "      <td>100.8K</td>\n",
       "      <td>218K</td>\n",
       "      <td>2.3M</td>\n",
       "      <td>6.4K</td>\n",
       "      <td>1.7K</td>\n",
       "    </tr>\n",
       "    <tr>\n",
       "      <th>4007</th>\n",
       "      <td>June</td>\n",
       "      <td>zubarefff</td>\n",
       "      <td>Зубарев Александр</td>\n",
       "      <td>4M</td>\n",
       "      <td>249K</td>\n",
       "      <td>1.9M</td>\n",
       "      <td>1.6K</td>\n",
       "      <td>1.3K</td>\n",
       "    </tr>\n",
       "  </tbody>\n",
       "</table>\n",
       "<p>3976 rows × 8 columns</p>\n",
       "</div>"
      ],
      "text/plain": [
       "          Month          Username                Name Followers o Suscribers  \\\n",
       "0     September     jypestraykids          Stray Kids                  13.8M   \n",
       "1     September        khaby.lame        Khabane lame                 149.2M   \n",
       "2     September    scarlettsspam2            scarlett                   2.1M   \n",
       "3     September         addisonre         Addison Rae                  88.7M   \n",
       "4     September        belindatok             Belinda                   4.8M   \n",
       "...         ...               ...                 ...                    ...   \n",
       "4003       June              zeth                Zeth                  12.5M   \n",
       "4004       June  zodiac.boyfriend  Zodiac Boyfriend🪐🔮                   1.8M   \n",
       "4005       June       zowloficial           Lord Zowl                   1.1M   \n",
       "4006       June          zrt.foot                 ZR7                 100.8K   \n",
       "4007       June         zubarefff   Зубарев Александр                     4M   \n",
       "\n",
       "       Likes  Views Shares Comments  \n",
       "0       2.3M   6.4M  34.2K    50.2K  \n",
       "1       2.3M  17.3M   8.7K    15.2K  \n",
       "2     845.8K  17.9M   6.3K    53.9K  \n",
       "3     906.6K    22M  26.2K     7.6K  \n",
       "4       1.5M  14.2M  15.3K    14.5K  \n",
       "...      ...    ...    ...      ...  \n",
       "4003    1.3M   6.7M   7.7K       3K  \n",
       "4004  272.7K   1.9M   3.6K     6.8K  \n",
       "4005  178.1K   1.4M   2.1K     1.4K  \n",
       "4006    218K   2.3M   6.4K     1.7K  \n",
       "4007    249K   1.9M   1.6K     1.3K  \n",
       "\n",
       "[3976 rows x 8 columns]"
      ]
     },
     "execution_count": 41,
     "metadata": {},
     "output_type": "execute_result"
    }
   ],
   "source": [
    "df_Tik_tok.drop_duplicates()"
   ]
  },
  {
   "cell_type": "code",
   "execution_count": 42,
   "metadata": {
    "tags": []
   },
   "outputs": [],
   "source": [
    "df_Tik_tok=df_Tik_tok.dropna()"
   ]
  },
  {
   "cell_type": "code",
   "execution_count": 43,
   "metadata": {
    "tags": []
   },
   "outputs": [],
   "source": [
    "df_Tik_tok = df_Tik_tok.drop_duplicates()"
   ]
  },
  {
   "cell_type": "code",
   "execution_count": 44,
   "metadata": {
    "tags": []
   },
   "outputs": [
    {
     "data": {
      "text/plain": [
       "(3972, 8)"
      ]
     },
     "execution_count": 44,
     "metadata": {},
     "output_type": "execute_result"
    }
   ],
   "source": [
    "df_Tik_tok.shape"
   ]
  },
  {
   "cell_type": "markdown",
   "metadata": {},
   "source": [
    "### Youtube"
   ]
  },
  {
   "cell_type": "code",
   "execution_count": 45,
   "metadata": {
    "tags": []
   },
   "outputs": [
    {
     "data": {
      "text/plain": [
       "['/home/moni/Ciencia de datos/Proyectos/CienciaDatosLasChicasSuperpoderosas/Proyectos/Unidad2/socialnetworks/social media influencers-YOUTUBE - --DEC 2022.csv',\n",
       " '/home/moni/Ciencia de datos/Proyectos/CienciaDatosLasChicasSuperpoderosas/Proyectos/Unidad2/socialnetworks/social media influencers-youtube - --nov 2022.csv',\n",
       " '/home/moni/Ciencia de datos/Proyectos/CienciaDatosLasChicasSuperpoderosas/Proyectos/Unidad2/socialnetworks/social media influencers - Youtube sep-2022.csv',\n",
       " '/home/moni/Ciencia de datos/Proyectos/CienciaDatosLasChicasSuperpoderosas/Proyectos/Unidad2/socialnetworks/social media influencers-youtube june 2022 - june 2022.csv',\n",
       " '/home/moni/Ciencia de datos/Proyectos/CienciaDatosLasChicasSuperpoderosas/Proyectos/Unidad2/socialnetworks/socialnetworks/social media influencers-YOUTUBE - --DEC 2022.csv',\n",
       " '/home/moni/Ciencia de datos/Proyectos/CienciaDatosLasChicasSuperpoderosas/Proyectos/Unidad2/socialnetworks/socialnetworks/social media influencers-youtube - --nov 2022.csv',\n",
       " '/home/moni/Ciencia de datos/Proyectos/CienciaDatosLasChicasSuperpoderosas/Proyectos/Unidad2/socialnetworks/socialnetworks/social media influencers - Youtube sep-2022.csv',\n",
       " '/home/moni/Ciencia de datos/Proyectos/CienciaDatosLasChicasSuperpoderosas/Proyectos/Unidad2/socialnetworks/socialnetworks/social media influencers-youtube june 2022 - june 2022.csv']"
      ]
     },
     "execution_count": 45,
     "metadata": {},
     "output_type": "execute_result"
    }
   ],
   "source": [
    "Youtube"
   ]
  },
  {
   "cell_type": "code",
   "execution_count": 46,
   "metadata": {
    "tags": []
   },
   "outputs": [
    {
     "data": {
      "text/html": [
       "<div>\n",
       "<style scoped>\n",
       "    .dataframe tbody tr th:only-of-type {\n",
       "        vertical-align: middle;\n",
       "    }\n",
       "\n",
       "    .dataframe tbody tr th {\n",
       "        vertical-align: top;\n",
       "    }\n",
       "\n",
       "    .dataframe thead th {\n",
       "        text-align: right;\n",
       "    }\n",
       "</style>\n",
       "<table border=\"1\" class=\"dataframe\">\n",
       "  <thead>\n",
       "    <tr style=\"text-align: right;\">\n",
       "      <th></th>\n",
       "      <th>s.no</th>\n",
       "      <th>Youtube channel</th>\n",
       "      <th>youtuber name</th>\n",
       "      <th>Category</th>\n",
       "      <th>Followers</th>\n",
       "      <th>Country</th>\n",
       "      <th>\\nViews (Avg.)</th>\n",
       "      <th>Likes (Avg.)</th>\n",
       "      <th>Comments (Avg.)</th>\n",
       "      <th>Category-2</th>\n",
       "      <th>Month</th>\n",
       "    </tr>\n",
       "  </thead>\n",
       "  <tbody>\n",
       "    <tr>\n",
       "      <th>0</th>\n",
       "      <td>1</td>\n",
       "      <td>tseries</td>\n",
       "      <td>T-Series</td>\n",
       "      <td>Music &amp; Dance</td>\n",
       "      <td>229.5M</td>\n",
       "      <td>India</td>\n",
       "      <td>103.8K</td>\n",
       "      <td>2.8K</td>\n",
       "      <td>158</td>\n",
       "      <td>NaN</td>\n",
       "      <td>December</td>\n",
       "    </tr>\n",
       "    <tr>\n",
       "      <th>1</th>\n",
       "      <td>2</td>\n",
       "      <td>setindia</td>\n",
       "      <td>SET India</td>\n",
       "      <td>NaN</td>\n",
       "      <td>147.2M</td>\n",
       "      <td>India</td>\n",
       "      <td>0</td>\n",
       "      <td>0</td>\n",
       "      <td>0</td>\n",
       "      <td>NaN</td>\n",
       "      <td>December</td>\n",
       "    </tr>\n",
       "  </tbody>\n",
       "</table>\n",
       "</div>"
      ],
      "text/plain": [
       "   s.no Youtube channel youtuber name       Category Followers Country  \\\n",
       "0     1         tseries      T-Series  Music & Dance    229.5M   India   \n",
       "1     2        setindia     SET India            NaN    147.2M   India   \n",
       "\n",
       "  \\nViews (Avg.) Likes (Avg.) Comments (Avg.) Category-2     Month  \n",
       "0         103.8K         2.8K             158        NaN  December  \n",
       "1              0            0               0        NaN  December  "
      ]
     },
     "execution_count": 46,
     "metadata": {},
     "output_type": "execute_result"
    }
   ],
   "source": [
    "# Archivo de Youtube - diciembre\n",
    "df_Y_Dec = pd.read_csv(Youtube[0])\n",
    "df_Y_Dec['Month'] = 'December'\n",
    "df_Y_Dec.head(2)"
   ]
  },
  {
   "cell_type": "code",
   "execution_count": 47,
   "metadata": {
    "tags": []
   },
   "outputs": [
    {
     "data": {
      "text/html": [
       "<div>\n",
       "<style scoped>\n",
       "    .dataframe tbody tr th:only-of-type {\n",
       "        vertical-align: middle;\n",
       "    }\n",
       "\n",
       "    .dataframe tbody tr th {\n",
       "        vertical-align: top;\n",
       "    }\n",
       "\n",
       "    .dataframe thead th {\n",
       "        text-align: right;\n",
       "    }\n",
       "</style>\n",
       "<table border=\"1\" class=\"dataframe\">\n",
       "  <thead>\n",
       "    <tr style=\"text-align: right;\">\n",
       "      <th></th>\n",
       "      <th>s.no</th>\n",
       "      <th>Youtube channel</th>\n",
       "      <th>youtuber name</th>\n",
       "      <th>Category</th>\n",
       "      <th>Followers</th>\n",
       "      <th>Country</th>\n",
       "      <th>\\nViews (Avg.)</th>\n",
       "      <th>Likes (Avg.)</th>\n",
       "      <th>Comments (Avg.)</th>\n",
       "      <th>Category-2</th>\n",
       "      <th>Month</th>\n",
       "    </tr>\n",
       "  </thead>\n",
       "  <tbody>\n",
       "    <tr>\n",
       "      <th>0</th>\n",
       "      <td>1</td>\n",
       "      <td>tseries</td>\n",
       "      <td>T-Series</td>\n",
       "      <td>Music &amp; Dance</td>\n",
       "      <td>229.5M</td>\n",
       "      <td>India</td>\n",
       "      <td>103.8K</td>\n",
       "      <td>2.8K</td>\n",
       "      <td>158</td>\n",
       "      <td>NaN</td>\n",
       "      <td>November</td>\n",
       "    </tr>\n",
       "    <tr>\n",
       "      <th>1</th>\n",
       "      <td>2</td>\n",
       "      <td>checkgate</td>\n",
       "      <td>Cocomelon - Nursery Rhymes</td>\n",
       "      <td>Education</td>\n",
       "      <td>146.6M</td>\n",
       "      <td>NaN</td>\n",
       "      <td>9.5M</td>\n",
       "      <td>48.3K</td>\n",
       "      <td>0</td>\n",
       "      <td>NaN</td>\n",
       "      <td>November</td>\n",
       "    </tr>\n",
       "  </tbody>\n",
       "</table>\n",
       "</div>"
      ],
      "text/plain": [
       "   s.no Youtube channel               youtuber name       Category Followers  \\\n",
       "0     1         tseries                    T-Series  Music & Dance    229.5M   \n",
       "1     2       checkgate  Cocomelon - Nursery Rhymes      Education    146.6M   \n",
       "\n",
       "  Country \\nViews (Avg.) Likes (Avg.) Comments (Avg.) Category-2     Month  \n",
       "0   India         103.8K         2.8K             158        NaN  November  \n",
       "1     NaN           9.5M        48.3K               0        NaN  November  "
      ]
     },
     "execution_count": 47,
     "metadata": {},
     "output_type": "execute_result"
    }
   ],
   "source": [
    "# Archivo de Youtube - noviembre\n",
    "df_Y_Nov = pd.read_csv(Youtube[1])\n",
    "df_Y_Nov['Month'] = 'November'\n",
    "df_Y_Nov.head(2)"
   ]
  },
  {
   "cell_type": "code",
   "execution_count": 48,
   "metadata": {
    "tags": []
   },
   "outputs": [
    {
     "data": {
      "text/html": [
       "<div>\n",
       "<style scoped>\n",
       "    .dataframe tbody tr th:only-of-type {\n",
       "        vertical-align: middle;\n",
       "    }\n",
       "\n",
       "    .dataframe tbody tr th {\n",
       "        vertical-align: top;\n",
       "    }\n",
       "\n",
       "    .dataframe thead th {\n",
       "        text-align: right;\n",
       "    }\n",
       "</style>\n",
       "<table border=\"1\" class=\"dataframe\">\n",
       "  <thead>\n",
       "    <tr style=\"text-align: right;\">\n",
       "      <th></th>\n",
       "      <th>S.no</th>\n",
       "      <th>Name</th>\n",
       "      <th>Youtuber</th>\n",
       "      <th>Country</th>\n",
       "      <th>Subscribers</th>\n",
       "      <th>Category_2</th>\n",
       "      <th>Avg. views\\r\\n</th>\n",
       "      <th>Avg. likes</th>\n",
       "      <th>Avg Comments</th>\n",
       "      <th>Category_3</th>\n",
       "      <th>Month</th>\n",
       "    </tr>\n",
       "  </thead>\n",
       "  <tbody>\n",
       "    <tr>\n",
       "      <th>0</th>\n",
       "      <td>1</td>\n",
       "      <td>T-Series</td>\n",
       "      <td>tseries</td>\n",
       "      <td>India</td>\n",
       "      <td>224.4M</td>\n",
       "      <td>Music &amp; Dance</td>\n",
       "      <td>141.5K</td>\n",
       "      <td>4.6K</td>\n",
       "      <td>125</td>\n",
       "      <td>NaN</td>\n",
       "      <td>September</td>\n",
       "    </tr>\n",
       "    <tr>\n",
       "      <th>1</th>\n",
       "      <td>2</td>\n",
       "      <td>Cocomelon - Nursery Rhymes</td>\n",
       "      <td>checkgate</td>\n",
       "      <td>NaN</td>\n",
       "      <td>142.5M</td>\n",
       "      <td>Education</td>\n",
       "      <td>12.5M</td>\n",
       "      <td>64.8K</td>\n",
       "      <td>0</td>\n",
       "      <td>NaN</td>\n",
       "      <td>September</td>\n",
       "    </tr>\n",
       "  </tbody>\n",
       "</table>\n",
       "</div>"
      ],
      "text/plain": [
       "   S.no                        Name   Youtuber Country  Subscribers  \\\n",
       "0     1                    T-Series    tseries   India       224.4M   \n",
       "1     2  Cocomelon - Nursery Rhymes  checkgate     NaN       142.5M   \n",
       "\n",
       "      Category_2 Avg. views\\r\\n Avg. likes Avg Comments Category_3      Month  \n",
       "0  Music & Dance         141.5K       4.6K          125        NaN  September  \n",
       "1      Education          12.5M      64.8K            0        NaN  September  "
      ]
     },
     "execution_count": 48,
     "metadata": {},
     "output_type": "execute_result"
    }
   ],
   "source": [
    "# Archivo de Youtube - septiembre\n",
    "df_Y_Sep = pd.read_csv(Youtube[2])\n",
    "df_Y_Sep['Month'] = 'September'\n",
    "df_Y_Sep.head(2)"
   ]
  },
  {
   "cell_type": "code",
   "execution_count": 49,
   "metadata": {
    "tags": []
   },
   "outputs": [
    {
     "data": {
      "text/html": [
       "<div>\n",
       "<style scoped>\n",
       "    .dataframe tbody tr th:only-of-type {\n",
       "        vertical-align: middle;\n",
       "    }\n",
       "\n",
       "    .dataframe tbody tr th {\n",
       "        vertical-align: top;\n",
       "    }\n",
       "\n",
       "    .dataframe thead th {\n",
       "        text-align: right;\n",
       "    }\n",
       "</style>\n",
       "<table border=\"1\" class=\"dataframe\">\n",
       "  <thead>\n",
       "    <tr style=\"text-align: right;\">\n",
       "      <th></th>\n",
       "      <th>channel name</th>\n",
       "      <th>youTuber</th>\n",
       "      <th>Category</th>\n",
       "      <th>Category_2</th>\n",
       "      <th>Subscribers count</th>\n",
       "      <th>Country</th>\n",
       "      <th>Views avg.</th>\n",
       "      <th>Likes avg</th>\n",
       "      <th>Comments avg.</th>\n",
       "      <th>Month</th>\n",
       "    </tr>\n",
       "  </thead>\n",
       "  <tbody>\n",
       "    <tr>\n",
       "      <th>0</th>\n",
       "      <td>juptube</td>\n",
       "      <td>Galinha Pintadinha</td>\n",
       "      <td>Music &amp; Dance</td>\n",
       "      <td>NaN</td>\n",
       "      <td>30.5M</td>\n",
       "      <td>-</td>\n",
       "      <td>0</td>\n",
       "      <td>N/A'</td>\n",
       "      <td>N/A'</td>\n",
       "      <td>June</td>\n",
       "    </tr>\n",
       "    <tr>\n",
       "      <th>1</th>\n",
       "      <td>Baby Big Mouth Kids - Sing, Dance, Explore</td>\n",
       "      <td>Baby Big Mouth Kids - Sing, Dance, Explore</td>\n",
       "      <td>Animation</td>\n",
       "      <td>Toys</td>\n",
       "      <td>10.6M</td>\n",
       "      <td>-</td>\n",
       "      <td>348.5</td>\n",
       "      <td>3</td>\n",
       "      <td>N/A'</td>\n",
       "      <td>June</td>\n",
       "    </tr>\n",
       "  </tbody>\n",
       "</table>\n",
       "</div>"
      ],
      "text/plain": [
       "                                 channel name  \\\n",
       "0                                     juptube   \n",
       "1  Baby Big Mouth Kids - Sing, Dance, Explore   \n",
       "\n",
       "                                     youTuber       Category Category_2  \\\n",
       "0                          Galinha Pintadinha  Music & Dance        NaN   \n",
       "1  Baby Big Mouth Kids - Sing, Dance, Explore      Animation       Toys   \n",
       "\n",
       "  Subscribers count Country Views avg. Likes avg Comments avg. Month  \n",
       "0             30.5M       -          0      N/A'          N/A'  June  \n",
       "1             10.6M       -      348.5         3          N/A'  June  "
      ]
     },
     "execution_count": 49,
     "metadata": {},
     "output_type": "execute_result"
    }
   ],
   "source": [
    "# Archivo de Youtube - junio\n",
    "df_Y_June = pd.read_csv(Youtube[3])\n",
    "df_Y_June['Month'] = 'June'\n",
    "df_Y_June.head(2)"
   ]
  },
  {
   "cell_type": "code",
   "execution_count": 50,
   "metadata": {
    "tags": []
   },
   "outputs": [
    {
     "data": {
      "text/html": [
       "<div>\n",
       "<style scoped>\n",
       "    .dataframe tbody tr th:only-of-type {\n",
       "        vertical-align: middle;\n",
       "    }\n",
       "\n",
       "    .dataframe tbody tr th {\n",
       "        vertical-align: top;\n",
       "    }\n",
       "\n",
       "    .dataframe thead th {\n",
       "        text-align: right;\n",
       "    }\n",
       "</style>\n",
       "<table border=\"1\" class=\"dataframe\">\n",
       "  <thead>\n",
       "    <tr style=\"text-align: right;\">\n",
       "      <th></th>\n",
       "      <th>channel name</th>\n",
       "      <th>youTuber</th>\n",
       "      <th>Category</th>\n",
       "      <th>Category_2</th>\n",
       "      <th>Subscribers count</th>\n",
       "      <th>Country</th>\n",
       "      <th>Views avg.</th>\n",
       "      <th>Likes avg</th>\n",
       "      <th>Comments avg.</th>\n",
       "      <th>Month</th>\n",
       "      <th>...</th>\n",
       "      <th>Avg Comments</th>\n",
       "      <th>Category_3</th>\n",
       "      <th>s.no</th>\n",
       "      <th>Youtube channel</th>\n",
       "      <th>youtuber name</th>\n",
       "      <th>Followers</th>\n",
       "      <th>\\nViews (Avg.)</th>\n",
       "      <th>Likes (Avg.)</th>\n",
       "      <th>Comments (Avg.)</th>\n",
       "      <th>Category-2</th>\n",
       "    </tr>\n",
       "  </thead>\n",
       "  <tbody>\n",
       "    <tr>\n",
       "      <th>0</th>\n",
       "      <td>juptube</td>\n",
       "      <td>Galinha Pintadinha</td>\n",
       "      <td>Music &amp; Dance</td>\n",
       "      <td>NaN</td>\n",
       "      <td>30.5M</td>\n",
       "      <td>-</td>\n",
       "      <td>0</td>\n",
       "      <td>N/A'</td>\n",
       "      <td>N/A'</td>\n",
       "      <td>June</td>\n",
       "      <td>...</td>\n",
       "      <td>NaN</td>\n",
       "      <td>NaN</td>\n",
       "      <td>NaN</td>\n",
       "      <td>NaN</td>\n",
       "      <td>NaN</td>\n",
       "      <td>NaN</td>\n",
       "      <td>NaN</td>\n",
       "      <td>NaN</td>\n",
       "      <td>NaN</td>\n",
       "      <td>NaN</td>\n",
       "    </tr>\n",
       "    <tr>\n",
       "      <th>1</th>\n",
       "      <td>Baby Big Mouth Kids - Sing, Dance, Explore</td>\n",
       "      <td>Baby Big Mouth Kids - Sing, Dance, Explore</td>\n",
       "      <td>Animation</td>\n",
       "      <td>Toys</td>\n",
       "      <td>10.6M</td>\n",
       "      <td>-</td>\n",
       "      <td>348.5</td>\n",
       "      <td>3</td>\n",
       "      <td>N/A'</td>\n",
       "      <td>June</td>\n",
       "      <td>...</td>\n",
       "      <td>NaN</td>\n",
       "      <td>NaN</td>\n",
       "      <td>NaN</td>\n",
       "      <td>NaN</td>\n",
       "      <td>NaN</td>\n",
       "      <td>NaN</td>\n",
       "      <td>NaN</td>\n",
       "      <td>NaN</td>\n",
       "      <td>NaN</td>\n",
       "      <td>NaN</td>\n",
       "    </tr>\n",
       "    <tr>\n",
       "      <th>2</th>\n",
       "      <td>shfa show India</td>\n",
       "      <td>shfa show India</td>\n",
       "      <td>Daily vlogs</td>\n",
       "      <td>NaN</td>\n",
       "      <td>18.9M</td>\n",
       "      <td>-</td>\n",
       "      <td>1.2M</td>\n",
       "      <td>8.7K</td>\n",
       "      <td>N/A'</td>\n",
       "      <td>June</td>\n",
       "      <td>...</td>\n",
       "      <td>NaN</td>\n",
       "      <td>NaN</td>\n",
       "      <td>NaN</td>\n",
       "      <td>NaN</td>\n",
       "      <td>NaN</td>\n",
       "      <td>NaN</td>\n",
       "      <td>NaN</td>\n",
       "      <td>NaN</td>\n",
       "      <td>NaN</td>\n",
       "      <td>NaN</td>\n",
       "    </tr>\n",
       "    <tr>\n",
       "      <th>3</th>\n",
       "      <td>Blippi - Educational Videos for Kids</td>\n",
       "      <td>Blippi - Educational Videos for Kids</td>\n",
       "      <td>Education</td>\n",
       "      <td>Toys</td>\n",
       "      <td>15.7M</td>\n",
       "      <td>-</td>\n",
       "      <td>1.2M</td>\n",
       "      <td>4.2K</td>\n",
       "      <td>N/A'</td>\n",
       "      <td>June</td>\n",
       "      <td>...</td>\n",
       "      <td>NaN</td>\n",
       "      <td>NaN</td>\n",
       "      <td>NaN</td>\n",
       "      <td>NaN</td>\n",
       "      <td>NaN</td>\n",
       "      <td>NaN</td>\n",
       "      <td>NaN</td>\n",
       "      <td>NaN</td>\n",
       "      <td>NaN</td>\n",
       "      <td>NaN</td>\n",
       "    </tr>\n",
       "    <tr>\n",
       "      <th>4</th>\n",
       "      <td>infobellstamil</td>\n",
       "      <td>infobells - Tamil</td>\n",
       "      <td>Education</td>\n",
       "      <td>NaN</td>\n",
       "      <td>26.5M</td>\n",
       "      <td>-</td>\n",
       "      <td>1.3M</td>\n",
       "      <td>5.8K</td>\n",
       "      <td>N/A'</td>\n",
       "      <td>June</td>\n",
       "      <td>...</td>\n",
       "      <td>NaN</td>\n",
       "      <td>NaN</td>\n",
       "      <td>NaN</td>\n",
       "      <td>NaN</td>\n",
       "      <td>NaN</td>\n",
       "      <td>NaN</td>\n",
       "      <td>NaN</td>\n",
       "      <td>NaN</td>\n",
       "      <td>NaN</td>\n",
       "      <td>NaN</td>\n",
       "    </tr>\n",
       "  </tbody>\n",
       "</table>\n",
       "<p>5 rows × 26 columns</p>\n",
       "</div>"
      ],
      "text/plain": [
       "                                 channel name  \\\n",
       "0                                     juptube   \n",
       "1  Baby Big Mouth Kids - Sing, Dance, Explore   \n",
       "2                             shfa show India   \n",
       "3        Blippi - Educational Videos for Kids   \n",
       "4                              infobellstamil   \n",
       "\n",
       "                                     youTuber       Category Category_2  \\\n",
       "0                          Galinha Pintadinha  Music & Dance        NaN   \n",
       "1  Baby Big Mouth Kids - Sing, Dance, Explore      Animation       Toys   \n",
       "2                             shfa show India    Daily vlogs        NaN   \n",
       "3        Blippi - Educational Videos for Kids      Education       Toys   \n",
       "4                           infobells - Tamil      Education        NaN   \n",
       "\n",
       "  Subscribers count Country Views avg. Likes avg Comments avg. Month  ...  \\\n",
       "0             30.5M       -          0      N/A'          N/A'  June  ...   \n",
       "1             10.6M       -      348.5         3          N/A'  June  ...   \n",
       "2             18.9M       -       1.2M      8.7K          N/A'  June  ...   \n",
       "3             15.7M       -       1.2M      4.2K          N/A'  June  ...   \n",
       "4             26.5M       -       1.3M      5.8K          N/A'  June  ...   \n",
       "\n",
       "   Avg Comments Category_3 s.no Youtube channel youtuber name Followers  \\\n",
       "0           NaN        NaN  NaN             NaN           NaN       NaN   \n",
       "1           NaN        NaN  NaN             NaN           NaN       NaN   \n",
       "2           NaN        NaN  NaN             NaN           NaN       NaN   \n",
       "3           NaN        NaN  NaN             NaN           NaN       NaN   \n",
       "4           NaN        NaN  NaN             NaN           NaN       NaN   \n",
       "\n",
       "  \\nViews (Avg.) Likes (Avg.)  Comments (Avg.) Category-2  \n",
       "0            NaN          NaN              NaN        NaN  \n",
       "1            NaN          NaN              NaN        NaN  \n",
       "2            NaN          NaN              NaN        NaN  \n",
       "3            NaN          NaN              NaN        NaN  \n",
       "4            NaN          NaN              NaN        NaN  \n",
       "\n",
       "[5 rows x 26 columns]"
      ]
     },
     "execution_count": 50,
     "metadata": {},
     "output_type": "execute_result"
    }
   ],
   "source": [
    "# Concatenar los DataFrames de Youtube en un solo DataFrame\n",
    "df_Youtube = pd.concat([df_Y_June, df_Y_Sep, df_Y_Nov, df_Y_Dec], axis=0, ignore_index=True)\n",
    "\n",
    "# Verificar el DataFrame resultante\n",
    "df_Youtube.head()"
   ]
  },
  {
   "cell_type": "code",
   "execution_count": 51,
   "metadata": {
    "tags": []
   },
   "outputs": [],
   "source": [
    "# Limpieza de YouTube\n",
    "\n",
    "# Username\n",
    "df_Youtube['Username'] = df_Youtube['Youtuber'].combine_first(df_Youtube['channel name']).combine_first(df_Youtube['Youtube channel'])"
   ]
  },
  {
   "cell_type": "code",
   "execution_count": 52,
   "metadata": {
    "tags": []
   },
   "outputs": [],
   "source": [
    "df_Youtube.drop(['Youtuber', 'channel name','Youtube channel'],axis=1,inplace=True)"
   ]
  },
  {
   "cell_type": "code",
   "execution_count": 53,
   "metadata": {
    "tags": []
   },
   "outputs": [],
   "source": [
    "# Name\n",
    "df_Youtube['Name'] = df_Youtube['Name'].combine_first(df_Youtube['youTuber']).combine_first(df_Youtube['youtuber name'])"
   ]
  },
  {
   "cell_type": "code",
   "execution_count": 54,
   "metadata": {
    "tags": []
   },
   "outputs": [],
   "source": [
    "df_Youtube.drop(['youTuber','youtuber name'],axis=1,inplace=True)"
   ]
  },
  {
   "cell_type": "code",
   "execution_count": 55,
   "metadata": {
    "tags": []
   },
   "outputs": [],
   "source": [
    "# Subscribers\n",
    "df_Youtube['Subscribers'] = df_Youtube[' Subscribers'].combine_first(df_Youtube['Followers']).combine_first(df_Youtube['Subscribers count'])"
   ]
  },
  {
   "cell_type": "code",
   "execution_count": 56,
   "metadata": {
    "tags": []
   },
   "outputs": [],
   "source": [
    "df_Youtube.drop([' Subscribers', 'Followers', 'Subscribers count'],axis=1,inplace=True)"
   ]
  },
  {
   "cell_type": "code",
   "execution_count": 57,
   "metadata": {
    "tags": []
   },
   "outputs": [],
   "source": [
    "# Views\n",
    "df_Youtube['Views'] = df_Youtube['Avg. views\\r\\n'].combine_first(df_Youtube['\\nViews (Avg.)']).combine_first(df_Youtube['Views avg.'])"
   ]
  },
  {
   "cell_type": "code",
   "execution_count": 58,
   "metadata": {
    "tags": []
   },
   "outputs": [],
   "source": [
    "df_Youtube.drop(['Avg. views\\r\\n', '\\nViews (Avg.)', 'Views avg.'],axis=1,inplace=True)"
   ]
  },
  {
   "cell_type": "code",
   "execution_count": 59,
   "metadata": {
    "tags": []
   },
   "outputs": [],
   "source": [
    "# Likes\n",
    "df_Youtube['Likes'] = df_Youtube['Avg. likes'].combine_first(df_Youtube['Likes (Avg.)']).combine_first(df_Youtube['Likes avg'])"
   ]
  },
  {
   "cell_type": "code",
   "execution_count": 60,
   "metadata": {
    "tags": []
   },
   "outputs": [],
   "source": [
    "df_Youtube.drop(['Avg. likes', 'Likes (Avg.)', 'Likes avg'],axis=1,inplace=True)"
   ]
  },
  {
   "cell_type": "code",
   "execution_count": 61,
   "metadata": {
    "tags": []
   },
   "outputs": [],
   "source": [
    "# Comments\n",
    "df_Youtube['Comments'] = df_Youtube['Avg Comments'].combine_first(df_Youtube['Comments (Avg.)']).combine_first(df_Youtube['Comments avg.'])"
   ]
  },
  {
   "cell_type": "code",
   "execution_count": 62,
   "metadata": {
    "tags": []
   },
   "outputs": [],
   "source": [
    "df_Youtube.drop(['Avg Comments', 'Comments (Avg.)', 'Comments avg.'],axis=1,inplace=True)"
   ]
  },
  {
   "cell_type": "code",
   "execution_count": 63,
   "metadata": {
    "tags": []
   },
   "outputs": [],
   "source": [
    "# Category1\n",
    "df_Youtube['Category1'] = df_Youtube['Category'].combine_first(df_Youtube['Category_3'])"
   ]
  },
  {
   "cell_type": "code",
   "execution_count": 64,
   "metadata": {
    "tags": []
   },
   "outputs": [],
   "source": [
    "df_Youtube.drop(['Category', 'Category_3'],axis=1,inplace=True)"
   ]
  },
  {
   "cell_type": "code",
   "execution_count": 65,
   "metadata": {
    "tags": []
   },
   "outputs": [],
   "source": [
    "# Category2\n",
    "df_Youtube['Category2'] = df_Youtube['Category_2'].combine_first(df_Youtube['Category-2'])"
   ]
  },
  {
   "cell_type": "code",
   "execution_count": 66,
   "metadata": {
    "tags": []
   },
   "outputs": [],
   "source": [
    "df_Youtube.drop(['Category_2', 'Category-2'],axis=1,inplace=True)"
   ]
  },
  {
   "cell_type": "code",
   "execution_count": 67,
   "metadata": {
    "tags": []
   },
   "outputs": [],
   "source": [
    "# Eliminacion de columnas que no queremos\n",
    "df_Youtube.drop(['s.no', 'S.no'],axis=1,inplace=True)"
   ]
  },
  {
   "cell_type": "code",
   "execution_count": 68,
   "metadata": {
    "tags": []
   },
   "outputs": [
    {
     "data": {
      "text/html": [
       "<div>\n",
       "<style scoped>\n",
       "    .dataframe tbody tr th:only-of-type {\n",
       "        vertical-align: middle;\n",
       "    }\n",
       "\n",
       "    .dataframe tbody tr th {\n",
       "        vertical-align: top;\n",
       "    }\n",
       "\n",
       "    .dataframe thead th {\n",
       "        text-align: right;\n",
       "    }\n",
       "</style>\n",
       "<table border=\"1\" class=\"dataframe\">\n",
       "  <thead>\n",
       "    <tr style=\"text-align: right;\">\n",
       "      <th></th>\n",
       "      <th>Country</th>\n",
       "      <th>Month</th>\n",
       "      <th>Name</th>\n",
       "      <th>Username</th>\n",
       "      <th>Subscribers</th>\n",
       "      <th>Views</th>\n",
       "      <th>Likes</th>\n",
       "      <th>Comments</th>\n",
       "      <th>Category1</th>\n",
       "      <th>Category2</th>\n",
       "    </tr>\n",
       "  </thead>\n",
       "  <tbody>\n",
       "    <tr>\n",
       "      <th>0</th>\n",
       "      <td>-</td>\n",
       "      <td>June</td>\n",
       "      <td>Galinha Pintadinha</td>\n",
       "      <td>juptube</td>\n",
       "      <td>30.5M</td>\n",
       "      <td>0</td>\n",
       "      <td>N/A'</td>\n",
       "      <td>N/A'</td>\n",
       "      <td>Music &amp; Dance</td>\n",
       "      <td>NaN</td>\n",
       "    </tr>\n",
       "    <tr>\n",
       "      <th>1</th>\n",
       "      <td>-</td>\n",
       "      <td>June</td>\n",
       "      <td>Baby Big Mouth Kids - Sing, Dance, Explore</td>\n",
       "      <td>Baby Big Mouth Kids - Sing, Dance, Explore</td>\n",
       "      <td>10.6M</td>\n",
       "      <td>348.5</td>\n",
       "      <td>3</td>\n",
       "      <td>N/A'</td>\n",
       "      <td>Animation</td>\n",
       "      <td>Toys</td>\n",
       "    </tr>\n",
       "    <tr>\n",
       "      <th>2</th>\n",
       "      <td>-</td>\n",
       "      <td>June</td>\n",
       "      <td>shfa show India</td>\n",
       "      <td>shfa show India</td>\n",
       "      <td>18.9M</td>\n",
       "      <td>1.2M</td>\n",
       "      <td>8.7K</td>\n",
       "      <td>N/A'</td>\n",
       "      <td>Daily vlogs</td>\n",
       "      <td>NaN</td>\n",
       "    </tr>\n",
       "    <tr>\n",
       "      <th>3</th>\n",
       "      <td>-</td>\n",
       "      <td>June</td>\n",
       "      <td>Blippi - Educational Videos for Kids</td>\n",
       "      <td>Blippi - Educational Videos for Kids</td>\n",
       "      <td>15.7M</td>\n",
       "      <td>1.2M</td>\n",
       "      <td>4.2K</td>\n",
       "      <td>N/A'</td>\n",
       "      <td>Education</td>\n",
       "      <td>Toys</td>\n",
       "    </tr>\n",
       "    <tr>\n",
       "      <th>4</th>\n",
       "      <td>-</td>\n",
       "      <td>June</td>\n",
       "      <td>infobells - Tamil</td>\n",
       "      <td>infobellstamil</td>\n",
       "      <td>26.5M</td>\n",
       "      <td>1.3M</td>\n",
       "      <td>5.8K</td>\n",
       "      <td>N/A'</td>\n",
       "      <td>Education</td>\n",
       "      <td>NaN</td>\n",
       "    </tr>\n",
       "    <tr>\n",
       "      <th>...</th>\n",
       "      <td>...</td>\n",
       "      <td>...</td>\n",
       "      <td>...</td>\n",
       "      <td>...</td>\n",
       "      <td>...</td>\n",
       "      <td>...</td>\n",
       "      <td>...</td>\n",
       "      <td>...</td>\n",
       "      <td>...</td>\n",
       "      <td>...</td>\n",
       "    </tr>\n",
       "    <tr>\n",
       "      <th>4066</th>\n",
       "      <td>India</td>\n",
       "      <td>December</td>\n",
       "      <td>Classic Mr Bean</td>\n",
       "      <td>ClassicMrBean</td>\n",
       "      <td>10.1M</td>\n",
       "      <td>48.3K</td>\n",
       "      <td>624</td>\n",
       "      <td>23</td>\n",
       "      <td>NaN</td>\n",
       "      <td>NaN</td>\n",
       "    </tr>\n",
       "    <tr>\n",
       "      <th>4067</th>\n",
       "      <td>Bangladesh</td>\n",
       "      <td>December</td>\n",
       "      <td>Anupam Movie Songs</td>\n",
       "      <td>Anupam Movie Songs</td>\n",
       "      <td>10.1M</td>\n",
       "      <td>41.2K</td>\n",
       "      <td>315</td>\n",
       "      <td>18</td>\n",
       "      <td>Music &amp; Dance</td>\n",
       "      <td>NaN</td>\n",
       "    </tr>\n",
       "    <tr>\n",
       "      <th>4068</th>\n",
       "      <td>India</td>\n",
       "      <td>December</td>\n",
       "      <td>Anand Audio</td>\n",
       "      <td>AnandAudio</td>\n",
       "      <td>10.3M</td>\n",
       "      <td>175.5K</td>\n",
       "      <td>2.2K</td>\n",
       "      <td>109</td>\n",
       "      <td>NaN</td>\n",
       "      <td>NaN</td>\n",
       "    </tr>\n",
       "    <tr>\n",
       "      <th>4069</th>\n",
       "      <td>Russia</td>\n",
       "      <td>December</td>\n",
       "      <td>Wylsacom</td>\n",
       "      <td>Wylsacom</td>\n",
       "      <td>10.3M</td>\n",
       "      <td>291.7K</td>\n",
       "      <td>13K</td>\n",
       "      <td>950</td>\n",
       "      <td>Science &amp; Technology</td>\n",
       "      <td>News &amp; Politics</td>\n",
       "    </tr>\n",
       "    <tr>\n",
       "      <th>4070</th>\n",
       "      <td>India</td>\n",
       "      <td>December</td>\n",
       "      <td>Eagle Home Entertainments</td>\n",
       "      <td>Eagle Home Entertainments</td>\n",
       "      <td>10.2M</td>\n",
       "      <td>724</td>\n",
       "      <td>3</td>\n",
       "      <td>0</td>\n",
       "      <td>NaN</td>\n",
       "      <td>NaN</td>\n",
       "    </tr>\n",
       "  </tbody>\n",
       "</table>\n",
       "<p>4071 rows × 10 columns</p>\n",
       "</div>"
      ],
      "text/plain": [
       "         Country     Month                                        Name  \\\n",
       "0              -      June                          Galinha Pintadinha   \n",
       "1              -      June  Baby Big Mouth Kids - Sing, Dance, Explore   \n",
       "2              -      June                             shfa show India   \n",
       "3              -      June        Blippi - Educational Videos for Kids   \n",
       "4              -      June                           infobells - Tamil   \n",
       "...          ...       ...                                         ...   \n",
       "4066       India  December                             Classic Mr Bean   \n",
       "4067  Bangladesh  December                          Anupam Movie Songs   \n",
       "4068       India  December                                 Anand Audio   \n",
       "4069      Russia  December                                    Wylsacom   \n",
       "4070       India  December                   Eagle Home Entertainments   \n",
       "\n",
       "                                        Username Subscribers   Views Likes  \\\n",
       "0                                        juptube       30.5M       0  N/A'   \n",
       "1     Baby Big Mouth Kids - Sing, Dance, Explore       10.6M   348.5     3   \n",
       "2                                shfa show India       18.9M    1.2M  8.7K   \n",
       "3           Blippi - Educational Videos for Kids       15.7M    1.2M  4.2K   \n",
       "4                                 infobellstamil       26.5M    1.3M  5.8K   \n",
       "...                                          ...         ...     ...   ...   \n",
       "4066                               ClassicMrBean       10.1M   48.3K   624   \n",
       "4067                          Anupam Movie Songs       10.1M   41.2K   315   \n",
       "4068                                  AnandAudio       10.3M  175.5K  2.2K   \n",
       "4069                                    Wylsacom       10.3M  291.7K   13K   \n",
       "4070                   Eagle Home Entertainments       10.2M     724     3   \n",
       "\n",
       "     Comments             Category1        Category2  \n",
       "0        N/A'         Music & Dance              NaN  \n",
       "1        N/A'             Animation             Toys  \n",
       "2        N/A'           Daily vlogs              NaN  \n",
       "3        N/A'             Education             Toys  \n",
       "4        N/A'             Education              NaN  \n",
       "...       ...                   ...              ...  \n",
       "4066       23                   NaN              NaN  \n",
       "4067       18         Music & Dance              NaN  \n",
       "4068      109                   NaN              NaN  \n",
       "4069      950  Science & Technology  News & Politics  \n",
       "4070        0                   NaN              NaN  \n",
       "\n",
       "[4071 rows x 10 columns]"
      ]
     },
     "execution_count": 68,
     "metadata": {},
     "output_type": "execute_result"
    }
   ],
   "source": [
    "df_Youtube"
   ]
  },
  {
   "cell_type": "code",
   "execution_count": 69,
   "metadata": {
    "tags": []
   },
   "outputs": [
    {
     "data": {
      "text/plain": [
       "Country         527\n",
       "Month             0\n",
       "Name              0\n",
       "Username          0\n",
       "Subscribers       0\n",
       "Views             0\n",
       "Likes             0\n",
       "Comments          0\n",
       "Category1      1656\n",
       "Category2      2555\n",
       "dtype: int64"
      ]
     },
     "execution_count": 69,
     "metadata": {},
     "output_type": "execute_result"
    }
   ],
   "source": [
    "df_Youtube.isna().sum()"
   ]
  },
  {
   "cell_type": "code",
   "execution_count": 70,
   "metadata": {
    "tags": []
   },
   "outputs": [],
   "source": [
    "# Seguimos con la limpieza...\n",
    "df_Youtube=df_Youtube.dropna()"
   ]
  },
  {
   "cell_type": "code",
   "execution_count": 71,
   "metadata": {
    "tags": []
   },
   "outputs": [],
   "source": [
    "df_Youtube = df_Youtube.drop_duplicates()"
   ]
  },
  {
   "cell_type": "code",
   "execution_count": 72,
   "metadata": {
    "tags": []
   },
   "outputs": [
    {
     "data": {
      "text/plain": [
       "(858, 10)"
      ]
     },
     "execution_count": 72,
     "metadata": {},
     "output_type": "execute_result"
    }
   ],
   "source": [
    "df_Youtube.shape"
   ]
  },
  {
   "cell_type": "markdown",
   "metadata": {},
   "source": [
    "Una vez que los 3 DataFrames se encuentran limpios se obtienen los datos solicitados de cada uno."
   ]
  },
  {
   "cell_type": "markdown",
   "metadata": {},
   "source": [
    "## Obtención de datos de Instagram"
   ]
  },
  {
   "cell_type": "markdown",
   "metadata": {},
   "source": [
    "#### - Número total de cuentas (Username) distintas, se sabe que el DataFrame tiene 1168 registros"
   ]
  },
  {
   "cell_type": "code",
   "execution_count": 73,
   "metadata": {
    "tags": []
   },
   "outputs": [
    {
     "data": {
      "text/html": [
       "<div>\n",
       "<style scoped>\n",
       "    .dataframe tbody tr th:only-of-type {\n",
       "        vertical-align: middle;\n",
       "    }\n",
       "\n",
       "    .dataframe tbody tr th {\n",
       "        vertical-align: top;\n",
       "    }\n",
       "\n",
       "    .dataframe thead th {\n",
       "        text-align: right;\n",
       "    }\n",
       "</style>\n",
       "<table border=\"1\" class=\"dataframe\">\n",
       "  <thead>\n",
       "    <tr style=\"text-align: right;\">\n",
       "      <th></th>\n",
       "      <th>Month</th>\n",
       "      <th>Name</th>\n",
       "      <th>Username</th>\n",
       "      <th>Subscribers o Followers</th>\n",
       "      <th>Country</th>\n",
       "      <th>Authentic</th>\n",
       "      <th>Engagement</th>\n",
       "      <th>Category1</th>\n",
       "      <th>Category2</th>\n",
       "    </tr>\n",
       "  </thead>\n",
       "  <tbody>\n",
       "    <tr>\n",
       "      <th>4</th>\n",
       "      <td>June</td>\n",
       "      <td>Hakken 八犬</td>\n",
       "      <td>_hakkencoser_</td>\n",
       "      <td>3.5M</td>\n",
       "      <td>United States</td>\n",
       "      <td>525.1K</td>\n",
       "      <td>643K</td>\n",
       "      <td>Lifestyle</td>\n",
       "      <td>Photography</td>\n",
       "    </tr>\n",
       "    <tr>\n",
       "      <th>10</th>\n",
       "      <td>June</td>\n",
       "      <td>설인아 sᴇᴏʀɪɴᴀ</td>\n",
       "      <td>_seorina</td>\n",
       "      <td>5.7M</td>\n",
       "      <td>South Korea</td>\n",
       "      <td>728K</td>\n",
       "      <td>903.5K</td>\n",
       "      <td>Lifestyle</td>\n",
       "      <td>Cinema &amp; Actors/actresses</td>\n",
       "    </tr>\n",
       "    <tr>\n",
       "      <th>20</th>\n",
       "      <td>June</td>\n",
       "      <td>AB de Villiers</td>\n",
       "      <td>abdevilliers17</td>\n",
       "      <td>18.3M</td>\n",
       "      <td>India</td>\n",
       "      <td>274.1K</td>\n",
       "      <td>315.8K</td>\n",
       "      <td>Sports with a ball</td>\n",
       "      <td>Lifestyle</td>\n",
       "    </tr>\n",
       "    <tr>\n",
       "      <th>33</th>\n",
       "      <td>June</td>\n",
       "      <td>Ahmed Abouhashima</td>\n",
       "      <td>ahmedabohashima</td>\n",
       "      <td>14.8M</td>\n",
       "      <td>Egypt</td>\n",
       "      <td>121.9K</td>\n",
       "      <td>164.4K</td>\n",
       "      <td>Business &amp; Careers</td>\n",
       "      <td>Finance &amp; Economics</td>\n",
       "    </tr>\n",
       "    <tr>\n",
       "      <th>49</th>\n",
       "      <td>June</td>\n",
       "      <td>Álvaro Morata</td>\n",
       "      <td>alvaromorata</td>\n",
       "      <td>17.2M</td>\n",
       "      <td>Italy</td>\n",
       "      <td>104.7K</td>\n",
       "      <td>162.1K</td>\n",
       "      <td>Sports with a ball</td>\n",
       "      <td>Literature &amp; Journalism</td>\n",
       "    </tr>\n",
       "    <tr>\n",
       "      <th>...</th>\n",
       "      <td>...</td>\n",
       "      <td>...</td>\n",
       "      <td>...</td>\n",
       "      <td>...</td>\n",
       "      <td>...</td>\n",
       "      <td>...</td>\n",
       "      <td>...</td>\n",
       "      <td>...</td>\n",
       "      <td>...</td>\n",
       "    </tr>\n",
       "    <tr>\n",
       "      <th>4044</th>\n",
       "      <td>December</td>\n",
       "      <td>neeraj____chopra</td>\n",
       "      <td>Neeraj Chopra</td>\n",
       "      <td>6.3M</td>\n",
       "      <td>India</td>\n",
       "      <td>294.7K</td>\n",
       "      <td>386.3K</td>\n",
       "      <td>Shows</td>\n",
       "      <td>Winter sports</td>\n",
       "    </tr>\n",
       "    <tr>\n",
       "      <th>4049</th>\n",
       "      <td>December</td>\n",
       "      <td>officialslystallone</td>\n",
       "      <td>Sly Stallone</td>\n",
       "      <td>15.6M</td>\n",
       "      <td>United States</td>\n",
       "      <td>121.4K</td>\n",
       "      <td>153.4K</td>\n",
       "      <td>Art/Artists</td>\n",
       "      <td>Cinema &amp; Actors/actresses</td>\n",
       "    </tr>\n",
       "    <tr>\n",
       "      <th>4060</th>\n",
       "      <td>December</td>\n",
       "      <td>nickjonas</td>\n",
       "      <td>Nick Jonas</td>\n",
       "      <td>33.5M</td>\n",
       "      <td>United States</td>\n",
       "      <td>49.3K</td>\n",
       "      <td>70.1K</td>\n",
       "      <td>Music</td>\n",
       "      <td>Art/Artists</td>\n",
       "    </tr>\n",
       "    <tr>\n",
       "      <th>4066</th>\n",
       "      <td>December</td>\n",
       "      <td>earthpix</td>\n",
       "      <td>🌎  EarthPix  🌎</td>\n",
       "      <td>23.3M</td>\n",
       "      <td>United States</td>\n",
       "      <td>77.3K</td>\n",
       "      <td>100.2K</td>\n",
       "      <td>Nature &amp; landscapes</td>\n",
       "      <td>Photography</td>\n",
       "    </tr>\n",
       "    <tr>\n",
       "      <th>4068</th>\n",
       "      <td>December</td>\n",
       "      <td>soycintiacossio</td>\n",
       "      <td>Cintia Cossio</td>\n",
       "      <td>6M</td>\n",
       "      <td>Colombia</td>\n",
       "      <td>313.4K</td>\n",
       "      <td>390.6K</td>\n",
       "      <td>Modeling</td>\n",
       "      <td>Adult content</td>\n",
       "    </tr>\n",
       "  </tbody>\n",
       "</table>\n",
       "<p>782 rows × 9 columns</p>\n",
       "</div>"
      ],
      "text/plain": [
       "         Month                 Name         Username Subscribers o Followers  \\\n",
       "4         June            Hakken 八犬    _hakkencoser_                    3.5M   \n",
       "10        June     설인아 sᴇᴏʀɪɴᴀ         _seorina                    5.7M   \n",
       "20        June       AB de Villiers   abdevilliers17                   18.3M   \n",
       "33        June    Ahmed Abouhashima  ahmedabohashima                   14.8M   \n",
       "49        June       Álvaro Morata     alvaromorata                   17.2M   \n",
       "...        ...                  ...              ...                     ...   \n",
       "4044  December     neeraj____chopra    Neeraj Chopra                    6.3M   \n",
       "4049  December  officialslystallone     Sly Stallone                   15.6M   \n",
       "4060  December            nickjonas       Nick Jonas                   33.5M   \n",
       "4066  December             earthpix   🌎  EarthPix  🌎                   23.3M   \n",
       "4068  December      soycintiacossio    Cintia Cossio                      6M   \n",
       "\n",
       "            Country Authentic Engagement            Category1  \\\n",
       "4     United States    525.1K       643K            Lifestyle   \n",
       "10      South Korea      728K     903.5K            Lifestyle   \n",
       "20            India    274.1K     315.8K   Sports with a ball   \n",
       "33            Egypt    121.9K     164.4K   Business & Careers   \n",
       "49            Italy    104.7K     162.1K   Sports with a ball   \n",
       "...             ...       ...        ...                  ...   \n",
       "4044          India    294.7K     386.3K                Shows   \n",
       "4049  United States    121.4K     153.4K          Art/Artists   \n",
       "4060  United States     49.3K      70.1K                Music   \n",
       "4066  United States     77.3K     100.2K  Nature & landscapes   \n",
       "4068       Colombia    313.4K     390.6K             Modeling   \n",
       "\n",
       "                      Category2  \n",
       "4                   Photography  \n",
       "10    Cinema & Actors/actresses  \n",
       "20                    Lifestyle  \n",
       "33          Finance & Economics  \n",
       "49      Literature & Journalism  \n",
       "...                         ...  \n",
       "4044              Winter sports  \n",
       "4049  Cinema & Actors/actresses  \n",
       "4060                Art/Artists  \n",
       "4066                Photography  \n",
       "4068              Adult content  \n",
       "\n",
       "[782 rows x 9 columns]"
      ]
     },
     "execution_count": 73,
     "metadata": {},
     "output_type": "execute_result"
    }
   ],
   "source": [
    "#Muestra las cuentas duplicadas\n",
    "df_Insta[df_Insta.Username.duplicated(keep=False)]"
   ]
  },
  {
   "cell_type": "code",
   "execution_count": 74,
   "metadata": {
    "tags": []
   },
   "outputs": [
    {
     "data": {
      "text/plain": [
       "775"
      ]
     },
     "execution_count": 74,
     "metadata": {},
     "output_type": "execute_result"
    }
   ],
   "source": [
    "#Muestra el número total de cuentas distintas\n",
    "df_Insta.Username.nunique()"
   ]
  },
  {
   "cell_type": "markdown",
   "metadata": {},
   "source": [
    "Como se observa, el número total de cuentas distintas de Instagram son 775"
   ]
  },
  {
   "cell_type": "markdown",
   "metadata": {},
   "source": [
    "#### - Promedio de seguidores, authentic, engagement, de cada cuenta"
   ]
  },
  {
   "cell_type": "code",
   "execution_count": 75,
   "metadata": {
    "tags": []
   },
   "outputs": [],
   "source": [
    "# Se transforman los registros de las columnas solicitadas a valores numericos\n",
    "df_Insta['Subscribers o Followers'] = df_Insta['Subscribers o Followers'].replace({'K': '*1e3', 'M': '*1e6', 'G':'*1e9'}, regex=True).map(pd.eval).astype(int)\n",
    "df_Insta['Authentic'] = df_Insta['Authentic'].replace({'K': '*1e3', 'M': '*1e6', 'G':'*1e9'}, regex=True).map(pd.eval).astype(int)\n",
    "df_Insta['Engagement'] = df_Insta['Engagement'].replace({'K': '*1e3', 'M': '*1e6', 'G':'*1e9'}, regex=True).map(pd.eval).astype(int)"
   ]
  },
  {
   "cell_type": "code",
   "execution_count": 76,
   "metadata": {
    "tags": []
   },
   "outputs": [
    {
     "data": {
      "text/html": [
       "<div>\n",
       "<style scoped>\n",
       "    .dataframe tbody tr th:only-of-type {\n",
       "        vertical-align: middle;\n",
       "    }\n",
       "\n",
       "    .dataframe tbody tr th {\n",
       "        vertical-align: top;\n",
       "    }\n",
       "\n",
       "    .dataframe thead th {\n",
       "        text-align: right;\n",
       "    }\n",
       "</style>\n",
       "<table border=\"1\" class=\"dataframe\">\n",
       "  <thead>\n",
       "    <tr style=\"text-align: right;\">\n",
       "      <th></th>\n",
       "      <th>Month</th>\n",
       "      <th>Name</th>\n",
       "      <th>Username</th>\n",
       "      <th>Subscribers o Followers</th>\n",
       "      <th>Country</th>\n",
       "      <th>Authentic</th>\n",
       "      <th>Engagement</th>\n",
       "      <th>Category1</th>\n",
       "      <th>Category2</th>\n",
       "    </tr>\n",
       "  </thead>\n",
       "  <tbody>\n",
       "    <tr>\n",
       "      <th>4</th>\n",
       "      <td>June</td>\n",
       "      <td>Hakken 八犬</td>\n",
       "      <td>_hakkencoser_</td>\n",
       "      <td>3500000</td>\n",
       "      <td>United States</td>\n",
       "      <td>525100</td>\n",
       "      <td>643000</td>\n",
       "      <td>Lifestyle</td>\n",
       "      <td>Photography</td>\n",
       "    </tr>\n",
       "    <tr>\n",
       "      <th>10</th>\n",
       "      <td>June</td>\n",
       "      <td>설인아 sᴇᴏʀɪɴᴀ</td>\n",
       "      <td>_seorina</td>\n",
       "      <td>5700000</td>\n",
       "      <td>South Korea</td>\n",
       "      <td>728000</td>\n",
       "      <td>903500</td>\n",
       "      <td>Lifestyle</td>\n",
       "      <td>Cinema &amp; Actors/actresses</td>\n",
       "    </tr>\n",
       "    <tr>\n",
       "      <th>11</th>\n",
       "      <td>June</td>\n",
       "      <td>SHOTARO ショウタロウ</td>\n",
       "      <td>_shotaroo_</td>\n",
       "      <td>5300000</td>\n",
       "      <td>Indonesia</td>\n",
       "      <td>866900</td>\n",
       "      <td>1100000</td>\n",
       "      <td>Lifestyle</td>\n",
       "      <td>Music</td>\n",
       "    </tr>\n",
       "    <tr>\n",
       "      <th>20</th>\n",
       "      <td>June</td>\n",
       "      <td>AB de Villiers</td>\n",
       "      <td>abdevilliers17</td>\n",
       "      <td>18300000</td>\n",
       "      <td>India</td>\n",
       "      <td>274100</td>\n",
       "      <td>315800</td>\n",
       "      <td>Sports with a ball</td>\n",
       "      <td>Lifestyle</td>\n",
       "    </tr>\n",
       "    <tr>\n",
       "      <th>33</th>\n",
       "      <td>June</td>\n",
       "      <td>Ahmed Abouhashima</td>\n",
       "      <td>ahmedabohashima</td>\n",
       "      <td>14800000</td>\n",
       "      <td>Egypt</td>\n",
       "      <td>121900</td>\n",
       "      <td>164400</td>\n",
       "      <td>Business &amp; Careers</td>\n",
       "      <td>Finance &amp; Economics</td>\n",
       "    </tr>\n",
       "    <tr>\n",
       "      <th>...</th>\n",
       "      <td>...</td>\n",
       "      <td>...</td>\n",
       "      <td>...</td>\n",
       "      <td>...</td>\n",
       "      <td>...</td>\n",
       "      <td>...</td>\n",
       "      <td>...</td>\n",
       "      <td>...</td>\n",
       "      <td>...</td>\n",
       "    </tr>\n",
       "    <tr>\n",
       "      <th>4064</th>\n",
       "      <td>December</td>\n",
       "      <td>labels.hybe</td>\n",
       "      <td>HYBE LABELS Updates</td>\n",
       "      <td>2300000</td>\n",
       "      <td>India</td>\n",
       "      <td>891100</td>\n",
       "      <td>1000000</td>\n",
       "      <td>Shows</td>\n",
       "      <td>Music</td>\n",
       "    </tr>\n",
       "    <tr>\n",
       "      <th>4065</th>\n",
       "      <td>December</td>\n",
       "      <td>torylanez</td>\n",
       "      <td>FARGO’S CRAZY LIFE</td>\n",
       "      <td>11900000</td>\n",
       "      <td>United States</td>\n",
       "      <td>85100</td>\n",
       "      <td>196000</td>\n",
       "      <td>Shows</td>\n",
       "      <td>Music</td>\n",
       "    </tr>\n",
       "    <tr>\n",
       "      <th>4066</th>\n",
       "      <td>December</td>\n",
       "      <td>earthpix</td>\n",
       "      <td>🌎  EarthPix  🌎</td>\n",
       "      <td>23300000</td>\n",
       "      <td>United States</td>\n",
       "      <td>77300</td>\n",
       "      <td>100200</td>\n",
       "      <td>Nature &amp; landscapes</td>\n",
       "      <td>Photography</td>\n",
       "    </tr>\n",
       "    <tr>\n",
       "      <th>4068</th>\n",
       "      <td>December</td>\n",
       "      <td>soycintiacossio</td>\n",
       "      <td>Cintia Cossio</td>\n",
       "      <td>6000000</td>\n",
       "      <td>Colombia</td>\n",
       "      <td>313400</td>\n",
       "      <td>390600</td>\n",
       "      <td>Modeling</td>\n",
       "      <td>Adult content</td>\n",
       "    </tr>\n",
       "    <tr>\n",
       "      <th>4071</th>\n",
       "      <td>December</td>\n",
       "      <td>ravindra.jadeja</td>\n",
       "      <td>Ravindrasinh jadeja</td>\n",
       "      <td>4800000</td>\n",
       "      <td>India</td>\n",
       "      <td>388900</td>\n",
       "      <td>485100</td>\n",
       "      <td>Lifestyle</td>\n",
       "      <td>Sports with a ball</td>\n",
       "    </tr>\n",
       "  </tbody>\n",
       "</table>\n",
       "<p>1168 rows × 9 columns</p>\n",
       "</div>"
      ],
      "text/plain": [
       "         Month               Name             Username  \\\n",
       "4         June          Hakken 八犬        _hakkencoser_   \n",
       "10        June   설인아 sᴇᴏʀɪɴᴀ             _seorina   \n",
       "11        June     SHOTARO ショウタロウ           _shotaroo_   \n",
       "20        June     AB de Villiers       abdevilliers17   \n",
       "33        June  Ahmed Abouhashima      ahmedabohashima   \n",
       "...        ...                ...                  ...   \n",
       "4064  December        labels.hybe  HYBE LABELS Updates   \n",
       "4065  December          torylanez   FARGO’S CRAZY LIFE   \n",
       "4066  December           earthpix       🌎  EarthPix  🌎   \n",
       "4068  December    soycintiacossio        Cintia Cossio   \n",
       "4071  December    ravindra.jadeja  Ravindrasinh jadeja   \n",
       "\n",
       "      Subscribers o Followers        Country  Authentic  Engagement  \\\n",
       "4                     3500000  United States     525100      643000   \n",
       "10                    5700000    South Korea     728000      903500   \n",
       "11                    5300000      Indonesia     866900     1100000   \n",
       "20                   18300000          India     274100      315800   \n",
       "33                   14800000          Egypt     121900      164400   \n",
       "...                       ...            ...        ...         ...   \n",
       "4064                  2300000          India     891100     1000000   \n",
       "4065                 11900000  United States      85100      196000   \n",
       "4066                 23300000  United States      77300      100200   \n",
       "4068                  6000000       Colombia     313400      390600   \n",
       "4071                  4800000          India     388900      485100   \n",
       "\n",
       "                Category1                  Category2  \n",
       "4               Lifestyle                Photography  \n",
       "10              Lifestyle  Cinema & Actors/actresses  \n",
       "11              Lifestyle                      Music  \n",
       "20     Sports with a ball                  Lifestyle  \n",
       "33     Business & Careers        Finance & Economics  \n",
       "...                   ...                        ...  \n",
       "4064                Shows                      Music  \n",
       "4065                Shows                      Music  \n",
       "4066  Nature & landscapes                Photography  \n",
       "4068             Modeling              Adult content  \n",
       "4071            Lifestyle         Sports with a ball  \n",
       "\n",
       "[1168 rows x 9 columns]"
      ]
     },
     "execution_count": 76,
     "metadata": {},
     "output_type": "execute_result"
    }
   ],
   "source": [
    "df_Insta"
   ]
  },
  {
   "cell_type": "code",
   "execution_count": 77,
   "metadata": {
    "tags": []
   },
   "outputs": [
    {
     "data": {
      "text/html": [
       "<div>\n",
       "<style scoped>\n",
       "    .dataframe tbody tr th:only-of-type {\n",
       "        vertical-align: middle;\n",
       "    }\n",
       "\n",
       "    .dataframe tbody tr th {\n",
       "        vertical-align: top;\n",
       "    }\n",
       "\n",
       "    .dataframe thead th {\n",
       "        text-align: right;\n",
       "    }\n",
       "</style>\n",
       "<table border=\"1\" class=\"dataframe\">\n",
       "  <thead>\n",
       "    <tr style=\"text-align: right;\">\n",
       "      <th></th>\n",
       "      <th></th>\n",
       "      <th>Subscribers o Followers</th>\n",
       "      <th>Authentic</th>\n",
       "      <th>Engagement</th>\n",
       "    </tr>\n",
       "    <tr>\n",
       "      <th>Username</th>\n",
       "      <th>Month</th>\n",
       "      <th></th>\n",
       "      <th></th>\n",
       "      <th></th>\n",
       "    </tr>\n",
       "  </thead>\n",
       "  <tbody>\n",
       "    <tr>\n",
       "      <th rowspan=\"2\" valign=\"top\">! Julian</th>\n",
       "      <th>December</th>\n",
       "      <td>6500000.0</td>\n",
       "      <td>514600.0</td>\n",
       "      <td>646000.0</td>\n",
       "    </tr>\n",
       "    <tr>\n",
       "      <th>November</th>\n",
       "      <td>6400000.0</td>\n",
       "      <td>294600.0</td>\n",
       "      <td>362900.0</td>\n",
       "    </tr>\n",
       "    <tr>\n",
       "      <th rowspan=\"2\" valign=\"top\">12 🥷🏽🖤</th>\n",
       "      <th>December</th>\n",
       "      <td>8300000.0</td>\n",
       "      <td>211700.0</td>\n",
       "      <td>342000.0</td>\n",
       "    </tr>\n",
       "    <tr>\n",
       "      <th>November</th>\n",
       "      <td>7700000.0</td>\n",
       "      <td>286600.0</td>\n",
       "      <td>463100.0</td>\n",
       "    </tr>\n",
       "    <tr>\n",
       "      <th rowspan=\"2\" valign=\"top\">2000</th>\n",
       "      <th>December</th>\n",
       "      <td>6700000.0</td>\n",
       "      <td>440900.0</td>\n",
       "      <td>535300.0</td>\n",
       "    </tr>\n",
       "    <tr>\n",
       "      <th>November</th>\n",
       "      <td>6400000.0</td>\n",
       "      <td>399900.0</td>\n",
       "      <td>537800.0</td>\n",
       "    </tr>\n",
       "    <tr>\n",
       "      <th>39saku_chan</th>\n",
       "      <th>September</th>\n",
       "      <td>4300000.0</td>\n",
       "      <td>708000.0</td>\n",
       "      <td>873100.0</td>\n",
       "    </tr>\n",
       "    <tr>\n",
       "      <th rowspan=\"2\" valign=\"top\">AB de Villiers</th>\n",
       "      <th>December</th>\n",
       "      <td>19900000.0</td>\n",
       "      <td>389500.0</td>\n",
       "      <td>449200.0</td>\n",
       "    </tr>\n",
       "    <tr>\n",
       "      <th>November</th>\n",
       "      <td>19000000.0</td>\n",
       "      <td>360800.0</td>\n",
       "      <td>416300.0</td>\n",
       "    </tr>\n",
       "    <tr>\n",
       "      <th>ABU SAALIM</th>\n",
       "      <th>November</th>\n",
       "      <td>3000000.0</td>\n",
       "      <td>372600.0</td>\n",
       "      <td>881400.0</td>\n",
       "    </tr>\n",
       "  </tbody>\n",
       "</table>\n",
       "</div>"
      ],
      "text/plain": [
       "                          Subscribers o Followers  Authentic  Engagement\n",
       "Username       Month                                                    \n",
       "! Julian       December                 6500000.0   514600.0    646000.0\n",
       "               November                 6400000.0   294600.0    362900.0\n",
       "12 🥷🏽🖤         December                 8300000.0   211700.0    342000.0\n",
       "               November                 7700000.0   286600.0    463100.0\n",
       "2000           December                 6700000.0   440900.0    535300.0\n",
       "               November                 6400000.0   399900.0    537800.0\n",
       "39saku_chan    September                4300000.0   708000.0    873100.0\n",
       "AB de Villiers December                19900000.0   389500.0    449200.0\n",
       "               November                19000000.0   360800.0    416300.0\n",
       "ABU SAALIM     November                 3000000.0   372600.0    881400.0"
      ]
     },
     "execution_count": 77,
     "metadata": {},
     "output_type": "execute_result"
    }
   ],
   "source": [
    "#Obtiene el promedio de las columnas solicitadas por cada cuenta\n",
    "columnas = ['Subscribers o Followers','Authentic','Engagement']\n",
    "Promedios = df_Insta.groupby(['Username', 'Month'])[columnas].mean()\n",
    "Promedios.head(10)"
   ]
  },
  {
   "cell_type": "markdown",
   "metadata": {},
   "source": [
    "Para la obtención de los datos anteriores fue necesario transformar a valores númericos las columnas necesarias y una vez con eso se agruparon los datos de acuerdo con cada cuenta (username) y su mes, para de esta forma obtener los promedios."
   ]
  },
  {
   "cell_type": "markdown",
   "metadata": {},
   "source": [
    "#### - Metricas de Valor de cada cuenta"
   ]
  },
  {
   "cell_type": "code",
   "execution_count": 78,
   "metadata": {
    "tags": []
   },
   "outputs": [
    {
     "data": {
      "text/plain": [
       "Username        Month   \n",
       "! Julian        December    0.099385\n",
       "                November    0.056703\n",
       "12 🥷🏽🖤          December    0.041205\n",
       "                November    0.060143\n",
       "2000            December    0.079896\n",
       "                              ...   \n",
       "𝑨𝒋𝒆𝒚 𝑵𝒂𝒈𝒂𝒓      November    0.060671\n",
       "🌎  EarthPix  🌎  December    0.004300\n",
       "                November    0.010223\n",
       "📲               December    0.218182\n",
       "                November    0.234043\n",
       "Length: 1166, dtype: float64"
      ]
     },
     "execution_count": 78,
     "metadata": {},
     "output_type": "execute_result"
    }
   ],
   "source": [
    "metricaIG = []\n",
    "for c in range(len(Promedios)):\n",
    "    metricaIG.append(Promedios.Engagement/Promedios['Subscribers o Followers'])\n",
    "metricaIG[0]"
   ]
  },
  {
   "cell_type": "markdown",
   "metadata": {},
   "source": [
    "Para las metricas solamente se calculo la división de los promedios de Engagement entre los Subscribers o Followers y estos resultados se guardarón dentro de una lista."
   ]
  },
  {
   "cell_type": "markdown",
   "metadata": {},
   "source": [
    "#### - Histograma el numero de cuentas que inicien por cada letra del alfabeto y en una sola categoria todos los que no comiencen con una letra del alfabeto."
   ]
  },
  {
   "cell_type": "code",
   "execution_count": 79,
   "metadata": {
    "tags": []
   },
   "outputs": [],
   "source": [
    "# Primero buscaremos el patron que tenga que inice con las letras del alfabeto \n",
    "patron_Alfabeto = r'^[a-zA-Z]'\n",
    "\n",
    "Alfabeto = []\n",
    "S_Alfabeto = []\n",
    "\n",
    "for username in df_Insta['Username']:\n",
    "    if re.search(patron_Alfabeto, username):\n",
    "        Alfabeto.append(username)\n",
    "    else:\n",
    "        S_Alfabeto.append(username)"
   ]
  },
  {
   "cell_type": "code",
   "execution_count": 80,
   "metadata": {
    "tags": []
   },
   "outputs": [
    {
     "data": {
      "text/plain": [
       "[1115, 53]"
      ]
     },
     "execution_count": 80,
     "metadata": {},
     "output_type": "execute_result"
    }
   ],
   "source": [
    "#Se obtienen los tamaños de cada lista de cuentas\n",
    "Datos = [len(Alfabeto), len(S_Alfabeto)]\n",
    "Datos"
   ]
  },
  {
   "cell_type": "code",
   "execution_count": 81,
   "metadata": {
    "tags": []
   },
   "outputs": [
    {
     "data": {
      "image/png": "[encoded data removed]",
      "text/plain": [
       "<Figure size 640x480 with 1 Axes>"
      ]
     },
     "metadata": {},
     "output_type": "display_data"
    }
   ],
   "source": [
    "Etiquetas = ['Inicia con alfabeto', 'No inicia con alfabeto']\n",
    "\n",
    "plt.bar(Etiquetas, Datos, color='limegreen')\n",
    "plt.title('Histograma de cuentas que inician o no con cada letra del alfabeto')\n",
    "plt.xlabel('Cuentas')\n",
    "plt.ylabel('Cantidad de cuentas')\n",
    "\n",
    "# Mostramos el número exacto de cuentas en el histograma\n",
    "for i, count in enumerate(Datos):\n",
    "    plt.text(i, count + 1, str(count), ha='center')\n",
    "\n",
    "plt.show() #Mostramos el histograma"
   ]
  },
  {
   "cell_type": "markdown",
   "metadata": {},
   "source": [
    "Para mostrar el histograma se obtuvieron las cuentas que coincidian o no con el patron indicado, y posteriormente se obtuvo el tamaño de cada lista para que con esos valores se pudiera graficar el histograma."
   ]
  },
  {
   "cell_type": "markdown",
   "metadata": {},
   "source": [
    "#### - ¿Cual es la cuenta de IG con mas caracteres en su nombre?"
   ]
  },
  {
   "cell_type": "code",
   "execution_count": 82,
   "metadata": {
    "tags": []
   },
   "outputs": [
    {
     "data": {
      "text/plain": [
       "30"
      ]
     },
     "execution_count": 82,
     "metadata": {},
     "output_type": "execute_result"
    }
   ],
   "source": [
    "#Se obtienen los nombres en una lista\n",
    "Nombres = df_Insta['Name'].tolist()\n",
    "TamNombres = []\n",
    "\n",
    "# Se obtiene la longitud del nombre con más caracteres\n",
    "for n in Nombres:\n",
    "    TamNombres.append(len(n))\n",
    "MasCaracteres = max(TamNombres)\n",
    "MasCaracteres"
   ]
  },
  {
   "cell_type": "code",
   "execution_count": 83,
   "metadata": {
    "tags": []
   },
   "outputs": [
    {
     "data": {
      "text/plain": [
       "['William  Levy / Actor Producer',\n",
       " '𝐑𝐨𝐡𝐢𝐭 𝐙𝐢𝐧𝐣𝐮𝐫𝐤𝐞 ~ 𝐫𝐞𝐚𝐜𝐭𝐢𝐨𝐧𝐛𝐨𝐢 💫',\n",
       " 'William  Levy / Actor Producer',\n",
       " 'Shahin Samad poor شاهین صمدپور']"
      ]
     },
     "execution_count": 83,
     "metadata": {},
     "output_type": "execute_result"
    }
   ],
   "source": [
    "#Se obtienen los nombres de las cuentas con más caracteres en su nombre (el máx es 30)\n",
    "Cuent = []\n",
    "for n in range(len(TamNombres)):\n",
    "    if TamNombres[n] == MasCaracteres:\n",
    "        Cuent.append(Nombres[n])\n",
    "Cuent"
   ]
  },
  {
   "cell_type": "code",
   "execution_count": 84,
   "metadata": {
    "tags": []
   },
   "outputs": [
    {
     "data": {
      "text/plain": [
       "[['willevy', 'willevy'],\n",
       " ['rohittt_09_'],\n",
       " ['willevy', 'willevy'],\n",
       " ['shahinsamadpoor']]"
      ]
     },
     "execution_count": 84,
     "metadata": {},
     "output_type": "execute_result"
    }
   ],
   "source": [
    "#Se obtienen las cuentas (username) que son las que tienen mas caracteres en su nombre\n",
    "Cuentas = []\n",
    "for i in range(len(Cuent)):\n",
    "    Cuentas.append((df_Insta.Username[df_Insta['Name']==Cuent[i]]).tolist())\n",
    "Cuentas"
   ]
  },
  {
   "cell_type": "markdown",
   "metadata": {},
   "source": [
    "En este caso primero se obtuvo el tamaño más grande del nombre de la cuenta el cual es de 30 caracteres, posteriormente se obtuvieron esos nombres y una vez con estos se obtuvieron las cuentas (username) que tenian en el name 30 caracteres, lo que nos da como resultado que 3 cuentas son las que tienen más caracteres en su nombre: willevy, rohittt_09_ y shahinsamadpoor."
   ]
  },
  {
   "cell_type": "markdown",
   "metadata": {},
   "source": [
    "#### - ¿Cuantas cuentas de Instagram tienen ya sea en su username o name las letras de las iniciales del primer nombre de cada uno de los integrantes de tu equipo?\n",
    "Las iniciales de mi equipo son L, E y M (Luis, Esmeralda y Mónica)"
   ]
  },
  {
   "cell_type": "code",
   "execution_count": 85,
   "metadata": {},
   "outputs": [
    {
     "data": {
      "text/plain": [
       "1035"
      ]
     },
     "execution_count": 85,
     "metadata": {},
     "output_type": "execute_result"
    }
   ],
   "source": [
    "# Patrón que contenga las iniciales de los integrantes del equipo \n",
    "patron = r'[lem]'\n",
    "iniciales = re.compile(patron, re.IGNORECASE)\n",
    "# Filtrar los registros que contengan las letras en las columnas 'Username' o 'Name'\n",
    "cuentasIG = df_Insta[(df_Insta['Username'].str.contains(iniciales, na=False)) | (df_Insta['Name'].str.contains(iniciales, na=False))]\n",
    "# Obtener la cantidad de registros que cumplen la condición\n",
    "cuentasIG.shape[0]"
   ]
  },
  {
   "cell_type": "markdown",
   "metadata": {},
   "source": [
    "Para este punto se estableció el patro de las iniciales de los integrantes del equipo y se buscaron los registros que contenian este patron en cualquier parte del username o name, ignorando mayúsculas y mínusculas. Por lo tanto se observa que 1035 cuentas contienen las iniciales de los integrantes del equipo."
   ]
  },
  {
   "cell_type": "markdown",
   "metadata": {
    "tags": []
   },
   "source": [
    "#### - Métrica que identifique las 10 cuentas más importantes de Instagram"
   ]
  },
  {
   "cell_type": "markdown",
   "metadata": {},
   "source": [
    "En este caso la métrica planteada para encontrar las 10 cuentas más importantes de Instagram es con base en la cantidad de Subscriptores y Engagement, debido a que este es un indicador que sirve para medir la capacidad de interacción entre una cuenta y sus diferentes canales de comunicación y los seguidores de la misma, por lo tanto, aquellas cuentas que tengan una mayor cantidad de engagement, al mismo tiempo que tiene una gran cantidad de subscriptores, indicaría que son las de mayor importancia."
   ]
  },
  {
   "cell_type": "code",
   "execution_count": 86,
   "metadata": {
    "tags": []
   },
   "outputs": [
    {
     "name": "stdout",
     "output_type": "stream",
     "text": [
      "               Username  Subscribers o Followers  Engagement\n",
      "3072          Leo Messi                409800000    23400000\n",
      "3096              jhope                 42400000     5900000\n",
      "3076            Kendall                268000000     5000000\n",
      "3113       Jenna Ortega                 23800000     4900000\n",
      "3102                 RM                 40400000     4600000\n",
      "3116  Antonela Roccuzzo                 23700000     4600000\n",
      "3075            Kylie 🤍                376300000     4300000\n",
      "3098             JISOO🤍                 66700000     3800000\n",
      "3114                차은우                 31600000     3600000\n",
      "3119     Olivia Rodrigo                 28900000     3500000\n"
     ]
    }
   ],
   "source": [
    "# Obtenemos los registros de diciembre para la métrica y los ordenamos ascentemente para obtener las cuentas\n",
    "# más importantes, al menos por la métrica planteada que fue el conteo de subscribers y engagement.\n",
    "cuentasImportInsta = df_Insta[df_Insta['Month'] == 'December'].sort_values(by='Subscribers o Followers', ascending=False)\n",
    "cuentasImportInstaFinal = cuentasImportInsta[cuentasImportInsta['Month'] == 'December'].sort_values(by='Engagement', ascending=False)\n",
    "# Obtenemos el top 10 de cuentas con mayor número de seguidores en diciembre, se eligió filtrar por diciembre\n",
    "# ya que es el mes de cierre y los usuarios que hayan tenido más subscriptores se consideran los más importantes\n",
    "# para Instagram\n",
    "top10 = cuentasImportInstaFinal.head(10)\n",
    "# Se muestra el username y cuantos subscribers tiene esa cuenta.\n",
    "print(top10[['Username', 'Subscribers o Followers', 'Engagement']])"
   ]
  },
  {
   "cell_type": "markdown",
   "metadata": {},
   "source": [
    "#### - Histograma del numero de seguidores promedio por pais"
   ]
  },
  {
   "cell_type": "code",
   "execution_count": 87,
   "metadata": {},
   "outputs": [
    {
     "data": {
      "image/png": "[encoded data removed]",
      "text/plain": [
       "<Figure size 1000x600 with 1 Axes>"
      ]
     },
     "metadata": {},
     "output_type": "display_data"
    }
   ],
   "source": [
    "# Obtener los países únicos\n",
    "paises = df_Insta['Country'].unique()\n",
    "\n",
    "# Calcular el número de seguidores promedio por país\n",
    "promedio_seguidores = df_Insta.groupby('Country')['Subscribers o Followers'].mean()\n",
    "\n",
    "plt.figure(figsize=(10, 6))\n",
    "plt.bar(promedio_seguidores.index, promedio_seguidores.values, color='mediumslateblue')\n",
    "plt.xticks(rotation=90)\n",
    "plt.xlabel('País')\n",
    "plt.ylabel('Número de subscriptores promedio')\n",
    "plt.title('Número de subscriptores promedio por país')\n",
    "plt.show()"
   ]
  },
  {
   "cell_type": "markdown",
   "metadata": {},
   "source": [
    "Para el histograma anterior se agruparon los paises y con estos se obtuvieron los promedios de subscriptores que tenian cada uno, posteriormente estos promedios se graficaron en el histograma."
   ]
  },
  {
   "cell_type": "markdown",
   "metadata": {},
   "source": [
    "#### - Serie con todas las categorias existentes en todos los archivos de Instagram"
   ]
  },
  {
   "cell_type": "code",
   "execution_count": 88,
   "metadata": {
    "tags": []
   },
   "outputs": [
    {
     "data": {
      "text/plain": [
       "['Lifestyle',\n",
       " 'Sports with a ball',\n",
       " 'Business & Careers',\n",
       " 'Music',\n",
       " 'Fashion',\n",
       " 'Cinema & Actors/actresses',\n",
       " 'Shows',\n",
       " 'Modeling',\n",
       " 'Beauty',\n",
       " 'Finance & Economics',\n",
       " 'Photography',\n",
       " 'Family',\n",
       " 'Art/Artists',\n",
       " 'Cars & Motorbikes',\n",
       " 'Computers & Gadgets',\n",
       " 'Humor & Fun & Happiness',\n",
       " 'Literature & Journalism',\n",
       " 'Nature & landscapes',\n",
       " 'Extreme Sports & Outdoor activity',\n",
       " 'Education',\n",
       " 'Management & Marketing',\n",
       " 'Clothing & Outfits',\n",
       " 'Luxury',\n",
       " 'Fitness & Gym',\n",
       " 'Science',\n",
       " 'Machinery & Technologies',\n",
       " 'Winter sports',\n",
       " 'Racing Sports',\n",
       " 'Crypto',\n",
       " 'Gaming',\n",
       " 'Water sports',\n",
       " 'Travel']"
      ]
     },
     "execution_count": 88,
     "metadata": {},
     "output_type": "execute_result"
    }
   ],
   "source": [
    "# Obtener las categorías únicas (todas)\n",
    "df_Insta['Category'] = df_Insta['Category1'].combine_first(df_Insta['Category2'])\n",
    "TodasCat = (df_Insta['Category'].unique()).tolist()\n",
    "TodasCat"
   ]
  },
  {
   "cell_type": "markdown",
   "metadata": {},
   "source": [
    "Para la serie lo que se hizo fue crear una nueva columna llamada Category, la cual contenia tanto a Category1 como a Category2, y posteriormente se obtuvieron los valores únicos de esta columna y se guardaron en una lista."
   ]
  },
  {
   "cell_type": "markdown",
   "metadata": {},
   "source": [
    "#### - Serie con todos los paises que encuentre en los archivos"
   ]
  },
  {
   "cell_type": "code",
   "execution_count": 89,
   "metadata": {},
   "outputs": [
    {
     "data": {
      "text/plain": [
       "['United States',\n",
       " 'South Korea',\n",
       " 'Indonesia',\n",
       " 'India',\n",
       " 'Egypt',\n",
       " 'Brazil',\n",
       " 'Italy',\n",
       " 'Mexico',\n",
       " 'Colombia',\n",
       " 'Argentina',\n",
       " 'Philippines',\n",
       " 'Germany',\n",
       " 'Russia',\n",
       " 'Turkey',\n",
       " 'Iran',\n",
       " 'Spain',\n",
       " 'Thailand',\n",
       " 'Iraq',\n",
       " 'United Kingdom',\n",
       " 'Japan',\n",
       " 'Pakistan',\n",
       " 'Romania',\n",
       " 'France',\n",
       " 'Nigeria',\n",
       " 'Kazakhstan',\n",
       " 'Ethiopia',\n",
       " 'Australia',\n",
       " 'China']"
      ]
     },
     "execution_count": 89,
     "metadata": {},
     "output_type": "execute_result"
    }
   ],
   "source": [
    "# Obtener los países únicos (todos)\n",
    "TodosPaises= [] \n",
    "TodosPaises = (df_Insta['Country'].unique()).tolist()\n",
    "TodosPaises"
   ]
  },
  {
   "cell_type": "markdown",
   "metadata": {},
   "source": [
    "Para la serie de paises solamente se obtuvieron los valores unicos de la columna Country, de esta forma los valores se guardaron en una lista para crear la serie."
   ]
  },
  {
   "cell_type": "markdown",
   "metadata": {
    "tags": []
   },
   "source": [
    "#### - Histograma el numero de seguidores por categoria"
   ]
  },
  {
   "cell_type": "code",
   "execution_count": 90,
   "metadata": {},
   "outputs": [
    {
     "data": {
      "image/png": "[encoded data removed]",
      "text/plain": [
       "<Figure size 1200x600 with 1 Axes>"
      ]
     },
     "metadata": {},
     "output_type": "display_data"
    }
   ],
   "source": [
    "# Agrupamos los datos por categoría y luego se obtiene el promedio de suscriptores\n",
    "seguidores_por_categoria = df_Insta.groupby('Category')['Subscribers o Followers'].mean()\n",
    "\n",
    "plt.figure(figsize=(12, 6))\n",
    "plt.bar(seguidores_por_categoria.index, seguidores_por_categoria.values, color='salmon')\n",
    "plt.xlabel('Categoría')\n",
    "plt.ylabel('Número de seguidores promedio')\n",
    "plt.title('Número de seguidores promedio por categoría')\n",
    "plt.xticks(rotation=90)  \n",
    "plt.show()"
   ]
  },
  {
   "cell_type": "markdown",
   "metadata": {},
   "source": [
    "Para crear un histograma con el numero de seguidores promedio por categoria se agruparon las categorias (todas ya se encontraban en la columna Category creada anteriormente) y posteriormente se obtuvo el promedio por Subscribers o Followers, y estos valores se graficaron en el histograma."
   ]
  },
  {
   "cell_type": "markdown",
   "metadata": {},
   "source": [
    "## Obtención de datos de TikTok"
   ]
  },
  {
   "cell_type": "markdown",
   "metadata": {},
   "source": [
    "#### - Numero total de cuentas distintas"
   ]
  },
  {
   "cell_type": "code",
   "execution_count": 91,
   "metadata": {},
   "outputs": [
    {
     "data": {
      "text/plain": [
       "2581"
      ]
     },
     "execution_count": 91,
     "metadata": {},
     "output_type": "execute_result"
    }
   ],
   "source": [
    "df_Tik_tok.Username.nunique()"
   ]
  },
  {
   "cell_type": "markdown",
   "metadata": {},
   "source": [
    "#### - Calcular el promedio de seguidores, authentic, engagement,  de cada cuenta.\n",
    "\n",
    "Es decir, cada red social cuenta con 4 archivos de 4 meses distintos, si una cuenta aparece en los 4 meses, debera calcular el promedio de esos 4 meses, si una cuenta solo aparece 2 meses, se hara el promedio de esos dos meses y asi sucesivamente. SI el valor es nulo, vacio, N/A, o 0 no se debe promediar."
   ]
  },
  {
   "cell_type": "code",
   "execution_count": 96,
   "metadata": {
    "tags": []
   },
   "outputs": [],
   "source": [
    "# Pasaremos los followers a un dato de tipo numero¡ico para que lo podamos manejar, y asi sucesivamente con los demas\n",
    "df_Tik_tok['Followers o Suscribers'] = df_Tik_tok['Followers o Suscribers'].replace({'K': '*1e3', 'M': '*1e6', 'G':'*1e9'}, regex=True).map(pd.eval).astype(int)\n",
    "df_Tik_tok['Likes'] = df_Tik_tok['Likes'].replace({'K': '*1e3', 'M': '*1e6', 'G':'*1e9'}, regex=True).map(pd.eval).astype(int)\n",
    "df_Tik_tok['Views'] = df_Tik_tok['Views'].replace({'K': '*1e3', 'M': '*1e6', 'G':'*1e9'}, regex=True).map(pd.eval).astype(int)\n",
    "df_Tik_tok['Shares'] = df_Tik_tok['Shares'].replace({'K': '*1e3', 'M': '*1e6', 'G':'*1e9'}, regex=True).map(pd.eval).astype(int)\n",
    "df_Tik_tok['Comments'] = df_Tik_tok['Comments'].replace({'K': '*1e3', 'M': '*1e6', 'G':'*1e9'}, regex=True).map(pd.eval).astype(int)"
   ]
  },
  {
   "cell_type": "code",
   "execution_count": 97,
   "metadata": {},
   "outputs": [
    {
     "data": {
      "text/html": [
       "<div>\n",
       "<style scoped>\n",
       "    .dataframe tbody tr th:only-of-type {\n",
       "        vertical-align: middle;\n",
       "    }\n",
       "\n",
       "    .dataframe tbody tr th {\n",
       "        vertical-align: top;\n",
       "    }\n",
       "\n",
       "    .dataframe thead th {\n",
       "        text-align: right;\n",
       "    }\n",
       "</style>\n",
       "<table border=\"1\" class=\"dataframe\">\n",
       "  <thead>\n",
       "    <tr style=\"text-align: right;\">\n",
       "      <th></th>\n",
       "      <th>Username</th>\n",
       "      <th>Month</th>\n",
       "      <th>Followers o Suscribers</th>\n",
       "      <th>Likes</th>\n",
       "      <th>Views</th>\n",
       "      <th>Shares</th>\n",
       "      <th>Comments</th>\n",
       "    </tr>\n",
       "  </thead>\n",
       "  <tbody>\n",
       "    <tr>\n",
       "      <th>0</th>\n",
       "      <td>abbieherbert</td>\n",
       "      <td>December</td>\n",
       "      <td>14400000.0</td>\n",
       "      <td>406000.0</td>\n",
       "      <td>3600000.0</td>\n",
       "      <td>301.0</td>\n",
       "      <td>698.0</td>\n",
       "    </tr>\n",
       "    <tr>\n",
       "      <th>1</th>\n",
       "      <td>abbieherbert</td>\n",
       "      <td>June</td>\n",
       "      <td>13200000.0</td>\n",
       "      <td>557000.0</td>\n",
       "      <td>4200000.0</td>\n",
       "      <td>959.0</td>\n",
       "      <td>1400.0</td>\n",
       "    </tr>\n",
       "    <tr>\n",
       "      <th>2</th>\n",
       "      <td>abbieherbert</td>\n",
       "      <td>November</td>\n",
       "      <td>14200000.0</td>\n",
       "      <td>459100.0</td>\n",
       "      <td>4300000.0</td>\n",
       "      <td>372.0</td>\n",
       "      <td>671.0</td>\n",
       "    </tr>\n",
       "    <tr>\n",
       "      <th>3</th>\n",
       "      <td>abbieherbert</td>\n",
       "      <td>September</td>\n",
       "      <td>13800000.0</td>\n",
       "      <td>400700.0</td>\n",
       "      <td>3700000.0</td>\n",
       "      <td>581.0</td>\n",
       "      <td>917.0</td>\n",
       "    </tr>\n",
       "    <tr>\n",
       "      <th>4</th>\n",
       "      <td>abir.sag</td>\n",
       "      <td>December</td>\n",
       "      <td>18900000.0</td>\n",
       "      <td>236000.0</td>\n",
       "      <td>3200000.0</td>\n",
       "      <td>1100.0</td>\n",
       "      <td>4200.0</td>\n",
       "    </tr>\n",
       "    <tr>\n",
       "      <th>...</th>\n",
       "      <td>...</td>\n",
       "      <td>...</td>\n",
       "      <td>...</td>\n",
       "      <td>...</td>\n",
       "      <td>...</td>\n",
       "      <td>...</td>\n",
       "      <td>...</td>\n",
       "    </tr>\n",
       "    <tr>\n",
       "      <th>653</th>\n",
       "      <td>yurielkysojeda</td>\n",
       "      <td>September</td>\n",
       "      <td>14800000.0</td>\n",
       "      <td>277300.0</td>\n",
       "      <td>2200000.0</td>\n",
       "      <td>2300.0</td>\n",
       "      <td>1300.0</td>\n",
       "    </tr>\n",
       "    <tr>\n",
       "      <th>654</th>\n",
       "      <td>zodiac.boyfriend</td>\n",
       "      <td>December</td>\n",
       "      <td>2700000.0</td>\n",
       "      <td>386700.0</td>\n",
       "      <td>4000000.0</td>\n",
       "      <td>5900.0</td>\n",
       "      <td>7400.0</td>\n",
       "    </tr>\n",
       "    <tr>\n",
       "      <th>655</th>\n",
       "      <td>zodiac.boyfriend</td>\n",
       "      <td>June</td>\n",
       "      <td>1800000.0</td>\n",
       "      <td>272700.0</td>\n",
       "      <td>1900000.0</td>\n",
       "      <td>3600.0</td>\n",
       "      <td>6800.0</td>\n",
       "    </tr>\n",
       "    <tr>\n",
       "      <th>656</th>\n",
       "      <td>zodiac.boyfriend</td>\n",
       "      <td>November</td>\n",
       "      <td>2400000.0</td>\n",
       "      <td>207300.0</td>\n",
       "      <td>1600000.0</td>\n",
       "      <td>2600.0</td>\n",
       "      <td>2100.0</td>\n",
       "    </tr>\n",
       "    <tr>\n",
       "      <th>657</th>\n",
       "      <td>zodiac.boyfriend</td>\n",
       "      <td>September</td>\n",
       "      <td>2100000.0</td>\n",
       "      <td>444700.0</td>\n",
       "      <td>2700000.0</td>\n",
       "      <td>8500.0</td>\n",
       "      <td>5200.0</td>\n",
       "    </tr>\n",
       "  </tbody>\n",
       "</table>\n",
       "<p>658 rows × 7 columns</p>\n",
       "</div>"
      ],
      "text/plain": [
       "             Username      Month  Followers o Suscribers     Likes      Views  \\\n",
       "0        abbieherbert   December              14400000.0  406000.0  3600000.0   \n",
       "1        abbieherbert       June              13200000.0  557000.0  4200000.0   \n",
       "2        abbieherbert   November              14200000.0  459100.0  4300000.0   \n",
       "3        abbieherbert  September              13800000.0  400700.0  3700000.0   \n",
       "4            abir.sag   December              18900000.0  236000.0  3200000.0   \n",
       "..                ...        ...                     ...       ...        ...   \n",
       "653    yurielkysojeda  September              14800000.0  277300.0  2200000.0   \n",
       "654  zodiac.boyfriend   December               2700000.0  386700.0  4000000.0   \n",
       "655  zodiac.boyfriend       June               1800000.0  272700.0  1900000.0   \n",
       "656  zodiac.boyfriend   November               2400000.0  207300.0  1600000.0   \n",
       "657  zodiac.boyfriend  September               2100000.0  444700.0  2700000.0   \n",
       "\n",
       "     Shares  Comments  \n",
       "0     301.0     698.0  \n",
       "1     959.0    1400.0  \n",
       "2     372.0     671.0  \n",
       "3     581.0     917.0  \n",
       "4    1100.0    4200.0  \n",
       "..      ...       ...  \n",
       "653  2300.0    1300.0  \n",
       "654  5900.0    7400.0  \n",
       "655  3600.0    6800.0  \n",
       "656  2600.0    2100.0  \n",
       "657  8500.0    5200.0  \n",
       "\n",
       "[658 rows x 7 columns]"
      ]
     },
     "execution_count": 97,
     "metadata": {},
     "output_type": "execute_result"
    }
   ],
   "source": [
    "# Suponiendo que tienes un DataFrame llamado 'data' con las columnas 'Username', 'Followers', 'Authentic' y 'Engagement'\n",
    "\n",
    "# Agrupar los datos por cuenta\n",
    "grouped_data = df_Tik_tok.groupby('Username')\n",
    "\n",
    "# Filtrar las cuentas que aparecen en los cuatro meses\n",
    "filtered_data = grouped_data.filter(lambda x: len(x) == 4)\n",
    "\n",
    "# Seleccionar solo las columnas numéricas para el cálculo del promedio\n",
    "numeric_columns = ['Followers o Suscribers', 'Likes', 'Views', 'Shares', 'Comments']\n",
    "filtered_data[numeric_columns] = filtered_data[numeric_columns].apply(pd.to_numeric)\n",
    "\n",
    "# Calcular el promedio de seguidores, authentic y engagement para cada cuenta seleccionada\n",
    "promedios = filtered_data.groupby(['Username', 'Month'], as_index=False)[numeric_columns].mean()\n",
    "\n",
    "# Mostrar los resultados\n",
    "promedios"
   ]
  },
  {
   "cell_type": "markdown",
   "metadata": {},
   "source": [
    "#### - Metrica de Valor de cada cuenta. \n",
    "\n",
    "Para este punto debe utilizar los  promedios calculados en el inciso anterior : Promedio views/Promedio followers, Promedio likes/Promedio followers, Promedio comments/Promedio followers, Promedio shares / Pormedio followers."
   ]
  },
  {
   "cell_type": "markdown",
   "metadata": {},
   "source": [
    "- HIPOTESIS\n",
    "\n",
    "Para realizar la metrica de valores, tomare en cuenta el promedio de solo del mes de diciembre, ya que es fin de año, y despues tomare los followers y tomare los likes que recibe, ya que tiene un poco mas de valor y, un like es mas facil que la gente de un like que un comentario"
   ]
  },
  {
   "cell_type": "code",
   "execution_count": 99,
   "metadata": {},
   "outputs": [
    {
     "data": {
      "text/html": [
       "<div>\n",
       "<style scoped>\n",
       "    .dataframe tbody tr th:only-of-type {\n",
       "        vertical-align: middle;\n",
       "    }\n",
       "\n",
       "    .dataframe tbody tr th {\n",
       "        vertical-align: top;\n",
       "    }\n",
       "\n",
       "    .dataframe thead th {\n",
       "        text-align: right;\n",
       "    }\n",
       "</style>\n",
       "<table border=\"1\" class=\"dataframe\">\n",
       "  <thead>\n",
       "    <tr style=\"text-align: right;\">\n",
       "      <th></th>\n",
       "      <th>Followers o Suscribers</th>\n",
       "      <th>Likes</th>\n",
       "      <th>Views</th>\n",
       "      <th>Shares</th>\n",
       "      <th>Comments</th>\n",
       "    </tr>\n",
       "    <tr>\n",
       "      <th>Username</th>\n",
       "      <th></th>\n",
       "      <th></th>\n",
       "      <th></th>\n",
       "      <th></th>\n",
       "      <th></th>\n",
       "    </tr>\n",
       "  </thead>\n",
       "  <tbody>\n",
       "    <tr>\n",
       "      <th>abbieherbert</th>\n",
       "      <td>14400000.0</td>\n",
       "      <td>406000.0</td>\n",
       "      <td>3600000.0</td>\n",
       "      <td>301.0</td>\n",
       "      <td>698.0</td>\n",
       "    </tr>\n",
       "    <tr>\n",
       "      <th>abir.sag</th>\n",
       "      <td>18900000.0</td>\n",
       "      <td>236000.0</td>\n",
       "      <td>3200000.0</td>\n",
       "      <td>1100.0</td>\n",
       "      <td>4200.0</td>\n",
       "    </tr>\n",
       "    <tr>\n",
       "      <th>addisonre</th>\n",
       "      <td>88700000.0</td>\n",
       "      <td>304900.0</td>\n",
       "      <td>5300000.0</td>\n",
       "      <td>2000.0</td>\n",
       "      <td>2400.0</td>\n",
       "    </tr>\n",
       "    <tr>\n",
       "      <th>adrianbliss</th>\n",
       "      <td>7600000.0</td>\n",
       "      <td>444000.0</td>\n",
       "      <td>2800000.0</td>\n",
       "      <td>1400.0</td>\n",
       "      <td>576.0</td>\n",
       "    </tr>\n",
       "    <tr>\n",
       "      <th>albert_cancook</th>\n",
       "      <td>10200000.0</td>\n",
       "      <td>201900.0</td>\n",
       "      <td>2500000.0</td>\n",
       "      <td>415.0</td>\n",
       "      <td>702.0</td>\n",
       "    </tr>\n",
       "    <tr>\n",
       "      <th>...</th>\n",
       "      <td>...</td>\n",
       "      <td>...</td>\n",
       "      <td>...</td>\n",
       "      <td>...</td>\n",
       "      <td>...</td>\n",
       "    </tr>\n",
       "    <tr>\n",
       "      <th>williesalim</th>\n",
       "      <td>20900000.0</td>\n",
       "      <td>888600.0</td>\n",
       "      <td>13000000.0</td>\n",
       "      <td>3800.0</td>\n",
       "      <td>5000.0</td>\n",
       "    </tr>\n",
       "    <tr>\n",
       "      <th>wuesilva</th>\n",
       "      <td>14300000.0</td>\n",
       "      <td>305400.0</td>\n",
       "      <td>3000000.0</td>\n",
       "      <td>2500.0</td>\n",
       "      <td>1400.0</td>\n",
       "    </tr>\n",
       "    <tr>\n",
       "      <th>xxlechuga</th>\n",
       "      <td>7100000.0</td>\n",
       "      <td>262900.0</td>\n",
       "      <td>1500000.0</td>\n",
       "      <td>485.0</td>\n",
       "      <td>1000.0</td>\n",
       "    </tr>\n",
       "    <tr>\n",
       "      <th>yurielkysojeda</th>\n",
       "      <td>15700000.0</td>\n",
       "      <td>246300.0</td>\n",
       "      <td>1700000.0</td>\n",
       "      <td>2000.0</td>\n",
       "      <td>967.0</td>\n",
       "    </tr>\n",
       "    <tr>\n",
       "      <th>zodiac.boyfriend</th>\n",
       "      <td>2700000.0</td>\n",
       "      <td>386700.0</td>\n",
       "      <td>4000000.0</td>\n",
       "      <td>5900.0</td>\n",
       "      <td>7400.0</td>\n",
       "    </tr>\n",
       "  </tbody>\n",
       "</table>\n",
       "<p>164 rows × 5 columns</p>\n",
       "</div>"
      ],
      "text/plain": [
       "                  Followers o Suscribers     Likes       Views  Shares  \\\n",
       "Username                                                                 \n",
       "abbieherbert                  14400000.0  406000.0   3600000.0   301.0   \n",
       "abir.sag                      18900000.0  236000.0   3200000.0  1100.0   \n",
       "addisonre                     88700000.0  304900.0   5300000.0  2000.0   \n",
       "adrianbliss                    7600000.0  444000.0   2800000.0  1400.0   \n",
       "albert_cancook                10200000.0  201900.0   2500000.0   415.0   \n",
       "...                                  ...       ...         ...     ...   \n",
       "williesalim                   20900000.0  888600.0  13000000.0  3800.0   \n",
       "wuesilva                      14300000.0  305400.0   3000000.0  2500.0   \n",
       "xxlechuga                      7100000.0  262900.0   1500000.0   485.0   \n",
       "yurielkysojeda                15700000.0  246300.0   1700000.0  2000.0   \n",
       "zodiac.boyfriend               2700000.0  386700.0   4000000.0  5900.0   \n",
       "\n",
       "                  Comments  \n",
       "Username                    \n",
       "abbieherbert         698.0  \n",
       "abir.sag            4200.0  \n",
       "addisonre           2400.0  \n",
       "adrianbliss          576.0  \n",
       "albert_cancook       702.0  \n",
       "...                    ...  \n",
       "williesalim         5000.0  \n",
       "wuesilva            1400.0  \n",
       "xxlechuga           1000.0  \n",
       "yurielkysojeda       967.0  \n",
       "zodiac.boyfriend    7400.0  \n",
       "\n",
       "[164 rows x 5 columns]"
      ]
     },
     "execution_count": 99,
     "metadata": {},
     "output_type": "execute_result"
    }
   ],
   "source": [
    "Mean_December = promedios.loc[(promedios['Month']=='December')]\n",
    "metrica_valores = Mean_December.groupby('Username')[numeric_columns].agg('mean')\n",
    "metrica_valores"
   ]
  },
  {
   "cell_type": "code",
   "execution_count": 101,
   "metadata": {},
   "outputs": [],
   "source": [
    "df_Metrica = metrica_valores.sort_values('Followers o Suscribers', ascending=False)\n",
    "df_Metrica['Folowers \\n Suscriptores / Likes'] = df_Metrica['Followers o Suscribers'] / df_Metrica['Likes']"
   ]
  },
  {
   "cell_type": "code",
   "execution_count": 103,
   "metadata": {},
   "outputs": [
    {
     "data": {
      "text/html": [
       "<div>\n",
       "<style scoped>\n",
       "    .dataframe tbody tr th:only-of-type {\n",
       "        vertical-align: middle;\n",
       "    }\n",
       "\n",
       "    .dataframe tbody tr th {\n",
       "        vertical-align: top;\n",
       "    }\n",
       "\n",
       "    .dataframe thead th {\n",
       "        text-align: right;\n",
       "    }\n",
       "</style>\n",
       "<table border=\"1\" class=\"dataframe\">\n",
       "  <thead>\n",
       "    <tr style=\"text-align: right;\">\n",
       "      <th></th>\n",
       "      <th>Followers o Suscribers</th>\n",
       "      <th>Folowers \\n Suscriptores / Likes</th>\n",
       "      <th>Folowers \\n Suscriptores / Shares</th>\n",
       "      <th>Folowers \\n Suscriptores / Views</th>\n",
       "      <th>Folowers \\n Suscriptores / Comments</th>\n",
       "    </tr>\n",
       "    <tr>\n",
       "      <th>Username</th>\n",
       "      <th></th>\n",
       "      <th></th>\n",
       "      <th></th>\n",
       "      <th></th>\n",
       "      <th></th>\n",
       "    </tr>\n",
       "  </thead>\n",
       "  <tbody>\n",
       "    <tr>\n",
       "      <th>khaby.lame</th>\n",
       "      <td>153100000.0</td>\n",
       "      <td>127.583333</td>\n",
       "      <td>66565.217391</td>\n",
       "      <td>14.443396</td>\n",
       "      <td>7360.576923</td>\n",
       "    </tr>\n",
       "    <tr>\n",
       "      <th>charlidamelio</th>\n",
       "      <td>149000000.0</td>\n",
       "      <td>188.631472</td>\n",
       "      <td>49666.666667</td>\n",
       "      <td>19.102564</td>\n",
       "      <td>21594.202899</td>\n",
       "    </tr>\n",
       "    <tr>\n",
       "      <th>addisonre</th>\n",
       "      <td>88700000.0</td>\n",
       "      <td>290.915054</td>\n",
       "      <td>44350.000000</td>\n",
       "      <td>16.735849</td>\n",
       "      <td>36958.333333</td>\n",
       "    </tr>\n",
       "    <tr>\n",
       "      <th>kimberly.loaiza</th>\n",
       "      <td>70200000.0</td>\n",
       "      <td>79.474697</td>\n",
       "      <td>18000.000000</td>\n",
       "      <td>9.116883</td>\n",
       "      <td>7977.272727</td>\n",
       "    </tr>\n",
       "    <tr>\n",
       "      <th>therock</th>\n",
       "      <td>64300000.0</td>\n",
       "      <td>102.715655</td>\n",
       "      <td>8243.589744</td>\n",
       "      <td>17.861111</td>\n",
       "      <td>8037.500000</td>\n",
       "    </tr>\n",
       "    <tr>\n",
       "      <th>domelipa</th>\n",
       "      <td>62000000.0</td>\n",
       "      <td>79.497371</td>\n",
       "      <td>24800.000000</td>\n",
       "      <td>10.689655</td>\n",
       "      <td>11698.113208</td>\n",
       "    </tr>\n",
       "    <tr>\n",
       "      <th>mrbeast</th>\n",
       "      <td>60300000.0</td>\n",
       "      <td>17.228571</td>\n",
       "      <td>8375.000000</td>\n",
       "      <td>2.065068</td>\n",
       "      <td>1957.792208</td>\n",
       "    </tr>\n",
       "    <tr>\n",
       "      <th>kyliejenner</th>\n",
       "      <td>50400000.0</td>\n",
       "      <td>63.548102</td>\n",
       "      <td>31500.000000</td>\n",
       "      <td>6.720000</td>\n",
       "      <td>18000.000000</td>\n",
       "    </tr>\n",
       "    <tr>\n",
       "      <th>kallmekris</th>\n",
       "      <td>47600000.0</td>\n",
       "      <td>66.526904</td>\n",
       "      <td>22666.666667</td>\n",
       "      <td>13.222222</td>\n",
       "      <td>12526.315789</td>\n",
       "    </tr>\n",
       "    <tr>\n",
       "      <th>homm9k</th>\n",
       "      <td>46400000.0</td>\n",
       "      <td>279.855247</td>\n",
       "      <td>83303.411131</td>\n",
       "      <td>27.294118</td>\n",
       "      <td>38666.666667</td>\n",
       "    </tr>\n",
       "  </tbody>\n",
       "</table>\n",
       "</div>"
      ],
      "text/plain": [
       "                 Followers o Suscribers  Folowers \\n Suscriptores / Likes  \\\n",
       "Username                                                                    \n",
       "khaby.lame                  153100000.0                        127.583333   \n",
       "charlidamelio               149000000.0                        188.631472   \n",
       "addisonre                    88700000.0                        290.915054   \n",
       "kimberly.loaiza              70200000.0                         79.474697   \n",
       "therock                      64300000.0                        102.715655   \n",
       "domelipa                     62000000.0                         79.497371   \n",
       "mrbeast                      60300000.0                         17.228571   \n",
       "kyliejenner                  50400000.0                         63.548102   \n",
       "kallmekris                   47600000.0                         66.526904   \n",
       "homm9k                       46400000.0                        279.855247   \n",
       "\n",
       "                 Folowers \\n Suscriptores / Shares  \\\n",
       "Username                                             \n",
       "khaby.lame                            66565.217391   \n",
       "charlidamelio                         49666.666667   \n",
       "addisonre                             44350.000000   \n",
       "kimberly.loaiza                       18000.000000   \n",
       "therock                                8243.589744   \n",
       "domelipa                              24800.000000   \n",
       "mrbeast                                8375.000000   \n",
       "kyliejenner                           31500.000000   \n",
       "kallmekris                            22666.666667   \n",
       "homm9k                                83303.411131   \n",
       "\n",
       "                 Folowers \\n Suscriptores / Views  \\\n",
       "Username                                            \n",
       "khaby.lame                              14.443396   \n",
       "charlidamelio                           19.102564   \n",
       "addisonre                               16.735849   \n",
       "kimberly.loaiza                          9.116883   \n",
       "therock                                 17.861111   \n",
       "domelipa                                10.689655   \n",
       "mrbeast                                  2.065068   \n",
       "kyliejenner                              6.720000   \n",
       "kallmekris                              13.222222   \n",
       "homm9k                                  27.294118   \n",
       "\n",
       "                 Folowers \\n Suscriptores / Comments  \n",
       "Username                                              \n",
       "khaby.lame                               7360.576923  \n",
       "charlidamelio                           21594.202899  \n",
       "addisonre                               36958.333333  \n",
       "kimberly.loaiza                          7977.272727  \n",
       "therock                                  8037.500000  \n",
       "domelipa                                11698.113208  \n",
       "mrbeast                                  1957.792208  \n",
       "kyliejenner                             18000.000000  \n",
       "kallmekris                              12526.315789  \n",
       "homm9k                                  38666.666667  "
      ]
     },
     "execution_count": 103,
     "metadata": {},
     "output_type": "execute_result"
    }
   ],
   "source": [
    "df_Metrica['Folowers \\n Suscriptores / Shares'] = df_Metrica['Followers o Suscribers'] / df_Metrica['Shares']\n",
    "df_Metrica['Folowers \\n Suscriptores / Views'] = df_Metrica['Followers o Suscribers'] / df_Metrica['Views']\n",
    "df_Metrica['Folowers \\n Suscriptores / Comments'] = df_Metrica['Followers o Suscribers'] / df_Metrica['Comments']\n",
    "df_Metrica.loc[:, ['Followers o Suscribers', 'Folowers \\n Suscriptores / Likes', 'Folowers \\n Suscriptores / Shares', 'Folowers \\n Suscriptores / Views', 'Folowers \\n Suscriptores / Comments']].sort_values('Followers o Suscribers', ascending=False).head(10)"
   ]
  },
  {
   "cell_type": "markdown",
   "metadata": {},
   "source": [
    "- CONCLUSION\n",
    "\n",
    "En esto podemos concluir que tomando las 10 personas mas famosas de tik tok vemos que pues el promedio de los shares es mas grande que el de todos los demas, asi que por eso tomare la metrica de suscriptores y shares"
   ]
  },
  {
   "cell_type": "markdown",
   "metadata": {},
   "source": [
    "#### - Graficar en un histograma el numero de cuentas que inicien por cada letra del alfabeto (Mayusculas y minusculas son tomadas de igual forma) y agrupar en una sola categoria todos los que no comiencen con una letra del alfabeto."
   ]
  },
  {
   "cell_type": "code",
   "execution_count": 104,
   "metadata": {},
   "outputs": [],
   "source": [
    "# Primero buscaremos el patron que tenga que inice con las letras del alfabeto \n",
    "\n",
    "patron_Alfabeto = r'^[a-zA-Z]'\n",
    "\n",
    "Alfabeto = []\n",
    "S_Alfabeto = []\n",
    "\n",
    "for username in df_Tik_tok['Username']:\n",
    "    if re.search(patron_Alfabeto, username):\n",
    "        Alfabeto.append(username)\n",
    "    else:\n",
    "        S_Alfabeto.append(username)"
   ]
  },
  {
   "cell_type": "code",
   "execution_count": 105,
   "metadata": {},
   "outputs": [
    {
     "data": {
      "image/png": "[encoded data removed]",
      "text/plain": [
       "<Figure size 640x480 with 1 Axes>"
      ]
     },
     "metadata": {},
     "output_type": "display_data"
    }
   ],
   "source": [
    "# Contar la cantidad de nombres de usuario que comienzan con el alfabeto y los que no\n",
    "nombres_con_alfabeto = len(Alfabeto)\n",
    "nombres_sin_alfabeto = len(S_Alfabeto)\n",
    "\n",
    "# Crear las etiquetas y los datos para el histograma\n",
    "etiquetas = ['Inicia con letra', 'No inicia con letra']\n",
    "datos = [nombres_con_alfabeto, nombres_sin_alfabeto]\n",
    "\n",
    "# Crear el histograma\n",
    "plt.bar(etiquetas, datos)\n",
    "plt.xlabel('Tipo de nombres de usuario')\n",
    "plt.ylabel('Cantidad')\n",
    "plt.title('Histograma de nombres de usuario')\n",
    "plt.show()"
   ]
  },
  {
   "cell_type": "markdown",
   "metadata": {},
   "source": [
    "#### - ¿Cual es la cuenta de Tik Tok con mas caracteres en su nombre?"
   ]
  },
  {
   "cell_type": "code",
   "execution_count": 106,
   "metadata": {},
   "outputs": [
    {
     "data": {
      "text/plain": [
       "32"
      ]
     },
     "execution_count": 106,
     "metadata": {},
     "output_type": "execute_result"
    }
   ],
   "source": [
    "nombres = []\n",
    "for nombre in df_Tik_tok['Name']:\n",
    "    Tam = len(nombre)\n",
    "    nombres.append(Tam)\n",
    "\n",
    "# Ya que tenemos todos los tamaños de los nombres ahora aplicaremos la funcion max para encontar el mayor\n",
    "\n",
    "max(nombres)"
   ]
  },
  {
   "cell_type": "code",
   "execution_count": 108,
   "metadata": {},
   "outputs": [
    {
     "name": "stdout",
     "output_type": "stream",
     "text": [
      "Prite Netijen Netirattanapaiboon\n",
      "Prite Netijen Netirattanapaiboon\n",
      "Prite Netijen Netirattanapaiboon\n"
     ]
    }
   ],
   "source": [
    "# Como tenemos que el numero MAXIMO de caracteres es 32 buscaremos nadamas la palabra que tenga 32 de largo\n",
    "for nombre in df_Tik_tok['Name']:\n",
    "    Tam = len(nombre)\n",
    "    if Tam == max(nombres):\n",
    "        print(nombre)"
   ]
  },
  {
   "cell_type": "markdown",
   "metadata": {},
   "source": [
    "#### - ¿Cuantas cuentas de TikTok tienen el nombre de alguno de estos animales: perro, gato, leon, tigre?"
   ]
  },
  {
   "cell_type": "code",
   "execution_count": 109,
   "metadata": {},
   "outputs": [
    {
     "name": "stdout",
     "output_type": "stream",
     "text": [
      "deiveleonardooficial\n",
      "piperrockelle\n",
      "deiveleonardooficial\n",
      "leonardberducat\n",
      "deiveleonardooficial\n",
      "joesantagato\n",
      "leonardzbant\n",
      "piperrockelle\n"
     ]
    }
   ],
   "source": [
    "animales_patron = r'perro|gato|leon|tigre'\n",
    "for nombre in df_Tik_tok['Username']:\n",
    "    nombre.lower()\n",
    "    buscar = re.search(animales_patron, nombre)\n",
    "    if buscar:\n",
    "        print(nombre)"
   ]
  },
  {
   "cell_type": "markdown",
   "metadata": {},
   "source": [
    "#### - Defina una metrica que identifique las 10 cuentas mas importantes de TikTok"
   ]
  },
  {
   "cell_type": "markdown",
   "metadata": {},
   "source": [
    "Se tomo en cuenta los suscriptores, y se reviso el perfil en Tik Tok, para ver si era cierta la informacion, y con base en los likes y compartidas que es lo que mas sucede en Tik Tok."
   ]
  },
  {
   "cell_type": "code",
   "execution_count": 111,
   "metadata": {},
   "outputs": [
    {
     "data": {
      "text/html": [
       "<div>\n",
       "<style scoped>\n",
       "    .dataframe tbody tr th:only-of-type {\n",
       "        vertical-align: middle;\n",
       "    }\n",
       "\n",
       "    .dataframe tbody tr th {\n",
       "        vertical-align: top;\n",
       "    }\n",
       "\n",
       "    .dataframe thead th {\n",
       "        text-align: right;\n",
       "    }\n",
       "</style>\n",
       "<table border=\"1\" class=\"dataframe\">\n",
       "  <thead>\n",
       "    <tr style=\"text-align: right;\">\n",
       "      <th></th>\n",
       "      <th>Month</th>\n",
       "      <th>Username</th>\n",
       "      <th>Name</th>\n",
       "      <th>Followers o Suscribers</th>\n",
       "      <th>Likes</th>\n",
       "      <th>Views</th>\n",
       "      <th>Shares</th>\n",
       "      <th>Comments</th>\n",
       "    </tr>\n",
       "  </thead>\n",
       "  <tbody>\n",
       "    <tr>\n",
       "      <th>1016</th>\n",
       "      <td>December</td>\n",
       "      <td>khaby.lame</td>\n",
       "      <td>Khabane lame</td>\n",
       "      <td>153100000</td>\n",
       "      <td>1200000</td>\n",
       "      <td>10600000</td>\n",
       "      <td>2300</td>\n",
       "      <td>20800</td>\n",
       "    </tr>\n",
       "    <tr>\n",
       "      <th>2016</th>\n",
       "      <td>November</td>\n",
       "      <td>khaby.lame</td>\n",
       "      <td>Khabane lame</td>\n",
       "      <td>152000000</td>\n",
       "      <td>1800000</td>\n",
       "      <td>15000000</td>\n",
       "      <td>3200</td>\n",
       "      <td>6500</td>\n",
       "    </tr>\n",
       "    <tr>\n",
       "      <th>1</th>\n",
       "      <td>September</td>\n",
       "      <td>khaby.lame</td>\n",
       "      <td>Khabane lame</td>\n",
       "      <td>149200000</td>\n",
       "      <td>2300000</td>\n",
       "      <td>17300000</td>\n",
       "      <td>8700</td>\n",
       "      <td>15200</td>\n",
       "    </tr>\n",
       "    <tr>\n",
       "      <th>1037</th>\n",
       "      <td>December</td>\n",
       "      <td>charlidamelio</td>\n",
       "      <td>charli d’amelio</td>\n",
       "      <td>149000000</td>\n",
       "      <td>789900</td>\n",
       "      <td>7800000</td>\n",
       "      <td>3000</td>\n",
       "      <td>6900</td>\n",
       "    </tr>\n",
       "    <tr>\n",
       "      <th>2033</th>\n",
       "      <td>November</td>\n",
       "      <td>charlidamelio</td>\n",
       "      <td>charli d’amelio</td>\n",
       "      <td>148400000</td>\n",
       "      <td>641900</td>\n",
       "      <td>8600000</td>\n",
       "      <td>2500</td>\n",
       "      <td>9700</td>\n",
       "    </tr>\n",
       "    <tr>\n",
       "      <th>...</th>\n",
       "      <td>...</td>\n",
       "      <td>...</td>\n",
       "      <td>...</td>\n",
       "      <td>...</td>\n",
       "      <td>...</td>\n",
       "      <td>...</td>\n",
       "      <td>...</td>\n",
       "      <td>...</td>\n",
       "    </tr>\n",
       "    <tr>\n",
       "      <th>776</th>\n",
       "      <td>September</td>\n",
       "      <td>soapinmymouthoncemore</td>\n",
       "      <td>tedwards</td>\n",
       "      <td>5100</td>\n",
       "      <td>189600</td>\n",
       "      <td>943300</td>\n",
       "      <td>3100</td>\n",
       "      <td>1900</td>\n",
       "    </tr>\n",
       "    <tr>\n",
       "      <th>3473</th>\n",
       "      <td>June</td>\n",
       "      <td>juliaaliceaa</td>\n",
       "      <td>jujuuu</td>\n",
       "      <td>3700</td>\n",
       "      <td>550300</td>\n",
       "      <td>2200000</td>\n",
       "      <td>14300</td>\n",
       "      <td>3100</td>\n",
       "    </tr>\n",
       "    <tr>\n",
       "      <th>3051</th>\n",
       "      <td>June</td>\n",
       "      <td>alexbatistao</td>\n",
       "      <td>Alex ramos22</td>\n",
       "      <td>3200</td>\n",
       "      <td>46600</td>\n",
       "      <td>951700</td>\n",
       "      <td>19400</td>\n",
       "      <td>1700</td>\n",
       "    </tr>\n",
       "    <tr>\n",
       "      <th>3075</th>\n",
       "      <td>June</td>\n",
       "      <td>apollolikesblu</td>\n",
       "      <td>Apollolol</td>\n",
       "      <td>3000</td>\n",
       "      <td>124500</td>\n",
       "      <td>702300</td>\n",
       "      <td>2100</td>\n",
       "      <td>9500</td>\n",
       "    </tr>\n",
       "    <tr>\n",
       "      <th>3543</th>\n",
       "      <td>June</td>\n",
       "      <td>leonardzbant</td>\n",
       "      <td>Leonard Zbant</td>\n",
       "      <td>3000</td>\n",
       "      <td>131200</td>\n",
       "      <td>1700000</td>\n",
       "      <td>9600</td>\n",
       "      <td>486</td>\n",
       "    </tr>\n",
       "  </tbody>\n",
       "</table>\n",
       "<p>3972 rows × 8 columns</p>\n",
       "</div>"
      ],
      "text/plain": [
       "          Month               Username             Name  \\\n",
       "1016   December             khaby.lame     Khabane lame   \n",
       "2016   November             khaby.lame     Khabane lame   \n",
       "1     September             khaby.lame     Khabane lame   \n",
       "1037   December          charlidamelio  charli d’amelio   \n",
       "2033   November          charlidamelio  charli d’amelio   \n",
       "...         ...                    ...              ...   \n",
       "776   September  soapinmymouthoncemore         tedwards   \n",
       "3473       June           juliaaliceaa           jujuuu   \n",
       "3051       June           alexbatistao     Alex ramos22   \n",
       "3075       June         apollolikesblu        Apollolol   \n",
       "3543       June           leonardzbant    Leonard Zbant   \n",
       "\n",
       "      Followers o Suscribers    Likes     Views  Shares  Comments  \n",
       "1016               153100000  1200000  10600000    2300     20800  \n",
       "2016               152000000  1800000  15000000    3200      6500  \n",
       "1                  149200000  2300000  17300000    8700     15200  \n",
       "1037               149000000   789900   7800000    3000      6900  \n",
       "2033               148400000   641900   8600000    2500      9700  \n",
       "...                      ...      ...       ...     ...       ...  \n",
       "776                     5100   189600    943300    3100      1900  \n",
       "3473                    3700   550300   2200000   14300      3100  \n",
       "3051                    3200    46600    951700   19400      1700  \n",
       "3075                    3000   124500    702300    2100      9500  \n",
       "3543                    3000   131200   1700000    9600       486  \n",
       "\n",
       "[3972 rows x 8 columns]"
      ]
     },
     "execution_count": 111,
     "metadata": {},
     "output_type": "execute_result"
    }
   ],
   "source": [
    "# Primero ordenaremos los valores mayor a menor\n",
    "df_ordenado = df_Tik_tok.sort_values('Followers o Suscribers', ascending=False)\n",
    "df_ordenado"
   ]
  },
  {
   "cell_type": "code",
   "execution_count": 112,
   "metadata": {},
   "outputs": [
    {
     "data": {
      "text/html": [
       "<div>\n",
       "<style scoped>\n",
       "    .dataframe tbody tr th:only-of-type {\n",
       "        vertical-align: middle;\n",
       "    }\n",
       "\n",
       "    .dataframe tbody tr th {\n",
       "        vertical-align: top;\n",
       "    }\n",
       "\n",
       "    .dataframe thead th {\n",
       "        text-align: right;\n",
       "    }\n",
       "</style>\n",
       "<table border=\"1\" class=\"dataframe\">\n",
       "  <thead>\n",
       "    <tr style=\"text-align: right;\">\n",
       "      <th></th>\n",
       "      <th>Month</th>\n",
       "      <th>Username</th>\n",
       "      <th>Name</th>\n",
       "      <th>Followers o Suscribers</th>\n",
       "      <th>Likes</th>\n",
       "      <th>Views</th>\n",
       "      <th>Shares</th>\n",
       "      <th>Comments</th>\n",
       "    </tr>\n",
       "  </thead>\n",
       "  <tbody>\n",
       "    <tr>\n",
       "      <th>1016</th>\n",
       "      <td>December</td>\n",
       "      <td>khaby.lame</td>\n",
       "      <td>Khabane lame</td>\n",
       "      <td>153100000</td>\n",
       "      <td>1200000</td>\n",
       "      <td>10600000</td>\n",
       "      <td>2300</td>\n",
       "      <td>20800</td>\n",
       "    </tr>\n",
       "    <tr>\n",
       "      <th>1037</th>\n",
       "      <td>December</td>\n",
       "      <td>charlidamelio</td>\n",
       "      <td>charli d’amelio</td>\n",
       "      <td>149000000</td>\n",
       "      <td>789900</td>\n",
       "      <td>7800000</td>\n",
       "      <td>3000</td>\n",
       "      <td>6900</td>\n",
       "    </tr>\n",
       "    <tr>\n",
       "      <th>1091</th>\n",
       "      <td>December</td>\n",
       "      <td>bellapoarch</td>\n",
       "      <td>Bella Poarch</td>\n",
       "      <td>92600000</td>\n",
       "      <td>482200</td>\n",
       "      <td>6000000</td>\n",
       "      <td>1500</td>\n",
       "      <td>4800</td>\n",
       "    </tr>\n",
       "    <tr>\n",
       "      <th>1168</th>\n",
       "      <td>December</td>\n",
       "      <td>addisonre</td>\n",
       "      <td>Addison</td>\n",
       "      <td>88700000</td>\n",
       "      <td>304900</td>\n",
       "      <td>5300000</td>\n",
       "      <td>2000</td>\n",
       "      <td>2400</td>\n",
       "    </tr>\n",
       "    <tr>\n",
       "      <th>1126</th>\n",
       "      <td>December</td>\n",
       "      <td>willsmith</td>\n",
       "      <td>Will Smith</td>\n",
       "      <td>73000000</td>\n",
       "      <td>514600</td>\n",
       "      <td>4700000</td>\n",
       "      <td>2000</td>\n",
       "      <td>2200</td>\n",
       "    </tr>\n",
       "    <tr>\n",
       "      <th>1099</th>\n",
       "      <td>December</td>\n",
       "      <td>zachking</td>\n",
       "      <td>Zach King</td>\n",
       "      <td>72100000</td>\n",
       "      <td>466400</td>\n",
       "      <td>11500000</td>\n",
       "      <td>1500</td>\n",
       "      <td>1600</td>\n",
       "    </tr>\n",
       "    <tr>\n",
       "      <th>1030</th>\n",
       "      <td>December</td>\n",
       "      <td>kimberly.loaiza</td>\n",
       "      <td>Kimberly Loaiza</td>\n",
       "      <td>70200000</td>\n",
       "      <td>883300</td>\n",
       "      <td>7700000</td>\n",
       "      <td>3900</td>\n",
       "      <td>8800</td>\n",
       "    </tr>\n",
       "    <tr>\n",
       "      <th>1469</th>\n",
       "      <td>December</td>\n",
       "      <td>cznburak</td>\n",
       "      <td>cznburak</td>\n",
       "      <td>66300000</td>\n",
       "      <td>205100</td>\n",
       "      <td>3200000</td>\n",
       "      <td>681</td>\n",
       "      <td>1700</td>\n",
       "    </tr>\n",
       "    <tr>\n",
       "      <th>1059</th>\n",
       "      <td>December</td>\n",
       "      <td>therock</td>\n",
       "      <td>The Rock</td>\n",
       "      <td>64300000</td>\n",
       "      <td>626000</td>\n",
       "      <td>3600000</td>\n",
       "      <td>7800</td>\n",
       "      <td>8000</td>\n",
       "    </tr>\n",
       "    <tr>\n",
       "      <th>1062</th>\n",
       "      <td>December</td>\n",
       "      <td>domelipa</td>\n",
       "      <td>domelipa</td>\n",
       "      <td>62000000</td>\n",
       "      <td>779900</td>\n",
       "      <td>5800000</td>\n",
       "      <td>2500</td>\n",
       "      <td>5300</td>\n",
       "    </tr>\n",
       "  </tbody>\n",
       "</table>\n",
       "</div>"
      ],
      "text/plain": [
       "         Month         Username             Name  Followers o Suscribers  \\\n",
       "1016  December       khaby.lame     Khabane lame               153100000   \n",
       "1037  December    charlidamelio  charli d’amelio               149000000   \n",
       "1091  December      bellapoarch     Bella Poarch                92600000   \n",
       "1168  December        addisonre          Addison                88700000   \n",
       "1126  December        willsmith       Will Smith                73000000   \n",
       "1099  December         zachking        Zach King                72100000   \n",
       "1030  December  kimberly.loaiza  Kimberly Loaiza                70200000   \n",
       "1469  December         cznburak         cznburak                66300000   \n",
       "1059  December          therock         The Rock                64300000   \n",
       "1062  December         domelipa         domelipa                62000000   \n",
       "\n",
       "        Likes     Views  Shares  Comments  \n",
       "1016  1200000  10600000    2300     20800  \n",
       "1037   789900   7800000    3000      6900  \n",
       "1091   482200   6000000    1500      4800  \n",
       "1168   304900   5300000    2000      2400  \n",
       "1126   514600   4700000    2000      2200  \n",
       "1099   466400  11500000    1500      1600  \n",
       "1030   883300   7700000    3900      8800  \n",
       "1469   205100   3200000     681      1700  \n",
       "1059   626000   3600000    7800      8000  \n",
       "1062   779900   5800000    2500      5300  "
      ]
     },
     "execution_count": 112,
     "metadata": {},
     "output_type": "execute_result"
    }
   ],
   "source": [
    "df_F = df_ordenado.loc[df_ordenado['Month']=='December'].head(10)\n",
    "df_F"
   ]
  },
  {
   "cell_type": "markdown",
   "metadata": {},
   "source": [
    "#### - Grafique una serie de tiempo de las cuentas que tengan al menos 3 datos de meses distintos de los promedios obtenidos en el inciso ii."
   ]
  },
  {
   "cell_type": "code",
   "execution_count": 113,
   "metadata": {},
   "outputs": [
    {
     "data": {
      "image/png": "[encoded data removed]",
      "text/plain": [
       "<Figure size 2000x600 with 1 Axes>"
      ]
     },
     "metadata": {},
     "output_type": "display_data"
    }
   ],
   "source": [
    "# Crear un nuevo DataFrame con los datos proporcionados\n",
    "data = {\n",
    "    'Name': df_F['Name'],\n",
    "    'Suscriptores': df_F['Followers o Suscribers'],\n",
    "    'Likes': df_F['Likes'], \n",
    "    'Views' : df_F['Views'], \n",
    "    'Shares' : df_F['Shares'], \n",
    "    'Comments' : df_F['Comments']\n",
    "}\n",
    "\n",
    "df = pd.DataFrame(data)\n",
    "df.set_index('Name', inplace=True)\n",
    "\n",
    "# Transponer el DataFrame\n",
    "df_transposed = df.T\n",
    "\n",
    "# Crear la figura y los ejes\n",
    "fig, ax = plt.subplots(figsize=(20, 6))\n",
    "\n",
    "# Graficar la serie de tiempo de suscriptores para cada usuario en una sola gráfica\n",
    "for username in df_transposed.index:\n",
    "    ax.plot(df_transposed.columns, df_transposed.loc[username], marker='o', label=username)\n",
    "\n",
    "# Personalizar el gráfico\n",
    "ax.set_xlabel('Suscriptores')\n",
    "ax.set_ylabel('Valor')\n",
    "ax.set_title('Serie de tiempo de suscriptores')\n",
    "ax.legend()\n",
    "\n",
    "# Mostrar el gráfico\n",
    "plt.show()"
   ]
  },
  {
   "cell_type": "markdown",
   "metadata": {},
   "source": [
    "## Obtención de datos de Youtube"
   ]
  },
  {
   "cell_type": "markdown",
   "metadata": {},
   "source": [
    "#### - Numero total de cuentas distintas"
   ]
  },
  {
   "cell_type": "code",
   "execution_count": 114,
   "metadata": {
    "tags": []
   },
   "outputs": [
    {
     "data": {
      "text/html": [
       "<div>\n",
       "<style scoped>\n",
       "    .dataframe tbody tr th:only-of-type {\n",
       "        vertical-align: middle;\n",
       "    }\n",
       "\n",
       "    .dataframe tbody tr th {\n",
       "        vertical-align: top;\n",
       "    }\n",
       "\n",
       "    .dataframe thead th {\n",
       "        text-align: right;\n",
       "    }\n",
       "</style>\n",
       "<table border=\"1\" class=\"dataframe\">\n",
       "  <thead>\n",
       "    <tr style=\"text-align: right;\">\n",
       "      <th></th>\n",
       "      <th>Country</th>\n",
       "      <th>Month</th>\n",
       "      <th>Name</th>\n",
       "      <th>Username</th>\n",
       "      <th>Subscribers</th>\n",
       "      <th>Views</th>\n",
       "      <th>Likes</th>\n",
       "      <th>Comments</th>\n",
       "      <th>Category1</th>\n",
       "      <th>Category2</th>\n",
       "    </tr>\n",
       "  </thead>\n",
       "  <tbody>\n",
       "    <tr>\n",
       "      <th>71</th>\n",
       "      <td>-</td>\n",
       "      <td>June</td>\n",
       "      <td>Britain's Got Talent</td>\n",
       "      <td>BritainsGotTalent09</td>\n",
       "      <td>18.4M</td>\n",
       "      <td>255.7K</td>\n",
       "      <td>2.6K</td>\n",
       "      <td>211</td>\n",
       "      <td>Music &amp; Dance</td>\n",
       "      <td>Movies</td>\n",
       "    </tr>\n",
       "    <tr>\n",
       "      <th>188</th>\n",
       "      <td>Argentina</td>\n",
       "      <td>June</td>\n",
       "      <td>RobleisIUTU</td>\n",
       "      <td>RobleisIUTU</td>\n",
       "      <td>17.1M</td>\n",
       "      <td>1M</td>\n",
       "      <td>71.9K</td>\n",
       "      <td>1.8K</td>\n",
       "      <td>Animation</td>\n",
       "      <td>Video games</td>\n",
       "    </tr>\n",
       "    <tr>\n",
       "      <th>189</th>\n",
       "      <td>Argentina</td>\n",
       "      <td>June</td>\n",
       "      <td>Bizarrap</td>\n",
       "      <td>Bizarrap</td>\n",
       "      <td>14.3M</td>\n",
       "      <td>23M</td>\n",
       "      <td>1.3M</td>\n",
       "      <td>68.8K</td>\n",
       "      <td>Music &amp; Dance</td>\n",
       "      <td>Movies</td>\n",
       "    </tr>\n",
       "    <tr>\n",
       "      <th>193</th>\n",
       "      <td>Argentina</td>\n",
       "      <td>June</td>\n",
       "      <td>Rubius Z</td>\n",
       "      <td>elrubius</td>\n",
       "      <td>11.5M</td>\n",
       "      <td>1.7M</td>\n",
       "      <td>142.8K</td>\n",
       "      <td>1.8K</td>\n",
       "      <td>Movies</td>\n",
       "      <td>Animation</td>\n",
       "    </tr>\n",
       "    <tr>\n",
       "      <th>200</th>\n",
       "      <td>Brazil</td>\n",
       "      <td>June</td>\n",
       "      <td>LUCCAS NETO - LUCCAS TOON</td>\n",
       "      <td>luccasneto</td>\n",
       "      <td>37.5M</td>\n",
       "      <td>467.9K</td>\n",
       "      <td>12K</td>\n",
       "      <td>N/A'</td>\n",
       "      <td>Movies</td>\n",
       "      <td>Animation</td>\n",
       "    </tr>\n",
       "    <tr>\n",
       "      <th>...</th>\n",
       "      <td>...</td>\n",
       "      <td>...</td>\n",
       "      <td>...</td>\n",
       "      <td>...</td>\n",
       "      <td>...</td>\n",
       "      <td>...</td>\n",
       "      <td>...</td>\n",
       "      <td>...</td>\n",
       "      <td>...</td>\n",
       "      <td>...</td>\n",
       "    </tr>\n",
       "    <tr>\n",
       "      <th>4031</th>\n",
       "      <td>India</td>\n",
       "      <td>December</td>\n",
       "      <td>Sanam</td>\n",
       "      <td>Sanam</td>\n",
       "      <td>10.3M</td>\n",
       "      <td>58.7K</td>\n",
       "      <td>6.3K</td>\n",
       "      <td>293</td>\n",
       "      <td>Music &amp; Dance</td>\n",
       "      <td>Movies</td>\n",
       "    </tr>\n",
       "    <tr>\n",
       "      <th>4033</th>\n",
       "      <td>United States</td>\n",
       "      <td>December</td>\n",
       "      <td>TopMovieClips</td>\n",
       "      <td>TopMovieClips</td>\n",
       "      <td>10.3M</td>\n",
       "      <td>124.5K</td>\n",
       "      <td>2.1K</td>\n",
       "      <td>140</td>\n",
       "      <td>Movies</td>\n",
       "      <td>Animation</td>\n",
       "    </tr>\n",
       "    <tr>\n",
       "      <th>4038</th>\n",
       "      <td>Russia</td>\n",
       "      <td>December</td>\n",
       "      <td>Wylsacom</td>\n",
       "      <td>Wylsacom</td>\n",
       "      <td>10.3M</td>\n",
       "      <td>291.7K</td>\n",
       "      <td>13K</td>\n",
       "      <td>950</td>\n",
       "      <td>Science &amp; Technology</td>\n",
       "      <td>News &amp; Politics</td>\n",
       "    </tr>\n",
       "    <tr>\n",
       "      <th>4041</th>\n",
       "      <td>Brazil</td>\n",
       "      <td>December</td>\n",
       "      <td>Laurinha e Helena - Clubinho da Laura</td>\n",
       "      <td>JessicaJulioeBaby</td>\n",
       "      <td>10.3M</td>\n",
       "      <td>83.5K</td>\n",
       "      <td>1.4K</td>\n",
       "      <td>0</td>\n",
       "      <td>Movies</td>\n",
       "      <td>Animation</td>\n",
       "    </tr>\n",
       "    <tr>\n",
       "      <th>4049</th>\n",
       "      <td>United States</td>\n",
       "      <td>December</td>\n",
       "      <td>Sơn Tùng M-TP Official</td>\n",
       "      <td>Sơn Tùng M-TP Official</td>\n",
       "      <td>10.2M</td>\n",
       "      <td>100.9K</td>\n",
       "      <td>7.7K</td>\n",
       "      <td>108</td>\n",
       "      <td>Music &amp; Dance</td>\n",
       "      <td>Animation</td>\n",
       "    </tr>\n",
       "  </tbody>\n",
       "</table>\n",
       "<p>764 rows × 10 columns</p>\n",
       "</div>"
      ],
      "text/plain": [
       "            Country     Month                                   Name  \\\n",
       "71                -      June                   Britain's Got Talent   \n",
       "188       Argentina      June                            RobleisIUTU   \n",
       "189       Argentina      June                               Bizarrap   \n",
       "193       Argentina      June                               Rubius Z   \n",
       "200          Brazil      June              LUCCAS NETO - LUCCAS TOON   \n",
       "...             ...       ...                                    ...   \n",
       "4031          India  December                                  Sanam   \n",
       "4033  United States  December                          TopMovieClips   \n",
       "4038         Russia  December                               Wylsacom   \n",
       "4041         Brazil  December  Laurinha e Helena - Clubinho da Laura   \n",
       "4049  United States  December                 Sơn Tùng M-TP Official   \n",
       "\n",
       "                    Username Subscribers   Views   Likes Comments  \\\n",
       "71       BritainsGotTalent09       18.4M  255.7K    2.6K      211   \n",
       "188              RobleisIUTU       17.1M      1M   71.9K     1.8K   \n",
       "189                 Bizarrap       14.3M     23M    1.3M    68.8K   \n",
       "193                 elrubius       11.5M    1.7M  142.8K     1.8K   \n",
       "200               luccasneto       37.5M  467.9K     12K     N/A'   \n",
       "...                      ...         ...     ...     ...      ...   \n",
       "4031                   Sanam       10.3M   58.7K    6.3K      293   \n",
       "4033           TopMovieClips       10.3M  124.5K    2.1K      140   \n",
       "4038                Wylsacom       10.3M  291.7K     13K      950   \n",
       "4041       JessicaJulioeBaby       10.3M   83.5K    1.4K        0   \n",
       "4049  Sơn Tùng M-TP Official       10.2M  100.9K    7.7K      108   \n",
       "\n",
       "                 Category1        Category2  \n",
       "71           Music & Dance           Movies  \n",
       "188              Animation      Video games  \n",
       "189          Music & Dance           Movies  \n",
       "193                 Movies        Animation  \n",
       "200                 Movies        Animation  \n",
       "...                    ...              ...  \n",
       "4031         Music & Dance           Movies  \n",
       "4033                Movies        Animation  \n",
       "4038  Science & Technology  News & Politics  \n",
       "4041                Movies        Animation  \n",
       "4049         Music & Dance        Animation  \n",
       "\n",
       "[764 rows x 10 columns]"
      ]
     },
     "execution_count": 114,
     "metadata": {},
     "output_type": "execute_result"
    }
   ],
   "source": [
    "# Muestra las cuentas duplicadas\n",
    "df_Youtube[df_Youtube.Username.duplicated(keep=False)]"
   ]
  },
  {
   "cell_type": "code",
   "execution_count": 115,
   "metadata": {
    "tags": []
   },
   "outputs": [
    {
     "data": {
      "text/plain": [
       "321"
      ]
     },
     "execution_count": 115,
     "metadata": {},
     "output_type": "execute_result"
    }
   ],
   "source": [
    "# Número de cuentas distintas\n",
    "df_Youtube.Username.nunique()"
   ]
  },
  {
   "cell_type": "markdown",
   "metadata": {},
   "source": [
    "#### - Promedio de seguidores, views, likes, comments de cada cuenta"
   ]
  },
  {
   "cell_type": "code",
   "execution_count": 116,
   "metadata": {
    "tags": []
   },
   "outputs": [],
   "source": [
    "# Transformación de los datos a números\n",
    "df_Youtube['Subscribers'] = df_Youtube['Subscribers'].replace({'K': '*1e3', 'M': '*1e6', 'G':'*1e9'}, regex=True).map(pd.eval).astype(int)\n",
    "df_Youtube['Views'] = df_Youtube['Views'].replace({'K': '*1e3', 'M': '*1e6', 'G':'*1e9'}, regex=True).map(pd.eval).astype(int)\n",
    "df_Youtube['Likes'] = df_Youtube['Likes'].replace({'K': '*1e3', 'M': '*1e6', 'G':'*1e9', \"N/A'\": '0'}, regex=True).map(pd.eval).astype(int)\n",
    "df_Youtube['Comments'] = df_Youtube['Comments'].replace({'K': '*1e3', 'M': '*1e6', 'G':'*1e9', \"N/A'\": '0'}, regex=True).map(pd.eval).astype(int)"
   ]
  },
  {
   "cell_type": "code",
   "execution_count": 117,
   "metadata": {
    "tags": []
   },
   "outputs": [
    {
     "data": {
      "text/html": [
       "<div>\n",
       "<style scoped>\n",
       "    .dataframe tbody tr th:only-of-type {\n",
       "        vertical-align: middle;\n",
       "    }\n",
       "\n",
       "    .dataframe tbody tr th {\n",
       "        vertical-align: top;\n",
       "    }\n",
       "\n",
       "    .dataframe thead th {\n",
       "        text-align: right;\n",
       "    }\n",
       "</style>\n",
       "<table border=\"1\" class=\"dataframe\">\n",
       "  <thead>\n",
       "    <tr style=\"text-align: right;\">\n",
       "      <th></th>\n",
       "      <th>Country</th>\n",
       "      <th>Month</th>\n",
       "      <th>Name</th>\n",
       "      <th>Username</th>\n",
       "      <th>Subscribers</th>\n",
       "      <th>Views</th>\n",
       "      <th>Likes</th>\n",
       "      <th>Comments</th>\n",
       "      <th>Category1</th>\n",
       "      <th>Category2</th>\n",
       "    </tr>\n",
       "  </thead>\n",
       "  <tbody>\n",
       "    <tr>\n",
       "      <th>1</th>\n",
       "      <td>-</td>\n",
       "      <td>June</td>\n",
       "      <td>Baby Big Mouth Kids - Sing, Dance, Explore</td>\n",
       "      <td>Baby Big Mouth Kids - Sing, Dance, Explore</td>\n",
       "      <td>10600000</td>\n",
       "      <td>348</td>\n",
       "      <td>3</td>\n",
       "      <td>0</td>\n",
       "      <td>Animation</td>\n",
       "      <td>Toys</td>\n",
       "    </tr>\n",
       "    <tr>\n",
       "      <th>3</th>\n",
       "      <td>-</td>\n",
       "      <td>June</td>\n",
       "      <td>Blippi - Educational Videos for Kids</td>\n",
       "      <td>Blippi - Educational Videos for Kids</td>\n",
       "      <td>15700000</td>\n",
       "      <td>1200000</td>\n",
       "      <td>4200</td>\n",
       "      <td>0</td>\n",
       "      <td>Education</td>\n",
       "      <td>Toys</td>\n",
       "    </tr>\n",
       "    <tr>\n",
       "      <th>14</th>\n",
       "      <td>-</td>\n",
       "      <td>June</td>\n",
       "      <td>Трум Трум</td>\n",
       "      <td>Трум Трум</td>\n",
       "      <td>13700000</td>\n",
       "      <td>103200</td>\n",
       "      <td>1800</td>\n",
       "      <td>83</td>\n",
       "      <td>Humor</td>\n",
       "      <td>Toys</td>\n",
       "    </tr>\n",
       "    <tr>\n",
       "      <th>15</th>\n",
       "      <td>-</td>\n",
       "      <td>June</td>\n",
       "      <td>Dang Matt Smith</td>\n",
       "      <td>dangmattsmith</td>\n",
       "      <td>13700000</td>\n",
       "      <td>103500</td>\n",
       "      <td>4400</td>\n",
       "      <td>332</td>\n",
       "      <td>Animation</td>\n",
       "      <td>Humor</td>\n",
       "    </tr>\n",
       "    <tr>\n",
       "      <th>18</th>\n",
       "      <td>-</td>\n",
       "      <td>June</td>\n",
       "      <td>DuDuPopTOY</td>\n",
       "      <td>DuDuPopTOY</td>\n",
       "      <td>10500000</td>\n",
       "      <td>11100</td>\n",
       "      <td>109</td>\n",
       "      <td>0</td>\n",
       "      <td>Animation</td>\n",
       "      <td>Humor</td>\n",
       "    </tr>\n",
       "    <tr>\n",
       "      <th>...</th>\n",
       "      <td>...</td>\n",
       "      <td>...</td>\n",
       "      <td>...</td>\n",
       "      <td>...</td>\n",
       "      <td>...</td>\n",
       "      <td>...</td>\n",
       "      <td>...</td>\n",
       "      <td>...</td>\n",
       "      <td>...</td>\n",
       "      <td>...</td>\n",
       "    </tr>\n",
       "    <tr>\n",
       "      <th>4033</th>\n",
       "      <td>United States</td>\n",
       "      <td>December</td>\n",
       "      <td>TopMovieClips</td>\n",
       "      <td>TopMovieClips</td>\n",
       "      <td>10300000</td>\n",
       "      <td>124500</td>\n",
       "      <td>2100</td>\n",
       "      <td>140</td>\n",
       "      <td>Movies</td>\n",
       "      <td>Animation</td>\n",
       "    </tr>\n",
       "    <tr>\n",
       "      <th>4036</th>\n",
       "      <td>United States</td>\n",
       "      <td>December</td>\n",
       "      <td>Topper Guild</td>\n",
       "      <td>topperguild</td>\n",
       "      <td>10300000</td>\n",
       "      <td>288900</td>\n",
       "      <td>5900</td>\n",
       "      <td>680</td>\n",
       "      <td>Animation</td>\n",
       "      <td>Humor</td>\n",
       "    </tr>\n",
       "    <tr>\n",
       "      <th>4038</th>\n",
       "      <td>Russia</td>\n",
       "      <td>December</td>\n",
       "      <td>Wylsacom</td>\n",
       "      <td>Wylsacom</td>\n",
       "      <td>10300000</td>\n",
       "      <td>291700</td>\n",
       "      <td>13000</td>\n",
       "      <td>950</td>\n",
       "      <td>Science &amp; Technology</td>\n",
       "      <td>News &amp; Politics</td>\n",
       "    </tr>\n",
       "    <tr>\n",
       "      <th>4041</th>\n",
       "      <td>Brazil</td>\n",
       "      <td>December</td>\n",
       "      <td>Laurinha e Helena - Clubinho da Laura</td>\n",
       "      <td>JessicaJulioeBaby</td>\n",
       "      <td>10300000</td>\n",
       "      <td>83500</td>\n",
       "      <td>1400</td>\n",
       "      <td>0</td>\n",
       "      <td>Movies</td>\n",
       "      <td>Animation</td>\n",
       "    </tr>\n",
       "    <tr>\n",
       "      <th>4049</th>\n",
       "      <td>United States</td>\n",
       "      <td>December</td>\n",
       "      <td>Sơn Tùng M-TP Official</td>\n",
       "      <td>Sơn Tùng M-TP Official</td>\n",
       "      <td>10200000</td>\n",
       "      <td>100900</td>\n",
       "      <td>7700</td>\n",
       "      <td>108</td>\n",
       "      <td>Music &amp; Dance</td>\n",
       "      <td>Animation</td>\n",
       "    </tr>\n",
       "  </tbody>\n",
       "</table>\n",
       "<p>858 rows × 10 columns</p>\n",
       "</div>"
      ],
      "text/plain": [
       "            Country     Month                                        Name  \\\n",
       "1                 -      June  Baby Big Mouth Kids - Sing, Dance, Explore   \n",
       "3                 -      June        Blippi - Educational Videos for Kids   \n",
       "14                -      June                                   Трум Трум   \n",
       "15                -      June                             Dang Matt Smith   \n",
       "18                -      June                                  DuDuPopTOY   \n",
       "...             ...       ...                                         ...   \n",
       "4033  United States  December                               TopMovieClips   \n",
       "4036  United States  December                                Topper Guild   \n",
       "4038         Russia  December                                    Wylsacom   \n",
       "4041         Brazil  December       Laurinha e Helena - Clubinho da Laura   \n",
       "4049  United States  December                      Sơn Tùng M-TP Official   \n",
       "\n",
       "                                        Username  Subscribers    Views  Likes  \\\n",
       "1     Baby Big Mouth Kids - Sing, Dance, Explore     10600000      348      3   \n",
       "3           Blippi - Educational Videos for Kids     15700000  1200000   4200   \n",
       "14                                     Трум Трум     13700000   103200   1800   \n",
       "15                                 dangmattsmith     13700000   103500   4400   \n",
       "18                                    DuDuPopTOY     10500000    11100    109   \n",
       "...                                          ...          ...      ...    ...   \n",
       "4033                               TopMovieClips     10300000   124500   2100   \n",
       "4036                                 topperguild     10300000   288900   5900   \n",
       "4038                                    Wylsacom     10300000   291700  13000   \n",
       "4041                           JessicaJulioeBaby     10300000    83500   1400   \n",
       "4049                      Sơn Tùng M-TP Official     10200000   100900   7700   \n",
       "\n",
       "      Comments             Category1        Category2  \n",
       "1            0             Animation             Toys  \n",
       "3            0             Education             Toys  \n",
       "14          83                 Humor             Toys  \n",
       "15         332             Animation            Humor  \n",
       "18           0             Animation            Humor  \n",
       "...        ...                   ...              ...  \n",
       "4033       140                Movies        Animation  \n",
       "4036       680             Animation            Humor  \n",
       "4038       950  Science & Technology  News & Politics  \n",
       "4041         0                Movies        Animation  \n",
       "4049       108         Music & Dance        Animation  \n",
       "\n",
       "[858 rows x 10 columns]"
      ]
     },
     "execution_count": 117,
     "metadata": {},
     "output_type": "execute_result"
    }
   ],
   "source": [
    "df_Youtube"
   ]
  },
  {
   "cell_type": "code",
   "execution_count": 118,
   "metadata": {
    "tags": []
   },
   "outputs": [
    {
     "data": {
      "text/html": [
       "<div>\n",
       "<style scoped>\n",
       "    .dataframe tbody tr th:only-of-type {\n",
       "        vertical-align: middle;\n",
       "    }\n",
       "\n",
       "    .dataframe tbody tr th {\n",
       "        vertical-align: top;\n",
       "    }\n",
       "\n",
       "    .dataframe thead th {\n",
       "        text-align: right;\n",
       "    }\n",
       "</style>\n",
       "<table border=\"1\" class=\"dataframe\">\n",
       "  <thead>\n",
       "    <tr style=\"text-align: right;\">\n",
       "      <th></th>\n",
       "      <th></th>\n",
       "      <th>Subscribers</th>\n",
       "      <th>Views</th>\n",
       "      <th>Comments</th>\n",
       "      <th>Likes</th>\n",
       "    </tr>\n",
       "    <tr>\n",
       "      <th>Username</th>\n",
       "      <th>Month</th>\n",
       "      <th></th>\n",
       "      <th></th>\n",
       "      <th></th>\n",
       "      <th></th>\n",
       "    </tr>\n",
       "  </thead>\n",
       "  <tbody>\n",
       "    <tr>\n",
       "      <th rowspan=\"3\" valign=\"top\">#Refúgio Mental</th>\n",
       "      <th>December</th>\n",
       "      <td>12800000.0</td>\n",
       "      <td>142100.0</td>\n",
       "      <td>52.0</td>\n",
       "      <td>4900.0</td>\n",
       "    </tr>\n",
       "    <tr>\n",
       "      <th>November</th>\n",
       "      <td>12800000.0</td>\n",
       "      <td>142100.0</td>\n",
       "      <td>52.0</td>\n",
       "      <td>4900.0</td>\n",
       "    </tr>\n",
       "    <tr>\n",
       "      <th>September</th>\n",
       "      <td>12800000.0</td>\n",
       "      <td>341700.0</td>\n",
       "      <td>89.0</td>\n",
       "      <td>9800.0</td>\n",
       "    </tr>\n",
       "    <tr>\n",
       "      <th rowspan=\"4\" valign=\"top\">0214mex</th>\n",
       "      <th>December</th>\n",
       "      <td>10400000.0</td>\n",
       "      <td>592200.0</td>\n",
       "      <td>1100.0</td>\n",
       "      <td>18500.0</td>\n",
       "    </tr>\n",
       "    <tr>\n",
       "      <th>June</th>\n",
       "      <td>10300000.0</td>\n",
       "      <td>1300000.0</td>\n",
       "      <td>1400.0</td>\n",
       "      <td>30900.0</td>\n",
       "    </tr>\n",
       "    <tr>\n",
       "      <th>November</th>\n",
       "      <td>10400000.0</td>\n",
       "      <td>592200.0</td>\n",
       "      <td>1100.0</td>\n",
       "      <td>18500.0</td>\n",
       "    </tr>\n",
       "    <tr>\n",
       "      <th>September</th>\n",
       "      <td>10400000.0</td>\n",
       "      <td>1700000.0</td>\n",
       "      <td>1800.0</td>\n",
       "      <td>43800.0</td>\n",
       "    </tr>\n",
       "    <tr>\n",
       "      <th rowspan=\"3\" valign=\"top\">5-Minute Crafts DIY</th>\n",
       "      <th>December</th>\n",
       "      <td>20900000.0</td>\n",
       "      <td>11100.0</td>\n",
       "      <td>7.0</td>\n",
       "      <td>240.0</td>\n",
       "    </tr>\n",
       "    <tr>\n",
       "      <th>November</th>\n",
       "      <td>20900000.0</td>\n",
       "      <td>11100.0</td>\n",
       "      <td>7.0</td>\n",
       "      <td>240.0</td>\n",
       "    </tr>\n",
       "    <tr>\n",
       "      <th>September</th>\n",
       "      <td>20900000.0</td>\n",
       "      <td>18300.0</td>\n",
       "      <td>9.0</td>\n",
       "      <td>303.0</td>\n",
       "    </tr>\n",
       "  </tbody>\n",
       "</table>\n",
       "</div>"
      ],
      "text/plain": [
       "                               Subscribers      Views  Comments    Likes\n",
       "Username            Month                                               \n",
       "#Refúgio Mental     December    12800000.0   142100.0      52.0   4900.0\n",
       "                    November    12800000.0   142100.0      52.0   4900.0\n",
       "                    September   12800000.0   341700.0      89.0   9800.0\n",
       "0214mex             December    10400000.0   592200.0    1100.0  18500.0\n",
       "                    June        10300000.0  1300000.0    1400.0  30900.0\n",
       "                    November    10400000.0   592200.0    1100.0  18500.0\n",
       "                    September   10400000.0  1700000.0    1800.0  43800.0\n",
       "5-Minute Crafts DIY December    20900000.0    11100.0       7.0    240.0\n",
       "                    November    20900000.0    11100.0       7.0    240.0\n",
       "                    September   20900000.0    18300.0       9.0    303.0"
      ]
     },
     "execution_count": 118,
     "metadata": {},
     "output_type": "execute_result"
    }
   ],
   "source": [
    "# Calculamos el promedio de seguidores, views, likes, comments  de cada cuenta\n",
    "mean_subscribers = df_Youtube['Subscribers'].mean()\n",
    "mean_views = df_Youtube['Views'].mean()\n",
    "mean_comments = df_Youtube['Comments'].mean()\n",
    "mean_likes = df_Youtube['Likes'].mean()\n",
    "\n",
    "columnas = ['Subscribers','Views','Comments', 'Likes']\n",
    "Promedios = df_Youtube.groupby(['Username', 'Month'])[columnas].mean()\n",
    "Promedios.head(10)"
   ]
  },
  {
   "cell_type": "markdown",
   "metadata": {},
   "source": [
    "#### - Métricas de Valor de cada cuenta"
   ]
  },
  {
   "cell_type": "code",
   "execution_count": 119,
   "metadata": {
    "tags": []
   },
   "outputs": [
    {
     "name": "stdout",
     "output_type": "stream",
     "text": [
      "Username           Month    \n",
      "#Refúgio Mental    December     0.011102\n",
      "                   November     0.011102\n",
      "                   September    0.026695\n",
      "0214mex            December     0.056942\n",
      "                   June         0.126214\n",
      "                                  ...   \n",
      "✿ Kids Diana Show  June         0.118012\n",
      "설기양SULGI           December     0.061946\n",
      "                   June         0.083939\n",
      "                   November     0.048459\n",
      "                   September    0.091010\n",
      "Length: 855, dtype: float64\n",
      "Username           Month    \n",
      "#Refúgio Mental    December     0.000383\n",
      "                   November     0.000383\n",
      "                   September    0.000766\n",
      "0214mex            December     0.001779\n",
      "                   June         0.003000\n",
      "                                  ...   \n",
      "✿ Kids Diana Show  June         0.000423\n",
      "설기양SULGI           December     0.001207\n",
      "                   June         0.002235\n",
      "                   November     0.001321\n",
      "                   September    0.002114\n",
      "Length: 855, dtype: float64\n",
      "Username           Month    \n",
      "#Refúgio Mental    December     0.000004\n",
      "                   November     0.000004\n",
      "                   September    0.000007\n",
      "0214mex            December     0.000106\n",
      "                   June         0.000136\n",
      "                                  ...   \n",
      "✿ Kids Diana Show  June         0.000000\n",
      "설기양SULGI           December     0.000044\n",
      "                   June         0.000060\n",
      "                   November     0.000044\n",
      "                   September    0.000064\n",
      "Length: 855, dtype: float64\n"
     ]
    }
   ],
   "source": [
    "metricaYT = []\n",
    "for c in range(len(Promedios)):\n",
    "    # Promedio views/Promedio Followers\n",
    "    metricaYT.append(Promedios['Views']/Promedios['Subscribers'])\n",
    "    # Promedio likes/Promedio Followers\n",
    "    metricaYT.append(Promedios['Likes']/Promedios['Subscribers'])\n",
    "    # Promedio comments/Promedio Followers\n",
    "    metricaYT.append(Promedios['Comments']/Promedios['Subscribers'])\n",
    "    \n",
    "print(metricaYT[0])\n",
    "print(metricaYT[1])\n",
    "print(metricaYT[2])"
   ]
  },
  {
   "cell_type": "markdown",
   "metadata": {},
   "source": [
    "#### - Histograma con el número de cuentas que inician por cada letra del alfabeto y por símbolos"
   ]
  },
  {
   "cell_type": "code",
   "execution_count": 120,
   "metadata": {
    "tags": []
   },
   "outputs": [],
   "source": [
    "# Primero buscaremos el patron que tenga que inice con las letras del alfabeto \n",
    "\n",
    "patron_Alfabeto = r'^[a-zA-Z]'\n",
    "\n",
    "Alfabeto = []\n",
    "S_Alfabeto = []\n",
    "\n",
    "for username in df_Youtube['Username']:\n",
    "    if re.search(patron_Alfabeto, username):\n",
    "        Alfabeto.append(username)\n",
    "    else:\n",
    "        S_Alfabeto.append(username)"
   ]
  },
  {
   "cell_type": "code",
   "execution_count": 121,
   "metadata": {
    "tags": []
   },
   "outputs": [
    {
     "data": {
      "image/png": "[encoded data removed]",
      "text/plain": [
       "<Figure size 640x480 with 1 Axes>"
      ]
     },
     "metadata": {},
     "output_type": "display_data"
    }
   ],
   "source": [
    "countA = len(Alfabeto)\n",
    "countSA = len(S_Alfabeto)\n",
    "\n",
    "etiquetas = ['Alfabeto', 'Sin Alfabeto']\n",
    "\n",
    "# Crear los valores para el histograma\n",
    "vals = [countA, countSA]\n",
    "\n",
    "# En esta parte se crea el histograma\n",
    "plt.bar(etiquetas, vals, color='rebeccapurple')\n",
    "plt.xlabel('Tipo')\n",
    "plt.ylabel('Número de cuentas')\n",
    "plt.title('Distribución de cuentas por tipo')\n",
    "\n",
    "# Mostramos el número exacto de cuentas en el histograma\n",
    "for i, count in enumerate(vals):\n",
    "    plt.text(i, count + 1, str(count), ha='center')\n",
    "\n",
    "plt.show()\n"
   ]
  },
  {
   "cell_type": "markdown",
   "metadata": {},
   "source": [
    "#### - ¿Cuantas cuentas de YouTube tienen ya sea en su username o name las letras de las iniciales del primer nombre de cada uno de los integrantes de tu equipo?\n",
    "Las iniciales de mi equipo son L, E y M (Luis, Esmeralda y Mónica)"
   ]
  },
  {
   "cell_type": "code",
   "execution_count": 122,
   "metadata": {
    "tags": []
   },
   "outputs": [
    {
     "data": {
      "text/plain": [
       "740"
      ]
     },
     "execution_count": 122,
     "metadata": {},
     "output_type": "execute_result"
    }
   ],
   "source": [
    "# Obtenemos las cuentas que inicien por E, e, M, m\n",
    "# Patrón que contenga las iniciales de los integrantes del equipo \n",
    "patron = r'[lem]'\n",
    "iniciales = re.compile(patron, re.IGNORECASE)\n",
    "# Filtrar los registros que contengan las letras en las columnas 'Username' o 'Name'\n",
    "cuentasYT = df_Youtube[(df_Youtube['Username'].str.contains(iniciales, na=False)) | (df_Youtube['Name'].str.contains(iniciales, na=False))]\n",
    "# Obtener la cantidad de registros que cumplen la condición\n",
    "cuentasYT.shape[0]"
   ]
  },
  {
   "cell_type": "markdown",
   "metadata": {},
   "source": [
    "Por lo tanto, son 740 cuentas que tienen como inicial L,l,E,e,M,m en username o name."
   ]
  },
  {
   "cell_type": "markdown",
   "metadata": {},
   "source": [
    "#### - Métrica que identifique las 10 cuentas más importantes de YouTube\n",
    "Se tomaron en cuenta la cantidad de subscriptores y la cantidad de comentarios, ya que al tener muchos subscriptores es más probable que si en dado caso, anunciarán publicidad acerca de algún producto, llegaría a más personas pues no son personas que solo estén suscritas, si no que participan en el canal de Youtube, nos aseguramos de eso gracias a la obtención de comentarios."
   ]
  },
  {
   "cell_type": "code",
   "execution_count": 123,
   "metadata": {
    "tags": []
   },
   "outputs": [
    {
     "name": "stdout",
     "output_type": "stream",
     "text": [
      "          Username  Subscribers  Comments\n",
      "3454      Bizarrap     16600000    134900\n",
      "3134    AddictedA1     37300000    110000\n",
      "3071       MrBeast    117000000     99900\n",
      "3961       Airrack     10700000     33100\n",
      "3114            A4     42500000     27100\n",
      "3423  alanalan9635     17400000     26500\n",
      "3547           ERB     14800000     20900\n",
      "3430       Sidemen     17200000     17500\n",
      "3446  TheBrianMaps     16800000     11800\n",
      "3252    Logan Paul     23600000     11500\n"
     ]
    }
   ],
   "source": [
    "# Obtenemos los registros de diciembre para la métrica y los ordenamos ascentemente para obtener las cuentas\n",
    "# más importantes, al menos por la métrica planteada que fue el conteo de subscribers y engagement.\n",
    "cuentasImportYT = df_Youtube[df_Youtube['Month'] == 'December'].sort_values(by='Subscribers', ascending=False)\n",
    "cuentasImportYTFinal = cuentasImportYT[cuentasImportYT['Month'] == 'December'].sort_values(by='Comments', ascending=False)\n",
    "# Obtenemos el top 10 de cuentas con mayor número de seguidores en diciembre, se eligió filtrar por diciembre\n",
    "# ya que es el mes de cierre y los usuarios que hayan tenido más subscriptores se consideran los más importantes\n",
    "# para Instagram\n",
    "top10 = cuentasImportYTFinal.head(10)\n",
    "# Se muestra el username y cuantos subscribers tiene esa cuenta.\n",
    "print(top10[['Username', 'Subscribers', 'Comments']])"
   ]
  },
  {
   "cell_type": "markdown",
   "metadata": {},
   "source": [
    "#### - Cree una serie con todas los países existentes en todos los archivos de YouTube"
   ]
  },
  {
   "cell_type": "code",
   "execution_count": 124,
   "metadata": {
    "tags": []
   },
   "outputs": [
    {
     "data": {
      "text/plain": [
       "['-',\n",
       " 'Argentina',\n",
       " 'Brazil',\n",
       " 'Colombia',\n",
       " 'France',\n",
       " 'India',\n",
       " 'Indonesia',\n",
       " 'Iraq',\n",
       " 'Japan',\n",
       " 'Mexico',\n",
       " 'Pakistan',\n",
       " 'Peru',\n",
       " 'Philippines',\n",
       " 'Russia',\n",
       " 'Saudi Arabia',\n",
       " 'Spain',\n",
       " 'Thailand',\n",
       " 'United Kingdom',\n",
       " 'United States',\n",
       " 'Turkey']"
      ]
     },
     "execution_count": 124,
     "metadata": {},
     "output_type": "execute_result"
    }
   ],
   "source": [
    "# Obtener los países únicos (todos)\n",
    "TodosPaises= [] \n",
    "TodosPaises = (df_Youtube['Country'].unique()).tolist()\n",
    "TodosPaises"
   ]
  },
  {
   "cell_type": "markdown",
   "metadata": {},
   "source": [
    "#### - Histograma del número de seguidores promedio por país."
   ]
  },
  {
   "cell_type": "code",
   "execution_count": 125,
   "metadata": {
    "tags": []
   },
   "outputs": [
    {
     "data": {
      "image/png": "[encoded data removed]",
      "text/plain": [
       "<Figure size 1000x600 with 1 Axes>"
      ]
     },
     "metadata": {},
     "output_type": "display_data"
    }
   ],
   "source": [
    "# Obtener los países únicos\n",
    "paises = df_Youtube['Country'].unique()\n",
    "\n",
    "# Calcular el número de seguidores promedio por país\n",
    "promedio_seguidores = df_Youtube.groupby('Country')['Subscribers'].mean()\n",
    "\n",
    "plt.figure(figsize=(10, 6))\n",
    "plt.bar(promedio_seguidores.index, promedio_seguidores.values, color='teal')\n",
    "plt.xticks(rotation=90)\n",
    "plt.xlabel('País')\n",
    "plt.ylabel('Número de subscriptores promedio')\n",
    "plt.title('Número de subscriptores promedio por país')\n",
    "plt.show()"
   ]
  },
  {
   "cell_type": "markdown",
   "metadata": {},
   "source": [
    "#### - Cree una serie con todas las categorías existentes en todos los archivos de YouTube"
   ]
  },
  {
   "cell_type": "code",
   "execution_count": 126,
   "metadata": {
    "tags": []
   },
   "outputs": [
    {
     "data": {
      "text/plain": [
       "['Animation',\n",
       " 'Education',\n",
       " 'Humor',\n",
       " 'Movies',\n",
       " 'Music & Dance',\n",
       " 'Autos & Vehicles',\n",
       " 'Video games',\n",
       " 'Toys',\n",
       " 'Fashion',\n",
       " 'Science & Technology',\n",
       " 'News & Politics',\n",
       " 'DIY & Life Hacks',\n",
       " 'Beauty',\n",
       " 'Fitness',\n",
       " 'Food & Drinks',\n",
       " 'Design/art',\n",
       " 'Sports',\n",
       " 'ASMR',\n",
       " 'Animals & Pets',\n",
       " 'Health & Self Help']"
      ]
     },
     "execution_count": 126,
     "metadata": {},
     "output_type": "execute_result"
    }
   ],
   "source": [
    "# Obtener las categorías únicas (todas)\n",
    "df_Youtube['Category'] = df_Youtube['Category1'].combine_first(df_Youtube['Category2'])\n",
    "TodasCat = (df_Youtube['Category'].unique()).tolist()\n",
    "TodasCat"
   ]
  },
  {
   "cell_type": "markdown",
   "metadata": {},
   "source": [
    "#### - Histograma del número de seguidores por categoría"
   ]
  },
  {
   "cell_type": "code",
   "execution_count": 127,
   "metadata": {
    "tags": []
   },
   "outputs": [
    {
     "data": {
      "image/png": "[encoded data removed]",
      "text/plain": [
       "<Figure size 1200x600 with 1 Axes>"
      ]
     },
     "metadata": {},
     "output_type": "display_data"
    }
   ],
   "source": [
    "# Agrupamos los datos por categoría y luego se obtiene el promedio de suscriptores\n",
    "seguidores_por_categoria = df_Youtube.groupby('Category')['Subscribers'].mean()\n",
    "plt.figure(figsize=(12, 6))\n",
    "plt.bar(seguidores_por_categoria.index, seguidores_por_categoria.values, color='hotpink')\n",
    "plt.xlabel('Categoría')\n",
    "plt.ylabel('Número de seguidores promedio')\n",
    "plt.title('Número de seguidores promedio por categoría')\n",
    "plt.xticks(rotation=90)  \n",
    "plt.show()"
   ]
  },
  {
   "cell_type": "markdown",
   "metadata": {},
   "source": [
    "## ¿Cuáles son las 5 cuentas más importantes de las 3 redes sociales?"
   ]
  },
  {
   "cell_type": "markdown",
   "metadata": {},
   "source": [
    "#### - Instagram\n",
    "Para el caso de Instagram y tomando en cuenta principalmente la métrica planteada por el equipo se puede observar que las 5 cuentas más importantes para esta red social son: \n",
    "1. Leo Messi\n",
    "2. jhope\n",
    "3. Kendall\n",
    "4. Jenna Ortega\n",
    "5. RM\n",
    "\n",
    "Esto debido a que como se mencionaba en ese punto, estas cuentas son las que tienen una mayor cantidad tanto de subscriptores o seguidores, como de interacciones entre los propietarios de estas cuentas y sus seguidores, lo que significa que de forma general, tienen un mayor nivel de importancia actualmente en la sociedad.\n",
    "\n",
    "\n",
    "#### - TikTok\n",
    "En TikTok las 5 cuantas más importantes de acuerdo con la métrica planteada fueron:\n",
    "1. khaby.lame\n",
    "2. charlidamelio\n",
    "3. bellapoarch\n",
    "4. addisonre\n",
    "5. willsmith\n",
    "Se tomo en cuenta los suscriptores, y se reviso el perfil en Tik Tok, para ver si era cierta la informacion, y con base en los likes y compartidas que es lo que mas sucede en Tik Tok se pudo determinar que esas fueron las cuentas más importantes.\n",
    "\n",
    "\n",
    "#### - Youtube \n",
    "Las 5 cuentas más importantes de acuerdo con la métrica planteada fueron:\n",
    "1. MrBeast6000\n",
    "2. Harsh Beniwal\n",
    "3. Bizarrap\n",
    "4. Bad Bunny \n",
    "5. MissaSinfonia \n",
    "\n",
    "Recordemos que la métrica evaluaba a las cuentas por su número de subscriptores y por el número de comentarios, las cuentas que tuvieran la mayor cantidad en ambos parámetros serían las cuentas más importantes de Youtube. Cabe mencionar que filtramos estos datos con el mes de diciembre para obtener los datos más recientes."
   ]
  }
 ],
 "metadata": {
  "kernelspec": {
   "display_name": "Python 3 (ipykernel)",
   "language": "python",
   "name": "python3"
  },
  "language_info": {
   "codemirror_mode": {
    "name": "ipython",
    "version": 3
   },
   "file_extension": ".py",
   "mimetype": "text/x-python",
   "name": "python",
   "nbconvert_exporter": "python",
   "pygments_lexer": "ipython3",
   "version": "3.10.6"
  }
 },
 "nbformat": 4,
 "nbformat_minor": 4
}
