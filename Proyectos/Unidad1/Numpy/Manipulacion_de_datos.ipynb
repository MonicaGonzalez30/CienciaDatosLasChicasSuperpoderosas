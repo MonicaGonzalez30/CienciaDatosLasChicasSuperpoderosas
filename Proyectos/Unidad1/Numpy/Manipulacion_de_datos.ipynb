{
 "cells": [
  {
   "cell_type": "markdown",
   "metadata": {},
   "source": [
    "# Proyecto 1: Manipulción de datos con Python"
   ]
  },
  {
   "cell_type": "markdown",
   "metadata": {},
   "source": [
    "## Método QuickSort"
   ]
  },
  {
   "cell_type": "code",
   "execution_count": 2,
   "metadata": {
    "tags": []
   },
   "outputs": [],
   "source": [
    "def quick_sort_pirata(arreglo):\n",
    "    izq = []\n",
    "    der = []\n",
    "    center = []\n",
    "    \n",
    "    if len(arreglo) == 0 or len(arreglo)==1:\n",
    "        return arreglo\n",
    "    \n",
    "    else:\n",
    "        \n",
    "        piv = arreglo[0]\n",
    "        \n",
    "        for e in arreglo:\n",
    "            if e<piv:\n",
    "                izq.append(e)\n",
    "            elif e==piv:\n",
    "                center.append(e)\n",
    "            elif e>piv:\n",
    "                der.append(e)\n",
    "        \n",
    "        return quick_sort_pirata(izq)+center+quick_sort_pirata(der)"
   ]
  },
  {
   "cell_type": "markdown",
   "metadata": {},
   "source": [
    "## Método MergeSort"
   ]
  },
  {
   "cell_type": "code",
   "execution_count": 3,
   "metadata": {
    "tags": []
   },
   "outputs": [],
   "source": [
    "def merge_sort_pirata(arreglo):\n",
    "    # Casos base\n",
    "    if len(arreglo) == 0 or len(arreglo) == 1:\n",
    "        return arreglo\n",
    "    \n",
    "    else:\n",
    "        mitad = len(arreglo) // 2\n",
    "        arr_izq = arreglo[:mitad]\n",
    "        arr_der = arreglo[mitad:]\n",
    "        \n",
    "        arr_izq = merge_sort_pirata(arr_izq)\n",
    "        arr_der = merge_sort_pirata(arr_der)\n",
    "        \n",
    "        a = 0\n",
    "        b = 0\n",
    "        c = 0\n",
    "        \n",
    "        while a < len(arr_izq) and b < len(arr_der):\n",
    "            if arr_izq[a] < arr_der[b]:\n",
    "                arreglo[c] = arr_izq[a]\n",
    "                a += 1\n",
    "            else:\n",
    "                arreglo[c] = arr_der[b]\n",
    "                b += 1\n",
    "            c += 1\n",
    "        \n",
    "        while a < len(arr_izq):\n",
    "            arreglo[c] = arr_izq[a]\n",
    "            a += 1\n",
    "            c += 1\n",
    "        \n",
    "        while b < len(arr_der):\n",
    "            arreglo[c] = arr_der[b]\n",
    "            b += 1\n",
    "            c += 1\n",
    "            \n",
    "        return arreglo"
   ]
  },
  {
   "cell_type": "markdown",
   "metadata": {},
   "source": [
    "### Lectura del CSV y creación del DataFrame"
   ]
  },
  {
   "cell_type": "code",
   "execution_count": 12,
   "metadata": {
    "tags": []
   },
   "outputs": [
    {
     "data": {
      "text/html": [
       "<div>\n",
       "<style scoped>\n",
       "    .dataframe tbody tr th:only-of-type {\n",
       "        vertical-align: middle;\n",
       "    }\n",
       "\n",
       "    .dataframe tbody tr th {\n",
       "        vertical-align: top;\n",
       "    }\n",
       "\n",
       "    .dataframe thead th {\n",
       "        text-align: right;\n",
       "    }\n",
       "</style>\n",
       "<table border=\"1\" class=\"dataframe\">\n",
       "  <thead>\n",
       "    <tr style=\"text-align: right;\">\n",
       "      <th></th>\n",
       "      <th>Unnamed: 0</th>\n",
       "      <th>Tiempo promedio (s)</th>\n",
       "      <th>Unnamed: 2</th>\n",
       "      <th>Unnamed: 3</th>\n",
       "    </tr>\n",
       "  </thead>\n",
       "  <tbody>\n",
       "    <tr>\n",
       "      <th>0</th>\n",
       "      <td>Tamaño del problema</td>\n",
       "      <td>MiMergeSort</td>\n",
       "      <td>MiQuickSort</td>\n",
       "      <td>NumpySort</td>\n",
       "    </tr>\n",
       "    <tr>\n",
       "      <th>1</th>\n",
       "      <td>10</td>\n",
       "      <td>NaN</td>\n",
       "      <td>NaN</td>\n",
       "      <td>NaN</td>\n",
       "    </tr>\n",
       "    <tr>\n",
       "      <th>2</th>\n",
       "      <td>100</td>\n",
       "      <td>NaN</td>\n",
       "      <td>NaN</td>\n",
       "      <td>NaN</td>\n",
       "    </tr>\n",
       "    <tr>\n",
       "      <th>3</th>\n",
       "      <td>1000</td>\n",
       "      <td>NaN</td>\n",
       "      <td>NaN</td>\n",
       "      <td>NaN</td>\n",
       "    </tr>\n",
       "    <tr>\n",
       "      <th>4</th>\n",
       "      <td>10000</td>\n",
       "      <td>NaN</td>\n",
       "      <td>NaN</td>\n",
       "      <td>NaN</td>\n",
       "    </tr>\n",
       "    <tr>\n",
       "      <th>5</th>\n",
       "      <td>100000</td>\n",
       "      <td>NaN</td>\n",
       "      <td>NaN</td>\n",
       "      <td>NaN</td>\n",
       "    </tr>\n",
       "    <tr>\n",
       "      <th>6</th>\n",
       "      <td>1000000</td>\n",
       "      <td>NaN</td>\n",
       "      <td>NaN</td>\n",
       "      <td>NaN</td>\n",
       "    </tr>\n",
       "    <tr>\n",
       "      <th>7</th>\n",
       "      <td>10000000</td>\n",
       "      <td>NaN</td>\n",
       "      <td>NaN</td>\n",
       "      <td>NaN</td>\n",
       "    </tr>\n",
       "    <tr>\n",
       "      <th>8</th>\n",
       "      <td>100000000</td>\n",
       "      <td>NaN</td>\n",
       "      <td>NaN</td>\n",
       "      <td>NaN</td>\n",
       "    </tr>\n",
       "  </tbody>\n",
       "</table>\n",
       "</div>"
      ],
      "text/plain": [
       "            Unnamed: 0 Tiempo promedio (s)   Unnamed: 2 Unnamed: 3\n",
       "0  Tamaño del problema         MiMergeSort  MiQuickSort  NumpySort\n",
       "1                   10                 NaN          NaN        NaN\n",
       "2                  100                 NaN          NaN        NaN\n",
       "3                 1000                 NaN          NaN        NaN\n",
       "4                10000                 NaN          NaN        NaN\n",
       "5               100000                 NaN          NaN        NaN\n",
       "6              1000000                 NaN          NaN        NaN\n",
       "7             10000000                 NaN          NaN        NaN\n",
       "8            100000000                 NaN          NaN        NaN"
      ]
     },
     "execution_count": 12,
     "metadata": {},
     "output_type": "execute_result"
    }
   ],
   "source": [
    "import matplotlib.pyplot as plt\n",
    "import pandas as pd\n",
    "\n",
    "arch = pd.read_csv('Tiempos.csv')\n",
    "arch"
   ]
  },
  {
   "cell_type": "code",
   "execution_count": 13,
   "metadata": {
    "tags": []
   },
   "outputs": [
    {
     "data": {
      "text/html": [
       "<div>\n",
       "<style scoped>\n",
       "    .dataframe tbody tr th:only-of-type {\n",
       "        vertical-align: middle;\n",
       "    }\n",
       "\n",
       "    .dataframe tbody tr th {\n",
       "        vertical-align: top;\n",
       "    }\n",
       "\n",
       "    .dataframe thead th {\n",
       "        text-align: right;\n",
       "    }\n",
       "</style>\n",
       "<table border=\"1\" class=\"dataframe\">\n",
       "  <thead>\n",
       "    <tr style=\"text-align: right;\">\n",
       "      <th></th>\n",
       "      <th>Unnamed: 0</th>\n",
       "      <th>Tiempo promedio (s)</th>\n",
       "      <th>Unnamed: 2</th>\n",
       "      <th>Unnamed: 3</th>\n",
       "    </tr>\n",
       "  </thead>\n",
       "  <tbody>\n",
       "    <tr>\n",
       "      <th>1</th>\n",
       "      <td>10</td>\n",
       "      <td>NaN</td>\n",
       "      <td>NaN</td>\n",
       "      <td>NaN</td>\n",
       "    </tr>\n",
       "    <tr>\n",
       "      <th>2</th>\n",
       "      <td>100</td>\n",
       "      <td>NaN</td>\n",
       "      <td>NaN</td>\n",
       "      <td>NaN</td>\n",
       "    </tr>\n",
       "    <tr>\n",
       "      <th>3</th>\n",
       "      <td>1000</td>\n",
       "      <td>NaN</td>\n",
       "      <td>NaN</td>\n",
       "      <td>NaN</td>\n",
       "    </tr>\n",
       "    <tr>\n",
       "      <th>4</th>\n",
       "      <td>10000</td>\n",
       "      <td>NaN</td>\n",
       "      <td>NaN</td>\n",
       "      <td>NaN</td>\n",
       "    </tr>\n",
       "    <tr>\n",
       "      <th>5</th>\n",
       "      <td>100000</td>\n",
       "      <td>NaN</td>\n",
       "      <td>NaN</td>\n",
       "      <td>NaN</td>\n",
       "    </tr>\n",
       "    <tr>\n",
       "      <th>6</th>\n",
       "      <td>1000000</td>\n",
       "      <td>NaN</td>\n",
       "      <td>NaN</td>\n",
       "      <td>NaN</td>\n",
       "    </tr>\n",
       "    <tr>\n",
       "      <th>7</th>\n",
       "      <td>10000000</td>\n",
       "      <td>NaN</td>\n",
       "      <td>NaN</td>\n",
       "      <td>NaN</td>\n",
       "    </tr>\n",
       "    <tr>\n",
       "      <th>8</th>\n",
       "      <td>100000000</td>\n",
       "      <td>NaN</td>\n",
       "      <td>NaN</td>\n",
       "      <td>NaN</td>\n",
       "    </tr>\n",
       "  </tbody>\n",
       "</table>\n",
       "</div>"
      ],
      "text/plain": [
       "  Unnamed: 0 Tiempo promedio (s) Unnamed: 2 Unnamed: 3\n",
       "1         10                 NaN        NaN        NaN\n",
       "2        100                 NaN        NaN        NaN\n",
       "3       1000                 NaN        NaN        NaN\n",
       "4      10000                 NaN        NaN        NaN\n",
       "5     100000                 NaN        NaN        NaN\n",
       "6    1000000                 NaN        NaN        NaN\n",
       "7   10000000                 NaN        NaN        NaN\n",
       "8  100000000                 NaN        NaN        NaN"
      ]
     },
     "execution_count": 13,
     "metadata": {},
     "output_type": "execute_result"
    }
   ],
   "source": [
    "#Eliminación de las columnas\n",
    "arch.drop(0, inplace=True)\n",
    "arch"
   ]
  },
  {
   "cell_type": "code",
   "execution_count": 14,
   "metadata": {
    "tags": []
   },
   "outputs": [
    {
     "data": {
      "text/html": [
       "<div>\n",
       "<style scoped>\n",
       "    .dataframe tbody tr th:only-of-type {\n",
       "        vertical-align: middle;\n",
       "    }\n",
       "\n",
       "    .dataframe tbody tr th {\n",
       "        vertical-align: top;\n",
       "    }\n",
       "\n",
       "    .dataframe thead th {\n",
       "        text-align: right;\n",
       "    }\n",
       "</style>\n",
       "<table border=\"1\" class=\"dataframe\">\n",
       "  <thead>\n",
       "    <tr style=\"text-align: right;\">\n",
       "      <th></th>\n",
       "      <th>Tamaño del Problema</th>\n",
       "      <th>MergeSort</th>\n",
       "      <th>QuickSort</th>\n",
       "      <th>NumpySort</th>\n",
       "    </tr>\n",
       "  </thead>\n",
       "  <tbody>\n",
       "    <tr>\n",
       "      <th>1</th>\n",
       "      <td>10</td>\n",
       "      <td>NaN</td>\n",
       "      <td>NaN</td>\n",
       "      <td>NaN</td>\n",
       "    </tr>\n",
       "    <tr>\n",
       "      <th>2</th>\n",
       "      <td>100</td>\n",
       "      <td>NaN</td>\n",
       "      <td>NaN</td>\n",
       "      <td>NaN</td>\n",
       "    </tr>\n",
       "    <tr>\n",
       "      <th>3</th>\n",
       "      <td>1000</td>\n",
       "      <td>NaN</td>\n",
       "      <td>NaN</td>\n",
       "      <td>NaN</td>\n",
       "    </tr>\n",
       "    <tr>\n",
       "      <th>4</th>\n",
       "      <td>10000</td>\n",
       "      <td>NaN</td>\n",
       "      <td>NaN</td>\n",
       "      <td>NaN</td>\n",
       "    </tr>\n",
       "    <tr>\n",
       "      <th>5</th>\n",
       "      <td>100000</td>\n",
       "      <td>NaN</td>\n",
       "      <td>NaN</td>\n",
       "      <td>NaN</td>\n",
       "    </tr>\n",
       "    <tr>\n",
       "      <th>6</th>\n",
       "      <td>1000000</td>\n",
       "      <td>NaN</td>\n",
       "      <td>NaN</td>\n",
       "      <td>NaN</td>\n",
       "    </tr>\n",
       "    <tr>\n",
       "      <th>7</th>\n",
       "      <td>10000000</td>\n",
       "      <td>NaN</td>\n",
       "      <td>NaN</td>\n",
       "      <td>NaN</td>\n",
       "    </tr>\n",
       "    <tr>\n",
       "      <th>8</th>\n",
       "      <td>100000000</td>\n",
       "      <td>NaN</td>\n",
       "      <td>NaN</td>\n",
       "      <td>NaN</td>\n",
       "    </tr>\n",
       "  </tbody>\n",
       "</table>\n",
       "</div>"
      ],
      "text/plain": [
       "  Tamaño del Problema MergeSort QuickSort NumpySort\n",
       "1                  10       NaN       NaN       NaN\n",
       "2                 100       NaN       NaN       NaN\n",
       "3                1000       NaN       NaN       NaN\n",
       "4               10000       NaN       NaN       NaN\n",
       "5              100000       NaN       NaN       NaN\n",
       "6             1000000       NaN       NaN       NaN\n",
       "7            10000000       NaN       NaN       NaN\n",
       "8           100000000       NaN       NaN       NaN"
      ]
     },
     "execution_count": 14,
     "metadata": {},
     "output_type": "execute_result"
    }
   ],
   "source": [
    "#Renombrar las columnas\n",
    "arch = arch.rename(columns={'Unnamed: 0': 'Tamaño del Problema'})\n",
    "arch = arch.rename(columns={'Tiempo promedio (s)': 'MergeSort'})\n",
    "arch = arch.rename(columns={'Unnamed: 2': 'QuickSort'})\n",
    "arch = arch.rename(columns={'Unnamed: 3': 'NumpySort'})\n",
    "\n",
    "arch"
   ]
  },
  {
   "cell_type": "markdown",
   "metadata": {},
   "source": [
    "### Ejecución del cálculo de tiempos y llenado del DataFrame con MergeSort"
   ]
  },
  {
   "cell_type": "code",
   "execution_count": 2,
   "metadata": {
    "tags": []
   },
   "outputs": [
    {
     "data": {
      "text/plain": [
       "'\\ntiempo1 = 2.5096795000001748e-05\\ntiempo2 =  0.00040968890199999917\\ntiempo3 = 0.0053817663600000286\\ntiempo4 =  0.06938844230000143\\ntiempo5 = 0.8578789370000095\\ntiempo6 =  11.665475320999803\\ntiempo7 =\\n\\n'"
      ]
     },
     "execution_count": 2,
     "metadata": {},
     "output_type": "execute_result"
    }
   ],
   "source": [
    "import numpy as np\n",
    "\n",
    "#Código para obtener los tiempos al hacer las pruebas con los arreglos y guardarlos en el DataFrame\n",
    "'''\n",
    "arreglo1 = np.random.random(10)\n",
    "arreglo2 = np.random.random(100)\n",
    "arreglo3 = np.random.random(1000)\n",
    "arreglo4 = np.random.random(10000)\n",
    "arreglo5 = np.random.random(100000)\n",
    "arreglo6 = np.random.random(1000000)\n",
    "arreglo7 = np.random.random(10000000)\n",
    "arreglo8 = np.random.random(100000000)\n",
    "\n",
    "tiempo_ejecucion1 = %timeit -o merge_sort_pirata(arreglo1)\n",
    "tiempo_ejecucion2 = %timeit -o merge_sort_pirata(arreglo2)\n",
    "tiempo_ejecucion3 = %timeit -o merge_sort_pirata(arreglo3)\n",
    "tiempo_ejecucion4 = %timeit -o merge_sort_pirata(arreglo4)\n",
    "tiempo_ejecucion5 = %timeit -o merge_sort_pirata(arreglo5)\n",
    "tiempo_ejecucion6 = %timeit -o merge_sort_pirata(arreglo6)\n",
    "tiempo_ejecucion7 = %timeit -o merge_sort_pirata(arreglo7)\n",
    "tiempo_ejecucion8 = %timeit -o merge_sort_pirata(arreglo8)\n",
    "\n",
    "arch.loc[1, 'MergeSort'] = tiempo_ejecucion1.best\n",
    "arch.loc[2, 'MergeSort'] = tiempo_ejecucion2.best\n",
    "arch.loc[3, 'MergeSort'] = tiempo_ejecucion3.best\n",
    "arch.loc[4, 'MergeSort'] = tiempo_ejecucion4.best\n",
    "arch.loc[5, 'MergeSort'] = tiempo_ejecucion5.best\n",
    "arch.loc[6, 'MergeSort'] = tiempo_ejecucion6.best\n",
    "arch.loc[7, 'MergeSort'] = tiempo_ejecucion7.best\n",
    "arch.loc[8, 'MergeSort'] = tiempo_ejecucion8.best\n",
    "'''"
   ]
  },
  {
   "cell_type": "code",
   "execution_count": 15,
   "metadata": {
    "tags": []
   },
   "outputs": [],
   "source": [
    "#Guardado de los tiempos del MergeSort, obtenidos con la mejor computadora de los 3 \n",
    "arch.loc[1:6, 'MergeSort'] = [2.5096795000001748e-05, 0.00040968890199999917\n",
    "                               ,0.0053817663600000286, 0.06938844230000143,\n",
    "                               0.8578789370000095, 11.665475320999803 ]"
   ]
  },
  {
   "cell_type": "code",
   "execution_count": 16,
   "metadata": {
    "tags": []
   },
   "outputs": [
    {
     "data": {
      "text/html": [
       "<div>\n",
       "<style scoped>\n",
       "    .dataframe tbody tr th:only-of-type {\n",
       "        vertical-align: middle;\n",
       "    }\n",
       "\n",
       "    .dataframe tbody tr th {\n",
       "        vertical-align: top;\n",
       "    }\n",
       "\n",
       "    .dataframe thead th {\n",
       "        text-align: right;\n",
       "    }\n",
       "</style>\n",
       "<table border=\"1\" class=\"dataframe\">\n",
       "  <thead>\n",
       "    <tr style=\"text-align: right;\">\n",
       "      <th></th>\n",
       "      <th>Tamaño del Problema</th>\n",
       "      <th>MergeSort</th>\n",
       "      <th>QuickSort</th>\n",
       "      <th>NumpySort</th>\n",
       "    </tr>\n",
       "  </thead>\n",
       "  <tbody>\n",
       "    <tr>\n",
       "      <th>1</th>\n",
       "      <td>10</td>\n",
       "      <td>0.000025</td>\n",
       "      <td>NaN</td>\n",
       "      <td>NaN</td>\n",
       "    </tr>\n",
       "    <tr>\n",
       "      <th>2</th>\n",
       "      <td>100</td>\n",
       "      <td>0.00041</td>\n",
       "      <td>NaN</td>\n",
       "      <td>NaN</td>\n",
       "    </tr>\n",
       "    <tr>\n",
       "      <th>3</th>\n",
       "      <td>1000</td>\n",
       "      <td>0.005382</td>\n",
       "      <td>NaN</td>\n",
       "      <td>NaN</td>\n",
       "    </tr>\n",
       "    <tr>\n",
       "      <th>4</th>\n",
       "      <td>10000</td>\n",
       "      <td>0.069388</td>\n",
       "      <td>NaN</td>\n",
       "      <td>NaN</td>\n",
       "    </tr>\n",
       "    <tr>\n",
       "      <th>5</th>\n",
       "      <td>100000</td>\n",
       "      <td>0.857879</td>\n",
       "      <td>NaN</td>\n",
       "      <td>NaN</td>\n",
       "    </tr>\n",
       "    <tr>\n",
       "      <th>6</th>\n",
       "      <td>1000000</td>\n",
       "      <td>11.665475</td>\n",
       "      <td>NaN</td>\n",
       "      <td>NaN</td>\n",
       "    </tr>\n",
       "    <tr>\n",
       "      <th>7</th>\n",
       "      <td>10000000</td>\n",
       "      <td>NaN</td>\n",
       "      <td>NaN</td>\n",
       "      <td>NaN</td>\n",
       "    </tr>\n",
       "    <tr>\n",
       "      <th>8</th>\n",
       "      <td>100000000</td>\n",
       "      <td>NaN</td>\n",
       "      <td>NaN</td>\n",
       "      <td>NaN</td>\n",
       "    </tr>\n",
       "  </tbody>\n",
       "</table>\n",
       "</div>"
      ],
      "text/plain": [
       "  Tamaño del Problema  MergeSort QuickSort NumpySort\n",
       "1                  10   0.000025       NaN       NaN\n",
       "2                 100    0.00041       NaN       NaN\n",
       "3                1000   0.005382       NaN       NaN\n",
       "4               10000   0.069388       NaN       NaN\n",
       "5              100000   0.857879       NaN       NaN\n",
       "6             1000000  11.665475       NaN       NaN\n",
       "7            10000000        NaN       NaN       NaN\n",
       "8           100000000        NaN       NaN       NaN"
      ]
     },
     "execution_count": 16,
     "metadata": {},
     "output_type": "execute_result"
    }
   ],
   "source": [
    "arch"
   ]
  },
  {
   "cell_type": "code",
   "execution_count": 17,
   "metadata": {
    "tags": []
   },
   "outputs": [],
   "source": [
    "arch.loc[7, 'MergeSort']=137.02669420699976"
   ]
  },
  {
   "cell_type": "code",
   "execution_count": 18,
   "metadata": {
    "tags": []
   },
   "outputs": [
    {
     "data": {
      "text/html": [
       "<div>\n",
       "<style scoped>\n",
       "    .dataframe tbody tr th:only-of-type {\n",
       "        vertical-align: middle;\n",
       "    }\n",
       "\n",
       "    .dataframe tbody tr th {\n",
       "        vertical-align: top;\n",
       "    }\n",
       "\n",
       "    .dataframe thead th {\n",
       "        text-align: right;\n",
       "    }\n",
       "</style>\n",
       "<table border=\"1\" class=\"dataframe\">\n",
       "  <thead>\n",
       "    <tr style=\"text-align: right;\">\n",
       "      <th></th>\n",
       "      <th>Tamaño del Problema</th>\n",
       "      <th>MergeSort</th>\n",
       "      <th>QuickSort</th>\n",
       "      <th>NumpySort</th>\n",
       "    </tr>\n",
       "  </thead>\n",
       "  <tbody>\n",
       "    <tr>\n",
       "      <th>1</th>\n",
       "      <td>10</td>\n",
       "      <td>0.000025</td>\n",
       "      <td>NaN</td>\n",
       "      <td>NaN</td>\n",
       "    </tr>\n",
       "    <tr>\n",
       "      <th>2</th>\n",
       "      <td>100</td>\n",
       "      <td>0.00041</td>\n",
       "      <td>NaN</td>\n",
       "      <td>NaN</td>\n",
       "    </tr>\n",
       "    <tr>\n",
       "      <th>3</th>\n",
       "      <td>1000</td>\n",
       "      <td>0.005382</td>\n",
       "      <td>NaN</td>\n",
       "      <td>NaN</td>\n",
       "    </tr>\n",
       "    <tr>\n",
       "      <th>4</th>\n",
       "      <td>10000</td>\n",
       "      <td>0.069388</td>\n",
       "      <td>NaN</td>\n",
       "      <td>NaN</td>\n",
       "    </tr>\n",
       "    <tr>\n",
       "      <th>5</th>\n",
       "      <td>100000</td>\n",
       "      <td>0.857879</td>\n",
       "      <td>NaN</td>\n",
       "      <td>NaN</td>\n",
       "    </tr>\n",
       "    <tr>\n",
       "      <th>6</th>\n",
       "      <td>1000000</td>\n",
       "      <td>11.665475</td>\n",
       "      <td>NaN</td>\n",
       "      <td>NaN</td>\n",
       "    </tr>\n",
       "    <tr>\n",
       "      <th>7</th>\n",
       "      <td>10000000</td>\n",
       "      <td>137.026694</td>\n",
       "      <td>NaN</td>\n",
       "      <td>NaN</td>\n",
       "    </tr>\n",
       "    <tr>\n",
       "      <th>8</th>\n",
       "      <td>100000000</td>\n",
       "      <td>NaN</td>\n",
       "      <td>NaN</td>\n",
       "      <td>NaN</td>\n",
       "    </tr>\n",
       "  </tbody>\n",
       "</table>\n",
       "</div>"
      ],
      "text/plain": [
       "  Tamaño del Problema   MergeSort QuickSort NumpySort\n",
       "1                  10    0.000025       NaN       NaN\n",
       "2                 100     0.00041       NaN       NaN\n",
       "3                1000    0.005382       NaN       NaN\n",
       "4               10000    0.069388       NaN       NaN\n",
       "5              100000    0.857879       NaN       NaN\n",
       "6             1000000   11.665475       NaN       NaN\n",
       "7            10000000  137.026694       NaN       NaN\n",
       "8           100000000         NaN       NaN       NaN"
      ]
     },
     "execution_count": 18,
     "metadata": {},
     "output_type": "execute_result"
    }
   ],
   "source": [
    "arch"
   ]
  },
  {
   "cell_type": "markdown",
   "metadata": {},
   "source": [
    "### Gráfica de los tiempos de ejecución del algoritmo MergeSort"
   ]
  },
  {
   "cell_type": "code",
   "execution_count": 19,
   "metadata": {
    "tags": []
   },
   "outputs": [
    {
     "data": {
      "image/png": "[encoded data removed]",
      "text/plain": [
       "<Figure size 640x480 with 1 Axes>"
      ]
     },
     "metadata": {},
     "output_type": "display_data"
    }
   ],
   "source": [
    "import matplotlib.pyplot as plt\n",
    "\n",
    "x = arch['MergeSort'] # Tiempos de ejecución del algoritmo MergeSort\n",
    "y = arch['Tamaño del Problema'] # Tamaños del problema\n",
    "\n",
    "plt.plot(y, x) # Graficar los tiempos en función del tamaño del problema\n",
    "plt.title(\"Tiempo del MergeSort\") # Establecer el título del gráfico\n",
    "plt.xlabel(\"Tamaño del Problema\") # Etiqueta del eje x\n",
    "plt.ylabel(\"Tiempo (segundos)\") # Etiqueta del eje y\n",
    "plt.show() # Mostrar el gráfico"
   ]
  },
  {
   "cell_type": "markdown",
   "metadata": {},
   "source": [
    "### Ejecución del cálculo de tiempos y llenado del DataFrame con QuickSort"
   ]
  },
  {
   "cell_type": "code",
   "execution_count": 20,
   "metadata": {
    "tags": []
   },
   "outputs": [
    {
     "name": "stdout",
     "output_type": "stream",
     "text": [
      "43.6 µs ± 1.58 µs per loop (mean ± std. dev. of 7 runs, 10,000 loops each)\n",
      "470 µs ± 7 µs per loop (mean ± std. dev. of 7 runs, 1,000 loops each)\n",
      "7.33 ms ± 170 µs per loop (mean ± std. dev. of 7 runs, 100 loops each)\n",
      "91.8 ms ± 2.15 ms per loop (mean ± std. dev. of 7 runs, 10 loops each)\n",
      "1.55 s ± 454 ms per loop (mean ± std. dev. of 7 runs, 1 loop each)\n",
      "17.7 s ± 1.16 s per loop (mean ± std. dev. of 7 runs, 1 loop each)\n"
     ]
    }
   ],
   "source": [
    "#Código para obtener los tiempos al hacer las pruebas con los arreglos y guardarlos en el DataFrame\n",
    "\"\"\"\n",
    "arreglo1 = np.random.random(10)\n",
    "arreglo2 = np.random.random(100)\n",
    "arreglo3 = np.random.random(1000)\n",
    "arreglo4 = np.random.random(10000)\n",
    "arreglo5 = np.random.random(100000)\n",
    "arreglo6 = np.random.random(1000000)\n",
    "\n",
    "tiempo_ejecucion1 = %timeit -o quick_sort_pirata(arreglo1)\n",
    "tiempo_ejecucion2 = %timeit -o quick_sort_pirata(arreglo2)\n",
    "tiempo_ejecucion3 = %timeit -o quick_sort_pirata(arreglo3)\n",
    "tiempo_ejecucion4 = %timeit -o quick_sort_pirata(arreglo4)\n",
    "tiempo_ejecucion5 = %timeit -o quick_sort_pirata(arreglo5)\n",
    "tiempo_ejecucion6 = %timeit -o quick_sort_pirata(arreglo6)\n",
    "\n",
    "arch.loc[1, 'QuickSort'] = tiempo_ejecucion1.best\n",
    "arch.loc[2, 'QuickSort'] = tiempo_ejecucion2.best\n",
    "arch.loc[3, 'QuickSort'] = tiempo_ejecucion3.best\n",
    "arch.loc[4, 'QuickSort'] = tiempo_ejecucion4.best\n",
    "arch.loc[5, 'QuickSort'] = tiempo_ejecucion5.best\n",
    "arch.loc[6, 'QuickSort'] = tiempo_ejecucion6.best\n",
    "\"\"\"\""
   ]
  },
  {
   "cell_type": "code",
   "execution_count": 21,
   "metadata": {
    "tags": []
   },
   "outputs": [
    {
     "name": "stdout",
     "output_type": "stream",
     "text": [
      "4min 10s ± 14.1 s per loop (mean ± std. dev. of 7 runs, 1 loop each)\n"
     ]
    }
   ],
   "source": [
    "#Código para obtener el tiempo al hacer la prueba con el arreglo y guardarlo en el DataFrame\n",
    "\"\"\"\n",
    "arreglo7 = np.random.random(10000000)\n",
    "tiempo_ejecucion7 = %timeit -o quick_sort_pirata(arreglo7)\n",
    "arch.loc[7, 'QuickSort'] = tiempo_ejecucion7.best\n",
    "\"\"\""
   ]
  },
  {
   "cell_type": "code",
   "execution_count": 30,
   "metadata": {
    "tags": []
   },
   "outputs": [],
   "source": [
    "#Guardado de los tiempos del QuickSort, obtenidos con la mejor computadora de los 3 \n",
    "arch.loc[1:7, 'QuickSort'] = [0.000006, 0.000084, 0.001303, 0.01863, 0.245118, 4.033845, 54.86684]"
   ]
  },
  {
   "cell_type": "code",
   "execution_count": 31,
   "metadata": {
    "tags": []
   },
   "outputs": [
    {
     "data": {
      "text/html": [
       "<div>\n",
       "<style scoped>\n",
       "    .dataframe tbody tr th:only-of-type {\n",
       "        vertical-align: middle;\n",
       "    }\n",
       "\n",
       "    .dataframe tbody tr th {\n",
       "        vertical-align: top;\n",
       "    }\n",
       "\n",
       "    .dataframe thead th {\n",
       "        text-align: right;\n",
       "    }\n",
       "</style>\n",
       "<table border=\"1\" class=\"dataframe\">\n",
       "  <thead>\n",
       "    <tr style=\"text-align: right;\">\n",
       "      <th></th>\n",
       "      <th>Tamaño del Problema</th>\n",
       "      <th>MergeSort</th>\n",
       "      <th>QuickSort</th>\n",
       "      <th>NumpySort</th>\n",
       "    </tr>\n",
       "  </thead>\n",
       "  <tbody>\n",
       "    <tr>\n",
       "      <th>1</th>\n",
       "      <td>10</td>\n",
       "      <td>0.000025</td>\n",
       "      <td>0.000006</td>\n",
       "      <td>0.000014</td>\n",
       "    </tr>\n",
       "    <tr>\n",
       "      <th>2</th>\n",
       "      <td>100</td>\n",
       "      <td>0.00041</td>\n",
       "      <td>0.000084</td>\n",
       "      <td>0.000019</td>\n",
       "    </tr>\n",
       "    <tr>\n",
       "      <th>3</th>\n",
       "      <td>1000</td>\n",
       "      <td>0.005382</td>\n",
       "      <td>0.001303</td>\n",
       "      <td>0.000069</td>\n",
       "    </tr>\n",
       "    <tr>\n",
       "      <th>4</th>\n",
       "      <td>10000</td>\n",
       "      <td>0.069388</td>\n",
       "      <td>0.01863</td>\n",
       "      <td>0.000754</td>\n",
       "    </tr>\n",
       "    <tr>\n",
       "      <th>5</th>\n",
       "      <td>100000</td>\n",
       "      <td>0.857879</td>\n",
       "      <td>0.245118</td>\n",
       "      <td>0.009741</td>\n",
       "    </tr>\n",
       "    <tr>\n",
       "      <th>6</th>\n",
       "      <td>1000000</td>\n",
       "      <td>11.665475</td>\n",
       "      <td>4.033845</td>\n",
       "      <td>0.1164</td>\n",
       "    </tr>\n",
       "    <tr>\n",
       "      <th>7</th>\n",
       "      <td>10000000</td>\n",
       "      <td>137.026694</td>\n",
       "      <td>54.86684</td>\n",
       "      <td>1.385857</td>\n",
       "    </tr>\n",
       "    <tr>\n",
       "      <th>8</th>\n",
       "      <td>100000000</td>\n",
       "      <td>NaN</td>\n",
       "      <td>NaN</td>\n",
       "      <td>16.13949</td>\n",
       "    </tr>\n",
       "  </tbody>\n",
       "</table>\n",
       "</div>"
      ],
      "text/plain": [
       "  Tamaño del Problema   MergeSort QuickSort NumpySort\n",
       "1                  10    0.000025  0.000006  0.000014\n",
       "2                 100     0.00041  0.000084  0.000019\n",
       "3                1000    0.005382  0.001303  0.000069\n",
       "4               10000    0.069388   0.01863  0.000754\n",
       "5              100000    0.857879  0.245118  0.009741\n",
       "6             1000000   11.665475  4.033845    0.1164\n",
       "7            10000000  137.026694  54.86684  1.385857\n",
       "8           100000000         NaN       NaN  16.13949"
      ]
     },
     "execution_count": 31,
     "metadata": {},
     "output_type": "execute_result"
    }
   ],
   "source": [
    "arch"
   ]
  },
  {
   "cell_type": "markdown",
   "metadata": {},
   "source": [
    "### Gráfica de los tiempos de ejecución del algoritmo QuickSort"
   ]
  },
  {
   "cell_type": "code",
   "execution_count": 32,
   "metadata": {
    "tags": []
   },
   "outputs": [
    {
     "data": {
      "image/png": "[encoded data removed]",
      "text/plain": [
       "<Figure size 640x480 with 1 Axes>"
      ]
     },
     "metadata": {},
     "output_type": "display_data"
    }
   ],
   "source": [
    "x = arch['QuickSort'] # Tiempos de ejecución del algoritmo QuickSort\n",
    "y = arch['Tamaño del Problema'] # Tamaños del problema\n",
    "\n",
    "plt.plot(y, x) # Graficar los tiempos en función del tamaño del problema\n",
    "plt.title(\"Tiempo del QuickSort\") # Establecer el título del gráfico\n",
    "plt.xlabel(\"Tamaño del Problema\") # Etiqueta del eje x\n",
    "plt.ylabel(\"Tiempo (segundos)\") # Etiqueta del eje y\n",
    "plt.show() # Mostrar el gráfico"
   ]
  },
  {
   "cell_type": "markdown",
   "metadata": {},
   "source": [
    "## Método NumpySort"
   ]
  },
  {
   "cell_type": "markdown",
   "metadata": {},
   "source": [
    "### Ejecución del cálculo de tiempos y llenado del DataFrame con NumpySort"
   ]
  },
  {
   "cell_type": "code",
   "execution_count": 24,
   "metadata": {
    "tags": []
   },
   "outputs": [
    {
     "name": "stdout",
     "output_type": "stream",
     "text": [
      "16.3 µs ± 1.19 µs per loop (mean ± std. dev. of 7 runs, 10,000 loops each)\n",
      "21.4 µs ± 1.81 µs per loop (mean ± std. dev. of 7 runs, 10,000 loops each)\n",
      "72.3 µs ± 4.02 µs per loop (mean ± std. dev. of 7 runs, 10,000 loops each)\n",
      "795 µs ± 60.9 µs per loop (mean ± std. dev. of 7 runs, 1,000 loops each)\n",
      "9.96 ms ± 394 µs per loop (mean ± std. dev. of 7 runs, 100 loops each)\n",
      "118 ms ± 1.35 ms per loop (mean ± std. dev. of 7 runs, 10 loops each)\n"
     ]
    }
   ],
   "source": [
    "#Código para obtener los tiempos al hacer las pruebas con los arreglos y guardarlos en el DataFrame\n",
    "\"\"\"\n",
    "arreglo1 = np.random.random(10)\n",
    "arreglo2 = np.random.random(100)\n",
    "arreglo3 = np.random.random(1000)\n",
    "arreglo4 = np.random.random(10000)\n",
    "arreglo5 = np.random.random(100000)\n",
    "arreglo6 = np.random.random(1000000)\n",
    "\n",
    "tiempo_ejecucion1 = %timeit -o np.sort(arreglo1)\n",
    "tiempo_ejecucion2 = %timeit -o np.sort(arreglo2)\n",
    "tiempo_ejecucion3 = %timeit -o np.sort(arreglo3)\n",
    "tiempo_ejecucion4 = %timeit -o np.sort(arreglo4)\n",
    "tiempo_ejecucion5 = %timeit -o np.sort(arreglo5)\n",
    "tiempo_ejecucion6 = %timeit -o np.sort(arreglo6)\n",
    "\n",
    "arch.loc[1, 'NumpySort'] = tiempo_ejecucion1.best\n",
    "arch.loc[2, 'NumpySort'] = tiempo_ejecucion2.best\n",
    "arch.loc[3, 'NumpySort'] = tiempo_ejecucion3.best\n",
    "arch.loc[4, 'NumpySort'] = tiempo_ejecucion4.best\n",
    "arch.loc[5, 'NumpySort'] = tiempo_ejecucion5.best\n",
    "arch.loc[6, 'NumpySort'] = tiempo_ejecucion6.best\n",
    "\"\"\""
   ]
  },
  {
   "cell_type": "code",
   "execution_count": 26,
   "metadata": {
    "tags": []
   },
   "outputs": [
    {
     "name": "stdout",
     "output_type": "stream",
     "text": [
      "1.55 s ± 109 ms per loop (mean ± std. dev. of 7 runs, 1 loop each)\n"
     ]
    }
   ],
   "source": [
    "#Código para obtener el tiempo al hacer la prueba con el arreglo y guardarlo en el DataFrame\n",
    "\"\"\"\n",
    "arreglo7 = np.random.random(10000000)\n",
    "tiempo_ejecucion7 = %timeit -o np.sort(arreglo7)\n",
    "arch.loc[7, 'NumpySort'] = tiempo_ejecucion7.best\n",
    "\"\"\""
   ]
  },
  {
   "cell_type": "code",
   "execution_count": 27,
   "metadata": {
    "tags": []
   },
   "outputs": [
    {
     "name": "stdout",
     "output_type": "stream",
     "text": [
      "16.4 s ± 262 ms per loop (mean ± std. dev. of 7 runs, 1 loop each)\n"
     ]
    }
   ],
   "source": [
    "#Código para obtener el tiempo al hacer la prueba con el arreglo y guardarlo en el DataFrame\n",
    "\"\"\"\n",
    "arreglo8 = np.random.random(100000000)\n",
    "tiempo_ejecucion8 = %timeit -o np.sort(arreglo8)\n",
    "arch.loc[8, 'NumpySort'] = tiempo_ejecucion8.best\n",
    "\"\"\""
   ]
  },
  {
   "cell_type": "code",
   "execution_count": 33,
   "metadata": {
    "tags": []
   },
   "outputs": [],
   "source": [
    "#Guardado de los tiempos del NumpySort, obtenidos con la mejor computadora de los 3 \n",
    "arch.loc[1:8, 'NumpySort'] = [0.000001, 0.000002, 0.000013, 0.000463, 0.006239, 0.073725, 0.86838, 10.059855]"
   ]
  },
  {
   "cell_type": "code",
   "execution_count": 34,
   "metadata": {
    "tags": []
   },
   "outputs": [
    {
     "data": {
      "text/html": [
       "<div>\n",
       "<style scoped>\n",
       "    .dataframe tbody tr th:only-of-type {\n",
       "        vertical-align: middle;\n",
       "    }\n",
       "\n",
       "    .dataframe tbody tr th {\n",
       "        vertical-align: top;\n",
       "    }\n",
       "\n",
       "    .dataframe thead th {\n",
       "        text-align: right;\n",
       "    }\n",
       "</style>\n",
       "<table border=\"1\" class=\"dataframe\">\n",
       "  <thead>\n",
       "    <tr style=\"text-align: right;\">\n",
       "      <th></th>\n",
       "      <th>Tamaño del Problema</th>\n",
       "      <th>MergeSort</th>\n",
       "      <th>QuickSort</th>\n",
       "      <th>NumpySort</th>\n",
       "    </tr>\n",
       "  </thead>\n",
       "  <tbody>\n",
       "    <tr>\n",
       "      <th>1</th>\n",
       "      <td>10</td>\n",
       "      <td>0.000025</td>\n",
       "      <td>0.000006</td>\n",
       "      <td>0.000001</td>\n",
       "    </tr>\n",
       "    <tr>\n",
       "      <th>2</th>\n",
       "      <td>100</td>\n",
       "      <td>0.00041</td>\n",
       "      <td>0.000084</td>\n",
       "      <td>0.000002</td>\n",
       "    </tr>\n",
       "    <tr>\n",
       "      <th>3</th>\n",
       "      <td>1000</td>\n",
       "      <td>0.005382</td>\n",
       "      <td>0.001303</td>\n",
       "      <td>0.000013</td>\n",
       "    </tr>\n",
       "    <tr>\n",
       "      <th>4</th>\n",
       "      <td>10000</td>\n",
       "      <td>0.069388</td>\n",
       "      <td>0.01863</td>\n",
       "      <td>0.000463</td>\n",
       "    </tr>\n",
       "    <tr>\n",
       "      <th>5</th>\n",
       "      <td>100000</td>\n",
       "      <td>0.857879</td>\n",
       "      <td>0.245118</td>\n",
       "      <td>0.006239</td>\n",
       "    </tr>\n",
       "    <tr>\n",
       "      <th>6</th>\n",
       "      <td>1000000</td>\n",
       "      <td>11.665475</td>\n",
       "      <td>4.033845</td>\n",
       "      <td>0.073725</td>\n",
       "    </tr>\n",
       "    <tr>\n",
       "      <th>7</th>\n",
       "      <td>10000000</td>\n",
       "      <td>137.026694</td>\n",
       "      <td>54.86684</td>\n",
       "      <td>0.86838</td>\n",
       "    </tr>\n",
       "    <tr>\n",
       "      <th>8</th>\n",
       "      <td>100000000</td>\n",
       "      <td>NaN</td>\n",
       "      <td>NaN</td>\n",
       "      <td>10.059855</td>\n",
       "    </tr>\n",
       "  </tbody>\n",
       "</table>\n",
       "</div>"
      ],
      "text/plain": [
       "  Tamaño del Problema   MergeSort QuickSort  NumpySort\n",
       "1                  10    0.000025  0.000006   0.000001\n",
       "2                 100     0.00041  0.000084   0.000002\n",
       "3                1000    0.005382  0.001303   0.000013\n",
       "4               10000    0.069388   0.01863   0.000463\n",
       "5              100000    0.857879  0.245118   0.006239\n",
       "6             1000000   11.665475  4.033845   0.073725\n",
       "7            10000000  137.026694  54.86684    0.86838\n",
       "8           100000000         NaN       NaN  10.059855"
      ]
     },
     "execution_count": 34,
     "metadata": {},
     "output_type": "execute_result"
    }
   ],
   "source": [
    "arch"
   ]
  },
  {
   "cell_type": "markdown",
   "metadata": {},
   "source": [
    "### Gráfica de los tiempos de ejecución del algoritmo NumpySort"
   ]
  },
  {
   "cell_type": "code",
   "execution_count": 35,
   "metadata": {
    "tags": []
   },
   "outputs": [
    {
     "data": {
      "image/png": "[encoded data removed]",
      "text/plain": [
       "<Figure size 640x480 with 1 Axes>"
      ]
     },
     "metadata": {},
     "output_type": "display_data"
    }
   ],
   "source": [
    "x = arch['NumpySort'] # Tiempos de ejecución del algoritmo NumpySort\n",
    "y = arch['Tamaño del Problema'] # Tamaños del problema\n",
    "\n",
    "plt.plot(y, x) # Graficar los tiempos en función del tamaño del problema\n",
    "plt.title(\"Tiempo del NumpySort\") # Establecer el título del gráfico\n",
    "plt.xlabel(\"Tamaño del Problema\") # Etiqueta del eje x\n",
    "plt.ylabel(\"Tiempo (segundos)\") # Etiqueta del eje y\n",
    "plt.show() # Mostrar el gráfico"
   ]
  },
  {
   "cell_type": "markdown",
   "metadata": {},
   "source": [
    "## Conclusiones"
   ]
  },
  {
   "cell_type": "markdown",
   "metadata": {},
   "source": [
    "### Método MergeSort:\n",
    "\n",
    "Sobre"
   ]
  },
  {
   "cell_type": "markdown",
   "metadata": {},
   "source": [
    "### Método QuickSort\n",
    "\n",
    "De acuerdo con la gráfica"
   ]
  },
  {
   "cell_type": "markdown",
   "metadata": {},
   "source": [
    "### Método NumpySort\n",
    "\n",
    "De acuerdo con lo que muestra la gráfica podemos observar que este método es mucho más rápido que los dos anteriores, esto debido a que tomando en cuenta el arreglo de tamaño 10000000, que es el máximo que pudieron ejecutar los métodos de MergeSort y QuickSort, la diferencia de tiempos es enorme: mientras que MergeSort se tardó 137.026694 segundos y QuickSort 54.86684 segundos, el método de Numpy solamente se tardó 0.86838 segundos.\n",
    "Además, con nuestros equipos que tenian 8 GB de RAM, los dos métodos anteriores no pudieron terminar de ejecutarse con el último y más grande arreglo, el cual era de tamaño 100000000, pero con el de NumpySort este arreglo si logró ejecutarse y en un tiempo de tan solo 10.059855 segundos.\n",
    "\n",
    "Por lo tanto, podemos concluir que el método de NumpySort es el mejor entre los tres métodos analizados."
   ]
  }
 ],
 "metadata": {
  "kernelspec": {
   "display_name": "Python 3 (ipykernel)",
   "language": "python",
   "name": "python3"
  },
  "language_info": {
   "codemirror_mode": {
    "name": "ipython",
    "version": 3
   },
   "file_extension": ".py",
   "mimetype": "text/x-python",
   "name": "python",
   "nbconvert_exporter": "python",
   "pygments_lexer": "ipython3",
   "version": "3.10.6"
  }
 },
 "nbformat": 4,
 "nbformat_minor": 4
}
