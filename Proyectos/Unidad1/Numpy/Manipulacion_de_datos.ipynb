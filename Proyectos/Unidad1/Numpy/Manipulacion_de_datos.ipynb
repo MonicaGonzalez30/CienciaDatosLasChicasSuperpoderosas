{
 "cells": [
  {
   "attachments": {},
   "cell_type": "markdown",
   "metadata": {},
   "source": [
    "# Proyecto 1: Manipulción de datos con Python"
   ]
  },
  {
   "attachments": {},
   "cell_type": "markdown",
   "metadata": {},
   "source": [
    "## Método QuickSort"
   ]
  },
  {
   "cell_type": "code",
   "execution_count": 46,
   "metadata": {},
   "outputs": [],
   "source": [
    "def quick_sort_pirata(arreglo):\n",
    "    izq = []\n",
    "    der = []\n",
    "    center = []\n",
    "    \n",
    "    if len(arreglo) == 0 or len(arreglo)==1:\n",
    "        return arreglo\n",
    "    \n",
    "    else:\n",
    "        \n",
    "        piv = arreglo[0]\n",
    "        \n",
    "        for e in arreglo:\n",
    "            if e<piv:\n",
    "                izq.append(e)\n",
    "            elif e==piv:\n",
    "                center.append(e)\n",
    "            elif e>piv:\n",
    "                der.append(e)\n",
    "        \n",
    "        return quick_sort_pirata(izq)+center+quick_sort_pirata(der)"
   ]
  },
  {
   "attachments": {},
   "cell_type": "markdown",
   "metadata": {},
   "source": [
    "## Método MergeSort"
   ]
  },
  {
   "cell_type": "code",
   "execution_count": null,
   "metadata": {},
   "outputs": [],
   "source": [
    "def merge_sort_pirata(arreglo):\n",
    "    # Casos base\n",
    "    if len(arreglo) == 0 or len(arreglo) == 1:\n",
    "        return arreglo\n",
    "    \n",
    "    else:\n",
    "        mitad = len(arreglo) // 2\n",
    "        arr_izq = arreglo[:mitad]\n",
    "        arr_der = arreglo[mitad:]\n",
    "        \n",
    "        arr_izq = merge_sort_pirata(arr_izq)\n",
    "        arr_der = merge_sort_pirata(arr_der)\n",
    "        \n",
    "        a = 0\n",
    "        b = 0\n",
    "        c = 0\n",
    "        \n",
    "        while a < len(arr_izq) and b < len(arr_der):\n",
    "            if arr_izq[a] < arr_der[b]:\n",
    "                arreglo[c] = arr_izq[a]\n",
    "                a += 1\n",
    "            else:\n",
    "                arreglo[c] = arr_der[b]\n",
    "                b += 1\n",
    "            c += 1\n",
    "        \n",
    "        while a < len(arr_izq):\n",
    "            arreglo[c] = arr_izq[a]\n",
    "            a += 1\n",
    "            c += 1\n",
    "        \n",
    "        while b < len(arr_der):\n",
    "            arreglo[c] = arr_der[b]\n",
    "            b += 1\n",
    "            c += 1\n",
    "            \n",
    "        return arreglo"
   ]
  },
  {
   "attachments": {},
   "cell_type": "markdown",
   "metadata": {},
   "source": [
    "### Lectura del CSV y creación del DataFrame"
   ]
  },
  {
   "cell_type": "code",
   "execution_count": 47,
   "metadata": {},
   "outputs": [
    {
     "data": {
      "text/html": [
       "<div>\n",
       "<style scoped>\n",
       "    .dataframe tbody tr th:only-of-type {\n",
       "        vertical-align: middle;\n",
       "    }\n",
       "\n",
       "    .dataframe tbody tr th {\n",
       "        vertical-align: top;\n",
       "    }\n",
       "\n",
       "    .dataframe thead th {\n",
       "        text-align: right;\n",
       "    }\n",
       "</style>\n",
       "<table border=\"1\" class=\"dataframe\">\n",
       "  <thead>\n",
       "    <tr style=\"text-align: right;\">\n",
       "      <th></th>\n",
       "      <th>Unnamed: 0</th>\n",
       "      <th>Tiempo promedio (s)</th>\n",
       "      <th>Unnamed: 2</th>\n",
       "      <th>Unnamed: 3</th>\n",
       "    </tr>\n",
       "  </thead>\n",
       "  <tbody>\n",
       "    <tr>\n",
       "      <th>0</th>\n",
       "      <td>Tamaño del problema</td>\n",
       "      <td>MiMergeSort</td>\n",
       "      <td>MiQuickSort</td>\n",
       "      <td>NumpySort</td>\n",
       "    </tr>\n",
       "    <tr>\n",
       "      <th>1</th>\n",
       "      <td>10</td>\n",
       "      <td>NaN</td>\n",
       "      <td>NaN</td>\n",
       "      <td>NaN</td>\n",
       "    </tr>\n",
       "    <tr>\n",
       "      <th>2</th>\n",
       "      <td>100</td>\n",
       "      <td>NaN</td>\n",
       "      <td>NaN</td>\n",
       "      <td>NaN</td>\n",
       "    </tr>\n",
       "    <tr>\n",
       "      <th>3</th>\n",
       "      <td>1000</td>\n",
       "      <td>NaN</td>\n",
       "      <td>NaN</td>\n",
       "      <td>NaN</td>\n",
       "    </tr>\n",
       "    <tr>\n",
       "      <th>4</th>\n",
       "      <td>10000</td>\n",
       "      <td>NaN</td>\n",
       "      <td>NaN</td>\n",
       "      <td>NaN</td>\n",
       "    </tr>\n",
       "    <tr>\n",
       "      <th>5</th>\n",
       "      <td>100000</td>\n",
       "      <td>NaN</td>\n",
       "      <td>NaN</td>\n",
       "      <td>NaN</td>\n",
       "    </tr>\n",
       "    <tr>\n",
       "      <th>6</th>\n",
       "      <td>1000000</td>\n",
       "      <td>NaN</td>\n",
       "      <td>NaN</td>\n",
       "      <td>NaN</td>\n",
       "    </tr>\n",
       "    <tr>\n",
       "      <th>7</th>\n",
       "      <td>10000000</td>\n",
       "      <td>NaN</td>\n",
       "      <td>NaN</td>\n",
       "      <td>NaN</td>\n",
       "    </tr>\n",
       "    <tr>\n",
       "      <th>8</th>\n",
       "      <td>100000000</td>\n",
       "      <td>NaN</td>\n",
       "      <td>NaN</td>\n",
       "      <td>NaN</td>\n",
       "    </tr>\n",
       "  </tbody>\n",
       "</table>\n",
       "</div>"
      ],
      "text/plain": [
       "            Unnamed: 0 Tiempo promedio (s)   Unnamed: 2 Unnamed: 3\n",
       "0  Tamaño del problema         MiMergeSort  MiQuickSort  NumpySort\n",
       "1                   10                 NaN          NaN        NaN\n",
       "2                  100                 NaN          NaN        NaN\n",
       "3                 1000                 NaN          NaN        NaN\n",
       "4                10000                 NaN          NaN        NaN\n",
       "5               100000                 NaN          NaN        NaN\n",
       "6              1000000                 NaN          NaN        NaN\n",
       "7             10000000                 NaN          NaN        NaN\n",
       "8            100000000                 NaN          NaN        NaN"
      ]
     },
     "execution_count": 47,
     "metadata": {},
     "output_type": "execute_result"
    }
   ],
   "source": [
    "import matplotlib.pyplot as plt\n",
    "import pandas as pd\n",
    "\n",
    "arch = pd.read_csv('Tiempos.csv')\n",
    "arch"
   ]
  },
  {
   "cell_type": "code",
   "execution_count": 48,
   "metadata": {},
   "outputs": [
    {
     "data": {
      "text/html": [
       "<div>\n",
       "<style scoped>\n",
       "    .dataframe tbody tr th:only-of-type {\n",
       "        vertical-align: middle;\n",
       "    }\n",
       "\n",
       "    .dataframe tbody tr th {\n",
       "        vertical-align: top;\n",
       "    }\n",
       "\n",
       "    .dataframe thead th {\n",
       "        text-align: right;\n",
       "    }\n",
       "</style>\n",
       "<table border=\"1\" class=\"dataframe\">\n",
       "  <thead>\n",
       "    <tr style=\"text-align: right;\">\n",
       "      <th></th>\n",
       "      <th>Unnamed: 0</th>\n",
       "      <th>Tiempo promedio (s)</th>\n",
       "      <th>Unnamed: 2</th>\n",
       "      <th>Unnamed: 3</th>\n",
       "    </tr>\n",
       "  </thead>\n",
       "  <tbody>\n",
       "    <tr>\n",
       "      <th>1</th>\n",
       "      <td>10</td>\n",
       "      <td>NaN</td>\n",
       "      <td>NaN</td>\n",
       "      <td>NaN</td>\n",
       "    </tr>\n",
       "    <tr>\n",
       "      <th>2</th>\n",
       "      <td>100</td>\n",
       "      <td>NaN</td>\n",
       "      <td>NaN</td>\n",
       "      <td>NaN</td>\n",
       "    </tr>\n",
       "    <tr>\n",
       "      <th>3</th>\n",
       "      <td>1000</td>\n",
       "      <td>NaN</td>\n",
       "      <td>NaN</td>\n",
       "      <td>NaN</td>\n",
       "    </tr>\n",
       "    <tr>\n",
       "      <th>4</th>\n",
       "      <td>10000</td>\n",
       "      <td>NaN</td>\n",
       "      <td>NaN</td>\n",
       "      <td>NaN</td>\n",
       "    </tr>\n",
       "    <tr>\n",
       "      <th>5</th>\n",
       "      <td>100000</td>\n",
       "      <td>NaN</td>\n",
       "      <td>NaN</td>\n",
       "      <td>NaN</td>\n",
       "    </tr>\n",
       "    <tr>\n",
       "      <th>6</th>\n",
       "      <td>1000000</td>\n",
       "      <td>NaN</td>\n",
       "      <td>NaN</td>\n",
       "      <td>NaN</td>\n",
       "    </tr>\n",
       "    <tr>\n",
       "      <th>7</th>\n",
       "      <td>10000000</td>\n",
       "      <td>NaN</td>\n",
       "      <td>NaN</td>\n",
       "      <td>NaN</td>\n",
       "    </tr>\n",
       "    <tr>\n",
       "      <th>8</th>\n",
       "      <td>100000000</td>\n",
       "      <td>NaN</td>\n",
       "      <td>NaN</td>\n",
       "      <td>NaN</td>\n",
       "    </tr>\n",
       "  </tbody>\n",
       "</table>\n",
       "</div>"
      ],
      "text/plain": [
       "  Unnamed: 0 Tiempo promedio (s) Unnamed: 2 Unnamed: 3\n",
       "1         10                 NaN        NaN        NaN\n",
       "2        100                 NaN        NaN        NaN\n",
       "3       1000                 NaN        NaN        NaN\n",
       "4      10000                 NaN        NaN        NaN\n",
       "5     100000                 NaN        NaN        NaN\n",
       "6    1000000                 NaN        NaN        NaN\n",
       "7   10000000                 NaN        NaN        NaN\n",
       "8  100000000                 NaN        NaN        NaN"
      ]
     },
     "execution_count": 48,
     "metadata": {},
     "output_type": "execute_result"
    }
   ],
   "source": [
    "#Eliminación de las columnas\n",
    "arch.drop(0, inplace=True)\n",
    "arch"
   ]
  },
  {
   "cell_type": "code",
   "execution_count": 49,
   "metadata": {},
   "outputs": [
    {
     "data": {
      "text/html": [
       "<div>\n",
       "<style scoped>\n",
       "    .dataframe tbody tr th:only-of-type {\n",
       "        vertical-align: middle;\n",
       "    }\n",
       "\n",
       "    .dataframe tbody tr th {\n",
       "        vertical-align: top;\n",
       "    }\n",
       "\n",
       "    .dataframe thead th {\n",
       "        text-align: right;\n",
       "    }\n",
       "</style>\n",
       "<table border=\"1\" class=\"dataframe\">\n",
       "  <thead>\n",
       "    <tr style=\"text-align: right;\">\n",
       "      <th></th>\n",
       "      <th>Tamaño del Problema</th>\n",
       "      <th>Merge Sort</th>\n",
       "      <th>Quick Sort</th>\n",
       "      <th>Numpy Sort</th>\n",
       "    </tr>\n",
       "  </thead>\n",
       "  <tbody>\n",
       "    <tr>\n",
       "      <th>1</th>\n",
       "      <td>10</td>\n",
       "      <td>NaN</td>\n",
       "      <td>NaN</td>\n",
       "      <td>NaN</td>\n",
       "    </tr>\n",
       "    <tr>\n",
       "      <th>2</th>\n",
       "      <td>100</td>\n",
       "      <td>NaN</td>\n",
       "      <td>NaN</td>\n",
       "      <td>NaN</td>\n",
       "    </tr>\n",
       "    <tr>\n",
       "      <th>3</th>\n",
       "      <td>1000</td>\n",
       "      <td>NaN</td>\n",
       "      <td>NaN</td>\n",
       "      <td>NaN</td>\n",
       "    </tr>\n",
       "    <tr>\n",
       "      <th>4</th>\n",
       "      <td>10000</td>\n",
       "      <td>NaN</td>\n",
       "      <td>NaN</td>\n",
       "      <td>NaN</td>\n",
       "    </tr>\n",
       "    <tr>\n",
       "      <th>5</th>\n",
       "      <td>100000</td>\n",
       "      <td>NaN</td>\n",
       "      <td>NaN</td>\n",
       "      <td>NaN</td>\n",
       "    </tr>\n",
       "    <tr>\n",
       "      <th>6</th>\n",
       "      <td>1000000</td>\n",
       "      <td>NaN</td>\n",
       "      <td>NaN</td>\n",
       "      <td>NaN</td>\n",
       "    </tr>\n",
       "    <tr>\n",
       "      <th>7</th>\n",
       "      <td>10000000</td>\n",
       "      <td>NaN</td>\n",
       "      <td>NaN</td>\n",
       "      <td>NaN</td>\n",
       "    </tr>\n",
       "    <tr>\n",
       "      <th>8</th>\n",
       "      <td>100000000</td>\n",
       "      <td>NaN</td>\n",
       "      <td>NaN</td>\n",
       "      <td>NaN</td>\n",
       "    </tr>\n",
       "  </tbody>\n",
       "</table>\n",
       "</div>"
      ],
      "text/plain": [
       "  Tamaño del Problema Merge Sort Quick Sort Numpy Sort\n",
       "1                  10        NaN        NaN        NaN\n",
       "2                 100        NaN        NaN        NaN\n",
       "3                1000        NaN        NaN        NaN\n",
       "4               10000        NaN        NaN        NaN\n",
       "5              100000        NaN        NaN        NaN\n",
       "6             1000000        NaN        NaN        NaN\n",
       "7            10000000        NaN        NaN        NaN\n",
       "8           100000000        NaN        NaN        NaN"
      ]
     },
     "execution_count": 49,
     "metadata": {},
     "output_type": "execute_result"
    }
   ],
   "source": [
    "#Renombrar las columnas\n",
    "arch = arch.rename(columns={'Unnamed: 0': 'Tamaño del Problema'})\n",
    "arch = arch.rename(columns={'Tiempo promedio (s)': 'MergeSort'})\n",
    "arch = arch.rename(columns={'Unnamed: 2': 'QuickSort'})\n",
    "arch = arch.rename(columns={'Unnamed: 3': 'NumpySort'})\n",
    "\n",
    "arch"
   ]
  },
  {
   "attachments": {},
   "cell_type": "markdown",
   "metadata": {},
   "source": [
    "### Ejecución del cálculo de tiempos y llenado del DataFrame con MergeSort"
   ]
  },
  {
   "cell_type": "code",
   "execution_count": 50,
   "metadata": {},
   "outputs": [
    {
     "data": {
      "text/plain": [
       "'\\ntimepo1 = 2.5096795000001748e-05\\ntiempo2 =  0.00040968890199999917\\ntiempo3 = 0.0053817663600000286\\ntiempo4 =  0.06938844230000143\\ntiempo5 = 0.8578789370000095\\ntiempo6 =  11.665475320999803\\ntimepo7 =\\n\\n'"
      ]
     },
     "execution_count": 50,
     "metadata": {},
     "output_type": "execute_result"
    }
   ],
   "source": [
    "import numpy as np\n",
    "\n",
    "'''arreglo1 = np.random.random(10)\n",
    "arreglo2 = np.random.random(100)\n",
    "arreglo3 = np.random.random(1000)\n",
    "arreglo4 = np.random.random(10000)\n",
    "arreglo5 = np.random.random(100000)\n",
    "arreglo6 = np.random.random(1000000)\n",
    "arreglo7 = np.random.random(10000000)\n",
    "arreglo8 = np.random.random(100000000)\n",
    "tiempo_ejecucion1 = %timeit -o merge_sort_pirata(arreglo1)\n",
    "tiempo_ejecucion2 = %timeit -o merge_sort_pirata(arreglo2)\n",
    "tiempo_ejecucion3 = %timeit -o merge_sort_pirata(arreglo3)\n",
    "tiempo_ejecucion4 = %timeit -o merge_sort_pirata(arreglo4)\n",
    "tiempo_ejecucion5 = %timeit -o merge_sort_pirata(arreglo5)\n",
    "tiempo_ejecucion6 = %timeit -o merge_sort_pirata(arreglo6)\n",
    "tiempo_ejecucion7 = %timeit -o merge_sort_pirata(arreglo7)\n",
    "tiempo_ejecucion8 = %timeit -o merge_sort_pirata(arreglo8)\n",
    "arch.loc[1, 'MergeSort'] = tiempo_ejecucion1.best\n",
    "arch.loc[2, 'MergeSort'] = tiempo_ejecucion2.best\n",
    "arch.loc[3, 'MergeSort'] = tiempo_ejecucion3.best\n",
    "arch.loc[4, 'MergeSort'] = tiempo_ejecucion4.best\n",
    "arch.loc[5, 'MergeSort'] = tiempo_ejecucion5.best\n",
    "arch.loc[6, 'MergeSort'] = tiempo_ejecucion6.best\n",
    "arch.loc[7, 'MergeSort'] = tiempo_ejecucion7.best\n",
    "arch.loc[8, 'MergeSort'] = tiempo_ejecucion8.best'''\n",
    "\n",
    "\n",
    "'''\n",
    "tiempo1 = 2.5096795000001748e-05\n",
    "tiempo2 =  0.00040968890199999917\n",
    "tiempo3 = 0.0053817663600000286\n",
    "tiempo4 =  0.06938844230000143\n",
    "tiempo5 = 0.8578789370000095\n",
    "tiempo6 =  11.665475320999803\n",
    "tiempo7 =\n",
    "\n",
    "'''"
   ]
  },
  {
   "cell_type": "code",
   "execution_count": 51,
   "metadata": {},
   "outputs": [],
   "source": [
    "arch.loc[1:6, 'Merge Sort'] = [2.5096795000001748e-05, 0.00040968890199999917\n",
    "                               ,0.0053817663600000286, 0.06938844230000143,\n",
    "                               0.8578789370000095, 11.665475320999803 ]"
   ]
  },
  {
   "cell_type": "code",
   "execution_count": 52,
   "metadata": {},
   "outputs": [
    {
     "data": {
      "text/html": [
       "<div>\n",
       "<style scoped>\n",
       "    .dataframe tbody tr th:only-of-type {\n",
       "        vertical-align: middle;\n",
       "    }\n",
       "\n",
       "    .dataframe tbody tr th {\n",
       "        vertical-align: top;\n",
       "    }\n",
       "\n",
       "    .dataframe thead th {\n",
       "        text-align: right;\n",
       "    }\n",
       "</style>\n",
       "<table border=\"1\" class=\"dataframe\">\n",
       "  <thead>\n",
       "    <tr style=\"text-align: right;\">\n",
       "      <th></th>\n",
       "      <th>Tamaño del Problema</th>\n",
       "      <th>Merge Sort</th>\n",
       "      <th>Quick Sort</th>\n",
       "      <th>Numpy Sort</th>\n",
       "    </tr>\n",
       "  </thead>\n",
       "  <tbody>\n",
       "    <tr>\n",
       "      <th>1</th>\n",
       "      <td>10</td>\n",
       "      <td>0.000025</td>\n",
       "      <td>NaN</td>\n",
       "      <td>NaN</td>\n",
       "    </tr>\n",
       "    <tr>\n",
       "      <th>2</th>\n",
       "      <td>100</td>\n",
       "      <td>0.00041</td>\n",
       "      <td>NaN</td>\n",
       "      <td>NaN</td>\n",
       "    </tr>\n",
       "    <tr>\n",
       "      <th>3</th>\n",
       "      <td>1000</td>\n",
       "      <td>0.005382</td>\n",
       "      <td>NaN</td>\n",
       "      <td>NaN</td>\n",
       "    </tr>\n",
       "    <tr>\n",
       "      <th>4</th>\n",
       "      <td>10000</td>\n",
       "      <td>0.069388</td>\n",
       "      <td>NaN</td>\n",
       "      <td>NaN</td>\n",
       "    </tr>\n",
       "    <tr>\n",
       "      <th>5</th>\n",
       "      <td>100000</td>\n",
       "      <td>0.857879</td>\n",
       "      <td>NaN</td>\n",
       "      <td>NaN</td>\n",
       "    </tr>\n",
       "    <tr>\n",
       "      <th>6</th>\n",
       "      <td>1000000</td>\n",
       "      <td>11.665475</td>\n",
       "      <td>NaN</td>\n",
       "      <td>NaN</td>\n",
       "    </tr>\n",
       "    <tr>\n",
       "      <th>7</th>\n",
       "      <td>10000000</td>\n",
       "      <td>NaN</td>\n",
       "      <td>NaN</td>\n",
       "      <td>NaN</td>\n",
       "    </tr>\n",
       "    <tr>\n",
       "      <th>8</th>\n",
       "      <td>100000000</td>\n",
       "      <td>NaN</td>\n",
       "      <td>NaN</td>\n",
       "      <td>NaN</td>\n",
       "    </tr>\n",
       "  </tbody>\n",
       "</table>\n",
       "</div>"
      ],
      "text/plain": [
       "  Tamaño del Problema Merge Sort Quick Sort Numpy Sort\n",
       "1                  10   0.000025        NaN        NaN\n",
       "2                 100    0.00041        NaN        NaN\n",
       "3                1000   0.005382        NaN        NaN\n",
       "4               10000   0.069388        NaN        NaN\n",
       "5              100000   0.857879        NaN        NaN\n",
       "6             1000000  11.665475        NaN        NaN\n",
       "7            10000000        NaN        NaN        NaN\n",
       "8           100000000        NaN        NaN        NaN"
      ]
     },
     "execution_count": 52,
     "metadata": {},
     "output_type": "execute_result"
    }
   ],
   "source": [
    "arch"
   ]
  },
  {
   "cell_type": "code",
   "execution_count": 53,
   "metadata": {},
   "outputs": [],
   "source": [
    "arch.loc[7, 'MergeSort']=137.02669420699976"
   ]
  },
  {
   "cell_type": "code",
   "execution_count": 54,
   "metadata": {},
   "outputs": [
    {
     "data": {
      "text/html": [
       "<div>\n",
       "<style scoped>\n",
       "    .dataframe tbody tr th:only-of-type {\n",
       "        vertical-align: middle;\n",
       "    }\n",
       "\n",
       "    .dataframe tbody tr th {\n",
       "        vertical-align: top;\n",
       "    }\n",
       "\n",
       "    .dataframe thead th {\n",
       "        text-align: right;\n",
       "    }\n",
       "</style>\n",
       "<table border=\"1\" class=\"dataframe\">\n",
       "  <thead>\n",
       "    <tr style=\"text-align: right;\">\n",
       "      <th></th>\n",
       "      <th>Tamaño del Problema</th>\n",
       "      <th>Merge Sort</th>\n",
       "      <th>Quick Sort</th>\n",
       "      <th>Numpy Sort</th>\n",
       "    </tr>\n",
       "  </thead>\n",
       "  <tbody>\n",
       "    <tr>\n",
       "      <th>1</th>\n",
       "      <td>10</td>\n",
       "      <td>0.000025</td>\n",
       "      <td>NaN</td>\n",
       "      <td>NaN</td>\n",
       "    </tr>\n",
       "    <tr>\n",
       "      <th>2</th>\n",
       "      <td>100</td>\n",
       "      <td>0.00041</td>\n",
       "      <td>NaN</td>\n",
       "      <td>NaN</td>\n",
       "    </tr>\n",
       "    <tr>\n",
       "      <th>3</th>\n",
       "      <td>1000</td>\n",
       "      <td>0.005382</td>\n",
       "      <td>NaN</td>\n",
       "      <td>NaN</td>\n",
       "    </tr>\n",
       "    <tr>\n",
       "      <th>4</th>\n",
       "      <td>10000</td>\n",
       "      <td>0.069388</td>\n",
       "      <td>NaN</td>\n",
       "      <td>NaN</td>\n",
       "    </tr>\n",
       "    <tr>\n",
       "      <th>5</th>\n",
       "      <td>100000</td>\n",
       "      <td>0.857879</td>\n",
       "      <td>NaN</td>\n",
       "      <td>NaN</td>\n",
       "    </tr>\n",
       "    <tr>\n",
       "      <th>6</th>\n",
       "      <td>1000000</td>\n",
       "      <td>11.665475</td>\n",
       "      <td>NaN</td>\n",
       "      <td>NaN</td>\n",
       "    </tr>\n",
       "    <tr>\n",
       "      <th>7</th>\n",
       "      <td>10000000</td>\n",
       "      <td>137.026694</td>\n",
       "      <td>NaN</td>\n",
       "      <td>NaN</td>\n",
       "    </tr>\n",
       "    <tr>\n",
       "      <th>8</th>\n",
       "      <td>100000000</td>\n",
       "      <td>NaN</td>\n",
       "      <td>NaN</td>\n",
       "      <td>NaN</td>\n",
       "    </tr>\n",
       "  </tbody>\n",
       "</table>\n",
       "</div>"
      ],
      "text/plain": [
       "  Tamaño del Problema  Merge Sort Quick Sort Numpy Sort\n",
       "1                  10    0.000025        NaN        NaN\n",
       "2                 100     0.00041        NaN        NaN\n",
       "3                1000    0.005382        NaN        NaN\n",
       "4               10000    0.069388        NaN        NaN\n",
       "5              100000    0.857879        NaN        NaN\n",
       "6             1000000   11.665475        NaN        NaN\n",
       "7            10000000  137.026694        NaN        NaN\n",
       "8           100000000         NaN        NaN        NaN"
      ]
     },
     "execution_count": 54,
     "metadata": {},
     "output_type": "execute_result"
    }
   ],
   "source": [
    "arch"
   ]
  },
  {
   "attachments": {},
   "cell_type": "markdown",
   "metadata": {},
   "source": [
    "### Gráfica de los tiempos de ejecución del algoritmo MergeSort"
   ]
  },
  {
   "cell_type": "code",
   "execution_count": null,
   "metadata": {},
   "outputs": [
    {
     "data": {
      "image/png": "[encoded data removed]",
      "text/plain": [
       "<Figure size 640x480 with 1 Axes>"
      ]
     },
     "metadata": {},
     "output_type": "display_data"
    }
   ],
   "source": [
    "import matplotlib.pyplot as plt\n",
    "\n",
    "x = arch['MergeSort'] # Tiempos de ejecución del algoritmo MergeSort\n",
    "y = arch['Tamaño del Problema'] # Tamaños del problema\n",
    "\n",
    "plt.plot(y, x) # Graficar los tiempos en función del tamaño del problema\n",
    "plt.title(\"Tiempo del MergeSort\") # Establecer el título del gráfico\n",
    "plt.xlabel(\"Tamaño del Problema\") # Etiqueta del eje x\n",
    "plt.ylabel(\"Tiempo (segundos)\") # Etiqueta del eje y\n",
    "plt.show() # Mostrar el gráfico\n"
   ]
  },
  {
   "attachments": {},
   "cell_type": "markdown",
   "metadata": {},
   "source": [
    "### Ejecución del cálculo de tiempos y llenado del DataFrame con QuickSort"
   ]
  },
  {
   "cell_type": "code",
   "execution_count": 56,
   "metadata": {},
   "outputs": [
    {
     "ename": "KeyboardInterrupt",
     "evalue": "",
     "output_type": "error",
     "traceback": [
      "\u001b[1;31m---------------------------------------------------------------------------\u001b[0m",
      "\u001b[1;31mKeyboardInterrupt\u001b[0m                         Traceback (most recent call last)",
      "Cell \u001b[1;32mIn[56], line 8\u001b[0m\n\u001b[0;32m      5\u001b[0m arreglo5 \u001b[39m=\u001b[39m np\u001b[39m.\u001b[39mrandom\u001b[39m.\u001b[39mrandom(\u001b[39m100000\u001b[39m)\n\u001b[0;32m      6\u001b[0m arreglo6 \u001b[39m=\u001b[39m np\u001b[39m.\u001b[39mrandom\u001b[39m.\u001b[39mrandom(\u001b[39m1000000\u001b[39m)\n\u001b[1;32m----> 8\u001b[0m tiempo_ejecucion1 \u001b[39m=\u001b[39m get_ipython()\u001b[39m.\u001b[39;49mrun_line_magic(\u001b[39m'\u001b[39;49m\u001b[39mtimeit\u001b[39;49m\u001b[39m'\u001b[39;49m, \u001b[39m'\u001b[39;49m\u001b[39m-o quick_sort_pirata(arreglo1)\u001b[39;49m\u001b[39m'\u001b[39;49m)\n\u001b[0;32m      9\u001b[0m tiempo_ejecucion2 \u001b[39m=\u001b[39m get_ipython()\u001b[39m.\u001b[39mrun_line_magic(\u001b[39m'\u001b[39m\u001b[39mtimeit\u001b[39m\u001b[39m'\u001b[39m, \u001b[39m'\u001b[39m\u001b[39m-o quick_sort_pirata(arreglo2)\u001b[39m\u001b[39m'\u001b[39m)\n\u001b[0;32m     10\u001b[0m tiempo_ejecucion3 \u001b[39m=\u001b[39m get_ipython()\u001b[39m.\u001b[39mrun_line_magic(\u001b[39m'\u001b[39m\u001b[39mtimeit\u001b[39m\u001b[39m'\u001b[39m, \u001b[39m'\u001b[39m\u001b[39m-o quick_sort_pirata(arreglo3)\u001b[39m\u001b[39m'\u001b[39m)\n",
      "File \u001b[1;32mc:\\Users\\luisl\\AppData\\Local\\Programs\\Python\\Python311\\Lib\\site-packages\\IPython\\core\\interactiveshell.py:2369\u001b[0m, in \u001b[0;36mInteractiveShell.run_line_magic\u001b[1;34m(self, magic_name, line, _stack_depth)\u001b[0m\n\u001b[0;32m   2367\u001b[0m     kwargs[\u001b[39m'\u001b[39m\u001b[39mlocal_ns\u001b[39m\u001b[39m'\u001b[39m] \u001b[39m=\u001b[39m \u001b[39mself\u001b[39m\u001b[39m.\u001b[39mget_local_scope(stack_depth)\n\u001b[0;32m   2368\u001b[0m \u001b[39mwith\u001b[39;00m \u001b[39mself\u001b[39m\u001b[39m.\u001b[39mbuiltin_trap:\n\u001b[1;32m-> 2369\u001b[0m     result \u001b[39m=\u001b[39m fn(\u001b[39m*\u001b[39;49margs, \u001b[39m*\u001b[39;49m\u001b[39m*\u001b[39;49mkwargs)\n\u001b[0;32m   2371\u001b[0m \u001b[39m# The code below prevents the output from being displayed\u001b[39;00m\n\u001b[0;32m   2372\u001b[0m \u001b[39m# when using magics with decodator @output_can_be_silenced\u001b[39;00m\n\u001b[0;32m   2373\u001b[0m \u001b[39m# when the last Python token in the expression is a ';'.\u001b[39;00m\n\u001b[0;32m   2374\u001b[0m \u001b[39mif\u001b[39;00m \u001b[39mgetattr\u001b[39m(fn, magic\u001b[39m.\u001b[39mMAGIC_OUTPUT_CAN_BE_SILENCED, \u001b[39mFalse\u001b[39;00m):\n",
      "File \u001b[1;32mc:\\Users\\luisl\\AppData\\Local\\Programs\\Python\\Python311\\Lib\\site-packages\\IPython\\core\\magics\\execution.py:1168\u001b[0m, in \u001b[0;36mExecutionMagics.timeit\u001b[1;34m(self, line, cell, local_ns)\u001b[0m\n\u001b[0;32m   1165\u001b[0m         \u001b[39mif\u001b[39;00m time_number \u001b[39m>\u001b[39m\u001b[39m=\u001b[39m \u001b[39m0.2\u001b[39m:\n\u001b[0;32m   1166\u001b[0m             \u001b[39mbreak\u001b[39;00m\n\u001b[1;32m-> 1168\u001b[0m all_runs \u001b[39m=\u001b[39m timer\u001b[39m.\u001b[39;49mrepeat(repeat, number)\n\u001b[0;32m   1169\u001b[0m best \u001b[39m=\u001b[39m \u001b[39mmin\u001b[39m(all_runs) \u001b[39m/\u001b[39m number\n\u001b[0;32m   1170\u001b[0m worst \u001b[39m=\u001b[39m \u001b[39mmax\u001b[39m(all_runs) \u001b[39m/\u001b[39m number\n",
      "File \u001b[1;32mc:\\Users\\luisl\\AppData\\Local\\Programs\\Python\\Python311\\Lib\\timeit.py:206\u001b[0m, in \u001b[0;36mTimer.repeat\u001b[1;34m(self, repeat, number)\u001b[0m\n\u001b[0;32m    204\u001b[0m r \u001b[39m=\u001b[39m []\n\u001b[0;32m    205\u001b[0m \u001b[39mfor\u001b[39;00m i \u001b[39min\u001b[39;00m \u001b[39mrange\u001b[39m(repeat):\n\u001b[1;32m--> 206\u001b[0m     t \u001b[39m=\u001b[39m \u001b[39mself\u001b[39;49m\u001b[39m.\u001b[39;49mtimeit(number)\n\u001b[0;32m    207\u001b[0m     r\u001b[39m.\u001b[39mappend(t)\n\u001b[0;32m    208\u001b[0m \u001b[39mreturn\u001b[39;00m r\n",
      "File \u001b[1;32mc:\\Users\\luisl\\AppData\\Local\\Programs\\Python\\Python311\\Lib\\site-packages\\IPython\\core\\magics\\execution.py:158\u001b[0m, in \u001b[0;36mTimer.timeit\u001b[1;34m(self, number)\u001b[0m\n\u001b[0;32m    156\u001b[0m gc\u001b[39m.\u001b[39mdisable()\n\u001b[0;32m    157\u001b[0m \u001b[39mtry\u001b[39;00m:\n\u001b[1;32m--> 158\u001b[0m     timing \u001b[39m=\u001b[39m \u001b[39mself\u001b[39;49m\u001b[39m.\u001b[39;49minner(it, \u001b[39mself\u001b[39;49m\u001b[39m.\u001b[39;49mtimer)\n\u001b[0;32m    159\u001b[0m \u001b[39mfinally\u001b[39;00m:\n\u001b[0;32m    160\u001b[0m     \u001b[39mif\u001b[39;00m gcold:\n",
      "File \u001b[1;32m<magic-timeit>:1\u001b[0m, in \u001b[0;36minner\u001b[1;34m(_it, _timer)\u001b[0m\n",
      "Cell \u001b[1;32mIn[46], line 21\u001b[0m, in \u001b[0;36mquick_sort_pirata\u001b[1;34m(arreglo)\u001b[0m\n\u001b[0;32m     18\u001b[0m     \u001b[39melif\u001b[39;00m e\u001b[39m>\u001b[39mpiv:\n\u001b[0;32m     19\u001b[0m         der\u001b[39m.\u001b[39mappend(e)\n\u001b[1;32m---> 21\u001b[0m \u001b[39mreturn\u001b[39;00m quick_sort_pirata(izq)\u001b[39m+\u001b[39mcenter\u001b[39m+\u001b[39mquick_sort_pirata(der)\n",
      "Cell \u001b[1;32mIn[46], line 1\u001b[0m, in \u001b[0;36mquick_sort_pirata\u001b[1;34m(arreglo)\u001b[0m\n\u001b[1;32m----> 1\u001b[0m \u001b[39mdef\u001b[39;00m \u001b[39mquick_sort_pirata\u001b[39m(arreglo):\n\u001b[0;32m      2\u001b[0m     izq \u001b[39m=\u001b[39m []\n\u001b[0;32m      3\u001b[0m     der \u001b[39m=\u001b[39m []\n",
      "\u001b[1;31mKeyboardInterrupt\u001b[0m: "
     ]
    }
   ],
   "source": [
    "arreglo1 = np.random.random(10)\n",
    "arreglo2 = np.random.random(100)\n",
    "arreglo3 = np.random.random(1000)\n",
    "arreglo4 = np.random.random(10000)\n",
    "arreglo5 = np.random.random(100000)\n",
    "arreglo6 = np.random.random(1000000)\n",
    "\n",
    "tiempo_ejecucion1 = %timeit -o quick_sort_pirata(arreglo1)\n",
    "tiempo_ejecucion2 = %timeit -o quick_sort_pirata(arreglo2)\n",
    "tiempo_ejecucion3 = %timeit -o quick_sort_pirata(arreglo3)\n",
    "tiempo_ejecucion4 = %timeit -o quick_sort_pirata(arreglo4)\n",
    "tiempo_ejecucion5 = %timeit -o quick_sort_pirata(arreglo5)\n",
    "tiempo_ejecucion6 = %timeit -o quick_sort_pirata(arreglo6)\n",
    "\n",
    "arch.loc[1, 'QuickSort'] = tiempo_ejecucion1.best\n",
    "arch.loc[2, 'QuickSort'] = tiempo_ejecucion2.best\n",
    "arch.loc[3, 'QuickSort'] = tiempo_ejecucion3.best\n",
    "arch.loc[4, 'QuickSort'] = tiempo_ejecucion4.best\n",
    "arch.loc[5, 'QuickSort'] = tiempo_ejecucion5.best\n",
    "arch.loc[6, 'QuickSort'] = tiempo_ejecucion6.best\n"
   ]
  },
  {
   "cell_type": "code",
   "execution_count": null,
   "metadata": {},
   "outputs": [
    {
     "name": "stdout",
     "output_type": "stream",
     "text": [
      "Unexpected exception formatting exception. Falling back to standard exception\n"
     ]
    },
    {
     "name": "stderr",
     "output_type": "stream",
     "text": [
      "Traceback (most recent call last):\n",
      "  File \"c:\\Users\\luisl\\AppData\\Local\\Programs\\Python\\Python311\\Lib\\site-packages\\IPython\\core\\interactiveshell.py\", line 3460, in run_code\n",
      "    exec(code_obj, self.user_global_ns, self.user_ns)\n",
      "  File \"C:\\Users\\luisl\\AppData\\Local\\Temp\\ipykernel_22092\\3911135402.py\", line 2, in <module>\n",
      "    tiempo_ejecucion7 = get_ipython().run_line_magic('timeit', '-o quick_sort_pirata(arreglo7)')\n",
      "                        ^^^^^^^^^^^^^^^^^^^^^^^^^^^^^^^^^^^^^^^^^^^^^^^^^^^^^^^^^^^^^^^^^^^^^^^^\n",
      "  File \"c:\\Users\\luisl\\AppData\\Local\\Programs\\Python\\Python311\\Lib\\site-packages\\IPython\\core\\interactiveshell.py\", line 2369, in run_line_magic\n",
      "    result = fn(*args, **kwargs)\n",
      "             ^^^^^^^^^^^^^^^^^^^\n",
      "  File \"c:\\Users\\luisl\\AppData\\Local\\Programs\\Python\\Python311\\Lib\\site-packages\\IPython\\core\\magics\\execution.py\", line 1164, in timeit\n",
      "    time_number = timer.timeit(number)\n",
      "                  ^^^^^^^^^^^^^^^^^^^^\n",
      "  File \"c:\\Users\\luisl\\AppData\\Local\\Programs\\Python\\Python311\\Lib\\site-packages\\IPython\\core\\magics\\execution.py\", line 158, in timeit\n",
      "    timing = self.inner(it, self.timer)\n",
      "             ^^^^^^^^^^^^^^^^^^^^^^^^^^\n",
      "  File \"<magic-timeit>\", line 1, in inner\n",
      "  File \"C:\\Users\\luisl\\AppData\\Local\\Temp\\ipykernel_22092\\374150881.py\", line 21, in quick_sort_pirata\n",
      "    return quick_sort_pirata(izq)+center+quick_sort_pirata(der)\n",
      "           ^^^^^^^^^^^^^^^^^^^^^^\n",
      "  File \"C:\\Users\\luisl\\AppData\\Local\\Temp\\ipykernel_22092\\374150881.py\", line 21, in quick_sort_pirata\n",
      "    return quick_sort_pirata(izq)+center+quick_sort_pirata(der)\n",
      "                                         ^^^^^^^^^^^^^^^^^^^^^^\n",
      "  File \"C:\\Users\\luisl\\AppData\\Local\\Temp\\ipykernel_22092\\374150881.py\", line 21, in quick_sort_pirata\n",
      "    return quick_sort_pirata(izq)+center+quick_sort_pirata(der)\n",
      "           ^^^^^^^^^^^^^^^^^^^^^^\n",
      "  [Previous line repeated 9 more times]\n",
      "  File \"C:\\Users\\luisl\\AppData\\Local\\Temp\\ipykernel_22092\\374150881.py\", line -1, in quick_sort_pirata\n",
      "KeyboardInterrupt\n",
      "\n",
      "During handling of the above exception, another exception occurred:\n",
      "\n",
      "Traceback (most recent call last):\n",
      "  File \"c:\\Users\\luisl\\AppData\\Local\\Programs\\Python\\Python311\\Lib\\site-packages\\IPython\\core\\interactiveshell.py\", line 2057, in showtraceback\n",
      "    stb = self.InteractiveTB.structured_traceback(\n",
      "          ^^^^^^^^^^^^^^^^^^^^^^^^^^^^^^^^^^^^^^^^\n",
      "  File \"c:\\Users\\luisl\\AppData\\Local\\Programs\\Python\\Python311\\Lib\\site-packages\\IPython\\core\\ultratb.py\", line 1288, in structured_traceback\n",
      "    return FormattedTB.structured_traceback(\n",
      "           ^^^^^^^^^^^^^^^^^^^^^^^^^^^^^^^^^\n",
      "  File \"c:\\Users\\luisl\\AppData\\Local\\Programs\\Python\\Python311\\Lib\\site-packages\\IPython\\core\\ultratb.py\", line 1177, in structured_traceback\n",
      "    return VerboseTB.structured_traceback(\n",
      "           ^^^^^^^^^^^^^^^^^^^^^^^^^^^^^^^\n",
      "  File \"c:\\Users\\luisl\\AppData\\Local\\Programs\\Python\\Python311\\Lib\\site-packages\\IPython\\core\\ultratb.py\", line 1030, in structured_traceback\n",
      "    formatted_exception = self.format_exception_as_a_whole(etype, evalue, etb, number_of_lines_of_context,\n",
      "                          ^^^^^^^^^^^^^^^^^^^^^^^^^^^^^^^^^^^^^^^^^^^^^^^^^^^^^^^^^^^^^^^^^^^^^^^^^^^^^^^^\n",
      "  File \"c:\\Users\\luisl\\AppData\\Local\\Programs\\Python\\Python311\\Lib\\site-packages\\IPython\\core\\ultratb.py\", line 960, in format_exception_as_a_whole\n",
      "    frames.append(self.format_record(record))\n",
      "                  ^^^^^^^^^^^^^^^^^^^^^^^^^^\n",
      "  File \"c:\\Users\\luisl\\AppData\\Local\\Programs\\Python\\Python311\\Lib\\site-packages\\IPython\\core\\ultratb.py\", line 870, in format_record\n",
      "    frame_info.lines, Colors, self.has_colors, lvals\n",
      "    ^^^^^^^^^^^^^^^^\n",
      "  File \"c:\\Users\\luisl\\AppData\\Local\\Programs\\Python\\Python311\\Lib\\site-packages\\IPython\\core\\ultratb.py\", line 704, in lines\n",
      "    return self._sd.lines\n",
      "           ^^^^^^^^^^^^^^\n",
      "  File \"c:\\Users\\luisl\\AppData\\Local\\Programs\\Python\\Python311\\Lib\\site-packages\\stack_data\\utils.py\", line 144, in cached_property_wrapper\n",
      "    value = obj.__dict__[self.func.__name__] = self.func(obj)\n",
      "                                               ^^^^^^^^^^^^^^\n",
      "  File \"c:\\Users\\luisl\\AppData\\Local\\Programs\\Python\\Python311\\Lib\\site-packages\\stack_data\\core.py\", line 734, in lines\n",
      "    pieces = self.included_pieces\n",
      "             ^^^^^^^^^^^^^^^^^^^^\n",
      "  File \"c:\\Users\\luisl\\AppData\\Local\\Programs\\Python\\Python311\\Lib\\site-packages\\stack_data\\utils.py\", line 144, in cached_property_wrapper\n",
      "    value = obj.__dict__[self.func.__name__] = self.func(obj)\n",
      "                                               ^^^^^^^^^^^^^^\n",
      "  File \"c:\\Users\\luisl\\AppData\\Local\\Programs\\Python\\Python311\\Lib\\site-packages\\stack_data\\core.py\", line 681, in included_pieces\n",
      "    pos = scope_pieces.index(self.executing_piece)\n",
      "                             ^^^^^^^^^^^^^^^^^^^^\n",
      "  File \"c:\\Users\\luisl\\AppData\\Local\\Programs\\Python\\Python311\\Lib\\site-packages\\stack_data\\utils.py\", line 144, in cached_property_wrapper\n",
      "    value = obj.__dict__[self.func.__name__] = self.func(obj)\n",
      "                                               ^^^^^^^^^^^^^^\n",
      "  File \"c:\\Users\\luisl\\AppData\\Local\\Programs\\Python\\Python311\\Lib\\site-packages\\stack_data\\core.py\", line 660, in executing_piece\n",
      "    return only(\n",
      "           ^^^^^\n",
      "  File \"c:\\Users\\luisl\\AppData\\Local\\Programs\\Python\\Python311\\Lib\\site-packages\\executing\\executing.py\", line 190, in only\n",
      "    raise NotOneValueFound('Expected one value, found 0')\n",
      "executing.executing.NotOneValueFound: Expected one value, found 0\n"
     ]
    }
   ],
   "source": [
    "arreglo7 = np.random.random(10000000)\n",
    "tiempo_ejecucion7 = %timeit -o quick_sort_pirata(arreglo7)\n",
    "arch.loc[7, 'QuickSort'] = tiempo_ejecucion7.best"
   ]
  },
  {
   "attachments": {},
   "cell_type": "markdown",
   "metadata": {},
   "source": [
    "### Gráfica de los tiempos de ejecución del algoritmo QuickSort"
   ]
  },
  {
   "cell_type": "code",
   "execution_count": null,
   "metadata": {},
   "outputs": [
    {
     "data": {
      "image/png": "[encoded data removed]",
      "text/plain": [
       "<Figure size 640x480 with 1 Axes>"
      ]
     },
     "metadata": {},
     "output_type": "display_data"
    }
   ],
   "source": [
    "x = arch['QuickSort'] # Tiempos de ejecución del algoritmo QuickSort\n",
    "y = arch['Tamaño del Problema'] # Tamaños del problema\n",
    "\n",
    "plt.plot(y, x) # Graficar los tiempos en función del tamaño del problema\n",
    "plt.title(\"Tiempo del QuickSort\") # Establecer el título del gráfico\n",
    "plt.xlabel(\"Tamaño del Problema\") # Etiqueta del eje x\n",
    "plt.ylabel(\"Tiempo (segundos)\") # Etiqueta del eje y\n",
    "plt.show() # Mostrar el gráfico"
   ]
  },
  {
   "attachments": {},
   "cell_type": "markdown",
   "metadata": {},
   "source": [
    "## Método NumpySort"
   ]
  },
  {
   "attachments": {},
   "cell_type": "markdown",
   "metadata": {},
   "source": [
    "### Ejecución del cálculo de tiempos y llenado del DataFrame con NumpySort"
   ]
  },
  {
   "cell_type": "code",
   "execution_count": null,
   "metadata": {},
   "outputs": [
    {
     "name": "stdout",
     "output_type": "stream",
     "text": [
      "2.63 µs ± 240 ns per loop (mean ± std. dev. of 7 runs, 100,000 loops each)\n",
      "3.65 µs ± 27.8 ns per loop (mean ± std. dev. of 7 runs, 100,000 loops each)\n",
      "23 µs ± 221 ns per loop (mean ± std. dev. of 7 runs, 10,000 loops each)\n",
      "590 µs ± 162 µs per loop (mean ± std. dev. of 7 runs, 1,000 loops each)\n",
      "6.01 ms ± 26.5 µs per loop (mean ± std. dev. of 7 runs, 100 loops each)\n",
      "75.9 ms ± 207 µs per loop (mean ± std. dev. of 7 runs, 10 loops each)\n"
     ]
    }
   ],
   "source": [
    "arreglo1 = np.random.random(10)\n",
    "arreglo2 = np.random.random(100)\n",
    "arreglo3 = np.random.random(1000)\n",
    "arreglo4 = np.random.random(10000)\n",
    "arreglo5 = np.random.random(100000)\n",
    "arreglo6 = np.random.random(1000000)\n",
    "\n",
    "tiempo_ejecucion1 = %timeit -o np.sort(arreglo1)\n",
    "tiempo_ejecucion2 = %timeit -o np.sort(arreglo2)\n",
    "tiempo_ejecucion3 = %timeit -o np.sort(arreglo3)\n",
    "tiempo_ejecucion4 = %timeit -o np.sort(arreglo4)\n",
    "tiempo_ejecucion5 = %timeit -o np.sort(arreglo5)\n",
    "tiempo_ejecucion6 = %timeit -o np.sort(arreglo6)\n",
    "\n",
    "arch.loc[1, 'NumpySort'] = tiempo_ejecucion1.best\n",
    "arch.loc[2, 'NumpySort'] = tiempo_ejecucion2.best\n",
    "arch.loc[3, 'NumpySort'] = tiempo_ejecucion3.best\n",
    "arch.loc[4, 'NumpySort'] = tiempo_ejecucion4.best\n",
    "arch.loc[5, 'NumpySort'] = tiempo_ejecucion5.best\n",
    "arch.loc[6, 'NumpySort'] = tiempo_ejecucion6.best"
   ]
  },
  {
   "cell_type": "code",
   "execution_count": null,
   "metadata": {},
   "outputs": [
    {
     "data": {
      "text/html": [
       "<div>\n",
       "<style scoped>\n",
       "    .dataframe tbody tr th:only-of-type {\n",
       "        vertical-align: middle;\n",
       "    }\n",
       "\n",
       "    .dataframe tbody tr th {\n",
       "        vertical-align: top;\n",
       "    }\n",
       "\n",
       "    .dataframe thead th {\n",
       "        text-align: right;\n",
       "    }\n",
       "</style>\n",
       "<table border=\"1\" class=\"dataframe\">\n",
       "  <thead>\n",
       "    <tr style=\"text-align: right;\">\n",
       "      <th></th>\n",
       "      <th>Tamaño del Problema</th>\n",
       "      <th>Merge Sort</th>\n",
       "      <th>Quick Sort</th>\n",
       "      <th>Numpy Sort</th>\n",
       "    </tr>\n",
       "  </thead>\n",
       "  <tbody>\n",
       "    <tr>\n",
       "      <th>1</th>\n",
       "      <td>10</td>\n",
       "      <td>0.00001</td>\n",
       "      <td>0.000008</td>\n",
       "      <td>0.000002</td>\n",
       "    </tr>\n",
       "    <tr>\n",
       "      <th>2</th>\n",
       "      <td>100</td>\n",
       "      <td>0.000087</td>\n",
       "      <td>0.000085</td>\n",
       "      <td>0.000004</td>\n",
       "    </tr>\n",
       "    <tr>\n",
       "      <th>3</th>\n",
       "      <td>1000</td>\n",
       "      <td>0.001343</td>\n",
       "      <td>0.0013</td>\n",
       "      <td>0.000023</td>\n",
       "    </tr>\n",
       "    <tr>\n",
       "      <th>4</th>\n",
       "      <td>10000</td>\n",
       "      <td>0.017412</td>\n",
       "      <td>0.018697</td>\n",
       "      <td>0.000459</td>\n",
       "    </tr>\n",
       "    <tr>\n",
       "      <th>5</th>\n",
       "      <td>100000</td>\n",
       "      <td>0.250071</td>\n",
       "      <td>0.246686</td>\n",
       "      <td>0.005972</td>\n",
       "    </tr>\n",
       "    <tr>\n",
       "      <th>6</th>\n",
       "      <td>1000000</td>\n",
       "      <td>3.838039</td>\n",
       "      <td>3.689655</td>\n",
       "      <td>0.075478</td>\n",
       "    </tr>\n",
       "    <tr>\n",
       "      <th>7</th>\n",
       "      <td>10000000</td>\n",
       "      <td>137.026694</td>\n",
       "      <td>NaN</td>\n",
       "      <td>NaN</td>\n",
       "    </tr>\n",
       "    <tr>\n",
       "      <th>8</th>\n",
       "      <td>100000000</td>\n",
       "      <td>NaN</td>\n",
       "      <td>NaN</td>\n",
       "      <td>NaN</td>\n",
       "    </tr>\n",
       "  </tbody>\n",
       "</table>\n",
       "</div>"
      ],
      "text/plain": [
       "  Tamaño del Problema  Merge Sort Quick Sort Numpy Sort\n",
       "1                  10     0.00001   0.000008   0.000002\n",
       "2                 100    0.000087   0.000085   0.000004\n",
       "3                1000    0.001343     0.0013   0.000023\n",
       "4               10000    0.017412   0.018697   0.000459\n",
       "5              100000    0.250071   0.246686   0.005972\n",
       "6             1000000    3.838039   3.689655   0.075478\n",
       "7            10000000  137.026694        NaN        NaN\n",
       "8           100000000         NaN        NaN        NaN"
      ]
     },
     "execution_count": 33,
     "metadata": {},
     "output_type": "execute_result"
    }
   ],
   "source": [
    "arch"
   ]
  },
  {
   "cell_type": "code",
   "execution_count": null,
   "metadata": {},
   "outputs": [
    {
     "name": "stdout",
     "output_type": "stream",
     "text": [
      "1.33 s ± 325 ms per loop (mean ± std. dev. of 7 runs, 1 loop each)\n"
     ]
    }
   ],
   "source": [
    "arreglo7 = np.random.random(10000000)\n",
    "tiempo_ejecucion7 = %timeit -o np.sort(arreglo7)\n",
    "arch.loc[7, 'NumpySort'] = tiempo_ejecucion7.best"
   ]
  },
  {
   "cell_type": "code",
   "execution_count": null,
   "metadata": {},
   "outputs": [
    {
     "name": "stdout",
     "output_type": "stream",
     "text": [
      "10.3 s ± 512 ms per loop (mean ± std. dev. of 7 runs, 1 loop each)\n"
     ]
    }
   ],
   "source": [
    "arreglo8 = np.random.random(100000000)\n",
    "tiempo_ejecucion8 = %timeit -o np.sort(arreglo8)\n",
    "arch.loc[8, 'NumpySort'] = tiempo_ejecucion8.best"
   ]
  },
  {
   "cell_type": "code",
   "execution_count": null,
   "metadata": {},
   "outputs": [
    {
     "data": {
      "text/html": [
       "<div>\n",
       "<style scoped>\n",
       "    .dataframe tbody tr th:only-of-type {\n",
       "        vertical-align: middle;\n",
       "    }\n",
       "\n",
       "    .dataframe tbody tr th {\n",
       "        vertical-align: top;\n",
       "    }\n",
       "\n",
       "    .dataframe thead th {\n",
       "        text-align: right;\n",
       "    }\n",
       "</style>\n",
       "<table border=\"1\" class=\"dataframe\">\n",
       "  <thead>\n",
       "    <tr style=\"text-align: right;\">\n",
       "      <th></th>\n",
       "      <th>Tamaño del Problema</th>\n",
       "      <th>Merge Sort</th>\n",
       "      <th>Quick Sort</th>\n",
       "      <th>Numpy Sort</th>\n",
       "    </tr>\n",
       "  </thead>\n",
       "  <tbody>\n",
       "    <tr>\n",
       "      <th>1</th>\n",
       "      <td>10</td>\n",
       "      <td>0.00001</td>\n",
       "      <td>0.000008</td>\n",
       "      <td>0.000002</td>\n",
       "    </tr>\n",
       "    <tr>\n",
       "      <th>2</th>\n",
       "      <td>100</td>\n",
       "      <td>0.000087</td>\n",
       "      <td>0.000085</td>\n",
       "      <td>0.000004</td>\n",
       "    </tr>\n",
       "    <tr>\n",
       "      <th>3</th>\n",
       "      <td>1000</td>\n",
       "      <td>0.001343</td>\n",
       "      <td>0.0013</td>\n",
       "      <td>0.000023</td>\n",
       "    </tr>\n",
       "    <tr>\n",
       "      <th>4</th>\n",
       "      <td>10000</td>\n",
       "      <td>0.017412</td>\n",
       "      <td>0.018697</td>\n",
       "      <td>0.000459</td>\n",
       "    </tr>\n",
       "    <tr>\n",
       "      <th>5</th>\n",
       "      <td>100000</td>\n",
       "      <td>0.250071</td>\n",
       "      <td>0.246686</td>\n",
       "      <td>0.005972</td>\n",
       "    </tr>\n",
       "    <tr>\n",
       "      <th>6</th>\n",
       "      <td>1000000</td>\n",
       "      <td>3.838039</td>\n",
       "      <td>3.689655</td>\n",
       "      <td>0.075478</td>\n",
       "    </tr>\n",
       "    <tr>\n",
       "      <th>7</th>\n",
       "      <td>10000000</td>\n",
       "      <td>137.026694</td>\n",
       "      <td>NaN</td>\n",
       "      <td>0.881898</td>\n",
       "    </tr>\n",
       "    <tr>\n",
       "      <th>8</th>\n",
       "      <td>100000000</td>\n",
       "      <td>NaN</td>\n",
       "      <td>NaN</td>\n",
       "      <td>9.996504</td>\n",
       "    </tr>\n",
       "  </tbody>\n",
       "</table>\n",
       "</div>"
      ],
      "text/plain": [
       "  Tamaño del Problema  Merge Sort Quick Sort Numpy Sort\n",
       "1                  10     0.00001   0.000008   0.000002\n",
       "2                 100    0.000087   0.000085   0.000004\n",
       "3                1000    0.001343     0.0013   0.000023\n",
       "4               10000    0.017412   0.018697   0.000459\n",
       "5              100000    0.250071   0.246686   0.005972\n",
       "6             1000000    3.838039   3.689655   0.075478\n",
       "7            10000000  137.026694        NaN   0.881898\n",
       "8           100000000         NaN        NaN   9.996504"
      ]
     },
     "execution_count": 43,
     "metadata": {},
     "output_type": "execute_result"
    }
   ],
   "source": [
    "arch"
   ]
  },
  {
   "attachments": {},
   "cell_type": "markdown",
   "metadata": {},
   "source": [
    "### Gráfica de los tiempos de ejecución del algoritmo NumpySort"
   ]
  },
  {
   "cell_type": "code",
   "execution_count": null,
   "metadata": {},
   "outputs": [
    {
     "data": {
      "image/png": "[encoded data removed]",
      "text/plain": [
       "<Figure size 640x480 with 1 Axes>"
      ]
     },
     "metadata": {},
     "output_type": "display_data"
    }
   ],
   "source": [
    "x = arch['NumpySort'] # Tiempos de ejecución del algoritmo NumpySort\n",
    "y = arch['Tamaño del Problema'] # Tamaños del problema\n",
    "\n",
    "plt.plot(y, x) # Graficar los tiempos en función del tamaño del problema\n",
    "plt.title(\"Tiempo del NumpySort\") # Establecer el título del gráfico\n",
    "plt.xlabel(\"Tamaño del Problema\") # Etiqueta del eje x\n",
    "plt.ylabel(\"Tiempo (segundos)\") # Etiqueta del eje y\n",
    "plt.show() # Mostrar el gráfico"
   ]
  },
  {
   "attachments": {},
   "cell_type": "markdown",
   "metadata": {},
   "source": [
    "## Conclusiones"
   ]
  },
  {
   "attachments": {},
   "cell_type": "markdown",
   "metadata": {},
   "source": [
    "### Método MergeSort:\n",
    "\n",
    "Sobre"
   ]
  },
  {
   "attachments": {},
   "cell_type": "markdown",
   "metadata": {},
   "source": [
    "### Método QuickSort\n",
    "\n",
    "De acuerdo con la gráfica"
   ]
  },
  {
   "attachments": {},
   "cell_type": "markdown",
   "metadata": {},
   "source": [
    "### Método NumpySort\n",
    "\n",
    "De acuerdo con lo que muestra la gráfica podemos observar que este método es mucho más rápido que los dos anteriores, esto debido a que tomando en cuenta el arreglo de tamaño 10000000, que es el máximo que pudieron ejecutar los métodos de MergeSort y QuickSort, la diferencia de tiempos es enorme: mientras que MergeSort se tardó 137.026694 segundos y QuickSort ... segundos, el método de Numpy solamente se tardó 0.881898 segundos.\n",
    "Además, con nuestros equipos que tenian 8 GB de RAM, los dos métodos anteriores no pudieron terminar de ejecutarse con el último y más grande arreglo, el cual era de tamaño 100000000, pero con el de NumpySort este arreglo si logró ejecutarse y en un tiempo de tan solo 9.996504 segundos.\n",
    "\n",
    "Por lo tanto, podemos concluir que el método de NumpySort es el mejor entre los tres métodos analizados."
   ]
  }
 ],
 "metadata": {
  "kernelspec": {
   "display_name": "Python 3",
   "language": "python",
   "name": "python3"
  },
  "language_info": {
   "codemirror_mode": {
    "name": "ipython",
    "version": 3
   },
   "file_extension": ".py",
   "mimetype": "text/x-python",
   "name": "python",
   "nbconvert_exporter": "python",
   "pygments_lexer": "ipython3",
   "version": "3.11.0"
  },
  "orig_nbformat": 4
 },
 "nbformat": 4,
 "nbformat_minor": 2
}
